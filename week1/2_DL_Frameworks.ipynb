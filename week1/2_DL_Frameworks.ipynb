{
 "cells": [
  {
   "cell_type": "code",
   "execution_count": 1,
   "metadata": {
    "collapsed": true
   },
   "outputs": [],
   "source": [
    "import torch\n",
    "from torch.autograd import Variable\n",
    "import numpy as np\n",
    "import tensorflow as tf\n",
    "\n",
    "np.random.seed(0)"
   ]
  },
  {
   "cell_type": "markdown",
   "metadata": {},
   "source": [
    "* http://cs231n.stanford.edu/slides/2017/cs231n_2017_lecture8.pdf"
   ]
  },
  {
   "cell_type": "code",
   "execution_count": 2,
   "metadata": {
    "collapsed": true
   },
   "outputs": [],
   "source": [
    "N,D =3,4\n",
    "\n",
    "x = np.random.randn(N,D)\n",
    "y = np.random.randn(N,D)\n",
    "z = np.random.randn(N,D)"
   ]
  },
  {
   "cell_type": "markdown",
   "metadata": {},
   "source": [
    "### Numpy "
   ]
  },
  {
   "cell_type": "code",
   "execution_count": 3,
   "metadata": {
    "collapsed": true
   },
   "outputs": [],
   "source": [
    "a = x*y\n",
    "b = a+z\n",
    "c = np.sum(b)"
   ]
  },
  {
   "cell_type": "code",
   "execution_count": 4,
   "metadata": {
    "collapsed": true
   },
   "outputs": [],
   "source": [
    "grad_c = 1.0\n",
    "grad_b = grad_c*np.ones((N,D))\n",
    "grad_a = grad_b.copy()\n",
    "grad_z = grad_b.copy()\n",
    "grad_x = grad_a*y\n",
    "grad_y = grad_a*x"
   ]
  },
  {
   "cell_type": "code",
   "execution_count": 5,
   "metadata": {
    "collapsed": false
   },
   "outputs": [
    {
     "name": "stdout",
     "output_type": "stream",
     "text": [
      "[[ 0.76103773  0.12167502  0.44386323  0.33367433]\n",
      " [ 1.49407907 -0.20515826  0.3130677  -0.85409574]\n",
      " [-2.55298982  0.6536186   0.8644362  -0.74216502]]\n",
      "[[ 1.76405235  0.40015721  0.97873798  2.2408932 ]\n",
      " [ 1.86755799 -0.97727788  0.95008842 -0.15135721]\n",
      " [-0.10321885  0.4105985   0.14404357  1.45427351]]\n",
      "[[1. 1. 1. 1.]\n",
      " [1. 1. 1. 1.]\n",
      " [1. 1. 1. 1.]]\n"
     ]
    }
   ],
   "source": [
    "print(grad_x)\n",
    "print(grad_y)\n",
    "print(grad_z)"
   ]
  },
  {
   "cell_type": "markdown",
   "metadata": {},
   "source": [
    "###  Tensorflow"
   ]
  },
  {
   "cell_type": "code",
   "execution_count": 6,
   "metadata": {
    "collapsed": true
   },
   "outputs": [],
   "source": [
    "x_ = tf.placeholder(tf.float32)\n",
    "y_ = tf.placeholder(tf.float32)\n",
    "z_ = tf.placeholder(tf.float32)\n",
    "\n",
    "a = x_*y_\n",
    "b = a+z_\n",
    "c = tf.reduce_sum(b)"
   ]
  },
  {
   "cell_type": "code",
   "execution_count": 7,
   "metadata": {
    "collapsed": false
   },
   "outputs": [
    {
     "name": "stdout",
     "output_type": "stream",
     "text": [
      "[[ 0.7610377   0.12167501  0.44386324  0.33367434]\n",
      " [ 1.4940791  -0.20515826  0.3130677  -0.85409576]\n",
      " [-2.5529897   0.6536186   0.8644362  -0.742165  ]]\n",
      "[[ 1.7640524   0.4001572   0.978738    2.2408931 ]\n",
      " [ 1.867558   -0.9772779   0.95008844 -0.1513572 ]\n",
      " [-0.10321885  0.41059852  0.14404356  1.4542735 ]]\n",
      "[[1. 1. 1. 1.]\n",
      " [1. 1. 1. 1.]\n",
      " [1. 1. 1. 1.]]\n"
     ]
    }
   ],
   "source": [
    "grad_x, grad_y, grad_z = tf.gradients(c,[x_,y_,z_]) # ∂c/∂x ...\n",
    "\n",
    "with tf.Session() as sess:\n",
    "    values = {\n",
    "        x_ : x,\n",
    "        y_ : y,\n",
    "        z_ : z,\n",
    "    }\n",
    "    out = sess.run([c,grad_x,grad_y,grad_z],feed_dict=values)\n",
    "    \n",
    "    c_val, grad_x_val, grad_y_val, grad_z_val = out\n",
    "    \n",
    "print(grad_x_val)\n",
    "print(grad_y_val)\n",
    "print(grad_z_val)"
   ]
  },
  {
   "cell_type": "markdown",
   "metadata": {},
   "source": [
    "### Pytorch "
   ]
  },
  {
   "cell_type": "code",
   "execution_count": 72,
   "metadata": {
    "collapsed": false
   },
   "outputs": [],
   "source": [
    "x_ = Variable(torch.from_numpy(x),requires_grad=True)\n",
    "y_ = Variable(torch.from_numpy(y),requires_grad=True)\n",
    "z_ = Variable(torch.from_numpy(z),requires_grad=True)\n",
    "\n",
    "a = x_*y_\n",
    "b = a+z_\n",
    "c = torch.sum(b)"
   ]
  },
  {
   "cell_type": "code",
   "execution_count": 73,
   "metadata": {
    "collapsed": false
   },
   "outputs": [
    {
     "name": "stdout",
     "output_type": "stream",
     "text": [
      "[[ 1.12663592 -1.07993151 -1.14746865 -0.43782004]\n",
      " [-0.49803245  1.92953205  0.94942081  0.08755124]\n",
      " [-1.22543552  0.84436298 -1.00021535 -1.5447711 ]]\n",
      "[[ 2.38314477  0.94447949 -0.91282223  1.11701629]\n",
      " [-1.31590741 -0.4615846  -0.06824161  1.71334272]\n",
      " [-0.74475482 -0.82643854 -0.09845252 -0.66347829]]\n",
      "[[1. 1. 1. 1.]\n",
      " [1. 1. 1. 1.]\n",
      " [1. 1. 1. 1.]]\n"
     ]
    }
   ],
   "source": [
    "c.backward()\n",
    "\n",
    "print(x_.grad.data.numpy())\n",
    "print(y_.grad.data.numpy())\n",
    "print(z_.grad.data.numpy())"
   ]
  },
  {
   "cell_type": "code",
   "execution_count": null,
   "metadata": {
    "collapsed": true
   },
   "outputs": [],
   "source": []
  }
 ],
 "metadata": {
  "kernelspec": {
   "display_name": "Python 3",
   "language": "python",
   "name": "python3"
  },
  "language_info": {
   "codemirror_mode": {
    "name": "ipython",
    "version": 3
   },
   "file_extension": ".py",
   "mimetype": "text/x-python",
   "name": "python",
   "nbconvert_exporter": "python",
   "pygments_lexer": "ipython3",
   "version": "3.5.2"
  }
 },
 "nbformat": 4,
 "nbformat_minor": 2
}
