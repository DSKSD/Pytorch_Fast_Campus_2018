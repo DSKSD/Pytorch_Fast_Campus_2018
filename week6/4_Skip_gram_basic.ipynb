{
 "cells": [
  {
   "cell_type": "code",
   "execution_count": 1,
   "metadata": {
    "collapsed": true
   },
   "outputs": [],
   "source": [
    "import torch\n",
    "import torch.nn as nn\n",
    "from torch.autograd import Variable\n",
    "import torch.optim as optim\n",
    "import torch.nn.functional as F\n",
    "import nltk"
   ]
  },
  {
   "cell_type": "code",
   "execution_count": 2,
   "metadata": {
    "collapsed": false
   },
   "outputs": [
    {
     "name": "stdout",
     "output_type": "stream",
     "text": [
      "['I', 'have', 'a', 'puppy', '.', 'His', 'name', 'is', 'Bori', '.', 'I', 'love', 'him', '.']\n",
      "['I', 'is', 'love', 'him', 'name', 'His', 'have', '.', 'a', 'Bori', 'puppy']\n"
     ]
    }
   ],
   "source": [
    "corpus = \"I have a puppy. His name is Bori. I love him.\"\n",
    "tokenized = nltk.word_tokenize(corpus)\n",
    "vocabulary = list(set(tokenized)) # 단어의 집합(중복 x)\n",
    "print(tokenized)\n",
    "print(vocabulary)"
   ]
  },
  {
   "cell_type": "code",
   "execution_count": 3,
   "metadata": {
    "collapsed": false
   },
   "outputs": [
    {
     "name": "stdout",
     "output_type": "stream",
     "text": [
      "{'I': 0, 'name': 4, 'is': 1, 'His': 5, 'have': 6, 'love': 2, '.': 7, 'a': 8, 'him': 3, 'Bori': 9, 'puppy': 10}\n"
     ]
    }
   ],
   "source": [
    "word2index={}\n",
    "for voca in vocabulary:\n",
    "    if word2index.get(voca)==None:\n",
    "        word2index[voca]=len(word2index)\n",
    "print(word2index)"
   ]
  },
  {
   "cell_type": "code",
   "execution_count": 4,
   "metadata": {
    "collapsed": false
   },
   "outputs": [],
   "source": [
    "WINDOW_SIZE = 2\n",
    "windows = list(nltk.ngrams(['<DUMMY>'] * WINDOW_SIZE + tokenized + ['<DUMMY>'] * WINDOW_SIZE, WINDOW_SIZE * 2 + 1))"
   ]
  },
  {
   "cell_type": "code",
   "execution_count": 17,
   "metadata": {
    "collapsed": false
   },
   "outputs": [
    {
     "name": "stdout",
     "output_type": "stream",
     "text": [
      "[('I', 'have'), ('I', 'a'), ('have', 'I'), ('have', 'a')]\n"
     ]
    }
   ],
   "source": [
    "train_data = []\n",
    "\n",
    "for window in windows:\n",
    "    for i in range(WINDOW_SIZE * 2 + 1):\n",
    "        if i == WINDOW_SIZE or window[i] == '<DUMMY>': \n",
    "            continue\n",
    "        train_data.append((window[WINDOW_SIZE], window[i]))\n",
    "\n",
    "print(train_data[:WINDOW_SIZE * 2])"
   ]
  },
  {
   "cell_type": "code",
   "execution_count": 6,
   "metadata": {
    "collapsed": false
   },
   "outputs": [
    {
     "data": {
      "text/plain": [
       "(Variable containing:\n",
       "  0\n",
       " [torch.LongTensor of size 1x1], Variable containing:\n",
       "  6\n",
       " [torch.LongTensor of size 1x1])"
      ]
     },
     "execution_count": 6,
     "metadata": {},
     "output_type": "execute_result"
    }
   ],
   "source": [
    "# 각 단어를 index로 바꾸고 LongTensor로 바꿔주는 함수\n",
    "def prepare_word(word, word2index):\n",
    "    return Variable(torch.LongTensor([word2index[word]]))\n",
    "\n",
    "X_p,y_p=[],[]\n",
    "\n",
    "for (center,context) in train_data:\n",
    "    X_p.append(prepare_word(center, word2index).view(1, -1))\n",
    "    y_p.append(prepare_word(context, word2index).view(1, -1))\n",
    "    \n",
    "train_data = list(zip(X_p,y_p))\n",
    "train_data[0]"
   ]
  },
  {
   "cell_type": "code",
   "execution_count": 7,
   "metadata": {
    "collapsed": false
   },
   "outputs": [
    {
     "name": "stdout",
     "output_type": "stream",
     "text": [
      "Parameter containing:\n",
      "-0.2524  1.3636 -0.1962\n",
      " 0.6567 -0.4086  0.4950\n",
      " 0.7263  0.7845 -0.5036\n",
      " 0.0126  1.4632  0.5829\n",
      " 0.5574 -0.2718  0.2905\n",
      "-0.4669  0.8146  0.1285\n",
      " 1.4794  0.1370 -0.6939\n",
      " 0.5348 -0.7883  2.0635\n",
      " 0.3054  0.4519 -0.1813\n",
      " 1.2936 -0.2578 -1.0669\n",
      "-1.8129  0.9762 -1.0742\n",
      "[torch.FloatTensor of size 11x3]\n",
      "\n",
      "Parameter containing:\n",
      "-1.5218 -0.1553 -0.6425\n",
      "-0.8546 -0.8382 -0.5070\n",
      " 0.7839  0.4105  0.0647\n",
      " 0.7736  0.1882  0.1087\n",
      " 0.1280  0.6651 -0.9395\n",
      " 0.1514  0.8391 -1.2819\n",
      "-0.0180 -1.0372  0.3673\n",
      " 0.0377 -1.1143  0.1572\n",
      "-0.0252  0.3677  0.8179\n",
      " 0.7805  0.6672  0.4507\n",
      "-0.4009 -1.7529  0.6296\n",
      "[torch.FloatTensor of size 11x3]\n",
      "\n"
     ]
    }
   ],
   "source": [
    "# 3차원으로 임베딩\n",
    "center_embed = nn.Embedding(len(word2index),3)\n",
    "context_embed = nn.Embedding(len(word2index),3)\n",
    "\n",
    "print(center_embed.weight)\n",
    "print(context_embed.weight)"
   ]
  },
  {
   "cell_type": "code",
   "execution_count": 9,
   "metadata": {
    "collapsed": false
   },
   "outputs": [
    {
     "name": "stdout",
     "output_type": "stream",
     "text": [
      "Variable containing:\n",
      "(0 ,.,.) = \n",
      " -0.2524  1.3636 -0.1962\n",
      "[torch.FloatTensor of size 1x1x3]\n",
      "\n",
      "Variable containing:\n",
      "(0 ,.,.) = \n",
      " -0.0180 -1.0372  0.3673\n",
      "[torch.FloatTensor of size 1x1x3]\n",
      "\n"
     ]
    }
   ],
   "source": [
    "center,context = train_data[0]\n",
    "\n",
    "center_vector = center_embed(center)\n",
    "context_vector = context_embed(context)\n",
    "print(center_vector)\n",
    "print(context_vector)"
   ]
  },
  {
   "cell_type": "code",
   "execution_count": 10,
   "metadata": {
    "collapsed": false
   },
   "outputs": [
    {
     "data": {
      "text/plain": [
       "Variable containing:\n",
       " 0.2272\n",
       "[torch.FloatTensor of size 1x1]"
      ]
     },
     "execution_count": 10,
     "metadata": {},
     "output_type": "execute_result"
    }
   ],
   "source": [
    "score = torch.exp(context_vector.bmm(center_vector.transpose(1,2))).squeeze(2)\n",
    "score"
   ]
  },
  {
   "cell_type": "code",
   "execution_count": 11,
   "metadata": {
    "collapsed": false
   },
   "outputs": [
    {
     "data": {
      "text/plain": [
       "['I', 'is', 'love', 'him', 'name', 'His', 'have', '.', 'a', 'Bori', 'puppy']"
      ]
     },
     "execution_count": 11,
     "metadata": {},
     "output_type": "execute_result"
    }
   ],
   "source": [
    "vocabulary"
   ]
  },
  {
   "cell_type": "code",
   "execution_count": 12,
   "metadata": {
    "collapsed": false
   },
   "outputs": [
    {
     "name": "stdout",
     "output_type": "stream",
     "text": [
      "Variable containing:\n",
      "    0     1     2     3     4     5     6     7     8     9    10\n",
      "[torch.LongTensor of size 1x11]\n",
      "\n"
     ]
    }
   ],
   "source": [
    "#  시퀀스(단어들의 연속된 리스트)가 들어오면 LongTensor로 매핑\n",
    "def prepare_sequence(seq, word2index):\n",
    "    idxs = list(map(lambda w: word2index[w], seq))\n",
    "    return Variable(torch.LongTensor(idxs))\n",
    "\n",
    "vocabulary_tensor = prepare_sequence(vocabulary,word2index).view(1,-1)\n",
    "print(vocabulary_tensor)"
   ]
  },
  {
   "cell_type": "code",
   "execution_count": 13,
   "metadata": {
    "collapsed": true
   },
   "outputs": [],
   "source": [
    "vocabulary_vector = context_embed(vocabulary_tensor)"
   ]
  },
  {
   "cell_type": "code",
   "execution_count": 14,
   "metadata": {
    "collapsed": false
   },
   "outputs": [
    {
     "data": {
      "text/plain": [
       "Variable containing:\n",
       "(0 ,.,.) = \n",
       " -1.5218 -0.1553 -0.6425\n",
       " -0.8546 -0.8382 -0.5070\n",
       "  0.7839  0.4105  0.0647\n",
       "  0.7736  0.1882  0.1087\n",
       "  0.1280  0.6651 -0.9395\n",
       "  0.1514  0.8391 -1.2819\n",
       " -0.0180 -1.0372  0.3673\n",
       "  0.0377 -1.1143  0.1572\n",
       " -0.0252  0.3677  0.8179\n",
       "  0.7805  0.6672  0.4507\n",
       " -0.4009 -1.7529  0.6296\n",
       "[torch.FloatTensor of size 1x11x3]"
      ]
     },
     "execution_count": 14,
     "metadata": {},
     "output_type": "execute_result"
    }
   ],
   "source": [
    "vocabulary_vector"
   ]
  },
  {
   "cell_type": "code",
   "execution_count": 15,
   "metadata": {
    "collapsed": false
   },
   "outputs": [
    {
     "name": "stdout",
     "output_type": "stream",
     "text": [
      "Variable containing:\n",
      " 0.1101\n",
      "[torch.FloatTensor of size 1x1]\n",
      "\n"
     ]
    }
   ],
   "source": [
    "norm_scores = vocabulary_vector.bmm(center_vector.transpose(1, 2))\n",
    "norm_scores = torch.exp(torch.sum(norm_scores,1))\n",
    "print(norm_scores)"
   ]
  },
  {
   "cell_type": "code",
   "execution_count": 16,
   "metadata": {
    "collapsed": false
   },
   "outputs": [
    {
     "data": {
      "text/plain": [
       "Variable containing:\n",
       " 2.0634\n",
       "[torch.FloatTensor of size 1x1]"
      ]
     },
     "execution_count": 16,
     "metadata": {},
     "output_type": "execute_result"
    }
   ],
   "source": [
    "score/norm_scores"
   ]
  },
  {
   "cell_type": "code",
   "execution_count": null,
   "metadata": {
    "collapsed": true
   },
   "outputs": [],
   "source": []
  }
 ],
 "metadata": {
  "kernelspec": {
   "display_name": "Python 3",
   "language": "python",
   "name": "python3"
  },
  "language_info": {
   "codemirror_mode": {
    "name": "ipython",
    "version": 3
   },
   "file_extension": ".py",
   "mimetype": "text/x-python",
   "name": "python",
   "nbconvert_exporter": "python",
   "pygments_lexer": "ipython3",
   "version": "3.5.2"
  }
 },
 "nbformat": 4,
 "nbformat_minor": 2
}
