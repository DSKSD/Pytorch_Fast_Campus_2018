{
 "cells": [
  {
   "cell_type": "code",
   "execution_count": 1,
   "metadata": {
    "collapsed": true
   },
   "outputs": [],
   "source": [
    "import torch\n",
    "import torch.nn as nn\n",
    "from torch.autograd import Variable\n",
    "import torch.optim as optim\n",
    "import torch.nn.functional as F\n",
    "import numpy as np\n",
    "import torchtext\n",
    "from konlpy.tag import Kkma\n",
    "from torchtext.data import Field,Iterator,Example, TabularDataset"
   ]
  },
  {
   "cell_type": "markdown",
   "metadata": {},
   "source": [
    "http://mlexplained.com/2018/02/08/a-comprehensive-tutorial-to-torchtext/"
   ]
  },
  {
   "cell_type": "code",
   "execution_count": 2,
   "metadata": {
    "collapsed": false
   },
   "outputs": [
    {
     "data": {
      "text/plain": [
       "'0.2.1'"
      ]
     },
     "execution_count": 2,
     "metadata": {},
     "output_type": "execute_result"
    }
   ],
   "source": [
    "torchtext.__version__"
   ]
  },
  {
   "cell_type": "markdown",
   "metadata": {},
   "source": [
    "<img src=\"image/torchtext.png\">"
   ]
  },
  {
   "cell_type": "markdown",
   "metadata": {},
   "source": [
    "## 1. Field 선언 "
   ]
  },
  {
   "cell_type": "markdown",
   "metadata": {},
   "source": [
    "Field는 데이터의 전처리 파이프라인을 정의하는 클래스"
   ]
  },
  {
   "cell_type": "markdown",
   "metadata": {},
   "source": [
    "http://torchtext.readthedocs.io/en/latest/data.html#field"
   ]
  },
  {
   "cell_type": "markdown",
   "metadata": {},
   "source": [
    "### 문장 - 클래스 "
   ]
  },
  {
   "cell_type": "code",
   "execution_count": 39,
   "metadata": {
    "collapsed": false
   },
   "outputs": [],
   "source": [
    "tagger = Kkma()\n",
    "tokenize = tagger.morphs\n",
    "preprocessing = lambda x:0 if x==\"FOOD\" else 1\n",
    "\n",
    "TEXT = Field(tokenize=tokenize,use_vocab=True,lower=True, include_lengths=True, batch_first=True) \n",
    "LABEL = Field(sequential=False, use_vocab=False,preprocessing=preprocessing)"
   ]
  },
  {
   "cell_type": "markdown",
   "metadata": {},
   "source": [
    "## 2. 데이터셋 로드"
   ]
  },
  {
   "cell_type": "code",
   "execution_count": 40,
   "metadata": {
    "collapsed": false
   },
   "outputs": [],
   "source": [
    "train_data, test_data = TabularDataset.splits(\n",
    "                                   path=\"data/\", # 데이터가 있는 root 경로\n",
    "                                   train='train.txt', validation=\"test.txt\",\n",
    "                                   format='tsv', # \\t로 구분\n",
    "                                   #skip_header=True, # 헤더가 있다면 스킵\n",
    "                                   fields=[('TEXT',TEXT),('LABEL',LABEL)])"
   ]
  },
  {
   "cell_type": "code",
   "execution_count": 41,
   "metadata": {
    "collapsed": false
   },
   "outputs": [],
   "source": [
    "one_example = train_data.examples[0]"
   ]
  },
  {
   "cell_type": "code",
   "execution_count": 42,
   "metadata": {
    "collapsed": false
   },
   "outputs": [
    {
     "data": {
      "text/plain": [
       "['배고프', '다', '밥', '주', '어']"
      ]
     },
     "execution_count": 42,
     "metadata": {},
     "output_type": "execute_result"
    }
   ],
   "source": [
    "one_example.TEXT"
   ]
  },
  {
   "cell_type": "code",
   "execution_count": 43,
   "metadata": {
    "collapsed": false
   },
   "outputs": [
    {
     "data": {
      "text/plain": [
       "0"
      ]
     },
     "execution_count": 43,
     "metadata": {},
     "output_type": "execute_result"
    }
   ],
   "source": [
    "one_example.LABEL"
   ]
  },
  {
   "cell_type": "markdown",
   "metadata": {},
   "source": [
    "## 3. Vocabulary 구축"
   ]
  },
  {
   "cell_type": "code",
   "execution_count": 44,
   "metadata": {
    "collapsed": true
   },
   "outputs": [],
   "source": [
    "TEXT.build_vocab(train_data)"
   ]
  },
  {
   "cell_type": "code",
   "execution_count": 45,
   "metadata": {
    "collapsed": false
   },
   "outputs": [
    {
     "data": {
      "text/plain": [
       "54"
      ]
     },
     "execution_count": 45,
     "metadata": {},
     "output_type": "execute_result"
    }
   ],
   "source": [
    "len(TEXT.vocab)"
   ]
  },
  {
   "cell_type": "code",
   "execution_count": 46,
   "metadata": {
    "collapsed": false
   },
   "outputs": [
    {
     "data": {
      "text/plain": [
       "['<unk>',\n",
       " '<pad>',\n",
       " '어',\n",
       " '는',\n",
       " '먹',\n",
       " '좀',\n",
       " '?',\n",
       " 'ㄴ',\n",
       " '거',\n",
       " '고',\n",
       " '다',\n",
       " '뭐',\n",
       " '밥',\n",
       " '보',\n",
       " '보여주',\n",
       " '싶',\n",
       " '영화',\n",
       " '재밌',\n",
       " '주',\n",
       " '추천',\n",
       " '고등',\n",
       " '과',\n",
       " '근처',\n",
       " '기',\n",
       " '나',\n",
       " '냐',\n",
       " '다시',\n",
       " '드라마',\n",
       " '랩',\n",
       " '만',\n",
       " '만하',\n",
       " '맛',\n",
       " '맛있',\n",
       " '배고프',\n",
       " '볼만',\n",
       " '삼겹살',\n",
       " '신',\n",
       " '알려주',\n",
       " '없',\n",
       " '영상',\n",
       " '예능',\n",
       " '요즘',\n",
       " '을',\n",
       " '음식',\n",
       " '이',\n",
       " '있',\n",
       " '점',\n",
       " '줄거리',\n",
       " '지',\n",
       " '집',\n",
       " '푸',\n",
       " '하',\n",
       " '하이라이트',\n",
       " '함께']"
      ]
     },
     "execution_count": 46,
     "metadata": {},
     "output_type": "execute_result"
    }
   ],
   "source": [
    "TEXT.vocab.itos"
   ]
  },
  {
   "cell_type": "markdown",
   "metadata": {},
   "source": [
    "## 4. Iterator 선언 "
   ]
  },
  {
   "cell_type": "code",
   "execution_count": 78,
   "metadata": {
    "collapsed": true
   },
   "outputs": [],
   "source": [
    "# make iterator for splits\n",
    "train_iter, test_iter = Iterator.splits(\n",
    "    (train_data, test_data), batch_size=3, device=-1, # device -1 : cpu, device 0 : 남는 gpu\n",
    "    sort_key=lambda x: len(x.TEXT),sort_within_batch=True,repeat=False) # x.TEXT 길이 기준으로 정렬"
   ]
  },
  {
   "cell_type": "code",
   "execution_count": 102,
   "metadata": {
    "collapsed": false
   },
   "outputs": [
    {
     "name": "stdout",
     "output_type": "stream",
     "text": [
      "(Variable containing:\n",
      " 35   4   9  15   2\n",
      " 17   3  27  14   2\n",
      " 31  49  19   1   1\n",
      "[torch.LongTensor of size 3x5]\n",
      ", \n",
      " 5\n",
      " 5\n",
      " 3\n",
      "[torch.LongTensor of size 3]\n",
      ")\n",
      "Variable containing:\n",
      " 0\n",
      " 1\n",
      " 0\n",
      "[torch.LongTensor of size 3]\n",
      "\n"
     ]
    }
   ],
   "source": [
    "for batch in train_iter:\n",
    "    print(batch.TEXT)\n",
    "    print(batch.LABEL)\n",
    "    break"
   ]
  },
  {
   "cell_type": "markdown",
   "metadata": {},
   "source": [
    "## 5. Modeling and Training "
   ]
  },
  {
   "cell_type": "code",
   "execution_count": 60,
   "metadata": {
    "collapsed": false
   },
   "outputs": [],
   "source": [
    "class EmbedClassifier(nn.Module):\n",
    "    def __init__(self,vocab_size,embedding_size,output_size):\n",
    "        super(EmbedClassifier,self).__init__()\n",
    "        \n",
    "        # 각 단어의 임베딩을 평균해서 문장 단위의 임베딩 표현\n",
    "        self.sentence_embed = nn.EmbeddingBag(vocab_size,embedding_size)\n",
    "        self.linear = nn.Linear(embedding_size,output_size)\n",
    "    \n",
    "    def forward(self,inputs):\n",
    "        outputs = self.sentence_embed(inputs)\n",
    "        outputs = self.linear(outputs)\n",
    "        return outputs"
   ]
  },
  {
   "cell_type": "code",
   "execution_count": 124,
   "metadata": {
    "collapsed": false
   },
   "outputs": [],
   "source": [
    "STEP=50\n",
    "LR = 0.1\n",
    "\n",
    "model = EmbedClassifier(len(TEXT.vocab),20,2)\n",
    "loss_function = nn.CrossEntropyLoss()\n",
    "optimizer = optim.SGD(model.parameters(),lr=LR)"
   ]
  },
  {
   "cell_type": "code",
   "execution_count": 125,
   "metadata": {
    "collapsed": false
   },
   "outputs": [
    {
     "name": "stdout",
     "output_type": "stream",
     "text": [
      "0.782355523109436\n",
      "0.4344502389431\n",
      "0.40328202545642855\n",
      "0.27725195586681367\n",
      "0.2750774651765823\n"
     ]
    }
   ],
   "source": [
    "for step in range(STEP):\n",
    "    losses=[]\n",
    "    for i,batch in enumerate(train_iter):\n",
    "        inputs,lengths = batch.TEXT\n",
    "        targets = batch.LABEL\n",
    "        model.zero_grad()\n",
    "        preds = model(inputs)\n",
    "        loss = loss_function(preds,targets)\n",
    "        losses.append(loss.data[0])\n",
    "        loss.backward()\n",
    "        optimizer.step()\n",
    "    if step % 10==0:\n",
    "        print(np.mean(losses))\n",
    "        losses=[]"
   ]
  },
  {
   "cell_type": "markdown",
   "metadata": {},
   "source": [
    "## 6. Test"
   ]
  },
  {
   "cell_type": "markdown",
   "metadata": {},
   "source": [
    "파라미터를 학습하기에 데이터수가 너무 적음..!!"
   ]
  },
  {
   "cell_type": "code",
   "execution_count": 126,
   "metadata": {
    "collapsed": false
   },
   "outputs": [
    {
     "name": "stdout",
     "output_type": "stream",
     "text": [
      "1 0\n",
      "1 0\n",
      "1 1\n",
      "1 1\n"
     ]
    }
   ],
   "source": [
    "for test in test_data.examples:\n",
    "    input, length = TEXT.numericalize(([test.TEXT],[len(test.TEXT)]),train=False,device=-1)\n",
    "    pred = model(input)\n",
    "    pred = pred.max(1)[1]\n",
    "    print(pred.data[0],test.LABEL)"
   ]
  },
  {
   "cell_type": "markdown",
   "metadata": {},
   "source": [
    "### numericalize "
   ]
  },
  {
   "cell_type": "markdown",
   "metadata": {},
   "source": [
    "문장 ==> 인덱스에 맞는 Variable(LongTensor)로 변환"
   ]
  },
  {
   "cell_type": "code",
   "execution_count": 127,
   "metadata": {
    "collapsed": false
   },
   "outputs": [
    {
     "data": {
      "text/plain": [
       "(Variable containing:\n",
       "     0     0     0     0    13     9     0\n",
       " [torch.LongTensor of size 1x7], \n",
       "  7\n",
       " [torch.LongTensor of size 1])"
      ]
     },
     "execution_count": 127,
     "metadata": {},
     "output_type": "execute_result"
    }
   ],
   "source": [
    "TEXT.numericalize(([test.TEXT],[len(test.TEXT)]),train=False,device=-1)"
   ]
  },
  {
   "cell_type": "code",
   "execution_count": null,
   "metadata": {
    "collapsed": true
   },
   "outputs": [],
   "source": []
  }
 ],
 "metadata": {
  "kernelspec": {
   "display_name": "Python 3",
   "language": "python",
   "name": "python3"
  },
  "language_info": {
   "codemirror_mode": {
    "name": "ipython",
    "version": 3
   },
   "file_extension": ".py",
   "mimetype": "text/x-python",
   "name": "python",
   "nbconvert_exporter": "python",
   "pygments_lexer": "ipython3",
   "version": "3.5.2"
  }
 },
 "nbformat": 4,
 "nbformat_minor": 2
}
