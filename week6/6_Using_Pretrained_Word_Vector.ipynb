{
 "cells": [
  {
   "cell_type": "code",
   "execution_count": 2,
   "metadata": {
    "collapsed": false
   },
   "outputs": [
    {
     "name": "stderr",
     "output_type": "stream",
     "text": [
      "Using TensorFlow backend.\n"
     ]
    }
   ],
   "source": [
    "import torch\n",
    "import torch.nn as nn\n",
    "from torch.autograd import Variable\n",
    "import torch.optim as optim\n",
    "import torch.nn.functional as F\n",
    "import numpy as np\n",
    "import nltk\n",
    "import torchtext\n",
    "from konlpy.tag import Kkma\n",
    "\n",
    "tagger = Kkma()\n",
    "import gensim"
   ]
  },
  {
   "cell_type": "markdown",
   "metadata": {},
   "source": [
    "http://anie.me/On-Torchtext/"
   ]
  },
  {
   "cell_type": "code",
   "execution_count": 9,
   "metadata": {
    "collapsed": false
   },
   "outputs": [
    {
     "data": {
      "text/plain": [
       "{'charngram.100d': <function torchtext.vocab.<lambda>>,\n",
       " 'fasttext.en.300d': <function torchtext.vocab.<lambda>>,\n",
       " 'fasttext.simple.300d': <function torchtext.vocab.<lambda>>,\n",
       " 'glove.42B.300d': <function torchtext.vocab.<lambda>>,\n",
       " 'glove.6B.100d': <function torchtext.vocab.<lambda>>,\n",
       " 'glove.6B.200d': <function torchtext.vocab.<lambda>>,\n",
       " 'glove.6B.300d': <function torchtext.vocab.<lambda>>,\n",
       " 'glove.6B.50d': <function torchtext.vocab.<lambda>>,\n",
       " 'glove.840B.300d': <function torchtext.vocab.<lambda>>,\n",
       " 'glove.twitter.27B.100d': <function torchtext.vocab.<lambda>>,\n",
       " 'glove.twitter.27B.200d': <function torchtext.vocab.<lambda>>,\n",
       " 'glove.twitter.27B.25d': <function torchtext.vocab.<lambda>>,\n",
       " 'glove.twitter.27B.50d': <function torchtext.vocab.<lambda>>}"
      ]
     },
     "execution_count": 9,
     "metadata": {},
     "output_type": "execute_result"
    }
   ],
   "source": [
    "torchtext.vocab.pretrained_aliases"
   ]
  },
  {
   "cell_type": "code",
   "execution_count": null,
   "metadata": {
    "collapsed": true
   },
   "outputs": [],
   "source": [
    "# glove = torchtext.vocab.GloVe('42B',300)"
   ]
  },
  {
   "cell_type": "markdown",
   "metadata": {
    "collapsed": true
   },
   "source": [
    "## Gensim으로 빠르게 Word vector 훈련시키기 "
   ]
  },
  {
   "cell_type": "code",
   "execution_count": 1,
   "metadata": {
    "collapsed": true
   },
   "outputs": [],
   "source": [
    "corpus = open('data/corpus.txt','r',encoding=\"utf-8\").readlines()\n",
    "corpus = [c[:-1] for c in corpus]"
   ]
  },
  {
   "cell_type": "code",
   "execution_count": 3,
   "metadata": {
    "collapsed": true
   },
   "outputs": [],
   "source": [
    "tokenized = [tagger.morphs(c) for c in corpus]"
   ]
  },
  {
   "cell_type": "code",
   "execution_count": 16,
   "metadata": {
    "collapsed": true
   },
   "outputs": [],
   "source": [
    "model = gensim.models.Word2Vec(tokenized, size=15, window=5, min_count=2, workers=4)"
   ]
  },
  {
   "cell_type": "code",
   "execution_count": 17,
   "metadata": {
    "collapsed": false
   },
   "outputs": [
    {
     "data": {
      "text/plain": [
       "[('하', 0.9874316453933716),\n",
       " ('을', 0.985340416431427),\n",
       " ('이', 0.985215425491333),\n",
       " ('는', 0.9851880669593811),\n",
       " ('글', 0.9819232821464539),\n",
       " ('다', 0.9816867113113403),\n",
       " ('고', 0.9768091440200806),\n",
       " ('가', 0.9768056869506836),\n",
       " ('의', 0.975877046585083),\n",
       " ('파이', 0.9756559729576111)]"
      ]
     },
     "execution_count": 17,
     "metadata": {},
     "output_type": "execute_result"
    }
   ],
   "source": [
    "model.most_similar(\"토치\")"
   ]
  },
  {
   "cell_type": "code",
   "execution_count": 21,
   "metadata": {
    "collapsed": false
   },
   "outputs": [
    {
     "data": {
      "text/plain": [
       "344"
      ]
     },
     "execution_count": 21,
     "metadata": {},
     "output_type": "execute_result"
    }
   ],
   "source": [
    "len(model.wv.index2word)"
   ]
  },
  {
   "cell_type": "code",
   "execution_count": 31,
   "metadata": {
    "collapsed": true
   },
   "outputs": [],
   "source": [
    "model.wv.save_word2vec_format(\"data/word_vector_sample.bin\",binary=True) # 저장"
   ]
  },
  {
   "cell_type": "markdown",
   "metadata": {},
   "source": [
    "## KeyedVectors -> Numpy "
   ]
  },
  {
   "cell_type": "code",
   "execution_count": 34,
   "metadata": {
    "collapsed": false
   },
   "outputs": [],
   "source": [
    "pretrained_vectors_model = gensim.models.KeyedVectors.load_word2vec_format(\"data/word_vector_sample.bin\",binary=True)"
   ]
  },
  {
   "cell_type": "code",
   "execution_count": 35,
   "metadata": {
    "collapsed": false
   },
   "outputs": [
    {
     "data": {
      "text/plain": [
       "array([-0.03937732, -0.01539551,  0.11729443,  0.07238159,  0.11705646,\n",
       "        0.0947059 ,  0.07662146,  0.19524413, -0.12553942, -0.09215615,\n",
       "       -0.00106716,  0.05587648,  0.07590903,  0.01543585,  0.17271918],\n",
       "      dtype=float32)"
      ]
     },
     "execution_count": 35,
     "metadata": {},
     "output_type": "execute_result"
    }
   ],
   "source": [
    "pretrained_vectors_model['토치']"
   ]
  },
  {
   "cell_type": "code",
   "execution_count": 37,
   "metadata": {
    "collapsed": false
   },
   "outputs": [],
   "source": [
    "vocab = list(pretrained_vectors_model.vocab.keys()) # Word2Vec에서 사용한 vocab "
   ]
  },
  {
   "cell_type": "code",
   "execution_count": 39,
   "metadata": {
    "collapsed": false
   },
   "outputs": [],
   "source": [
    "pretrained_vectors=[]\n",
    "for vo in vocab:\n",
    "    pretrained_vectors.append(pretrained_vectors_model[vo])\n",
    "    \n",
    "pretrained_vectors = np.vstack(pretrained_vectors)"
   ]
  },
  {
   "cell_type": "code",
   "execution_count": 40,
   "metadata": {
    "collapsed": false
   },
   "outputs": [
    {
     "data": {
      "text/plain": [
       "(344, 15)"
      ]
     },
     "execution_count": 40,
     "metadata": {},
     "output_type": "execute_result"
    }
   ],
   "source": [
    "pretrained_vectors.shape # 15차원의 벡터가 344개(vocab수)"
   ]
  },
  {
   "cell_type": "markdown",
   "metadata": {},
   "source": [
    "## Init Embedding matrix "
   ]
  },
  {
   "cell_type": "code",
   "execution_count": 45,
   "metadata": {
    "collapsed": true
   },
   "outputs": [],
   "source": [
    "class MyModel(nn.Module):\n",
    "    def __init__(self,vocab_size,embed_size):\n",
    "        super(MyModel,self).__init__()\n",
    "        \n",
    "        self.embed = nn.Embedding(vocab_size,embed_size)\n",
    "        \n",
    "    def init_embed(self,pretrained_vectors):\n",
    "        self.embed.weight.data = torch.from_numpy(pretrained_vectors).float()\n",
    "    \n",
    "    def forward(self,inputs):\n",
    "        return self.embed(inputs)"
   ]
  },
  {
   "cell_type": "code",
   "execution_count": 46,
   "metadata": {
    "collapsed": true
   },
   "outputs": [],
   "source": [
    "model = MyModel(len(vocab),15)"
   ]
  },
  {
   "cell_type": "code",
   "execution_count": 47,
   "metadata": {
    "collapsed": false
   },
   "outputs": [
    {
     "data": {
      "text/plain": [
       "Parameter containing:\n",
       "-0.0249  0.9056 -0.1130  ...   0.7458  1.2223 -0.2556\n",
       "-1.0357 -0.8036  0.9044  ...  -1.0589  0.8175 -1.3345\n",
       "-0.5411  0.4340  1.0868  ...   2.0499 -0.1602 -1.7726\n",
       "          ...             ⋱             ...          \n",
       "-1.7266  1.3220 -0.0409  ...   1.1238  1.0680  0.9796\n",
       " 0.2594 -0.5651 -0.4928  ...  -0.0558 -0.7087  0.0770\n",
       "-0.3756 -0.7101  0.3688  ...   0.3938  0.3859 -2.1166\n",
       "[torch.FloatTensor of size 344x15]"
      ]
     },
     "execution_count": 47,
     "metadata": {},
     "output_type": "execute_result"
    }
   ],
   "source": [
    "model.embed.weight"
   ]
  },
  {
   "cell_type": "code",
   "execution_count": 48,
   "metadata": {
    "collapsed": false
   },
   "outputs": [],
   "source": [
    "model.init_embed(pretrained_vectors)"
   ]
  },
  {
   "cell_type": "code",
   "execution_count": 49,
   "metadata": {
    "collapsed": false
   },
   "outputs": [
    {
     "data": {
      "text/plain": [
       "Parameter containing:\n",
       "-0.0194 -0.0021  0.0172  ...  -0.0183 -0.0026  0.0283\n",
       " 0.0007  0.0117  0.0269  ...   0.0256  0.0006  0.0520\n",
       " 0.0109  0.0050 -0.0078  ...  -0.0034 -0.0232  0.0173\n",
       "          ...             ⋱             ...          \n",
       "-0.0298 -0.0242  0.0299  ...  -0.0015 -0.0050  0.0262\n",
       " 0.0068 -0.0312  0.0946  ...   0.0914  0.0560  0.1382\n",
       "-0.0262  0.0134  0.0052  ...  -0.0165 -0.0196  0.0271\n",
       "[torch.FloatTensor of size 344x15]"
      ]
     },
     "execution_count": 49,
     "metadata": {},
     "output_type": "execute_result"
    }
   ],
   "source": [
    "model.embed.weight"
   ]
  },
  {
   "cell_type": "markdown",
   "metadata": {
    "collapsed": true
   },
   "source": [
    "## TODO "
   ]
  },
  {
   "cell_type": "markdown",
   "metadata": {},
   "source": [
    "- 다음의 코퍼스를 Gensim을 이용해서 Word Vector를 학습시킨 후(몇 차원으로 할지, min_count 몇으로 할지는 자율)\n",
    "- 하나의 임베딩 매트릭스를 가진 파이토치 모델의 파라미터로 로드하라\n",
    "- (텐서보드에 임베딩된 단어들을 시각화하라)"
   ]
  },
  {
   "cell_type": "code",
   "execution_count": 14,
   "metadata": {
    "collapsed": true
   },
   "outputs": [],
   "source": [
    "corpus = nltk.corpus.gutenberg.sents('melville-moby_dick.txt')[:500]"
   ]
  },
  {
   "cell_type": "code",
   "execution_count": 15,
   "metadata": {
    "collapsed": false
   },
   "outputs": [
    {
     "data": {
      "text/plain": [
       "[['[', 'Moby', 'Dick', 'by', 'Herman', 'Melville', '1851', ']'],\n",
       " ['ETYMOLOGY', '.'],\n",
       " ['(',\n",
       "  'Supplied',\n",
       "  'by',\n",
       "  'a',\n",
       "  'Late',\n",
       "  'Consumptive',\n",
       "  'Usher',\n",
       "  'to',\n",
       "  'a',\n",
       "  'Grammar',\n",
       "  'School',\n",
       "  ')']]"
      ]
     },
     "execution_count": 15,
     "metadata": {},
     "output_type": "execute_result"
    }
   ],
   "source": [
    "corpus[:3] # tokenized sentence"
   ]
  },
  {
   "cell_type": "code",
   "execution_count": null,
   "metadata": {
    "collapsed": true
   },
   "outputs": [],
   "source": []
  }
 ],
 "metadata": {
  "kernelspec": {
   "display_name": "Python 3",
   "language": "python",
   "name": "python3"
  },
  "language_info": {
   "codemirror_mode": {
    "name": "ipython",
    "version": 3
   },
   "file_extension": ".py",
   "mimetype": "text/x-python",
   "name": "python",
   "nbconvert_exporter": "python",
   "pygments_lexer": "ipython3",
   "version": "3.5.2"
  }
 },
 "nbformat": 4,
 "nbformat_minor": 2
}
