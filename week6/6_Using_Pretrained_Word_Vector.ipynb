{
 "cells": [
  {
   "cell_type": "code",
   "execution_count": 1,
   "metadata": {
    "collapsed": false
   },
   "outputs": [
    {
     "name": "stderr",
     "output_type": "stream",
     "text": [
      "Using TensorFlow backend.\n"
     ]
    }
   ],
   "source": [
    "import torch\n",
    "import torch.nn as nn\n",
    "from torch.autograd import Variable\n",
    "import torch.optim as optim\n",
    "import torch.nn.functional as F\n",
    "import numpy as np\n",
    "import nltk\n",
    "import torchtext\n",
    "from konlpy.tag import Kkma\n",
    "\n",
    "tagger = Kkma()\n",
    "import gensim"
   ]
  },
  {
   "cell_type": "markdown",
   "metadata": {},
   "source": [
    "http://anie.me/On-Torchtext/"
   ]
  },
  {
   "cell_type": "code",
   "execution_count": 9,
   "metadata": {
    "collapsed": false
   },
   "outputs": [
    {
     "data": {
      "text/plain": [
       "{'charngram.100d': <function torchtext.vocab.<lambda>>,\n",
       " 'fasttext.en.300d': <function torchtext.vocab.<lambda>>,\n",
       " 'fasttext.simple.300d': <function torchtext.vocab.<lambda>>,\n",
       " 'glove.42B.300d': <function torchtext.vocab.<lambda>>,\n",
       " 'glove.6B.100d': <function torchtext.vocab.<lambda>>,\n",
       " 'glove.6B.200d': <function torchtext.vocab.<lambda>>,\n",
       " 'glove.6B.300d': <function torchtext.vocab.<lambda>>,\n",
       " 'glove.6B.50d': <function torchtext.vocab.<lambda>>,\n",
       " 'glove.840B.300d': <function torchtext.vocab.<lambda>>,\n",
       " 'glove.twitter.27B.100d': <function torchtext.vocab.<lambda>>,\n",
       " 'glove.twitter.27B.200d': <function torchtext.vocab.<lambda>>,\n",
       " 'glove.twitter.27B.25d': <function torchtext.vocab.<lambda>>,\n",
       " 'glove.twitter.27B.50d': <function torchtext.vocab.<lambda>>}"
      ]
     },
     "execution_count": 9,
     "metadata": {},
     "output_type": "execute_result"
    }
   ],
   "source": [
    "torchtext.vocab.pretrained_aliases"
   ]
  },
  {
   "cell_type": "code",
   "execution_count": null,
   "metadata": {
    "collapsed": true
   },
   "outputs": [],
   "source": [
    "# glove = torchtext.vocab.GloVe('42B',300)"
   ]
  },
  {
   "cell_type": "markdown",
   "metadata": {
    "collapsed": true
   },
   "source": [
    "## Gensim으로 빠르게 Word vector 훈련시키기 "
   ]
  },
  {
   "cell_type": "code",
   "execution_count": 2,
   "metadata": {
    "collapsed": true
   },
   "outputs": [],
   "source": [
    "corpus = open('data/corpus.txt','r',encoding=\"utf-8\").readlines()\n",
    "corpus = [c[:-1] for c in corpus]"
   ]
  },
  {
   "cell_type": "code",
   "execution_count": 4,
   "metadata": {
    "collapsed": true
   },
   "outputs": [],
   "source": [
    "tokenized = [tagger.morphs(c) for c in corpus]"
   ]
  },
  {
   "cell_type": "code",
   "execution_count": 5,
   "metadata": {
    "collapsed": true
   },
   "outputs": [],
   "source": [
    "model = gensim.models.Word2Vec(tokenized, size=30, window=5, min_count=2, workers=2)"
   ]
  },
  {
   "cell_type": "code",
   "execution_count": 6,
   "metadata": {
    "collapsed": false
   },
   "outputs": [
    {
     "data": {
      "text/plain": [
       "[('하', 0.972221851348877),\n",
       " ('는', 0.9705352187156677),\n",
       " ('이', 0.968646764755249),\n",
       " ('ㄴ', 0.9657939076423645),\n",
       " ('가', 0.9652295112609863),\n",
       " ('의', 0.9650665521621704),\n",
       " ('파이', 0.9618684649467468),\n",
       " ('쓰', 0.9588683843612671),\n",
       " ('어', 0.9586747884750366),\n",
       " ('은', 0.95864337682724)]"
      ]
     },
     "execution_count": 6,
     "metadata": {},
     "output_type": "execute_result"
    }
   ],
   "source": [
    "model.most_similar(\"토치\")"
   ]
  },
  {
   "cell_type": "code",
   "execution_count": 8,
   "metadata": {
    "collapsed": false
   },
   "outputs": [
    {
     "data": {
      "text/plain": [
       "344"
      ]
     },
     "execution_count": 8,
     "metadata": {},
     "output_type": "execute_result"
    }
   ],
   "source": [
    "len(model.wv.index2word)"
   ]
  },
  {
   "cell_type": "code",
   "execution_count": 9,
   "metadata": {
    "collapsed": true
   },
   "outputs": [],
   "source": [
    "model.wv.save_word2vec_format(\"data/word_vector_sample.bin\",binary=True) # 저장"
   ]
  },
  {
   "cell_type": "markdown",
   "metadata": {},
   "source": [
    "## KeyedVectors -> Numpy "
   ]
  },
  {
   "cell_type": "code",
   "execution_count": 10,
   "metadata": {
    "collapsed": false
   },
   "outputs": [],
   "source": [
    "pretrained_vectors_model = gensim.models.KeyedVectors.load_word2vec_format(\"data/word_vector_sample.bin\",binary=True)"
   ]
  },
  {
   "cell_type": "code",
   "execution_count": 11,
   "metadata": {
    "collapsed": false
   },
   "outputs": [
    {
     "data": {
      "text/plain": [
       "array([ 0.08037015, -0.01953446,  0.00954626, -0.06019327,  0.09531091,\n",
       "        0.02431943,  0.01465431,  0.0041258 ,  0.02636751,  0.04721881,\n",
       "       -0.03696634,  0.10945647, -0.06328395,  0.05889855, -0.0422646 ,\n",
       "        0.01652068,  0.04054054, -0.09195574,  0.03961183,  0.03660725,\n",
       "        0.03861563, -0.05273944, -0.03175397, -0.02610846, -0.02252244,\n",
       "        0.00111329,  0.02500392, -0.012768  , -0.06229461, -0.04578288],\n",
       "      dtype=float32)"
      ]
     },
     "execution_count": 11,
     "metadata": {},
     "output_type": "execute_result"
    }
   ],
   "source": [
    "pretrained_vectors_model['토치']"
   ]
  },
  {
   "cell_type": "code",
   "execution_count": 14,
   "metadata": {
    "collapsed": false
   },
   "outputs": [],
   "source": [
    "vocab = list(pretrained_vectors_model.vocab.keys()) # Word2Vec에서 사용한 vocab "
   ]
  },
  {
   "cell_type": "code",
   "execution_count": 17,
   "metadata": {
    "collapsed": false
   },
   "outputs": [],
   "source": [
    "pretrained_vectors=[]\n",
    "for vo in vocab:\n",
    "    pretrained_vectors.append(pretrained_vectors_model[vo])\n",
    "    \n",
    "pretrained_vectors = np.vstack(pretrained_vectors)"
   ]
  },
  {
   "cell_type": "code",
   "execution_count": 18,
   "metadata": {
    "collapsed": false
   },
   "outputs": [
    {
     "data": {
      "text/plain": [
       "(344, 30)"
      ]
     },
     "execution_count": 18,
     "metadata": {},
     "output_type": "execute_result"
    }
   ],
   "source": [
    "pretrained_vectors.shape # 30차원의 벡터가 344개(vocab수)"
   ]
  },
  {
   "cell_type": "code",
   "execution_count": 19,
   "metadata": {
    "collapsed": false
   },
   "outputs": [
    {
     "data": {
      "text/plain": [
       "numpy.ndarray"
      ]
     },
     "execution_count": 19,
     "metadata": {},
     "output_type": "execute_result"
    }
   ],
   "source": [
    "type(pretrained_vectors)"
   ]
  },
  {
   "cell_type": "markdown",
   "metadata": {},
   "source": [
    "## Init Embedding matrix "
   ]
  },
  {
   "cell_type": "code",
   "execution_count": 22,
   "metadata": {
    "collapsed": true
   },
   "outputs": [],
   "source": [
    "class MyModel(nn.Module):\n",
    "    def __init__(self,vocab_size,embed_size):\n",
    "        super(MyModel,self).__init__()\n",
    "        \n",
    "        self.embed = nn.Embedding(vocab_size,embed_size)\n",
    "        \n",
    "    def init_embed(self,pretrained_vectors):\n",
    "        self.embed.weight.data = torch.from_numpy(pretrained_vectors).float()\n",
    "    \n",
    "    def forward(self,inputs):\n",
    "        return self.embed(inputs)"
   ]
  },
  {
   "cell_type": "code",
   "execution_count": 23,
   "metadata": {
    "collapsed": true
   },
   "outputs": [],
   "source": [
    "model = MyModel(len(vocab),30)"
   ]
  },
  {
   "cell_type": "code",
   "execution_count": 24,
   "metadata": {
    "collapsed": false
   },
   "outputs": [
    {
     "data": {
      "text/plain": [
       "Parameter containing:\n",
       " 0.2121  0.5539  0.2633  ...  -0.5771 -0.2661  0.6630\n",
       " 0.1623 -0.8270 -1.6250  ...   0.5148  1.9730  0.1250\n",
       "-1.3807  0.8325  0.7771  ...  -0.4856  0.2845 -0.1415\n",
       "          ...             ⋱             ...          \n",
       "-0.1952  0.1424  0.9637  ...   0.2973 -0.6650  0.0787\n",
       " 1.5263  1.4560  0.6995  ...   0.5904  0.9722  0.3209\n",
       " 1.0373  1.5450 -2.1754  ...   1.6473  0.2741  0.9955\n",
       "[torch.FloatTensor of size 344x30]"
      ]
     },
     "execution_count": 24,
     "metadata": {},
     "output_type": "execute_result"
    }
   ],
   "source": [
    "model.embed.weight"
   ]
  },
  {
   "cell_type": "code",
   "execution_count": 25,
   "metadata": {
    "collapsed": false
   },
   "outputs": [],
   "source": [
    "model.init_embed(pretrained_vectors)"
   ]
  },
  {
   "cell_type": "code",
   "execution_count": 26,
   "metadata": {
    "collapsed": false
   },
   "outputs": [
    {
     "data": {
      "text/plain": [
       "Parameter containing:\n",
       " 2.0381e-02  7.0048e-03  1.3772e-02  ...  -1.4926e-02 -1.1164e-03  1.1190e-02\n",
       " 4.1492e-02 -2.0101e-02 -1.0913e-02  ...   1.5439e-03 -2.0536e-02 -1.3507e-02\n",
       " 7.2253e-03 -5.7071e-03 -1.1858e-02  ...  -1.0191e-02 -6.9318e-03  3.8166e-03\n",
       "                ...                   ⋱                   ...                \n",
       " 2.9367e-02 -1.2671e-02  6.2651e-03  ...  -3.0774e-03 -2.8645e-02 -2.8135e-02\n",
       "-7.5866e-04  3.4414e-04  2.6011e-03  ...   6.4408e-03 -8.0483e-03 -1.6192e-03\n",
       " 2.0476e-02  5.2759e-03  5.7881e-03  ...  -1.5944e-02 -5.3600e-03  8.7057e-03\n",
       "[torch.FloatTensor of size 344x30]"
      ]
     },
     "execution_count": 26,
     "metadata": {},
     "output_type": "execute_result"
    }
   ],
   "source": [
    "model.embed.weight"
   ]
  },
  {
   "cell_type": "markdown",
   "metadata": {
    "collapsed": true
   },
   "source": [
    "## TODO "
   ]
  },
  {
   "cell_type": "markdown",
   "metadata": {},
   "source": [
    "- 다음의 코퍼스를 Gensim을 이용해서 Word Vector를 학습시킨 후(몇 차원으로 할지, min_count 몇으로 할지는 자율)\n",
    "- 하나의 임베딩 매트릭스를 가진 파이토치 모델의 파라미터로 로드하라\n",
    "- (텐서보드에 임베딩된 단어들을 시각화하라)"
   ]
  },
  {
   "cell_type": "code",
   "execution_count": 2,
   "metadata": {
    "collapsed": true
   },
   "outputs": [],
   "source": [
    "corpus = nltk.corpus.gutenberg.sents('melville-moby_dick.txt')[:500]"
   ]
  },
  {
   "cell_type": "code",
   "execution_count": 3,
   "metadata": {
    "collapsed": false
   },
   "outputs": [
    {
     "data": {
      "text/plain": [
       "[['[', 'Moby', 'Dick', 'by', 'Herman', 'Melville', '1851', ']'],\n",
       " ['ETYMOLOGY', '.'],\n",
       " ['(',\n",
       "  'Supplied',\n",
       "  'by',\n",
       "  'a',\n",
       "  'Late',\n",
       "  'Consumptive',\n",
       "  'Usher',\n",
       "  'to',\n",
       "  'a',\n",
       "  'Grammar',\n",
       "  'School',\n",
       "  ')']]"
      ]
     },
     "execution_count": 3,
     "metadata": {},
     "output_type": "execute_result"
    }
   ],
   "source": [
    "corpus[:3] # tokenized sentence"
   ]
  },
  {
   "cell_type": "code",
   "execution_count": null,
   "metadata": {
    "collapsed": true
   },
   "outputs": [],
   "source": []
  }
 ],
 "metadata": {
  "kernelspec": {
   "display_name": "Python 3",
   "language": "python",
   "name": "python3"
  },
  "language_info": {
   "codemirror_mode": {
    "name": "ipython",
    "version": 3
   },
   "file_extension": ".py",
   "mimetype": "text/x-python",
   "name": "python",
   "nbconvert_exporter": "python",
   "pygments_lexer": "ipython3",
   "version": "3.5.2"
  }
 },
 "nbformat": 4,
 "nbformat_minor": 2
}
