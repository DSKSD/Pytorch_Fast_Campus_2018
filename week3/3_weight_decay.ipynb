{
 "cells": [
  {
   "cell_type": "code",
   "execution_count": 2,
   "metadata": {
    "collapsed": false
   },
   "outputs": [
    {
     "data": {
      "text/plain": [
       "<torch._C.Generator at 0x7f8a20888750>"
      ]
     },
     "execution_count": 2,
     "metadata": {},
     "output_type": "execute_result"
    }
   ],
   "source": [
    "import torch\n",
    "import torch.nn as nn\n",
    "from torch.autograd import Variable\n",
    "import torch.optim as optim\n",
    "import torch.nn.functional as F\n",
    "import numpy as np\n",
    "import torchvision.transforms as transforms\n",
    "import torchvision.datasets as vdatasets\n",
    "import torchvision.utils as vutils\n",
    "from tensorboardX import SummaryWriter\n",
    "torch.manual_seed(1)"
   ]
  },
  {
   "cell_type": "code",
   "execution_count": 3,
   "metadata": {
    "collapsed": true
   },
   "outputs": [],
   "source": [
    "USE_CUDA = torch.cuda.is_available() # gpu 사용"
   ]
  },
  {
   "cell_type": "markdown",
   "metadata": {},
   "source": [
    "### MNIST 데이터 "
   ]
  },
  {
   "cell_type": "code",
   "execution_count": 10,
   "metadata": {
    "collapsed": true
   },
   "outputs": [],
   "source": [
    "train_dataset = vdatasets.MNIST(root='../data/',\n",
    "                               train=True, \n",
    "                               transform=transforms.ToTensor(),\n",
    "                               download=True)\n",
    "\n",
    "\n",
    "train_loader = torch.utils.data.DataLoader(dataset=train_dataset,\n",
    "                                           batch_size=64, \n",
    "                                           shuffle=True,\n",
    "                                           num_workers=2)\n",
    "\n",
    "test_dataset = vdatasets.MNIST(root='../data/',\n",
    "                               train=False, \n",
    "                               transform=transforms.ToTensor(),\n",
    "                               download=True)\n",
    "\n",
    "\n",
    "test_loader = torch.utils.data.DataLoader(dataset=test_dataset,\n",
    "                                           batch_size=64, \n",
    "                                           shuffle=True,\n",
    "                                           num_workers=2)"
   ]
  },
  {
   "cell_type": "markdown",
   "metadata": {},
   "source": [
    "### Baseline "
   ]
  },
  {
   "cell_type": "code",
   "execution_count": null,
   "metadata": {
    "collapsed": true
   },
   "outputs": [],
   "source": [
    "class NN(nn.Module):\n",
    "    def __init__(self,input_size,hidden_size,output_size):\n",
    "        super(NN,self).__init__()\n",
    "        \n",
    "    def forward(self,inputs):\n",
    "        pass"
   ]
  },
  {
   "cell_type": "code",
   "execution_count": 48,
   "metadata": {
    "collapsed": true
   },
   "outputs": [],
   "source": [
    "# 실험을 위해 좀 더 딥한 모델 정의\n",
    "\n",
    "class NN(nn.Module):\n",
    "    def __init__(self,input_size,hidden_size,output_size):\n",
    "        super(NN,self).__init__()\n",
    "        \n",
    "        self.l1 = nn.Linear(input_size,hidden_size)\n",
    "        self.l2 = nn.Linear(hidden_size,hidden_size)\n",
    "        self.l3 = nn.Linear(hidden_size,hidden_size//2)\n",
    "        self.l4 = nn.Linear(hidden_size//2,hidden_size//4)\n",
    "        self.l5 = nn.Linear(hidden_size//4,output_size)\n",
    "        \n",
    "    def forward(self,inputs):\n",
    "        inputs = F.relu(self.l1(inputs))\n",
    "        inputs = F.relu(self.l2(inputs))\n",
    "        inputs = F.relu(self.l3(inputs))\n",
    "        inputs = F.relu(self.l4(inputs))\n",
    "        return self.l5(inputs)"
   ]
  },
  {
   "cell_type": "code",
   "execution_count": 49,
   "metadata": {
    "collapsed": true
   },
   "outputs": [],
   "source": [
    "def evaluation(data_loader,model):\n",
    "    model.eval()\n",
    "    loss_function = nn.CrossEntropyLoss(size_average=False)\n",
    "    num_equal=0\n",
    "    losses=0\n",
    "    for i, (inputs, targets) in enumerate(data_loader):\n",
    "        inputs, targets = Variable(inputs).view(-1,784), Variable(targets)\n",
    "        outputs = model(inputs)\n",
    "        losses+=loss_function(outputs,targets).data[0]\n",
    "        outputs = outputs.max(1)[1] # argmax\n",
    "        num_equal += torch.eq(outputs,targets).sum().data[0]\n",
    "    return num_equal/len(data_loader.dataset), losses/len(data_loader.dataset)"
   ]
  },
  {
   "cell_type": "code",
   "execution_count": 52,
   "metadata": {
    "collapsed": false
   },
   "outputs": [],
   "source": [
    "EPOCH=3\n",
    "LR=0.01\n",
    "BATCH_SIZE=64\n",
    "LAMBDA = 0.1\n",
    "\n",
    "model = NN(784,512,10)\n",
    "if USE_CUDA:\n",
    "    model = model.cuda()\n",
    "loss_function = nn.CrossEntropyLoss()\n",
    "optimizer = optim.SGD(model.parameters(), lr=LR, weight_decay=LAMBDA) # L2 norm"
   ]
  },
  {
   "cell_type": "code",
   "execution_count": 53,
   "metadata": {
    "collapsed": false
   },
   "outputs": [
    {
     "data": {
      "text/plain": [
       "NN(\n",
       "  (l1): Linear(in_features=784, out_features=512)\n",
       "  (l2): Linear(in_features=512, out_features=512)\n",
       "  (l3): Linear(in_features=512, out_features=256)\n",
       "  (l4): Linear(in_features=256, out_features=128)\n",
       "  (l5): Linear(in_features=128, out_features=10)\n",
       ")"
      ]
     },
     "execution_count": 53,
     "metadata": {},
     "output_type": "execute_result"
    }
   ],
   "source": [
    "model"
   ]
  },
  {
   "cell_type": "code",
   "execution_count": 56,
   "metadata": {
    "collapsed": true
   },
   "outputs": [],
   "source": [
    "l1_norm = 0"
   ]
  },
  {
   "cell_type": "code",
   "execution_count": 67,
   "metadata": {
    "collapsed": false
   },
   "outputs": [
    {
     "data": {
      "text/plain": [
       "0.2642144385026768"
      ]
     },
     "execution_count": 67,
     "metadata": {},
     "output_type": "execute_result"
    }
   ],
   "source": [
    "torch.pow(param.data,2).sum()"
   ]
  },
  {
   "cell_type": "code",
   "execution_count": 68,
   "metadata": {
    "collapsed": false
   },
   "outputs": [
    {
     "data": {
      "text/plain": [
       "0.5140179375994147"
      ]
     },
     "execution_count": 68,
     "metadata": {},
     "output_type": "execute_result"
    }
   ],
   "source": [
    "torch.norm(param.data)"
   ]
  },
  {
   "cell_type": "code",
   "execution_count": 55,
   "metadata": {
    "collapsed": false
   },
   "outputs": [
    {
     "name": "stdout",
     "output_type": "stream",
     "text": [
      "[0/3] [000/938] mean_loss : 0.678\n",
      "[0/3] [100/938] mean_loss : 0.563\n",
      "[0/3] [200/938] mean_loss : 0.560\n",
      "[0/3] [300/938] mean_loss : 0.535\n",
      "[0/3] [400/938] mean_loss : 0.535\n",
      "[0/3] [500/938] mean_loss : 0.497\n",
      "[0/3] [600/938] mean_loss : 0.487\n",
      "[0/3] [700/938] mean_loss : 0.493\n",
      "[0/3] [800/938] mean_loss : 0.463\n",
      "[0/3] [900/938] mean_loss : 0.448\n",
      "[1/3] [000/938] mean_loss : 0.340\n",
      "[1/3] [100/938] mean_loss : 0.441\n",
      "[1/3] [200/938] mean_loss : 0.450\n",
      "[1/3] [300/938] mean_loss : 0.393\n",
      "[1/3] [400/938] mean_loss : 0.388\n",
      "[1/3] [500/938] mean_loss : 0.381\n",
      "[1/3] [600/938] mean_loss : 0.377\n",
      "[1/3] [700/938] mean_loss : 0.390\n",
      "[1/3] [800/938] mean_loss : 0.359\n",
      "[1/3] [900/938] mean_loss : 0.346\n",
      "[2/3] [000/938] mean_loss : 0.297\n",
      "[2/3] [100/938] mean_loss : 0.363\n",
      "[2/3] [200/938] mean_loss : 0.335\n",
      "[2/3] [300/938] mean_loss : 0.326\n",
      "[2/3] [400/938] mean_loss : 0.337\n",
      "[2/3] [500/938] mean_loss : 0.302\n",
      "[2/3] [600/938] mean_loss : 0.312\n",
      "[2/3] [700/938] mean_loss : 0.303\n",
      "[2/3] [800/938] mean_loss : 0.276\n",
      "[2/3] [900/938] mean_loss : 0.267\n",
      "\n",
      "\n",
      "train accuracy :  0.9183\n",
      "test accuracy :  0.9167\n",
      "CPU times: user 1min 27s, sys: 1.48 s, total: 1min 29s\n",
      "Wall time: 33.6 s\n"
     ]
    }
   ],
   "source": [
    "%%time\n",
    "\n",
    "model.train()\n",
    "for epoch in range(EPOCH):\n",
    "    losses=[]\n",
    "    for i, (inputs, targets) in enumerate(train_loader):\n",
    "        inputs, targets = Variable(inputs).view(-1,784), Variable(targets)\n",
    "        if USE_CUDA:\n",
    "            inputs = inputs.cuda()\n",
    "            targets = targets.cuda()\n",
    "        model.zero_grad()\n",
    "        outputs = model(inputs)\n",
    "        loss = loss_function(outputs, targets)\n",
    "        loss.backward()\n",
    "        optimizer.step()\n",
    "\n",
    "        losses.append(loss.data[0])\n",
    "        if i % 100 == 0:\n",
    "            print(\"[%d/%d] [%03d/%d] mean_loss : %.3f\" % (epoch,EPOCH,i,len(train_loader),np.mean(losses)))\n",
    "            losses=[]\n",
    "            \n",
    "# evaluation\n",
    "train_accuracy, train_loss = evaluation(train_loader,model)\n",
    "test_accuracy, test_loss =evaluation(test_loader,model)\n",
    "\n",
    "print(\"\\n\\ntrain accuracy : \",train_accuracy)\n",
    "print(\"test accuracy : \",test_accuracy)"
   ]
  },
  {
   "cell_type": "code",
   "execution_count": 30,
   "metadata": {
    "collapsed": false
   },
   "outputs": [
    {
     "name": "stdout",
     "output_type": "stream",
     "text": [
      "TensorBoard 0.4.0rc3 at http://dsksd-tf:6006 (Press CTRL+C to quit)\n",
      "^C\n"
     ]
    }
   ],
   "source": [
    "!tensorboard --logdir runs"
   ]
  },
  {
   "cell_type": "markdown",
   "metadata": {},
   "source": [
    "### weight decay "
   ]
  },
  {
   "cell_type": "code",
   "execution_count": null,
   "metadata": {
    "collapsed": true
   },
   "outputs": [],
   "source": []
  }
 ],
 "metadata": {
  "kernelspec": {
   "display_name": "Python 3",
   "language": "python",
   "name": "python3"
  },
  "language_info": {
   "codemirror_mode": {
    "name": "ipython",
    "version": 3
   },
   "file_extension": ".py",
   "mimetype": "text/x-python",
   "name": "python",
   "nbconvert_exporter": "python",
   "pygments_lexer": "ipython3",
   "version": "3.5.2"
  }
 },
 "nbformat": 4,
 "nbformat_minor": 2
}
