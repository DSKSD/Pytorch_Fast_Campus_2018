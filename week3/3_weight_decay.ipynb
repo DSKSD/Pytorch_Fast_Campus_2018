{
 "cells": [
  {
   "cell_type": "code",
   "execution_count": 34,
   "metadata": {},
   "outputs": [
    {
     "data": {
      "text/plain": [
       "<torch._C.Generator at 0x7ff1481d3cb0>"
      ]
     },
     "execution_count": 34,
     "metadata": {},
     "output_type": "execute_result"
    }
   ],
   "source": [
    "import torch\n",
    "import torch.nn as nn\n",
    "from torch.autograd import Variable\n",
    "import torch.optim as optim\n",
    "import torch.nn.functional as F\n",
    "import numpy as np\n",
    "import torchvision.transforms as transforms\n",
    "import torchvision.datasets as vdatasets\n",
    "import torchvision.utils as vutils\n",
    "from tensorboardX import SummaryWriter\n",
    "torch.manual_seed(1)"
   ]
  },
  {
   "cell_type": "code",
   "execution_count": 2,
   "metadata": {
    "collapsed": true
   },
   "outputs": [],
   "source": [
    "USE_CUDA = torch.cuda.is_available() # gpu 사용"
   ]
  },
  {
   "cell_type": "markdown",
   "metadata": {},
   "source": [
    "### MNIST 데이터 "
   ]
  },
  {
   "cell_type": "code",
   "execution_count": 3,
   "metadata": {},
   "outputs": [
    {
     "name": "stdout",
     "output_type": "stream",
     "text": [
      "Downloading http://yann.lecun.com/exdb/mnist/train-images-idx3-ubyte.gz\n",
      "Downloading http://yann.lecun.com/exdb/mnist/train-labels-idx1-ubyte.gz\n",
      "Downloading http://yann.lecun.com/exdb/mnist/t10k-images-idx3-ubyte.gz\n",
      "Downloading http://yann.lecun.com/exdb/mnist/t10k-labels-idx1-ubyte.gz\n",
      "Processing...\n",
      "Done!\n"
     ]
    }
   ],
   "source": [
    "train_dataset = vdatasets.MNIST(root='../data/',\n",
    "                               train=True, \n",
    "                               transform=transforms.ToTensor(),\n",
    "                               download=True)\n",
    "\n",
    "\n",
    "train_loader = torch.utils.data.DataLoader(dataset=train_dataset,\n",
    "                                           batch_size=64, \n",
    "                                           shuffle=True,\n",
    "                                           num_workers=2)\n",
    "\n",
    "test_dataset = vdatasets.MNIST(root='../data/',\n",
    "                               train=False, \n",
    "                               transform=transforms.ToTensor(),\n",
    "                               download=True)\n",
    "\n",
    "\n",
    "test_loader = torch.utils.data.DataLoader(dataset=test_dataset,\n",
    "                                           batch_size=64, \n",
    "                                           shuffle=True,\n",
    "                                           num_workers=2)"
   ]
  },
  {
   "cell_type": "markdown",
   "metadata": {},
   "source": [
    "### Model "
   ]
  },
  {
   "cell_type": "code",
   "execution_count": 15,
   "metadata": {
    "collapsed": true
   },
   "outputs": [],
   "source": [
    "class NN(nn.Module):\n",
    "    def __init__(self,input_size,hidden_size,output_size,num_layers=1):\n",
    "        super(NN,self).__init__()\n",
    "        self.layers = nn.Sequential()\n",
    "        \n",
    "        # input layer\n",
    "        self.layers.add_module('input_layer',nn.Linear(input_size,hidden_size))\n",
    "        self.layers.add_module('activation',nn.ReLU())\n",
    "        \n",
    "        # hidden layers\n",
    "        for l in range(num_layers):\n",
    "            self.layers.add_module('hidden_layer_'+str(l+1),nn.Linear(hidden_size,hidden_size))\n",
    "            self.layers.add_module('activation_'+str(l+1),nn.ReLU())\n",
    "            \n",
    "        # output layer\n",
    "        self.layers.add_module('output_layer',nn.Linear(hidden_size,output_size))\n",
    "        \n",
    "    def forward(self,inputs):\n",
    "        return self.layers(inputs)"
   ]
  },
  {
   "cell_type": "code",
   "execution_count": 16,
   "metadata": {
    "collapsed": true
   },
   "outputs": [],
   "source": [
    "def evaluation(data_loader,model):\n",
    "    model.eval()\n",
    "    loss_function = nn.CrossEntropyLoss(size_average=False)\n",
    "    num_equal=0\n",
    "    losses=0\n",
    "    for i, (inputs, targets) in enumerate(data_loader):\n",
    "        inputs, targets = Variable(inputs).view(-1,784), Variable(targets)\n",
    "        outputs = model(inputs)\n",
    "        losses+=loss_function(outputs,targets).data[0]\n",
    "        outputs = outputs.max(1)[1] # argmax\n",
    "        num_equal += torch.eq(outputs,targets).sum().data[0]\n",
    "    return num_equal/len(data_loader.dataset), losses/len(data_loader.dataset)"
   ]
  },
  {
   "cell_type": "code",
   "execution_count": 35,
   "metadata": {
    "collapsed": true
   },
   "outputs": [],
   "source": [
    "EPOCH=5\n",
    "LR=0.01\n",
    "HIDDEN_SIZE = 1024\n",
    "BATCH_SIZE=64\n",
    "LAMBDA = 0.1\n",
    "NUM_LAYERS = 2\n",
    "\n",
    "model = NN(784,HIDDEN_SIZE,10,NUM_LAYERS)\n",
    "if USE_CUDA:\n",
    "    model = model.cuda()\n",
    "loss_function = nn.CrossEntropyLoss()\n",
    "optimizer = optim.SGD(model.parameters(), lr=LR)#, weight_decay=LAMBDA) # L2 norm"
   ]
  },
  {
   "cell_type": "code",
   "execution_count": 36,
   "metadata": {},
   "outputs": [
    {
     "data": {
      "text/plain": [
       "NN(\n",
       "  (layers): Sequential(\n",
       "    (input_layer): Linear(in_features=784, out_features=1024)\n",
       "    (activation): ReLU()\n",
       "    (hidden_layer_1): Linear(in_features=1024, out_features=1024)\n",
       "    (activation_1): ReLU()\n",
       "    (hidden_layer_2): Linear(in_features=1024, out_features=1024)\n",
       "    (activation_2): ReLU()\n",
       "    (output_layer): Linear(in_features=1024, out_features=10)\n",
       "  )\n",
       ")"
      ]
     },
     "execution_count": 36,
     "metadata": {},
     "output_type": "execute_result"
    }
   ],
   "source": [
    "model"
   ]
  },
  {
   "cell_type": "code",
   "execution_count": 37,
   "metadata": {},
   "outputs": [
    {
     "name": "stdout",
     "output_type": "stream",
     "text": [
      "[0/5] [000/938] mean_loss : 2.304\n",
      "[0/5] [100/938] mean_loss : 2.296\n",
      "[0/5] [200/938] mean_loss : 2.279\n",
      "[0/5] [300/938] mean_loss : 2.258\n",
      "[0/5] [400/938] mean_loss : 2.226\n",
      "[0/5] [500/938] mean_loss : 2.168\n",
      "[0/5] [600/938] mean_loss : 2.060\n",
      "[0/5] [700/938] mean_loss : 1.857\n",
      "[0/5] [800/938] mean_loss : 1.568\n",
      "[0/5] [900/938] mean_loss : 1.243\n",
      "[1/5] [000/938] mean_loss : 0.853\n",
      "[1/5] [100/938] mean_loss : 0.922\n",
      "[1/5] [200/938] mean_loss : 0.791\n",
      "[1/5] [300/938] mean_loss : 0.681\n",
      "[1/5] [400/938] mean_loss : 0.613\n",
      "[1/5] [500/938] mean_loss : 0.558\n",
      "[1/5] [600/938] mean_loss : 0.518\n",
      "[1/5] [700/938] mean_loss : 0.473\n",
      "[1/5] [800/938] mean_loss : 0.477\n",
      "[1/5] [900/938] mean_loss : 0.448\n",
      "[2/5] [000/938] mean_loss : 0.272\n",
      "[2/5] [100/938] mean_loss : 0.423\n",
      "[2/5] [200/938] mean_loss : 0.410\n",
      "[2/5] [300/938] mean_loss : 0.392\n",
      "[2/5] [400/938] mean_loss : 0.387\n",
      "[2/5] [500/938] mean_loss : 0.359\n",
      "[2/5] [600/938] mean_loss : 0.358\n",
      "[2/5] [700/938] mean_loss : 0.368\n",
      "[2/5] [800/938] mean_loss : 0.389\n",
      "[2/5] [900/938] mean_loss : 0.374\n",
      "[3/5] [000/938] mean_loss : 0.349\n",
      "[3/5] [100/938] mean_loss : 0.347\n",
      "[3/5] [200/938] mean_loss : 0.331\n",
      "[3/5] [300/938] mean_loss : 0.324\n",
      "[3/5] [400/938] mean_loss : 0.323\n",
      "[3/5] [500/938] mean_loss : 0.331\n",
      "[3/5] [600/938] mean_loss : 0.319\n",
      "[3/5] [700/938] mean_loss : 0.317\n",
      "[3/5] [800/938] mean_loss : 0.312\n",
      "[3/5] [900/938] mean_loss : 0.315\n",
      "[4/5] [000/938] mean_loss : 0.209\n",
      "[4/5] [100/938] mean_loss : 0.317\n",
      "[4/5] [200/938] mean_loss : 0.292\n",
      "[4/5] [300/938] mean_loss : 0.285\n",
      "[4/5] [400/938] mean_loss : 0.288\n",
      "[4/5] [500/938] mean_loss : 0.290\n",
      "[4/5] [600/938] mean_loss : 0.277\n",
      "[4/5] [700/938] mean_loss : 0.272\n",
      "[4/5] [800/938] mean_loss : 0.283\n",
      "[4/5] [900/938] mean_loss : 0.264\n",
      "\n",
      "\n",
      "train accuracy :  0.92235\n",
      "test accuracy :  0.926\n",
      "CPU times: user 9min 33s, sys: 4.09 s, total: 9min 37s\n",
      "Wall time: 2min 20s\n"
     ]
    }
   ],
   "source": [
    "%%time\n",
    "\n",
    "model.train()\n",
    "for epoch in range(EPOCH):\n",
    "    losses=[]\n",
    "    for i, (inputs, targets) in enumerate(train_loader):\n",
    "        inputs, targets = Variable(inputs).view(-1,784), Variable(targets)\n",
    "        if USE_CUDA:\n",
    "            inputs = inputs.cuda()\n",
    "            targets = targets.cuda()\n",
    "        model.zero_grad()\n",
    "        outputs = model(inputs)\n",
    "        loss = loss_function(outputs, targets)\n",
    "        loss.backward()\n",
    "        optimizer.step()\n",
    "\n",
    "        losses.append(loss.data[0])\n",
    "        if i % 100 == 0:\n",
    "            print(\"[%d/%d] [%03d/%d] mean_loss : %.3f\" % (epoch,EPOCH,i,len(train_loader),np.mean(losses)))\n",
    "            losses=[]\n",
    "            \n",
    "# evaluation\n",
    "train_accuracy, train_loss = evaluation(train_loader,model)\n",
    "test_accuracy, test_loss =evaluation(test_loader,model)\n",
    "\n",
    "print(\"\\n\\ntrain accuracy : \",train_accuracy)\n",
    "print(\"test accuracy : \",test_accuracy)"
   ]
  },
  {
   "cell_type": "code",
   "execution_count": 30,
   "metadata": {},
   "outputs": [
    {
     "name": "stdout",
     "output_type": "stream",
     "text": [
      "TensorBoard 0.4.0rc3 at http://dsksd-tf:6006 (Press CTRL+C to quit)\n",
      "^C\n"
     ]
    }
   ],
   "source": [
    "!tensorboard --logdir runs"
   ]
  },
  {
   "cell_type": "markdown",
   "metadata": {},
   "source": [
    "### weight decay "
   ]
  },
  {
   "cell_type": "markdown",
   "metadata": {},
   "source": [
    "$$H(p,q)=-\\sum_xp(x)logq(x)$$"
   ]
  },
  {
   "cell_type": "code",
   "execution_count": 45,
   "metadata": {},
   "outputs": [
    {
     "name": "stdout",
     "output_type": "stream",
     "text": [
      "Variable containing:\n",
      " 0.6590\n",
      " 0.2424\n",
      " 0.0986\n",
      "[torch.FloatTensor of size 3]\n",
      "\n",
      "Variable containing:\n",
      " 1.0000\n",
      "[torch.FloatTensor of size 1]\n",
      "\n"
     ]
    }
   ],
   "source": [
    "import torch\n",
    "from torch.autograd import Variable\n",
    "import torch.nn.functional as F\n",
    "\n",
    "z = torch.Tensor([2.0,1.0,0.1])\n",
    "\n",
    "def softmax(z):\n",
    "    exps = torch.exp(z)\n",
    "    return exps / torch.sum(exps)\n",
    "\n",
    "res = F.softmax(Variable(z),0) \n",
    "print(res)                  #print(softmax(z))\n",
    "print(torch.sum(res)) #print(torch.sum(softmax(z)))"
   ]
  },
  {
   "cell_type": "code",
   "execution_count": 30,
   "metadata": {
    "collapsed": true
   },
   "outputs": [],
   "source": [
    "import torch\n",
    "from torch.autograd import Variable\n",
    "import torch.nn.functional as F\n",
    "\n",
    "q = torch.Tensor([0.7,0.2,0.1])\n",
    "p = torch.Tensor([1.0,0.,0.])\n",
    "\n",
    "def cross_entropy(p,q):\n",
    "    return -torch.sum(p*torch.log(q))\n",
    "\n",
    "cross_entropy(p,q)"
   ]
  },
  {
   "cell_type": "code",
   "execution_count": 31,
   "metadata": {},
   "outputs": [
    {
     "data": {
      "text/plain": [
       "0.3566749691963196"
      ]
     },
     "execution_count": 31,
     "metadata": {},
     "output_type": "execute_result"
    }
   ],
   "source": []
  },
  {
   "cell_type": "code",
   "execution_count": null,
   "metadata": {
    "collapsed": true
   },
   "outputs": [],
   "source": []
  }
 ],
 "metadata": {
  "kernelspec": {
   "display_name": "Python 3",
   "language": "python",
   "name": "python3"
  },
  "language_info": {
   "codemirror_mode": {
    "name": "ipython",
    "version": 3
   },
   "file_extension": ".py",
   "mimetype": "text/x-python",
   "name": "python",
   "nbconvert_exporter": "python",
   "pygments_lexer": "ipython3",
   "version": "3.5.2"
  }
 },
 "nbformat": 4,
 "nbformat_minor": 2
}
