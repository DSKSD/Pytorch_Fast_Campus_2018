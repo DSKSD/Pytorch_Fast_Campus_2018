{
 "cells": [
  {
   "cell_type": "code",
   "execution_count": 6,
   "metadata": {
    "collapsed": true
   },
   "outputs": [],
   "source": [
    "import torch\n",
    "import torch.nn as nn\n",
    "from torch.autograd import Variable\n",
    "import torch.optim as optim\n",
    "import torch.nn.functional as F\n",
    "import torch.utils.data as torchdata\n",
    "import numpy as np\n",
    "torch.manual_seed(1)\n",
    "\n",
    "import matplotlib.pyplot as plt\n",
    "from matplotlib.colors import ListedColormap\n",
    "%matplotlib inline"
   ]
  },
  {
   "cell_type": "markdown",
   "metadata": {},
   "source": [
    "### Toy dataset "
   ]
  },
  {
   "cell_type": "code",
   "execution_count": 3,
   "metadata": {
    "collapsed": true
   },
   "outputs": [],
   "source": [
    "NUM_DATA=50"
   ]
  },
  {
   "cell_type": "code",
   "execution_count": 9,
   "metadata": {
    "collapsed": true
   },
   "outputs": [],
   "source": [
    "x1 = torch.linspace(0,5,NUM_DATA) + torch.randn(NUM_DATA)\n",
    "x2 = torch.cat([torch.zeros(NUM_DATA//2)+torch.abs(torch.randn(NUM_DATA//2)),torch.ones(NUM_DATA//2)-torch.abs(torch.randn(NUM_DATA//2))])\n",
    "x = torch.cat([x1.unsqueeze(1),x2.unsqueeze(1)],1)\n",
    "x = Variable(x)\n",
    "\n",
    "y = torch.cat([torch.zeros(NUM_DATA//2),torch.ones(NUM_DATA//2)])\n",
    "y = Variable(y).unsqueeze(1)"
   ]
  },
  {
   "cell_type": "code",
   "execution_count": 10,
   "metadata": {
    "collapsed": false
   },
   "outputs": [
    {
     "data": {
      "image/png": "[encoded data removed]",
      "text/plain": [
       "<matplotlib.figure.Figure at 0x7f5fa3abbfd0>"
      ]
     },
     "metadata": {},
     "output_type": "display_data"
    }
   ],
   "source": [
    "fig, ax = plt.subplots()\n",
    "ax.plot(x[:,0].data.numpy()[:NUM_DATA//2],x[:,1].data.numpy()[:NUM_DATA//2],'o',label='negative')\n",
    "ax.plot(x[:,0].data.numpy()[NUM_DATA//2:],x[:,1].data.numpy()[NUM_DATA//2:],'ro',label='positive')\n",
    "ax.legend()\n",
    "plt.show()"
   ]
  },
  {
   "cell_type": "markdown",
   "metadata": {},
   "source": [
    "### TODO: weight_decay_data.csv를 읽어와서 Data과 Train loader 사용하기"
   ]
  },
  {
   "cell_type": "code",
   "execution_count": 4,
   "metadata": {
    "collapsed": true
   },
   "outputs": [],
   "source": [
    "data = np.loadtxt(\"weight_decay_data.csv\", delimiter=\",\", dtype=np.float32)"
   ]
  },
  {
   "cell_type": "code",
   "execution_count": null,
   "metadata": {
    "collapsed": true
   },
   "outputs": [],
   "source": [
    "class CustomDataset(torchdata.Dataset):\n",
    "    def __init__(self):\n",
    "        # TODO\n",
    "        pass\n",
    "    \n",
    "    def __getitem__(self, index):\n",
    "        # TODO\n",
    "        return None\n",
    "        \n",
    "    def __len__(self):\n",
    "        # TODO\n",
    "        return 0"
   ]
  },
  {
   "cell_type": "markdown",
   "metadata": {},
   "source": [
    "### NN with 1 hidden layer "
   ]
  },
  {
   "cell_type": "code",
   "execution_count": 11,
   "metadata": {
    "collapsed": true
   },
   "outputs": [],
   "source": [
    "class NN(nn.Module):\n",
    "    def __init__(self,hidden_size):\n",
    "        super(NN,self).__init__()\n",
    "        self.l1 = nn.Linear(2,hidden_size)\n",
    "        self.l2 = nn.Linear(hidden_size,1)\n",
    "    \n",
    "    def forward(self,inputs):\n",
    "        outputs = F.relu(self.l1(inputs))\n",
    "        return F.sigmoid(self.l2(outputs))"
   ]
  },
  {
   "cell_type": "code",
   "execution_count": 12,
   "metadata": {
    "collapsed": true
   },
   "outputs": [],
   "source": [
    "def train_nn(x,y,model,optimizer,max_try=20000):\n",
    "    \"\"\"\n",
    "    max_try만큼 epoch을 돌거나\n",
    "    loss가 0.1보다 작아지면 학습이 끝나는 메소드\n",
    "    \"\"\"\n",
    "    epoch = 0\n",
    "    loss = Variable(torch.Tensor([1.]))\n",
    "    while loss.data[0]>0.1 and epoch<=max_try:\n",
    "        model.zero_grad()\n",
    "        pred = model(x)\n",
    "        loss = loss_function(pred,y)\n",
    "        loss.backward()\n",
    "        optimizer.step()\n",
    "        epoch+=1\n",
    "    print(\"done with %d epochs, loss : %.3f\" % (epoch,loss.data[0]))\n",
    "    \n",
    "    return model"
   ]
  },
  {
   "cell_type": "code",
   "execution_count": 13,
   "metadata": {
    "collapsed": true
   },
   "outputs": [],
   "source": [
    "def plot_decision_region(x,y,model):\n",
    "    X_p = x.data.numpy()\n",
    "    y_p = y.data.numpy().reshape(NUM_DATA)\n",
    "    markers = ('x', 's')\n",
    "    colors = ('blue', 'red')\n",
    "    cmap = ListedColormap(colors[:len(np.unique(y_p))])\n",
    "\n",
    "    # plot the decision surface\n",
    "    x1_min, x1_max = X_p[:, 0].min() - 1, X_p[:, 0].max() + 1\n",
    "    x2_min, x2_max = X_p[:, 1].min() - 1, X_p[:, 1].max() + 1\n",
    "    xx1, xx2 = np.meshgrid(np.arange(x1_min, x1_max, 0.02),\n",
    "                           np.arange(x2_min, x2_max, 0.02))\n",
    "\n",
    "    X_pp = Variable(torch.cat([torch.Tensor(xx1).view(-1,1),torch.Tensor(xx2).view(-1,1)],1))\n",
    "    Z = torch.round(model(X_pp))\n",
    "    Z = Z.float().data.numpy()\n",
    "    Z = Z.reshape(xx1.shape)\n",
    "    plt.contourf(xx1, xx2, Z, alpha=0.4, cmap=cmap)\n",
    "    plt.xlim(xx1.min(), xx1.max())\n",
    "    plt.ylim(xx2.min(), xx2.max())\n",
    "\n",
    "    for idx, cl in enumerate(np.unique(y_p)):\n",
    "        plt.scatter(x=X_p[y_p == cl, 0], \n",
    "                    y=X_p[y_p == cl, 1],\n",
    "                    alpha=0.6, \n",
    "                    c=cmap(idx),\n",
    "                    edgecolor='black',\n",
    "                    marker=markers[idx], \n",
    "                    label=cl)"
   ]
  },
  {
   "cell_type": "markdown",
   "metadata": {},
   "source": [
    "### Hidden node : 3 "
   ]
  },
  {
   "cell_type": "code",
   "execution_count": 14,
   "metadata": {
    "collapsed": true
   },
   "outputs": [],
   "source": [
    "HIDDEN=3\n",
    "LR=0.05\n",
    "\n",
    "model = NN(HIDDEN)\n",
    "loss_function = nn.BCELoss()\n",
    "optimizer = optim.SGD(model.parameters(),lr=LR)"
   ]
  },
  {
   "cell_type": "code",
   "execution_count": 15,
   "metadata": {
    "collapsed": false
   },
   "outputs": [
    {
     "name": "stdout",
     "output_type": "stream",
     "text": [
      "done with 20001 epochs, loss : 0.316\n"
     ]
    },
    {
     "data": {
      "image/png": "[encoded data removed]",
      "text/plain": [
       "<matplotlib.figure.Figure at 0x7f5fa3add2e8>"
      ]
     },
     "metadata": {},
     "output_type": "display_data"
    }
   ],
   "source": [
    "model = train_nn(x,y,model,optimizer)\n",
    "plot_decision_region(x,y,model)"
   ]
  },
  {
   "cell_type": "markdown",
   "metadata": {},
   "source": [
    "### Hidden node : 20 "
   ]
  },
  {
   "cell_type": "code",
   "execution_count": 16,
   "metadata": {
    "collapsed": true
   },
   "outputs": [],
   "source": [
    "HIDDEN=20\n",
    "LR=0.05\n",
    "\n",
    "model = NN(HIDDEN)\n",
    "loss_function = nn.BCELoss()\n",
    "optimizer = optim.SGD(model.parameters(),lr=LR)"
   ]
  },
  {
   "cell_type": "code",
   "execution_count": 18,
   "metadata": {
    "collapsed": false
   },
   "outputs": [
    {
     "name": "stdout",
     "output_type": "stream",
     "text": [
      "done with 20001 epochs, loss : 0.173\n"
     ]
    },
    {
     "data": {
      "image/png": "[encoded data removed]",
      "text/plain": [
       "<matplotlib.figure.Figure at 0x7f5fa3ab1b70>"
      ]
     },
     "metadata": {},
     "output_type": "display_data"
    }
   ],
   "source": [
    "model = train_nn(x,y,model,optimizer)\n",
    "plot_decision_region(x,y,model)"
   ]
  },
  {
   "cell_type": "markdown",
   "metadata": {},
   "source": [
    "### Weight Decay (L2 norm) : lambda 0.001 "
   ]
  },
  {
   "cell_type": "code",
   "execution_count": 19,
   "metadata": {
    "collapsed": true
   },
   "outputs": [],
   "source": [
    "class NN(nn.Module):\n",
    "    def __init__(self,hidden_size):\n",
    "        super(NN,self).__init__()\n",
    "        self.l1 = nn.Linear(2,hidden_size)\n",
    "        self.l2 = nn.Linear(hidden_size,1)\n",
    "    \n",
    "    def forward(self,inputs):\n",
    "        inputs = F.relu(self.l1(inputs))\n",
    "        return F.sigmoid(self.l2(inputs))\n",
    "\n",
    "HIDDEN=20\n",
    "LR=0.05\n",
    "LAMBDA=0.001\n",
    "\n",
    "model = NN(HIDDEN)\n",
    "loss_function = nn.BCELoss()\n",
    "optimizer = optim.SGD(model.parameters(),lr=LR,weight_decay=LAMBDA) # L2 norm"
   ]
  },
  {
   "cell_type": "code",
   "execution_count": 20,
   "metadata": {
    "collapsed": false
   },
   "outputs": [
    {
     "name": "stdout",
     "output_type": "stream",
     "text": [
      "done with 20001 epochs, loss : 0.239\n"
     ]
    },
    {
     "data": {
      "image/png": "[encoded data removed]",
      "text/plain": [
       "<matplotlib.figure.Figure at 0x7f5fa3a25f60>"
      ]
     },
     "metadata": {},
     "output_type": "display_data"
    }
   ],
   "source": [
    "model = train_nn(x,y,model,optimizer)\n",
    "plot_decision_region(x,y,model)"
   ]
  },
  {
   "cell_type": "markdown",
   "metadata": {},
   "source": [
    "### Weight Decay (L2 norm) : lambda 0.01"
   ]
  },
  {
   "cell_type": "code",
   "execution_count": 21,
   "metadata": {
    "collapsed": true
   },
   "outputs": [],
   "source": [
    "HIDDEN=20\n",
    "LR=0.05\n",
    "LAMBDA=0.01\n",
    "\n",
    "model = NN(HIDDEN)\n",
    "loss_function = nn.BCELoss()\n",
    "optimizer = optim.SGD(model.parameters(),lr=LR,weight_decay=LAMBDA) # L2 norm"
   ]
  },
  {
   "cell_type": "code",
   "execution_count": 22,
   "metadata": {
    "collapsed": false
   },
   "outputs": [
    {
     "name": "stdout",
     "output_type": "stream",
     "text": [
      "done with 20001 epochs, loss : 0.298\n"
     ]
    },
    {
     "data": {
      "image/png": "[encoded data removed]",
      "text/plain": [
       "<matplotlib.figure.Figure at 0x7f5fa2f04780>"
      ]
     },
     "metadata": {},
     "output_type": "display_data"
    }
   ],
   "source": [
    "model = train_nn(x,y,model,optimizer)\n",
    "plot_decision_region(x,y,model)"
   ]
  },
  {
   "cell_type": "markdown",
   "metadata": {},
   "source": [
    "### Suggested Readings "
   ]
  },
  {
   "cell_type": "markdown",
   "metadata": {
    "collapsed": true
   },
   "source": [
    "* http://cs231n.github.io/neural-networks-1/"
   ]
  },
  {
   "cell_type": "code",
   "execution_count": null,
   "metadata": {
    "collapsed": true
   },
   "outputs": [],
   "source": []
  }
 ],
 "metadata": {
  "kernelspec": {
   "display_name": "Python 3",
   "language": "python",
   "name": "python3"
  },
  "language_info": {
   "codemirror_mode": {
    "name": "ipython",
    "version": 3
   },
   "file_extension": ".py",
   "mimetype": "text/x-python",
   "name": "python",
   "nbconvert_exporter": "python",
   "pygments_lexer": "ipython3",
   "version": "3.5.2"
  }
 },
 "nbformat": 4,
 "nbformat_minor": 2
}
