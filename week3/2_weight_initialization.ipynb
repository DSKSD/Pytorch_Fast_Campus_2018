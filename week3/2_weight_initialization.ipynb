{
 "cells": [
  {
   "cell_type": "code",
   "execution_count": 12,
   "metadata": {
    "collapsed": false
   },
   "outputs": [
    {
     "data": {
      "text/plain": [
       "<torch._C.Generator at 0x7fe9f8049250>"
      ]
     },
     "execution_count": 12,
     "metadata": {},
     "output_type": "execute_result"
    }
   ],
   "source": [
    "import torch\n",
    "import torch.nn as nn\n",
    "from torch.autograd import Variable\n",
    "import torch.optim as optim\n",
    "import torch.nn.functional as F\n",
    "import numpy as np\n",
    "import torchvision.transforms as transforms\n",
    "import torchvision.datasets as vdatasets\n",
    "import torchvision.utils as vutils\n",
    "from tensorboardX import SummaryWriter\n",
    "torch.manual_seed(1)"
   ]
  },
  {
   "cell_type": "code",
   "execution_count": 62,
   "metadata": {
    "collapsed": true
   },
   "outputs": [],
   "source": [
    "USE_CUDA = torch.cuda.is_available() # gpu 사용\n"
   ]
  },
  {
   "cell_type": "markdown",
   "metadata": {
    "collapsed": true
   },
   "source": [
    "### init operations"
   ]
  },
  {
   "cell_type": "code",
   "execution_count": 20,
   "metadata": {
    "collapsed": false
   },
   "outputs": [
    {
     "data": {
      "text/plain": [
       "\n",
       "    0     0\n",
       "    0     0\n",
       "    0     0\n",
       "    0     0\n",
       "    0     0\n",
       "    0     0\n",
       "    0     0\n",
       "    0     0\n",
       "    0     0\n",
       "    0     0\n",
       "[torch.FloatTensor of size 10x2]"
      ]
     },
     "execution_count": 20,
     "metadata": {},
     "output_type": "execute_result"
    }
   ],
   "source": [
    "param = torch.zeros(10,2)\n",
    "\n",
    "param"
   ]
  },
  {
   "cell_type": "code",
   "execution_count": 30,
   "metadata": {
    "collapsed": false
   },
   "outputs": [
    {
     "data": {
      "text/plain": [
       "\n",
       " 0.4010  0.4621\n",
       " 0.4050  0.3157\n",
       " 0.7087  0.3297\n",
       " 0.2191  0.6134\n",
       " 0.1386  0.3933\n",
       " 0.7555  0.6869\n",
       " 0.9257  0.1590\n",
       " 0.5043  0.3523\n",
       " 0.2203  0.2187\n",
       " 0.6260  0.5523\n",
       "[torch.FloatTensor of size 10x2]"
      ]
     },
     "execution_count": 30,
     "metadata": {},
     "output_type": "execute_result"
    }
   ],
   "source": [
    "nn.init.uniform(param,0,1)"
   ]
  },
  {
   "cell_type": "code",
   "execution_count": 29,
   "metadata": {
    "collapsed": false
   },
   "outputs": [
    {
     "data": {
      "text/plain": [
       "\n",
       " 0.4728  1.0049\n",
       "-0.2871 -1.1619\n",
       " 0.0276  0.5652\n",
       "-0.0115  0.6706\n",
       "-0.4929  1.5050\n",
       "-2.3264  1.6169\n",
       "-0.9026  0.1737\n",
       " 0.0772 -0.9339\n",
       " 0.0914  1.3940\n",
       "-0.6877 -0.5058\n",
       "[torch.FloatTensor of size 10x2]"
      ]
     },
     "execution_count": 29,
     "metadata": {},
     "output_type": "execute_result"
    }
   ],
   "source": [
    "nn.init.normal(param,0,1)"
   ]
  },
  {
   "cell_type": "code",
   "execution_count": 32,
   "metadata": {
    "collapsed": false
   },
   "outputs": [
    {
     "data": {
      "text/plain": [
       "\n",
       "    2     2\n",
       "    2     2\n",
       "    2     2\n",
       "    2     2\n",
       "    2     2\n",
       "    2     2\n",
       "    2     2\n",
       "    2     2\n",
       "    2     2\n",
       "    2     2\n",
       "[torch.FloatTensor of size 10x2]"
      ]
     },
     "execution_count": 32,
     "metadata": {},
     "output_type": "execute_result"
    }
   ],
   "source": [
    "nn.init.constant(param,2)"
   ]
  },
  {
   "cell_type": "code",
   "execution_count": 33,
   "metadata": {
    "collapsed": false
   },
   "outputs": [
    {
     "data": {
      "text/plain": [
       "\n",
       "-0.3609 -0.4984\n",
       "-0.5859  0.6930\n",
       "-0.1205 -0.1635\n",
       "-0.2600 -0.3537\n",
       "-0.6467 -0.4151\n",
       " 0.4322  0.1550\n",
       "-0.2494 -0.2672\n",
       " 0.4517  0.5097\n",
       " 0.6813  0.2063\n",
       " 0.3416 -0.0568\n",
       "[torch.FloatTensor of size 10x2]"
      ]
     },
     "execution_count": 33,
     "metadata": {},
     "output_type": "execute_result"
    }
   ],
   "source": [
    "nn.init.xavier_uniform(param)"
   ]
  },
  {
   "cell_type": "code",
   "execution_count": 39,
   "metadata": {
    "collapsed": false
   },
   "outputs": [
    {
     "data": {
      "text/plain": [
       "\n",
       "-0.2309 -0.3713\n",
       "-0.1997 -0.2521\n",
       " 0.1566  0.1572\n",
       " 0.3221  0.4639\n",
       "-0.0468 -0.0074\n",
       " 0.0200  0.1744\n",
       "-0.3673  0.2169\n",
       " 0.1647  0.5928\n",
       "-0.9872 -0.4861\n",
       " 0.2843  0.4612\n",
       "[torch.FloatTensor of size 10x2]"
      ]
     },
     "execution_count": 39,
     "metadata": {},
     "output_type": "execute_result"
    }
   ],
   "source": [
    "nn.init.xavier_normal(param)"
   ]
  },
  {
   "cell_type": "markdown",
   "metadata": {},
   "source": [
    "### weight init 효과 비교 분석 "
   ]
  },
  {
   "cell_type": "code",
   "execution_count": 42,
   "metadata": {
    "collapsed": true
   },
   "outputs": [],
   "source": [
    "INIT_OPS = [None, nn.init.xavier_uniform] # weight init 안한거랑 xavier_uniform 한 경우\n",
    "STEP = 3\n",
    "LR = 0.01\n",
    "BATCH_SIZE=64"
   ]
  },
  {
   "cell_type": "code",
   "execution_count": 43,
   "metadata": {
    "collapsed": true
   },
   "outputs": [],
   "source": [
    "train_dataset = vdatasets.MNIST(root='../data/',\n",
    "                               train=True, \n",
    "                               transform=transforms.ToTensor(),\n",
    "                               download=True)\n",
    "\n",
    "\n",
    "train_loader = torch.utils.data.DataLoader(dataset=train_dataset,\n",
    "                                           batch_size=BATCH_SIZE, \n",
    "                                           shuffle=True,\n",
    "                                           num_workers=2)"
   ]
  },
  {
   "cell_type": "code",
   "execution_count": 65,
   "metadata": {
    "collapsed": false
   },
   "outputs": [
    {
     "name": "stdout",
     "output_type": "stream",
     "text": [
      "None training start!\n",
      "done\n",
      "xavier_uniform training start!\n",
      "done\n"
     ]
    }
   ],
   "source": [
    "for INIT_OP in INIT_OPS:\n",
    "    op_name = INIT_OP.__name__ if INIT_OP else \"None\"\n",
    "    writer = SummaryWriter(comment=\"-\"+op_name)\n",
    "\n",
    "    # 모델 선언\n",
    "    model = nn.Sequential(nn.Linear(784,1024),\n",
    "                                  nn.ReLU(),\n",
    "                                  nn.Linear(1024,1024),\n",
    "                                  nn.ReLU(),\n",
    "                                  nn.Linear(1024,10))\n",
    "    \n",
    "    # 초기화\n",
    "    if INIT_OP is not None:\n",
    "        for name,param in model.named_parameters():\n",
    "            if 'weight' in name:\n",
    "                param.data = INIT_OP(param.data)\n",
    "    \n",
    "    if USE_CUDA:\n",
    "        model = model.cuda()\n",
    "    \n",
    "    # 로스 펑션, 옵티마이저\n",
    "    loss_function = nn.CrossEntropyLoss()\n",
    "    optimizer = optim.SGD(model.parameters(),lr=LR)\n",
    "    \n",
    "    # 트레이닝\n",
    "    print(op_name + \" training start!\")\n",
    "    for step in range(STEP):\n",
    "        for i, (inputs, targets) in enumerate(train_loader):\n",
    "            inputs, targets = Variable(inputs).view(-1,784), Variable(targets)\n",
    "            if USE_CUDA:\n",
    "                inputs = inputs.cuda()\n",
    "                targets = targets.cuda()\n",
    "            model.zero_grad()\n",
    "            outputs = model(inputs)\n",
    "            loss = loss_function(outputs, targets)\n",
    "            loss.backward()\n",
    "            optimizer.step()\n",
    "            \n",
    "            writer.add_scalars('data/weight_init/',{op_name : loss.data[0]},(i+1)+(step*len(train_dataset)//BATCH_SIZE))\n",
    "    print(\"done\")\n",
    "writer.close()"
   ]
  },
  {
   "cell_type": "code",
   "execution_count": 66,
   "metadata": {
    "collapsed": false
   },
   "outputs": [
    {
     "name": "stdout",
     "output_type": "stream",
     "text": [
      "TensorBoard 0.4.0rc3 at http://dsksd-tf:6006 (Press CTRL+C to quit)\n",
      "^C\n"
     ]
    }
   ],
   "source": [
    "!tensorboard --logdir runs"
   ]
  },
  {
   "cell_type": "code",
   "execution_count": null,
   "metadata": {
    "collapsed": true
   },
   "outputs": [],
   "source": []
  }
 ],
 "metadata": {
  "kernelspec": {
   "display_name": "Python 3",
   "language": "python",
   "name": "python3"
  },
  "language_info": {
   "codemirror_mode": {
    "name": "ipython",
    "version": 3
   },
   "file_extension": ".py",
   "mimetype": "text/x-python",
   "name": "python",
   "nbconvert_exporter": "python",
   "pygments_lexer": "ipython3",
   "version": "3.5.2"
  }
 },
 "nbformat": 4,
 "nbformat_minor": 2
}
