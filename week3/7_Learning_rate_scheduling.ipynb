{
 "cells": [
  {
   "cell_type": "code",
   "execution_count": 1,
   "metadata": {},
   "outputs": [
    {
     "data": {
      "text/plain": [
       "<torch._C.Generator at 0x7fa133b73610>"
      ]
     },
     "execution_count": 1,
     "metadata": {},
     "output_type": "execute_result"
    }
   ],
   "source": [
    "import torch\n",
    "import torch.nn as nn\n",
    "from torch.autograd import Variable\n",
    "import torch.optim as optim\n",
    "import torch.nn.functional as F\n",
    "import torch.utils.data as torchdata\n",
    "import numpy as np\n",
    "from tensorboardX import SummaryWriter\n",
    "torch.manual_seed(1)"
   ]
  },
  {
   "cell_type": "code",
   "execution_count": 2,
   "metadata": {
    "collapsed": true
   },
   "outputs": [],
   "source": [
    "USE_CUDA = torch.cuda.is_available() # gpu 사용"
   ]
  },
  {
   "cell_type": "markdown",
   "metadata": {},
   "source": [
    "### MNIST 데이터"
   ]
  },
  {
   "cell_type": "code",
   "execution_count": 3,
   "metadata": {
    "collapsed": true
   },
   "outputs": [],
   "source": [
    "BATCH_SIZE = 4"
   ]
  },
  {
   "cell_type": "code",
   "execution_count": 18,
   "metadata": {},
   "outputs": [],
   "source": [
    "class CustomDataset(torchdata.Dataset):\n",
    "    def __init__(self):\n",
    "        \n",
    "        data = np.loadtxt('./weight_decay_data.csv',\n",
    "                        delimiter=',', dtype=np.float32)\n",
    "        \n",
    "        self.length = data.shape[0]\n",
    "        self.x = torch.Tensor(data[:,:2]).float()\n",
    "        self.y = torch.Tensor(data[:,2]).unsqueeze(1).float()\n",
    "        \n",
    "    def __getitem__(self, index):\n",
    "        return self.x[index], self.y[index]\n",
    "        \n",
    "    def __len__(self):\n",
    "        return self.length "
   ]
  },
  {
   "cell_type": "code",
   "execution_count": 19,
   "metadata": {
    "collapsed": true
   },
   "outputs": [],
   "source": [
    "train_dataset = CustomDataset()\n",
    "\n",
    "train_loader = torchdata.DataLoader(dataset=train_dataset,\n",
    "                                                      batch_size=BATCH_SIZE, \n",
    "                                                      shuffle=True,\n",
    "                                                      num_workers=2)"
   ]
  },
  {
   "cell_type": "markdown",
   "metadata": {},
   "source": [
    "## Model "
   ]
  },
  {
   "cell_type": "code",
   "execution_count": 20,
   "metadata": {},
   "outputs": [],
   "source": [
    "class NN(nn.Module):\n",
    "    def __init__(self,hidden_size):\n",
    "        super(NN,self).__init__()\n",
    "        self.l1 = nn.Linear(2,hidden_size)\n",
    "        self.l2 = nn.Linear(hidden_size,1)\n",
    "    \n",
    "    def forward(self,inputs):\n",
    "        outputs = F.relu(self.l1(inputs))\n",
    "        return F.sigmoid(self.l2(outputs))"
   ]
  },
  {
   "cell_type": "markdown",
   "metadata": {},
   "source": [
    "## Learning rate scheduling "
   ]
  },
  {
   "cell_type": "markdown",
   "metadata": {},
   "source": [
    "### 1. LambdaLR "
   ]
  },
  {
   "cell_type": "code",
   "execution_count": 37,
   "metadata": {},
   "outputs": [],
   "source": [
    "LR = 0.1\n",
    "model = NN(6)\n",
    "optimizer = optim.Adam(model.parameters(),lr=LR)\n",
    "loss_function = nn.BCELoss()"
   ]
  },
  {
   "cell_type": "code",
   "execution_count": 38,
   "metadata": {},
   "outputs": [
    {
     "name": "stdout",
     "output_type": "stream",
     "text": [
      "0.8054615259170532 [0.1]\n",
      "0.6733381152153015 [4.0]\n",
      "0.7170065641403198 [7.9]\n",
      "0.689446747303009 [11.8]\n"
     ]
    }
   ],
   "source": [
    "lambda1 = lambda epoch: epoch // 10\n",
    "lambda2 = lambda epoch: 0.95 ** epoch\n",
    "scheduler = optim.lr_scheduler.LambdaLR(optimizer, lr_lambda=[lambda1])\n",
    "for epoch in range(100):\n",
    "    \n",
    "    for i,(inputs,targets) in enumerate(train_loader):\n",
    "        model.zero_grad()\n",
    "        pred = model(Variable(inputs))\n",
    "        loss = loss_function(pred,Variable(targets).float())\n",
    "        loss.backward()\n",
    "        scheduler.step()\n",
    "    \n",
    "    if epoch % 30 ==0:\n",
    "        print(loss.data[0],scheduler.get_lr())"
   ]
  },
  {
   "cell_type": "code",
   "execution_count": null,
   "metadata": {
    "collapsed": true
   },
   "outputs": [],
   "source": []
  }
 ],
 "metadata": {
  "kernelspec": {
   "display_name": "Python 3",
   "language": "python",
   "name": "python3"
  },
  "language_info": {
   "codemirror_mode": {
    "name": "ipython",
    "version": 3
   },
   "file_extension": ".py",
   "mimetype": "text/x-python",
   "name": "python",
   "nbconvert_exporter": "python",
   "pygments_lexer": "ipython3",
   "version": "3.5.2"
  }
 },
 "nbformat": 4,
 "nbformat_minor": 2
}
