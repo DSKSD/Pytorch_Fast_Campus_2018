{
 "cells": [
  {
   "cell_type": "code",
   "execution_count": 1,
   "metadata": {
    "collapsed": false
   },
   "outputs": [
    {
     "data": {
      "text/plain": [
       "<torch._C.Generator at 0x7efc1411b710>"
      ]
     },
     "execution_count": 1,
     "metadata": {},
     "output_type": "execute_result"
    }
   ],
   "source": [
    "import torch\n",
    "import torch.nn as nn\n",
    "from torch.autograd import Variable\n",
    "import torch.optim as optim\n",
    "import torch.nn.functional as F\n",
    "import torch.utils.data as torchdata\n",
    "import numpy as np\n",
    "from tensorboardX import SummaryWriter\n",
    "torch.manual_seed(1)"
   ]
  },
  {
   "cell_type": "code",
   "execution_count": 2,
   "metadata": {
    "collapsed": true
   },
   "outputs": [],
   "source": [
    "USE_CUDA = torch.cuda.is_available() # gpu 사용"
   ]
  },
  {
   "cell_type": "markdown",
   "metadata": {},
   "source": [
    "### Weight Decay 데이터"
   ]
  },
  {
   "cell_type": "code",
   "execution_count": 3,
   "metadata": {
    "collapsed": true
   },
   "outputs": [],
   "source": [
    "BATCH_SIZE = 4"
   ]
  },
  {
   "cell_type": "code",
   "execution_count": 4,
   "metadata": {
    "collapsed": true
   },
   "outputs": [],
   "source": [
    "class CustomDataset(torchdata.Dataset):\n",
    "    def __init__(self):\n",
    "        \n",
    "        data = np.loadtxt('./weight_decay_data.csv',\n",
    "                        delimiter=',', dtype=np.float32)\n",
    "        \n",
    "        self.length = data.shape[0]\n",
    "        self.x = torch.Tensor(data[:,:2])\n",
    "        self.y = torch.Tensor(data[:,2]).unsqueeze(1)\n",
    "        \n",
    "    def __getitem__(self, index):\n",
    "        return self.x[index], self.y[index]\n",
    "        \n",
    "    def __len__(self):\n",
    "        return self.length "
   ]
  },
  {
   "cell_type": "code",
   "execution_count": 5,
   "metadata": {
    "collapsed": true
   },
   "outputs": [],
   "source": [
    "train_dataset = CustomDataset()\n",
    "\n",
    "train_loader = torchdata.DataLoader(dataset=train_dataset,\n",
    "                                                      batch_size=BATCH_SIZE, \n",
    "                                                      shuffle=True,\n",
    "                                                      num_workers=2)"
   ]
  },
  {
   "cell_type": "markdown",
   "metadata": {},
   "source": [
    "## Model "
   ]
  },
  {
   "cell_type": "code",
   "execution_count": 6,
   "metadata": {
    "collapsed": true
   },
   "outputs": [],
   "source": [
    "class NN(nn.Module):\n",
    "    def __init__(self,hidden_size):\n",
    "        super(NN,self).__init__()\n",
    "        self.l1 = nn.Linear(2,hidden_size)\n",
    "        self.l2 = nn.Linear(hidden_size,1)\n",
    "    \n",
    "    def forward(self,inputs):\n",
    "        outputs = F.relu(self.l1(inputs))\n",
    "        return F.sigmoid(self.l2(outputs))"
   ]
  },
  {
   "cell_type": "markdown",
   "metadata": {},
   "source": [
    "## Learning rate scheduling "
   ]
  },
  {
   "cell_type": "markdown",
   "metadata": {},
   "source": [
    "### 1. StepLR "
   ]
  },
  {
   "cell_type": "code",
   "execution_count": 7,
   "metadata": {
    "collapsed": true
   },
   "outputs": [],
   "source": [
    "LR = 0.1\n",
    "model = NN(6)\n",
    "optimizer = optim.SGD(model.parameters(),lr=LR)\n",
    "loss_function = nn.BCELoss()"
   ]
  },
  {
   "cell_type": "code",
   "execution_count": 8,
   "metadata": {
    "collapsed": false
   },
   "outputs": [
    {
     "name": "stdout",
     "output_type": "stream",
     "text": [
      "epoch :   0, mean_loss : 0.584, lr : 0.1000 \n",
      "epoch :  30, mean_loss : 0.383, lr : 0.0100 \n",
      "epoch :  60, mean_loss : 0.313, lr : 0.0010 \n",
      "epoch :  90, mean_loss : 0.309, lr : 0.0001 \n"
     ]
    }
   ],
   "source": [
    "scheduler = optim.lr_scheduler.StepLR(optimizer, step_size=30, gamma=0.1)\n",
    "for epoch in range(100):\n",
    "    \n",
    "    losses=[]\n",
    "    for i,(inputs,targets) in enumerate(train_loader):\n",
    "        model.zero_grad()\n",
    "        pred = model(Variable(inputs))\n",
    "        loss = loss_function(pred,Variable(targets))\n",
    "        losses.append(loss.data[0])\n",
    "        loss.backward()\n",
    "        optimizer.step()\n",
    "    scheduler.step()\n",
    "    \n",
    "    if epoch % 30 ==0:\n",
    "        print(\"epoch : %3d, mean_loss : %.3f, lr : %.4f \" % (epoch,np.mean(losses),scheduler.get_lr()[0]))"
   ]
  },
  {
   "cell_type": "markdown",
   "metadata": {
    "collapsed": true
   },
   "source": [
    "### 2. MultiStepLR "
   ]
  },
  {
   "cell_type": "code",
   "execution_count": 9,
   "metadata": {
    "collapsed": true
   },
   "outputs": [],
   "source": [
    "LR = 0.1\n",
    "model = NN(6)\n",
    "optimizer = optim.SGD(model.parameters(),lr=LR)\n",
    "loss_function = nn.BCELoss()"
   ]
  },
  {
   "cell_type": "code",
   "execution_count": 10,
   "metadata": {
    "collapsed": false
   },
   "outputs": [
    {
     "name": "stdout",
     "output_type": "stream",
     "text": [
      "epoch :   0, mean_loss : 0.637, lr : 0.1000 \n",
      "epoch :  10, mean_loss : 0.375, lr : 0.1000 \n",
      "epoch :  20, mean_loss : 0.313, lr : 0.1000 \n",
      "epoch :  30, mean_loss : 0.342, lr : 0.0100 \n",
      "epoch :  40, mean_loss : 0.317, lr : 0.0100 \n",
      "epoch :  50, mean_loss : 0.317, lr : 0.0100 \n",
      "epoch :  60, mean_loss : 0.317, lr : 0.0100 \n",
      "epoch :  70, mean_loss : 0.316, lr : 0.0100 \n",
      "epoch :  80, mean_loss : 0.313, lr : 0.0010 \n",
      "epoch :  90, mean_loss : 0.316, lr : 0.0010 \n"
     ]
    }
   ],
   "source": [
    "scheduler = optim.lr_scheduler.MultiStepLR(optimizer, milestones=[30,80], gamma=0.1)\n",
    "for epoch in range(100):\n",
    "    \n",
    "    losses=[]\n",
    "    for i,(inputs,targets) in enumerate(train_loader):\n",
    "        model.zero_grad()\n",
    "        pred = model(Variable(inputs))\n",
    "        loss = loss_function(pred,Variable(targets))\n",
    "        losses.append(loss.data[0])\n",
    "        loss.backward()\n",
    "        optimizer.step()\n",
    "    scheduler.step()\n",
    "    \n",
    "    if epoch % 10 ==0:\n",
    "        print(\"epoch : %3d, mean_loss : %.3f, lr : %.4f \" % (epoch,np.mean(losses),scheduler.get_lr()[0]))"
   ]
  },
  {
   "cell_type": "code",
   "execution_count": null,
   "metadata": {
    "collapsed": true
   },
   "outputs": [],
   "source": []
  }
 ],
 "metadata": {
  "kernelspec": {
   "display_name": "Python 3",
   "language": "python",
   "name": "python3"
  },
  "language_info": {
   "codemirror_mode": {
    "name": "ipython",
    "version": 3
   },
   "file_extension": ".py",
   "mimetype": "text/x-python",
   "name": "python",
   "nbconvert_exporter": "python",
   "pygments_lexer": "ipython3",
   "version": "3.5.2"
  }
 },
 "nbformat": 4,
 "nbformat_minor": 2
}
