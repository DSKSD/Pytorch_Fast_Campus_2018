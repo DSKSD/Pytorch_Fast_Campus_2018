{
 "cells": [
  {
   "cell_type": "code",
   "execution_count": 1,
   "metadata": {
    "collapsed": false
   },
   "outputs": [
    {
     "data": {
      "text/plain": [
       "<torch._C.Generator at 0x7f87c4048730>"
      ]
     },
     "execution_count": 1,
     "metadata": {},
     "output_type": "execute_result"
    }
   ],
   "source": [
    "import torch\n",
    "import torch.nn as nn\n",
    "from torch.autograd import Variable\n",
    "import torch.optim as optim\n",
    "import torch.nn.functional as F\n",
    "import numpy as np\n",
    "import torchvision.transforms as transforms\n",
    "import torchvision.datasets as vdatasets\n",
    "import torchvision.utils as vutils\n",
    "from tensorboardX import SummaryWriter\n",
    "torch.manual_seed(1)"
   ]
  },
  {
   "cell_type": "code",
   "execution_count": 2,
   "metadata": {
    "collapsed": true
   },
   "outputs": [],
   "source": [
    "USE_CUDA = torch.cuda.is_available() # gpu 사용"
   ]
  },
  {
   "cell_type": "markdown",
   "metadata": {},
   "source": [
    "### MNIST 데이터 "
   ]
  },
  {
   "cell_type": "code",
   "execution_count": 3,
   "metadata": {
    "collapsed": false
   },
   "outputs": [],
   "source": [
    "train_dataset = vdatasets.MNIST(root='../data/',\n",
    "                               train=True, \n",
    "                               transform=transforms.ToTensor(),\n",
    "                               download=True)\n",
    "\n",
    "\n",
    "train_loader = torch.utils.data.DataLoader(dataset=train_dataset,\n",
    "                                           batch_size=64, \n",
    "                                           shuffle=True,\n",
    "                                           num_workers=2)\n",
    "\n",
    "test_dataset = vdatasets.MNIST(root='../data/',\n",
    "                               train=False, \n",
    "                               transform=transforms.ToTensor(),\n",
    "                               download=True)\n",
    "\n",
    "\n",
    "test_loader = torch.utils.data.DataLoader(dataset=test_dataset,\n",
    "                                           batch_size=64, \n",
    "                                           shuffle=True,\n",
    "                                           num_workers=2)"
   ]
  },
  {
   "cell_type": "markdown",
   "metadata": {},
   "source": [
    "### Model "
   ]
  },
  {
   "cell_type": "code",
   "execution_count": 11,
   "metadata": {
    "collapsed": true
   },
   "outputs": [],
   "source": [
    "class NN(nn.Module):\n",
    "    def __init__(self,input_size,hidden_size,output_size,num_layers=1,dropout_p=0.3):\n",
    "        super(NN,self).__init__()\n",
    "        self.layers = nn.Sequential()\n",
    "        \n",
    "        # input layer\n",
    "        self.layers.add_module('input_layer',nn.Linear(input_size,hidden_size))\n",
    "        self.layers.add_module('activation_0',nn.ReLU())\n",
    "        self.layers.add_module('dropout_0',nn.Dropout(dropout_p))\n",
    "        # hidden layers\n",
    "        for l in range(num_layers):\n",
    "            self.layers.add_module('hidden_layer_'+str(l+1),nn.Linear(hidden_size,hidden_size))\n",
    "            self.layers.add_module('activation_'+str(l+1),nn.ReLU())\n",
    "            self.layers.add_module('dropout_'+str(l+1),nn.Dropout(dropout_p))\n",
    "            \n",
    "        # output layer\n",
    "        self.layers.add_module('output_layer',nn.Linear(hidden_size,output_size))\n",
    "        \n",
    "    # weight initialization\n",
    "    def init_weight(self):\n",
    "        for name, param in self.layers.named_parameters():\n",
    "            if 'weight' in name:\n",
    "                param.data = nn.init.xavier_normal(param.data)\n",
    "            elif 'bias' in name:\n",
    "                param.data = nn.init.normal(param.data)\n",
    "        \n",
    "    def forward(self,inputs):\n",
    "        return self.layers(inputs)"
   ]
  },
  {
   "cell_type": "code",
   "execution_count": 12,
   "metadata": {
    "collapsed": true
   },
   "outputs": [],
   "source": [
    "def evaluation(data_loader,model):\n",
    "    model.eval()\n",
    "    loss_function = nn.CrossEntropyLoss(size_average=False)\n",
    "    num_equal=0\n",
    "    losses=0\n",
    "    for i, (inputs, targets) in enumerate(data_loader):\n",
    "        inputs, targets = Variable(inputs).view(-1,784), Variable(targets)\n",
    "        outputs = model(inputs)\n",
    "        losses+=loss_function(outputs,targets).data[0]\n",
    "        outputs = outputs.max(1)[1] # argmax\n",
    "        num_equal += torch.eq(outputs,targets).sum().data[0]\n",
    "    return num_equal/len(data_loader.dataset), losses/len(data_loader.dataset)"
   ]
  },
  {
   "cell_type": "code",
   "execution_count": 36,
   "metadata": {
    "collapsed": false
   },
   "outputs": [],
   "source": [
    "EPOCH=50\n",
    "LR=0.01\n",
    "HIDDEN_SIZE = 1024\n",
    "BATCH_SIZE=64\n",
    "NUM_LAYERS = 2\n",
    "DROPOUT=0.0\n",
    "\n",
    "model = NN(784,HIDDEN_SIZE,10,NUM_LAYERS,DROPOUT)\n",
    "model.init_weight()\n",
    "if USE_CUDA:\n",
    "    model = model.cuda()\n",
    "loss_function = nn.CrossEntropyLoss()\n",
    "optimizer = optim.SGD(model.parameters(), lr=LR)"
   ]
  },
  {
   "cell_type": "code",
   "execution_count": 37,
   "metadata": {
    "collapsed": false
   },
   "outputs": [
    {
     "data": {
      "text/plain": [
       "NN(\n",
       "  (layers): Sequential(\n",
       "    (input_layer): Linear(in_features=784, out_features=1024)\n",
       "    (activation_0): ReLU()\n",
       "    (dropout_0): Dropout(p=0.0)\n",
       "    (hidden_layer_1): Linear(in_features=1024, out_features=1024)\n",
       "    (activation_1): ReLU()\n",
       "    (dropout_1): Dropout(p=0.0)\n",
       "    (hidden_layer_2): Linear(in_features=1024, out_features=1024)\n",
       "    (activation_2): ReLU()\n",
       "    (dropout_2): Dropout(p=0.0)\n",
       "    (output_layer): Linear(in_features=1024, out_features=10)\n",
       "  )\n",
       ")"
      ]
     },
     "execution_count": 37,
     "metadata": {},
     "output_type": "execute_result"
    }
   ],
   "source": [
    "model"
   ]
  },
  {
   "cell_type": "code",
   "execution_count": 38,
   "metadata": {
    "collapsed": false
   },
   "outputs": [
    {
     "name": "stdout",
     "output_type": "stream",
     "text": [
      "[0/50] [000/938] mean_loss : 4.619\n",
      "[0/50] [500/938] mean_loss : 1.055\n",
      "[1/50] [000/938] mean_loss : 0.502\n",
      "[1/50] [500/938] mean_loss : 0.367\n",
      "[2/50] [000/938] mean_loss : 0.359\n",
      "[2/50] [500/938] mean_loss : 0.307\n",
      "[3/50] [000/938] mean_loss : 0.218\n",
      "[3/50] [500/938] mean_loss : 0.279\n",
      "[4/50] [000/938] mean_loss : 0.144\n",
      "[4/50] [500/938] mean_loss : 0.250\n",
      "[5/50] [000/938] mean_loss : 0.273\n",
      "[5/50] [500/938] mean_loss : 0.225\n",
      "[6/50] [000/938] mean_loss : 0.173\n",
      "[6/50] [500/938] mean_loss : 0.205\n",
      "[7/50] [000/938] mean_loss : 0.232\n",
      "[7/50] [500/938] mean_loss : 0.189\n",
      "[8/50] [000/938] mean_loss : 0.146\n",
      "[8/50] [500/938] mean_loss : 0.178\n",
      "[9/50] [000/938] mean_loss : 0.185\n",
      "[9/50] [500/938] mean_loss : 0.164\n",
      "[10/50] [000/938] mean_loss : 0.203\n",
      "[10/50] [500/938] mean_loss : 0.149\n",
      "[11/50] [000/938] mean_loss : 0.258\n",
      "[11/50] [500/938] mean_loss : 0.138\n",
      "[12/50] [000/938] mean_loss : 0.228\n",
      "[12/50] [500/938] mean_loss : 0.129\n",
      "[13/50] [000/938] mean_loss : 0.150\n",
      "[13/50] [500/938] mean_loss : 0.123\n",
      "[14/50] [000/938] mean_loss : 0.120\n",
      "[14/50] [500/938] mean_loss : 0.116\n",
      "[15/50] [000/938] mean_loss : 0.080\n",
      "[15/50] [500/938] mean_loss : 0.111\n",
      "[16/50] [000/938] mean_loss : 0.015\n",
      "[16/50] [500/938] mean_loss : 0.099\n",
      "[17/50] [000/938] mean_loss : 0.083\n",
      "[17/50] [500/938] mean_loss : 0.096\n",
      "[18/50] [000/938] mean_loss : 0.098\n",
      "[18/50] [500/938] mean_loss : 0.092\n",
      "[19/50] [000/938] mean_loss : 0.179\n",
      "[19/50] [500/938] mean_loss : 0.083\n",
      "[20/50] [000/938] mean_loss : 0.149\n",
      "[20/50] [500/938] mean_loss : 0.079\n",
      "[21/50] [000/938] mean_loss : 0.114\n",
      "[21/50] [500/938] mean_loss : 0.077\n",
      "[22/50] [000/938] mean_loss : 0.048\n",
      "[22/50] [500/938] mean_loss : 0.073\n",
      "[23/50] [000/938] mean_loss : 0.033\n",
      "[23/50] [500/938] mean_loss : 0.073\n",
      "[24/50] [000/938] mean_loss : 0.061\n",
      "[24/50] [500/938] mean_loss : 0.066\n",
      "[25/50] [000/938] mean_loss : 0.034\n",
      "[25/50] [500/938] mean_loss : 0.066\n",
      "[26/50] [000/938] mean_loss : 0.016\n",
      "[26/50] [500/938] mean_loss : 0.061\n",
      "[27/50] [000/938] mean_loss : 0.025\n",
      "[27/50] [500/938] mean_loss : 0.057\n",
      "[28/50] [000/938] mean_loss : 0.009\n",
      "[28/50] [500/938] mean_loss : 0.054\n",
      "[29/50] [000/938] mean_loss : 0.028\n",
      "[29/50] [500/938] mean_loss : 0.050\n",
      "[30/50] [000/938] mean_loss : 0.028\n",
      "[30/50] [500/938] mean_loss : 0.052\n",
      "[31/50] [000/938] mean_loss : 0.012\n",
      "[31/50] [500/938] mean_loss : 0.049\n",
      "[32/50] [000/938] mean_loss : 0.030\n",
      "[32/50] [500/938] mean_loss : 0.046\n",
      "[33/50] [000/938] mean_loss : 0.059\n",
      "[33/50] [500/938] mean_loss : 0.044\n",
      "[34/50] [000/938] mean_loss : 0.061\n",
      "[34/50] [500/938] mean_loss : 0.043\n",
      "[35/50] [000/938] mean_loss : 0.054\n",
      "[35/50] [500/938] mean_loss : 0.040\n",
      "[36/50] [000/938] mean_loss : 0.017\n",
      "[36/50] [500/938] mean_loss : 0.040\n",
      "[37/50] [000/938] mean_loss : 0.007\n",
      "[37/50] [500/938] mean_loss : 0.036\n",
      "[38/50] [000/938] mean_loss : 0.025\n",
      "[38/50] [500/938] mean_loss : 0.034\n",
      "[39/50] [000/938] mean_loss : 0.069\n",
      "[39/50] [500/938] mean_loss : 0.034\n",
      "[40/50] [000/938] mean_loss : 0.069\n",
      "[40/50] [500/938] mean_loss : 0.031\n",
      "[41/50] [000/938] mean_loss : 0.055\n",
      "[41/50] [500/938] mean_loss : 0.031\n",
      "[42/50] [000/938] mean_loss : 0.012\n",
      "[42/50] [500/938] mean_loss : 0.030\n",
      "[43/50] [000/938] mean_loss : 0.005\n",
      "[43/50] [500/938] mean_loss : 0.028\n",
      "[44/50] [000/938] mean_loss : 0.015\n",
      "[44/50] [500/938] mean_loss : 0.026\n",
      "[45/50] [000/938] mean_loss : 0.034\n",
      "[45/50] [500/938] mean_loss : 0.026\n",
      "[46/50] [000/938] mean_loss : 0.015\n",
      "[46/50] [500/938] mean_loss : 0.024\n",
      "[47/50] [000/938] mean_loss : 0.030\n",
      "[47/50] [500/938] mean_loss : 0.024\n",
      "[48/50] [000/938] mean_loss : 0.005\n",
      "[48/50] [500/938] mean_loss : 0.022\n",
      "[49/50] [000/938] mean_loss : 0.005\n",
      "[49/50] [500/938] mean_loss : 0.022\n",
      "\n",
      "\n",
      "train accuracy :  0.9947333333333334\n",
      "test accuracy :  0.9775\n",
      "CPU times: user 1h 2min 4s, sys: 22.9 s, total: 1h 2min 26s\n",
      "Wall time: 21min 57s\n"
     ]
    }
   ],
   "source": [
    "%%time\n",
    "model.train()\n",
    "for epoch in range(EPOCH):\n",
    "    losses=[]\n",
    "    for i, (inputs, targets) in enumerate(train_loader):\n",
    "        inputs, targets = Variable(inputs).view(-1,784), Variable(targets)\n",
    "        if USE_CUDA:\n",
    "            inputs = inputs.cuda()\n",
    "            targets = targets.cuda()\n",
    "        model.zero_grad()\n",
    "        outputs = model(inputs)\n",
    "        loss = loss_function(outputs, targets)\n",
    "        loss.backward()\n",
    "        optimizer.step()\n",
    "\n",
    "        losses.append(loss.data[0])\n",
    "        if i % 500 == 0:\n",
    "            print(\"[%d/%d] [%03d/%d] mean_loss : %.3f\" % (epoch,EPOCH,i,len(train_loader),np.mean(losses)))\n",
    "            losses=[]\n",
    "\n",
    "# evaluation\n",
    "train_accuracy, train_loss = evaluation(train_loader,model)\n",
    "test_accuracy, test_loss =evaluation(test_loader,model)\n",
    "\n",
    "print(\"\\n\\ntrain accuracy : \",train_accuracy)\n",
    "print(\"test accuracy : \",test_accuracy)"
   ]
  },
  {
   "cell_type": "code",
   "execution_count": 30,
   "metadata": {
    "collapsed": false
   },
   "outputs": [
    {
     "name": "stdout",
     "output_type": "stream",
     "text": [
      "TensorBoard 0.4.0rc3 at http://dsksd-tf:6006 (Press CTRL+C to quit)\n",
      "^C\n"
     ]
    }
   ],
   "source": [
    "train accuracy :  0.9815666666666667\n",
    "test accuracy :  0.9704\n",
    "    \n",
    "train accuracy :  0.9786\n",
    "test accuracy :  0.972"
   ]
  }
 ],
 "metadata": {
  "kernelspec": {
   "display_name": "Python 3",
   "language": "python",
   "name": "python3"
  },
  "language_info": {
   "codemirror_mode": {
    "name": "ipython",
    "version": 3
   },
   "file_extension": ".py",
   "mimetype": "text/x-python",
   "name": "python",
   "nbconvert_exporter": "python",
   "pygments_lexer": "ipython3",
   "version": "3.5.2"
  }
 },
 "nbformat": 4,
 "nbformat_minor": 2
}
