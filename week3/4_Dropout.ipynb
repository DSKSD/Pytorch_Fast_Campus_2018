{
 "cells": [
  {
   "cell_type": "code",
   "execution_count": 4,
   "metadata": {
    "collapsed": false
   },
   "outputs": [
    {
     "data": {
      "text/plain": [
       "<torch._C.Generator at 0x7fcb2c0f9730>"
      ]
     },
     "execution_count": 4,
     "metadata": {},
     "output_type": "execute_result"
    }
   ],
   "source": [
    "import torch\n",
    "import torch.nn as nn\n",
    "from torch.autograd import Variable\n",
    "import torch.optim as optim\n",
    "import torch.nn.functional as F\n",
    "import numpy as np\n",
    "import torchvision.transforms as transforms\n",
    "import torchvision.datasets as vdatasets\n",
    "import torchvision.utils as vutils\n",
    "from tensorboardX import SummaryWriter\n",
    "torch.manual_seed(1)"
   ]
  },
  {
   "cell_type": "code",
   "execution_count": 5,
   "metadata": {
    "collapsed": true
   },
   "outputs": [],
   "source": [
    "USE_CUDA = torch.cuda.is_available() # gpu 사용"
   ]
  },
  {
   "cell_type": "markdown",
   "metadata": {},
   "source": [
    "### MNIST 데이터 "
   ]
  },
  {
   "cell_type": "code",
   "execution_count": 6,
   "metadata": {
    "collapsed": false
   },
   "outputs": [],
   "source": [
    "train_dataset = vdatasets.MNIST(root='../data/',\n",
    "                               train=True, \n",
    "                               transform=transforms.ToTensor(),\n",
    "                               download=True)\n",
    "\n",
    "\n",
    "train_loader = torch.utils.data.DataLoader(dataset=train_dataset,\n",
    "                                           batch_size=64, \n",
    "                                           shuffle=True,\n",
    "                                           num_workers=2)\n",
    "\n",
    "test_dataset = vdatasets.MNIST(root='../data/',\n",
    "                               train=False, \n",
    "                               transform=transforms.ToTensor(),\n",
    "                               download=True)\n",
    "\n",
    "\n",
    "test_loader = torch.utils.data.DataLoader(dataset=test_dataset,\n",
    "                                           batch_size=64, \n",
    "                                           shuffle=True,\n",
    "                                           num_workers=2)"
   ]
  },
  {
   "cell_type": "markdown",
   "metadata": {},
   "source": [
    "### Model "
   ]
  },
  {
   "cell_type": "code",
   "execution_count": 33,
   "metadata": {
    "collapsed": true
   },
   "outputs": [],
   "source": [
    "class NN(nn.Module):\n",
    "    def __init__(self,input_size,hidden_size,output_size,num_layers=1,dropout_p=0.3):\n",
    "        super(NN,self).__init__()\n",
    "        self.layers = nn.Sequential()\n",
    "        \n",
    "        # input layer\n",
    "        self.layers.add_module('input_layer',nn.Linear(input_size,hidden_size))\n",
    "        self.layers.add_module('activation_0',nn.ReLU())\n",
    "        self.layers.add_module('dropout_0',nn.Dropout(dropout_p))\n",
    "        # hidden layers\n",
    "        for l in range(num_layers):\n",
    "            self.layers.add_module('hidden_layer_'+str(l+1),nn.Linear(hidden_size,hidden_size))\n",
    "            self.layers.add_module('activation_'+str(l+1),nn.ReLU())\n",
    "            self.layers.add_module('dropout_'+str(l+1),nn.Dropout(dropout_p))\n",
    "            \n",
    "        # output layer\n",
    "        self.layers.add_module('output_layer',nn.Linear(hidden_size,output_size))\n",
    "        \n",
    "    # weight initialization\n",
    "    def init_weight(self):\n",
    "        for name, param in self.layers.named_parameters():\n",
    "            if 'weight' in name:\n",
    "                param.data = nn.init.xavier_normal(param.data)\n",
    "            elif 'bias' in name:\n",
    "                param.data = nn.init.normal(param.data)\n",
    "        \n",
    "    def forward(self,inputs):\n",
    "        return self.layers(inputs)"
   ]
  },
  {
   "cell_type": "code",
   "execution_count": 34,
   "metadata": {
    "collapsed": true
   },
   "outputs": [],
   "source": [
    "def evaluation(data_loader,model):\n",
    "    model.eval()\n",
    "    loss_function = nn.CrossEntropyLoss(size_average=False)\n",
    "    num_equal=0\n",
    "    losses=0\n",
    "    for i, (inputs, targets) in enumerate(data_loader):\n",
    "        inputs, targets = Variable(inputs).view(-1,784), Variable(targets)\n",
    "        outputs = model(inputs)\n",
    "        losses+=loss_function(outputs,targets).data[0]\n",
    "        outputs = outputs.max(1)[1] # argmax\n",
    "        num_equal += torch.eq(outputs,targets).sum().data[0]\n",
    "    return num_equal/len(data_loader.dataset), losses/len(data_loader.dataset)"
   ]
  },
  {
   "cell_type": "code",
   "execution_count": 58,
   "metadata": {
    "collapsed": false
   },
   "outputs": [],
   "source": [
    "EPOCH=20\n",
    "LR=0.01\n",
    "HIDDEN_SIZE = 1024\n",
    "BATCH_SIZE=64\n",
    "NUM_LAYERS = 3\n",
    "DROPOUT=0.2\n",
    "\n",
    "model = NN(784,HIDDEN_SIZE,10,NUM_LAYERS,DROPOUT)\n",
    "model.init_weight()\n",
    "if USE_CUDA:\n",
    "    model = model.cuda()\n",
    "loss_function = nn.CrossEntropyLoss()\n",
    "optimizer = optim.SGD(model.parameters(), lr=LR)"
   ]
  },
  {
   "cell_type": "code",
   "execution_count": 59,
   "metadata": {
    "collapsed": false
   },
   "outputs": [
    {
     "data": {
      "text/plain": [
       "NN(\n",
       "  (layers): Sequential(\n",
       "    (input_layer): Linear(in_features=784, out_features=1024)\n",
       "    (activation_0): ReLU()\n",
       "    (dropout_0): Dropout(p=0.2)\n",
       "    (hidden_layer_1): Linear(in_features=1024, out_features=1024)\n",
       "    (activation_1): ReLU()\n",
       "    (dropout_1): Dropout(p=0.2)\n",
       "    (hidden_layer_2): Linear(in_features=1024, out_features=1024)\n",
       "    (activation_2): ReLU()\n",
       "    (dropout_2): Dropout(p=0.2)\n",
       "    (hidden_layer_3): Linear(in_features=1024, out_features=1024)\n",
       "    (activation_3): ReLU()\n",
       "    (dropout_3): Dropout(p=0.2)\n",
       "    (output_layer): Linear(in_features=1024, out_features=10)\n",
       "  )\n",
       ")"
      ]
     },
     "execution_count": 59,
     "metadata": {},
     "output_type": "execute_result"
    }
   ],
   "source": [
    "model"
   ]
  },
  {
   "cell_type": "code",
   "execution_count": 60,
   "metadata": {
    "collapsed": false
   },
   "outputs": [
    {
     "name": "stdout",
     "output_type": "stream",
     "text": [
      "[0/20] [000/938] mean_loss : 3.702\n",
      "[0/20] [500/938] mean_loss : 1.581\n",
      "[1/20] [000/938] mean_loss : 0.670\n",
      "[1/20] [500/938] mean_loss : 0.554\n",
      "[2/20] [000/938] mean_loss : 0.651\n",
      "[2/20] [500/938] mean_loss : 0.424\n",
      "[3/20] [000/938] mean_loss : 0.329\n",
      "[3/20] [500/938] mean_loss : 0.362\n",
      "[4/20] [000/938] mean_loss : 0.346\n",
      "[4/20] [500/938] mean_loss : 0.326\n",
      "[5/20] [000/938] mean_loss : 0.288\n",
      "[5/20] [500/938] mean_loss : 0.297\n",
      "[6/20] [000/938] mean_loss : 0.127\n",
      "[6/20] [500/938] mean_loss : 0.268\n",
      "[7/20] [000/938] mean_loss : 0.320\n",
      "[7/20] [500/938] mean_loss : 0.248\n",
      "[8/20] [000/938] mean_loss : 0.205\n",
      "[8/20] [500/938] mean_loss : 0.234\n",
      "[9/20] [000/938] mean_loss : 0.370\n",
      "[9/20] [500/938] mean_loss : 0.219\n",
      "[10/20] [000/938] mean_loss : 0.212\n",
      "[10/20] [500/938] mean_loss : 0.204\n",
      "[11/20] [000/938] mean_loss : 0.187\n",
      "[11/20] [500/938] mean_loss : 0.193\n",
      "[12/20] [000/938] mean_loss : 0.205\n",
      "[12/20] [500/938] mean_loss : 0.188\n",
      "[13/20] [000/938] mean_loss : 0.359\n",
      "[13/20] [500/938] mean_loss : 0.174\n",
      "[14/20] [000/938] mean_loss : 0.286\n",
      "[14/20] [500/938] mean_loss : 0.165\n",
      "[15/20] [000/938] mean_loss : 0.157\n",
      "[15/20] [500/938] mean_loss : 0.154\n",
      "[16/20] [000/938] mean_loss : 0.131\n",
      "[16/20] [500/938] mean_loss : 0.154\n",
      "[17/20] [000/938] mean_loss : 0.187\n",
      "[17/20] [500/938] mean_loss : 0.150\n",
      "[18/20] [000/938] mean_loss : 0.085\n",
      "[18/20] [500/938] mean_loss : 0.146\n",
      "[19/20] [000/938] mean_loss : 0.029\n",
      "[19/20] [500/938] mean_loss : 0.131\n",
      "\n",
      "\n",
      "train accuracy :  0.9712666666666666\n",
      "test accuracy :  0.967\n",
      "CPU times: user 37min 20s, sys: 11.5 s, total: 37min 32s\n",
      "Wall time: 14min 13s\n"
     ]
    }
   ],
   "source": [
    "%%time\n",
    "model.train()\n",
    "for epoch in range(EPOCH):\n",
    "    losses=[]\n",
    "    for i, (inputs, targets) in enumerate(train_loader):\n",
    "        inputs, targets = Variable(inputs).view(-1,784), Variable(targets)\n",
    "        if USE_CUDA:\n",
    "            inputs = inputs.cuda()\n",
    "            targets = targets.cuda()\n",
    "        model.zero_grad()\n",
    "        outputs = model(inputs)\n",
    "        loss = loss_function(outputs, targets)\n",
    "        loss.backward()\n",
    "        optimizer.step()\n",
    "\n",
    "        losses.append(loss.data[0])\n",
    "        if i % 500 == 0:\n",
    "            print(\"[%d/%d] [%03d/%d] mean_loss : %.3f\" % (epoch,EPOCH,i,len(train_loader),np.mean(losses)))\n",
    "            losses=[]\n",
    "\n",
    "# evaluation\n",
    "train_accuracy, train_loss = evaluation(train_loader,model)\n",
    "test_accuracy, test_loss =evaluation(test_loader,model)\n",
    "\n",
    "print(\"\\n\\ntrain accuracy : \",train_accuracy)\n",
    "print(\"test accuracy : \",test_accuracy)"
   ]
  },
  {
   "cell_type": "code",
   "execution_count": 30,
   "metadata": {
    "collapsed": false
   },
   "outputs": [
    {
     "name": "stdout",
     "output_type": "stream",
     "text": [
      "TensorBoard 0.4.0rc3 at http://dsksd-tf:6006 (Press CTRL+C to quit)\n",
      "^C\n"
     ]
    }
   ],
   "source": [
    "train accuracy :  0.9772\n",
    "test accuracy :  0.9691"
   ]
  }
 ],
 "metadata": {
  "kernelspec": {
   "display_name": "Python 3",
   "language": "python",
   "name": "python3"
  },
  "language_info": {
   "codemirror_mode": {
    "name": "ipython",
    "version": 3
   },
   "file_extension": ".py",
   "mimetype": "text/x-python",
   "name": "python",
   "nbconvert_exporter": "python",
   "pygments_lexer": "ipython3",
   "version": "3.5.2"
  }
 },
 "nbformat": 4,
 "nbformat_minor": 2
}
