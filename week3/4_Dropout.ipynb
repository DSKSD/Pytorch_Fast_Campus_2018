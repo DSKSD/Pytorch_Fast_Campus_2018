{
 "cells": [
  {
   "cell_type": "code",
   "execution_count": 1,
   "metadata": {
    "collapsed": false
   },
   "outputs": [
    {
     "data": {
      "text/plain": [
       "<torch._C.Generator at 0x7fcfecbc1730>"
      ]
     },
     "execution_count": 1,
     "metadata": {},
     "output_type": "execute_result"
    }
   ],
   "source": [
    "import torch\n",
    "import torch.nn as nn\n",
    "from torch.autograd import Variable\n",
    "import torch.optim as optim\n",
    "import torch.nn.functional as F\n",
    "import numpy as np\n",
    "import torchvision.transforms as transforms\n",
    "import torchvision.datasets as vdatasets\n",
    "import torchvision.utils as vutils\n",
    "from tensorboardX import SummaryWriter\n",
    "torch.manual_seed(1)"
   ]
  },
  {
   "cell_type": "code",
   "execution_count": 2,
   "metadata": {
    "collapsed": true
   },
   "outputs": [],
   "source": [
    "USE_CUDA = torch.cuda.is_available() # gpu 사용"
   ]
  },
  {
   "cell_type": "markdown",
   "metadata": {},
   "source": [
    "### MNIST 데이터 "
   ]
  },
  {
   "cell_type": "code",
   "execution_count": 3,
   "metadata": {
    "collapsed": false
   },
   "outputs": [],
   "source": [
    "train_dataset = vdatasets.MNIST(root='../data/',\n",
    "                               train=True, \n",
    "                               transform=transforms.ToTensor(),\n",
    "                               download=True)\n",
    "\n",
    "\n",
    "train_loader = torch.utils.data.DataLoader(dataset=train_dataset,\n",
    "                                           batch_size=64, \n",
    "                                           shuffle=True,\n",
    "                                           num_workers=2)\n",
    "\n",
    "test_dataset = vdatasets.MNIST(root='../data/',\n",
    "                               train=False, \n",
    "                               transform=transforms.ToTensor(),\n",
    "                               download=True)\n",
    "\n",
    "\n",
    "test_loader = torch.utils.data.DataLoader(dataset=test_dataset,\n",
    "                                           batch_size=64, \n",
    "                                           shuffle=True,\n",
    "                                           num_workers=2)"
   ]
  },
  {
   "cell_type": "markdown",
   "metadata": {},
   "source": [
    "### Model "
   ]
  },
  {
   "cell_type": "code",
   "execution_count": 8,
   "metadata": {
    "collapsed": true
   },
   "outputs": [],
   "source": [
    "class NN(nn.Module):\n",
    "    def __init__(self,input_size,hidden_size,output_size,num_layers=1):\n",
    "        super(NN,self).__init__()\n",
    "        self.layers = nn.Sequential()\n",
    "        \n",
    "        # input layer\n",
    "        self.layers.add_module('input_layer',nn.Linear(input_size,hidden_size))\n",
    "        self.layers.add_module('activation',nn.ReLU())\n",
    "        \n",
    "        # hidden layers\n",
    "        for l in range(num_layers):\n",
    "            self.layers.add_module('hidden_layer_'+str(l+1),nn.Linear(hidden_size,hidden_size))\n",
    "            self.layers.add_module('activation_'+str(l+1),nn.ReLU())\n",
    "            \n",
    "        # output layer\n",
    "        self.layers.add_module('output_layer',nn.Linear(hidden_size,output_size))\n",
    "        \n",
    "    def forward(self,inputs):\n",
    "        return self.layers(inputs)"
   ]
  },
  {
   "cell_type": "code",
   "execution_count": 9,
   "metadata": {
    "collapsed": true
   },
   "outputs": [],
   "source": [
    "def evaluation(data_loader,model):\n",
    "    model.eval()\n",
    "    loss_function = nn.CrossEntropyLoss(size_average=False)\n",
    "    num_equal=0\n",
    "    losses=0\n",
    "    for i, (inputs, targets) in enumerate(data_loader):\n",
    "        inputs, targets = Variable(inputs).view(-1,784), Variable(targets)\n",
    "        outputs = model(inputs)\n",
    "        losses+=loss_function(outputs,targets).data[0]\n",
    "        outputs = outputs.max(1)[1] # argmax\n",
    "        num_equal += torch.eq(outputs,targets).sum().data[0]\n",
    "    return num_equal/len(data_loader.dataset), losses/len(data_loader.dataset)"
   ]
  },
  {
   "cell_type": "code",
   "execution_count": 45,
   "metadata": {
    "collapsed": false
   },
   "outputs": [],
   "source": [
    "EPOCH=30\n",
    "LR=0.01\n",
    "HIDDEN_SIZE = 256\n",
    "BATCH_SIZE=64\n",
    "LAMBDA = 0.0001\n",
    "NUM_LAYERS = 4\n",
    "\n",
    "model = NN(784,HIDDEN_SIZE,10,NUM_LAYERS)\n",
    "if USE_CUDA:\n",
    "    model = model.cuda()\n",
    "loss_function = nn.CrossEntropyLoss()\n",
    "optimizer = optim.SGD(model.parameters(), lr=LR, weight_decay=LAMBDA) # L2 norm"
   ]
  },
  {
   "cell_type": "code",
   "execution_count": 46,
   "metadata": {
    "collapsed": false
   },
   "outputs": [
    {
     "data": {
      "text/plain": [
       "NN(\n",
       "  (layers): Sequential(\n",
       "    (input_layer): Linear(in_features=784, out_features=256)\n",
       "    (activation): ReLU()\n",
       "    (hidden_layer_1): Linear(in_features=256, out_features=256)\n",
       "    (activation_1): ReLU()\n",
       "    (hidden_layer_2): Linear(in_features=256, out_features=256)\n",
       "    (activation_2): ReLU()\n",
       "    (hidden_layer_3): Linear(in_features=256, out_features=256)\n",
       "    (activation_3): ReLU()\n",
       "    (hidden_layer_4): Linear(in_features=256, out_features=256)\n",
       "    (activation_4): ReLU()\n",
       "    (output_layer): Linear(in_features=256, out_features=10)\n",
       "  )\n",
       ")"
      ]
     },
     "execution_count": 46,
     "metadata": {},
     "output_type": "execute_result"
    }
   ],
   "source": [
    "model"
   ]
  },
  {
   "cell_type": "code",
   "execution_count": 47,
   "metadata": {
    "collapsed": false
   },
   "outputs": [
    {
     "name": "stdout",
     "output_type": "stream",
     "text": [
      "[0/30] [000/938] mean_loss : 2.302\n",
      "[0/30] [500/938] mean_loss : 2.301\n",
      "[1/30] [000/938] mean_loss : 2.296\n",
      "[1/30] [500/938] mean_loss : 2.298\n",
      "[2/30] [000/938] mean_loss : 2.290\n",
      "[2/30] [500/938] mean_loss : 2.288\n",
      "[3/30] [000/938] mean_loss : 2.239\n",
      "[3/30] [500/938] mean_loss : 2.144\n",
      "[4/30] [000/938] mean_loss : 1.169\n",
      "[4/30] [500/938] mean_loss : 0.910\n",
      "[5/30] [000/938] mean_loss : 0.422\n",
      "[5/30] [500/938] mean_loss : 0.547\n",
      "[6/30] [000/938] mean_loss : 0.340\n",
      "[6/30] [500/938] mean_loss : 0.381\n",
      "[7/30] [000/938] mean_loss : 0.400\n",
      "[7/30] [500/938] mean_loss : 0.304\n",
      "[8/30] [000/938] mean_loss : 0.174\n",
      "[8/30] [500/938] mean_loss : 0.241\n",
      "[9/30] [000/938] mean_loss : 0.202\n",
      "[9/30] [500/938] mean_loss : 0.200\n",
      "[10/30] [000/938] mean_loss : 0.114\n",
      "[10/30] [500/938] mean_loss : 0.168\n",
      "[11/30] [000/938] mean_loss : 0.309\n",
      "[11/30] [500/938] mean_loss : 0.151\n",
      "[12/30] [000/938] mean_loss : 0.150\n",
      "[12/30] [500/938] mean_loss : 0.133\n",
      "[13/30] [000/938] mean_loss : 0.027\n",
      "[13/30] [500/938] mean_loss : 0.115\n",
      "[14/30] [000/938] mean_loss : 0.053\n",
      "[14/30] [500/938] mean_loss : 0.108\n",
      "[15/30] [000/938] mean_loss : 0.035\n",
      "[15/30] [500/938] mean_loss : 0.096\n",
      "[16/30] [000/938] mean_loss : 0.038\n",
      "[16/30] [500/938] mean_loss : 0.086\n",
      "[17/30] [000/938] mean_loss : 0.033\n",
      "[17/30] [500/938] mean_loss : 0.080\n",
      "[18/30] [000/938] mean_loss : 0.200\n",
      "[18/30] [500/938] mean_loss : 0.068\n",
      "[19/30] [000/938] mean_loss : 0.067\n",
      "[19/30] [500/938] mean_loss : 0.067\n",
      "[20/30] [000/938] mean_loss : 0.139\n",
      "[20/30] [500/938] mean_loss : 0.059\n",
      "[21/30] [000/938] mean_loss : 0.043\n",
      "[21/30] [500/938] mean_loss : 0.052\n",
      "[22/30] [000/938] mean_loss : 0.013\n",
      "[22/30] [500/938] mean_loss : 0.051\n",
      "[23/30] [000/938] mean_loss : 0.028\n",
      "[23/30] [500/938] mean_loss : 0.046\n",
      "[24/30] [000/938] mean_loss : 0.120\n",
      "[24/30] [500/938] mean_loss : 0.046\n",
      "[25/30] [000/938] mean_loss : 0.212\n",
      "[25/30] [500/938] mean_loss : 0.038\n",
      "[26/30] [000/938] mean_loss : 0.108\n",
      "[26/30] [500/938] mean_loss : 0.038\n",
      "[27/30] [000/938] mean_loss : 0.271\n",
      "[27/30] [500/938] mean_loss : 0.030\n",
      "[28/30] [000/938] mean_loss : 0.060\n",
      "[28/30] [500/938] mean_loss : 0.028\n",
      "[29/30] [000/938] mean_loss : 0.059\n",
      "[29/30] [500/938] mean_loss : 0.027\n",
      "\n",
      "\n",
      "train accuracy :  0.995\n",
      "test accuracy :  0.9732\n",
      "CPU times: user 10min 24s, sys: 16.8 s, total: 10min 40s\n",
      "Wall time: 4min\n"
     ]
    }
   ],
   "source": [
    "%%time\n",
    "\n",
    "writer = SummaryWriter(comment='-weight-decay-baseline')\n",
    "\n",
    "model.train()\n",
    "for epoch in range(EPOCH):\n",
    "    losses=[]\n",
    "    for i, (inputs, targets) in enumerate(train_loader):\n",
    "        inputs, targets = Variable(inputs).view(-1,784), Variable(targets)\n",
    "        if USE_CUDA:\n",
    "            inputs = inputs.cuda()\n",
    "            targets = targets.cuda()\n",
    "        model.zero_grad()\n",
    "        outputs = model(inputs)\n",
    "        loss = loss_function(outputs, targets)\n",
    "        loss.backward()\n",
    "        optimizer.step()\n",
    "\n",
    "        losses.append(loss.data[0])\n",
    "        if i % 500 == 0:\n",
    "            print(\"[%d/%d] [%03d/%d] mean_loss : %.3f\" % (epoch,EPOCH,i,len(train_loader),np.mean(losses)))\n",
    "            losses=[]\n",
    "\n",
    "# add graph\n",
    "writer.add_graph(model,outputs)\n",
    "\n",
    "# evaluation\n",
    "train_accuracy, train_loss = evaluation(train_loader,model)\n",
    "test_accuracy, test_loss =evaluation(test_loader,model)\n",
    "\n",
    "print(\"\\n\\ntrain accuracy : \",train_accuracy)\n",
    "print(\"test accuracy : \",test_accuracy)"
   ]
  },
  {
   "cell_type": "code",
   "execution_count": 30,
   "metadata": {
    "collapsed": false
   },
   "outputs": [
    {
     "name": "stdout",
     "output_type": "stream",
     "text": [
      "TensorBoard 0.4.0rc3 at http://dsksd-tf:6006 (Press CTRL+C to quit)\n",
      "^C\n"
     ]
    }
   ],
   "source": [
    "!tensorboard --logdir runs"
   ]
  }
 ],
 "metadata": {
  "kernelspec": {
   "display_name": "Python 3",
   "language": "python",
   "name": "python3"
  },
  "language_info": {
   "codemirror_mode": {
    "name": "ipython",
    "version": 3
   },
   "file_extension": ".py",
   "mimetype": "text/x-python",
   "name": "python",
   "nbconvert_exporter": "python",
   "pygments_lexer": "ipython3",
   "version": "3.5.2"
  }
 },
 "nbformat": 4,
 "nbformat_minor": 2
}
