{
 "cells": [
  {
   "cell_type": "code",
   "execution_count": 3,
   "metadata": {
    "collapsed": false
   },
   "outputs": [
    {
     "data": {
      "text/plain": [
       "<torch._C.Generator at 0x7fba44135770>"
      ]
     },
     "execution_count": 3,
     "metadata": {},
     "output_type": "execute_result"
    }
   ],
   "source": [
    "import torch\n",
    "import torch.nn as nn\n",
    "from torch.autograd import Variable\n",
    "import torch.optim as optim\n",
    "import torch.nn.functional as F\n",
    "import numpy as np\n",
    "import torchvision.transforms as transforms\n",
    "import torchvision.datasets as vdatasets\n",
    "import torchvision.utils as vutils\n",
    "torch.manual_seed(1)"
   ]
  },
  {
   "cell_type": "markdown",
   "metadata": {},
   "source": [
    "### Baseline Instruction"
   ]
  },
  {
   "cell_type": "markdown",
   "metadata": {
    "collapsed": true
   },
   "source": [
    "1. MNIST 데이터를 Train, Test 둘 다 로딩하고 데이터 로더를 만든다. (데이터의 path는 \"../../data/MNIST\")\n",
    "2. FFN(Feed forward network)를 모델링하는데\n",
    "  - 데이터의 Input 차원은 784(28*28), Output 차원은 10\n",
    "  - 히든 레이어를 2개를 사용하는데 각각의 차원은 512, 512\n",
    "  - Activation function은 tanh를 사용\n",
    "  - Xavier_normal을 이용해서 weight를 초기화하고, bias는 0.1로 초기화\n",
    "  - Dropout을 마지막 아웃풋을 제외하고 적용한다. (drop probability는 0.3)\n",
    "3. Optimizer는 SGD을 사용하고 learning rate는 각자가 적절한 값으로 사용, 또한 0.00001만큼의 weight decay를 준다\n",
    "4. EPOCH = 10, BATCH_SIZE = 32\n",
    "4. test 데이터셋을 사용해서 accuracy를 측정해본다\n",
    "5. 5번에서 찍어본 accuracy 보다 더 좋은 accuracy를 얻기 위해 위의 설정들을 바꿔본다(더 높은 accuracy를 얻는다면 성공)"
   ]
  },
  {
   "cell_type": "markdown",
   "metadata": {},
   "source": [
    "### TODO"
   ]
  },
  {
   "cell_type": "code",
   "execution_count": null,
   "metadata": {
    "collapsed": true
   },
   "outputs": [],
   "source": []
  },
  {
   "cell_type": "markdown",
   "metadata": {},
   "source": [
    "### Accuracy 측정 "
   ]
  },
  {
   "cell_type": "code",
   "execution_count": 34,
   "metadata": {
    "collapsed": false
   },
   "outputs": [
    {
     "name": "stdout",
     "output_type": "stream",
     "text": [
      "accuracy :  0.9705\n"
     ]
    }
   ],
   "source": [
    "model.eval()\n",
    "num_hit=0\n",
    "for i,(inputs,targets) in enumerate(test_loader):\n",
    "    inputs, targets = Variable(inputs).view(-1,784), Variable(targets)\n",
    "    model.zero_grad()\n",
    "    preds = model(inputs)\n",
    "    preds = preds.max(1)[1]\n",
    "    num_hit += torch.eq(preds,targets).sum().data[0]\n",
    "    \n",
    "print(\"accuracy : \",num_hit / len(test_dataset))"
   ]
  },
  {
   "cell_type": "code",
   "execution_count": null,
   "metadata": {
    "collapsed": true
   },
   "outputs": [],
   "source": []
  }
 ],
 "metadata": {
  "kernelspec": {
   "display_name": "Python 3",
   "language": "python",
   "name": "python3"
  },
  "language_info": {
   "codemirror_mode": {
    "name": "ipython",
    "version": 3
   },
   "file_extension": ".py",
   "mimetype": "text/x-python",
   "name": "python",
   "nbconvert_exporter": "python",
   "pygments_lexer": "ipython3",
   "version": "3.5.2"
  }
 },
 "nbformat": 4,
 "nbformat_minor": 2
}
