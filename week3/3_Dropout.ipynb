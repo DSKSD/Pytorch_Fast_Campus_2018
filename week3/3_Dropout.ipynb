{
 "cells": [
  {
   "cell_type": "code",
   "execution_count": 1,
   "metadata": {
    "collapsed": false
   },
   "outputs": [
    {
     "data": {
      "text/plain": [
       "<torch._C.Generator at 0x7ff6a8071730>"
      ]
     },
     "execution_count": 1,
     "metadata": {},
     "output_type": "execute_result"
    }
   ],
   "source": [
    "import torch\n",
    "import torch.nn as nn\n",
    "from torch.autograd import Variable\n",
    "import torch.optim as optim\n",
    "import torch.nn.functional as F\n",
    "import numpy as np\n",
    "import torchvision.transforms as transforms\n",
    "import torchvision.datasets as vdatasets\n",
    "import torchvision.utils as vutils\n",
    "from tensorboardX import SummaryWriter\n",
    "torch.manual_seed(1)"
   ]
  },
  {
   "cell_type": "code",
   "execution_count": 2,
   "metadata": {
    "collapsed": true
   },
   "outputs": [],
   "source": [
    "USE_CUDA = torch.cuda.is_available() # gpu 사용"
   ]
  },
  {
   "cell_type": "markdown",
   "metadata": {},
   "source": [
    "### MNIST 데이터"
   ]
  },
  {
   "cell_type": "code",
   "execution_count": 5,
   "metadata": {
    "collapsed": true
   },
   "outputs": [],
   "source": [
    "BATCH_SIZE = 64"
   ]
  },
  {
   "cell_type": "code",
   "execution_count": 6,
   "metadata": {
    "collapsed": true
   },
   "outputs": [],
   "source": [
    "train_dataset = vdatasets.MNIST(root='../../data/MNIST/',\n",
    "                               train=True, \n",
    "                               transform=transforms.ToTensor(),\n",
    "                               download=True)\n",
    "\n",
    "\n",
    "train_loader = torch.utils.data.DataLoader(dataset=train_dataset,\n",
    "                                           batch_size=BATCH_SIZE, \n",
    "                                           shuffle=True,\n",
    "                                           num_workers=2)\n",
    "\n",
    "test_dataset = vdatasets.MNIST(root='../../data/MNIST/',\n",
    "                               train=False, \n",
    "                               transform=transforms.ToTensor(),\n",
    "                               download=True)\n",
    "\n",
    "\n",
    "test_loader = torch.utils.data.DataLoader(dataset=test_dataset,\n",
    "                                           batch_size=BATCH_SIZE, \n",
    "                                           shuffle=True,\n",
    "                                           num_workers=2)"
   ]
  },
  {
   "cell_type": "markdown",
   "metadata": {},
   "source": [
    "### Model "
   ]
  },
  {
   "cell_type": "code",
   "execution_count": 26,
   "metadata": {
    "collapsed": false
   },
   "outputs": [
    {
     "data": {
      "text/plain": [
       "NN(\n",
       "  (l1): Linear(in_features=784, out_features=1024)\n",
       "  (l2): Linear(in_features=1024, out_features=1024)\n",
       "  (l3): Linear(in_features=1024, out_features=10)\n",
       "  (dropout): Dropout(p=0.5)\n",
       ")"
      ]
     },
     "execution_count": 26,
     "metadata": {},
     "output_type": "execute_result"
    }
   ],
   "source": [
    "class NN(nn.Module):\n",
    "    def __init__(self,hidden_size,dropout_p=0.5):\n",
    "        super(NN,self).__init__()\n",
    "        self.l1 = nn.Linear(784,hidden_size)\n",
    "        self.l2 = nn.Linear(hidden_size,hidden_size)\n",
    "        self.l3 = nn.Linear(hidden_size,10)\n",
    "        \n",
    "        self.dropout = nn.Dropout(dropout_p)\n",
    "        \n",
    "    def forward(self,inputs):\n",
    "        outputs = F.relu(self.l1(inputs))\n",
    "        outputs = self.dropout(outputs)\n",
    "        outputs = F.relu(self.l2(outputs))\n",
    "        outputs = self.dropout(outputs)\n",
    "        return self.l3(outputs)\n",
    "    \n",
    "model = NN(512)\n",
    "model.train()\n",
    "# 트레이닝 Process\n",
    "\n",
    "model.eval()\n",
    "# 테스트(실제 모델 러닝) Process"
   ]
  },
  {
   "cell_type": "code",
   "execution_count": 42,
   "metadata": {
    "collapsed": true
   },
   "outputs": [],
   "source": [
    "def evaluation(data_loader,model):\n",
    "    model.eval() # for dropout at test time!\n",
    "    loss_function = nn.CrossEntropyLoss(size_average=False)\n",
    "    num_equal=0\n",
    "    losses=0\n",
    "    for i, (inputs, targets) in enumerate(data_loader):\n",
    "        inputs, targets = Variable(inputs).view(-1,784), Variable(targets)\n",
    "        outputs = model(inputs)\n",
    "        losses+=loss_function(outputs,targets).data[0]\n",
    "        outputs = outputs.max(1)[1] # argmax\n",
    "        num_equal += torch.eq(outputs,targets).sum().data[0]\n",
    "    return num_equal/len(data_loader.dataset), losses/len(data_loader.dataset)"
   ]
  },
  {
   "cell_type": "code",
   "execution_count": 72,
   "metadata": {
    "collapsed": false
   },
   "outputs": [],
   "source": [
    "EPOCH=15\n",
    "LR=0.1\n",
    "HIDDEN_SIZE = 256\n",
    "BATCH_SIZE=64\n",
    "NUM_LAYERS = 1\n",
    "DROPOUT=0.5\n",
    "\n",
    "model = NN(HIDDEN_SIZE,DROPOUT)\n",
    "if USE_CUDA:\n",
    "    model = model.cuda()\n",
    "loss_function = nn.CrossEntropyLoss()\n",
    "optimizer = optim.SGD(model.parameters(), lr=LR)"
   ]
  },
  {
   "cell_type": "code",
   "execution_count": 73,
   "metadata": {
    "collapsed": false
   },
   "outputs": [
    {
     "data": {
      "text/plain": [
       "NN(\n",
       "  (l1): Linear(in_features=784, out_features=256)\n",
       "  (l2): Linear(in_features=256, out_features=256)\n",
       "  (l3): Linear(in_features=256, out_features=10)\n",
       "  (dropout): Dropout(p=0.5)\n",
       ")"
      ]
     },
     "execution_count": 73,
     "metadata": {},
     "output_type": "execute_result"
    }
   ],
   "source": [
    "model"
   ]
  },
  {
   "cell_type": "code",
   "execution_count": 74,
   "metadata": {
    "collapsed": false
   },
   "outputs": [
    {
     "name": "stdout",
     "output_type": "stream",
     "text": [
      "[0/15] [000/938] mean_loss : 2.294\n",
      "[0/15] [500/938] mean_loss : 0.824\n",
      "[1/15] [000/938] mean_loss : 0.270\n",
      "[1/15] [500/938] mean_loss : 0.278\n",
      "[2/15] [000/938] mean_loss : 0.267\n",
      "[2/15] [500/938] mean_loss : 0.216\n",
      "[3/15] [000/938] mean_loss : 0.186\n",
      "[3/15] [500/938] mean_loss : 0.173\n",
      "[4/15] [000/938] mean_loss : 0.115\n",
      "[4/15] [500/938] mean_loss : 0.155\n",
      "[5/15] [000/938] mean_loss : 0.226\n",
      "[5/15] [500/938] mean_loss : 0.141\n",
      "[6/15] [000/938] mean_loss : 0.069\n",
      "[6/15] [500/938] mean_loss : 0.128\n",
      "[7/15] [000/938] mean_loss : 0.303\n",
      "[7/15] [500/938] mean_loss : 0.121\n",
      "[8/15] [000/938] mean_loss : 0.070\n",
      "[8/15] [500/938] mean_loss : 0.114\n",
      "[9/15] [000/938] mean_loss : 0.121\n",
      "[9/15] [500/938] mean_loss : 0.105\n",
      "[10/15] [000/938] mean_loss : 0.063\n",
      "[10/15] [500/938] mean_loss : 0.105\n",
      "[11/15] [000/938] mean_loss : 0.133\n",
      "[11/15] [500/938] mean_loss : 0.097\n",
      "[12/15] [000/938] mean_loss : 0.073\n",
      "[12/15] [500/938] mean_loss : 0.093\n",
      "[13/15] [000/938] mean_loss : 0.055\n",
      "[13/15] [500/938] mean_loss : 0.086\n",
      "[14/15] [000/938] mean_loss : 0.059\n",
      "[14/15] [500/938] mean_loss : 0.086\n",
      "\n",
      "\n",
      "train accuracy :  0.9907833333333333\n",
      "test accuracy :  0.9797\n",
      "CPU times: user 4min 53s, sys: 9.85 s, total: 5min 2s\n",
      "Wall time: 2min 2s\n"
     ]
    }
   ],
   "source": [
    "%%time\n",
    "model.train()\n",
    "for epoch in range(EPOCH):\n",
    "    losses=[]\n",
    "    for i, (inputs, targets) in enumerate(train_loader):\n",
    "        inputs, targets = Variable(inputs).view(-1,784), Variable(targets)\n",
    "        if USE_CUDA:\n",
    "            inputs = inputs.cuda()\n",
    "            targets = targets.cuda()\n",
    "        model.zero_grad()\n",
    "        outputs = model(inputs)\n",
    "        loss = loss_function(outputs, targets)\n",
    "        loss.backward()\n",
    "        optimizer.step()\n",
    "\n",
    "        losses.append(loss.data[0])\n",
    "        if i % 500 == 0:\n",
    "            print(\"[%d/%d] [%03d/%d] mean_loss : %.3f\" % (epoch,EPOCH,i,len(train_loader),np.mean(losses)))\n",
    "            losses=[]\n",
    "\n",
    "# evaluation\n",
    "train_accuracy, train_loss = evaluation(train_loader,model)\n",
    "test_accuracy, test_loss =evaluation(test_loader,model)\n",
    "\n",
    "print(\"\\n\\ntrain accuracy : \",train_accuracy)\n",
    "print(\"test accuracy : \",test_accuracy)"
   ]
  },
  {
   "cell_type": "markdown",
   "metadata": {
    "collapsed": true
   },
   "source": [
    "### TODO "
   ]
  },
  {
   "cell_type": "markdown",
   "metadata": {},
   "source": [
    "* Dropout을 사용했을 때와 안했을 때의 차이 비교해보기 (train/test error tradeoff)"
   ]
  },
  {
   "cell_type": "code",
   "execution_count": null,
   "metadata": {
    "collapsed": true
   },
   "outputs": [],
   "source": []
  }
 ],
 "metadata": {
  "kernelspec": {
   "display_name": "Python 3",
   "language": "python",
   "name": "python3"
  },
  "language_info": {
   "codemirror_mode": {
    "name": "ipython",
    "version": 3
   },
   "file_extension": ".py",
   "mimetype": "text/x-python",
   "name": "python",
   "nbconvert_exporter": "python",
   "pygments_lexer": "ipython3",
   "version": "3.5.2"
  }
 },
 "nbformat": 4,
 "nbformat_minor": 2
}
