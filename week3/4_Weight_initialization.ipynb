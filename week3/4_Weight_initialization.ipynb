{
 "cells": [
  {
   "cell_type": "code",
   "execution_count": 1,
   "metadata": {
    "collapsed": false
   },
   "outputs": [
    {
     "data": {
      "text/plain": [
       "<torch._C.Generator at 0x7f29128ad730>"
      ]
     },
     "execution_count": 1,
     "metadata": {},
     "output_type": "execute_result"
    }
   ],
   "source": [
    "import torch\n",
    "import torch.nn as nn\n",
    "from torch.autograd import Variable\n",
    "import torch.optim as optim\n",
    "import torch.nn.functional as F\n",
    "import numpy as np\n",
    "import torchvision.transforms as transforms\n",
    "import torchvision.datasets as vdatasets\n",
    "import torchvision.utils as vutils\n",
    "from tensorboardX import SummaryWriter\n",
    "import pickle,os,shutil\n",
    "torch.manual_seed(1)"
   ]
  },
  {
   "cell_type": "code",
   "execution_count": 2,
   "metadata": {
    "collapsed": true
   },
   "outputs": [],
   "source": [
    "port = pickle.load(open(\"port.info\",\"rb\"))"
   ]
  },
  {
   "cell_type": "code",
   "execution_count": 2,
   "metadata": {
    "collapsed": false
   },
   "outputs": [],
   "source": [
    "# 텐서보드 포트 설정\n",
    "port = pickle.load(open(\"port.info\",\"rb\"))[os.getcwd().split(\"/\")[-2]]\n",
    "\n",
    "# 텐서보드 데이터 파일 초기화\n",
    "try:\n",
    "    shutil.rmtree('runs/')\n",
    "except:\n",
    "    pass"
   ]
  },
  {
   "cell_type": "code",
   "execution_count": 3,
   "metadata": {
    "collapsed": false
   },
   "outputs": [
    {
     "data": {
      "text/plain": [
       "'6006'"
      ]
     },
     "execution_count": 3,
     "metadata": {},
     "output_type": "execute_result"
    }
   ],
   "source": [
    "port"
   ]
  },
  {
   "cell_type": "code",
   "execution_count": 2,
   "metadata": {
    "collapsed": true
   },
   "outputs": [],
   "source": [
    "USE_CUDA = torch.cuda.is_available() # gpu 사용"
   ]
  },
  {
   "cell_type": "code",
   "execution_count": null,
   "metadata": {
    "collapsed": true
   },
   "outputs": [],
   "source": [
    "nn.init."
   ]
  },
  {
   "cell_type": "code",
   "execution_count": 9,
   "metadata": {
    "collapsed": false
   },
   "outputs": [],
   "source": [
    "class NN(nn.Module):\n",
    "    def __init__(self,hidden_size):\n",
    "        super(NN,self).__init__()\n",
    "        self.l1 = nn.Linear(784,hidden_size)\n",
    "        self.l2 = nn.Linear(hidden_size,10)\n",
    "    \n",
    "    def init_weight(self):\n",
    "        for name,param in self.named_parameters():\n",
    "            if 'weight' in name:\n",
    "                #param.data = nn.init.uniform(param.data,0,1)\n",
    "                #param.data = nn.init.normal(param.data,0,1)\n",
    "                #param.data = nn.init.kaiming_normal(param.data)\n",
    "                param.data = nn.init.xavier_normal(param.data)\n",
    "            elif 'bias' in name:\n",
    "                param.data = nn.init.constant(param.data,0.01)\n",
    "                \n",
    "    def forward(self,inputs):\n",
    "        outputs = F.relu(self.l1(inputs))\n",
    "        return self.l2(outputs)\n",
    "    \n",
    "model = NN(1024)\n",
    "model.init_weight()"
   ]
  },
  {
   "cell_type": "markdown",
   "metadata": {
    "collapsed": true
   },
   "source": [
    "### init operations"
   ]
  },
  {
   "cell_type": "code",
   "execution_count": 3,
   "metadata": {
    "collapsed": false
   },
   "outputs": [
    {
     "data": {
      "text/plain": [
       "\n",
       "    0     0\n",
       "    0     0\n",
       "    0     0\n",
       "    0     0\n",
       "    0     0\n",
       "    0     0\n",
       "    0     0\n",
       "    0     0\n",
       "    0     0\n",
       "    0     0\n",
       "[torch.FloatTensor of size 10x2]"
      ]
     },
     "execution_count": 3,
     "metadata": {},
     "output_type": "execute_result"
    }
   ],
   "source": [
    "param = torch.zeros(10,2)\n",
    "\n",
    "param"
   ]
  },
  {
   "cell_type": "code",
   "execution_count": 4,
   "metadata": {
    "collapsed": false
   },
   "outputs": [
    {
     "data": {
      "text/plain": [
       "\n",
       " 0.7576  0.2793\n",
       " 0.4031  0.7347\n",
       " 0.0293  0.7999\n",
       " 0.3971  0.7544\n",
       " 0.5695  0.4388\n",
       " 0.6387  0.5247\n",
       " 0.6826  0.3051\n",
       " 0.4635  0.4550\n",
       " 0.5725  0.4980\n",
       " 0.9371  0.6556\n",
       "[torch.FloatTensor of size 10x2]"
      ]
     },
     "execution_count": 4,
     "metadata": {},
     "output_type": "execute_result"
    }
   ],
   "source": [
    "nn.init.uniform(param,0,1)"
   ]
  },
  {
   "cell_type": "code",
   "execution_count": 5,
   "metadata": {
    "collapsed": false
   },
   "outputs": [
    {
     "data": {
      "text/plain": [
       "\n",
       "-0.8923 -0.0583\n",
       "-0.1955 -0.9656\n",
       " 0.4224  0.2673\n",
       "-0.4212 -0.5107\n",
       "-1.5727 -0.1232\n",
       " 3.5870 -1.8313\n",
       " 1.5987 -1.2770\n",
       " 0.3255 -0.4791\n",
       " 1.3790  2.5286\n",
       " 0.4107 -0.9880\n",
       "[torch.FloatTensor of size 10x2]"
      ]
     },
     "execution_count": 5,
     "metadata": {},
     "output_type": "execute_result"
    }
   ],
   "source": [
    "nn.init.normal(param,0,1)"
   ]
  },
  {
   "cell_type": "code",
   "execution_count": 6,
   "metadata": {
    "collapsed": false
   },
   "outputs": [
    {
     "data": {
      "text/plain": [
       "\n",
       "    2     2\n",
       "    2     2\n",
       "    2     2\n",
       "    2     2\n",
       "    2     2\n",
       "    2     2\n",
       "    2     2\n",
       "    2     2\n",
       "    2     2\n",
       "    2     2\n",
       "[torch.FloatTensor of size 10x2]"
      ]
     },
     "execution_count": 6,
     "metadata": {},
     "output_type": "execute_result"
    }
   ],
   "source": [
    "nn.init.constant(param,2)"
   ]
  },
  {
   "cell_type": "code",
   "execution_count": 7,
   "metadata": {
    "collapsed": false
   },
   "outputs": [
    {
     "data": {
      "text/plain": [
       "\n",
       "-0.4571  0.4593\n",
       " 0.4293  0.6271\n",
       "-0.3964 -0.1164\n",
       "-0.0137  0.1033\n",
       "-0.5366 -0.5018\n",
       " 0.3847 -0.1658\n",
       " 0.3454  0.0403\n",
       " 0.2322  0.1555\n",
       " 0.2571  0.3505\n",
       "-0.6549  0.3559\n",
       "[torch.FloatTensor of size 10x2]"
      ]
     },
     "execution_count": 7,
     "metadata": {},
     "output_type": "execute_result"
    }
   ],
   "source": [
    "nn.init.xavier_uniform(param)"
   ]
  },
  {
   "cell_type": "code",
   "execution_count": 8,
   "metadata": {
    "collapsed": false
   },
   "outputs": [
    {
     "data": {
      "text/plain": [
       "\n",
       " 0.1166  0.2816\n",
       "-0.2584  0.3590\n",
       "-0.2793  0.1851\n",
       " 0.1189 -0.3395\n",
       "-0.2256  0.2594\n",
       "-0.1620 -0.2682\n",
       "-0.6707  0.4002\n",
       "-0.0172 -0.3350\n",
       " 0.1279 -0.4634\n",
       " 0.1540 -0.1153\n",
       "[torch.FloatTensor of size 10x2]"
      ]
     },
     "execution_count": 8,
     "metadata": {},
     "output_type": "execute_result"
    }
   ],
   "source": [
    "nn.init.xavier_normal(param)"
   ]
  },
  {
   "cell_type": "code",
   "execution_count": 9,
   "metadata": {
    "collapsed": false
   },
   "outputs": [
    {
     "data": {
      "text/plain": [
       "\n",
       "-2.5667 -1.4303\n",
       " 0.5009  0.5438\n",
       "-0.4057  1.1341\n",
       "-1.1115  0.3501\n",
       "-0.7703 -0.1473\n",
       " 0.6272  1.0935\n",
       " 0.0939  1.2381\n",
       "-1.3459  0.5119\n",
       "-0.6933 -0.1668\n",
       "-0.9999 -1.6476\n",
       "[torch.FloatTensor of size 10x2]"
      ]
     },
     "execution_count": 9,
     "metadata": {},
     "output_type": "execute_result"
    }
   ],
   "source": [
    "nn.init.kaiming_normal(param)"
   ]
  },
  {
   "cell_type": "code",
   "execution_count": 10,
   "metadata": {
    "collapsed": false
   },
   "outputs": [
    {
     "data": {
      "text/plain": [
       "\n",
       "-1.2943  0.6664\n",
       " 0.5546  1.1218\n",
       "-0.8963  0.3755\n",
       "-0.6306 -0.3891\n",
       "-1.3803 -0.7894\n",
       "-0.5305  0.7407\n",
       " 0.3164  0.4278\n",
       " 1.7288  1.6881\n",
       " 1.1813  0.0552\n",
       "-1.1982  1.3536\n",
       "[torch.FloatTensor of size 10x2]"
      ]
     },
     "execution_count": 10,
     "metadata": {},
     "output_type": "execute_result"
    }
   ],
   "source": [
    "nn.init.kaiming_uniform(param)"
   ]
  },
  {
   "cell_type": "markdown",
   "metadata": {},
   "source": [
    "### weight init 효과 비교 분석 "
   ]
  },
  {
   "cell_type": "code",
   "execution_count": 11,
   "metadata": {
    "collapsed": true
   },
   "outputs": [],
   "source": [
    "INIT_OPS = [None, nn.init.xavier_normal] # weight init 안한거랑 xavier_normal 한 경우\n",
    "EPOCH = 3\n",
    "LR = 0.01\n",
    "BATCH_SIZE=64"
   ]
  },
  {
   "cell_type": "code",
   "execution_count": 12,
   "metadata": {
    "collapsed": true
   },
   "outputs": [],
   "source": [
    "train_dataset = vdatasets.MNIST(root='../../data/MNIST/',\n",
    "                               train=True, \n",
    "                               transform=transforms.ToTensor(),\n",
    "                               download=True)\n",
    "\n",
    "\n",
    "train_loader = torch.utils.data.DataLoader(dataset=train_dataset,\n",
    "                                           batch_size=BATCH_SIZE, \n",
    "                                           shuffle=True,\n",
    "                                           num_workers=2)"
   ]
  },
  {
   "cell_type": "code",
   "execution_count": 21,
   "metadata": {
    "collapsed": false
   },
   "outputs": [
    {
     "name": "stdout",
     "output_type": "stream",
     "text": [
      "None training start!\n",
      "done\n",
      "xavier_normal training start!\n",
      "done\n"
     ]
    }
   ],
   "source": [
    "for INIT_OP in INIT_OPS:\n",
    "    op_name = INIT_OP.__name__ if INIT_OP else \"None\"\n",
    "    writer = SummaryWriter(comment=\"-\"+op_name)\n",
    "\n",
    "    # 모델 선언\n",
    "    model = nn.Sequential(nn.Linear(784,1024),\n",
    "                                  nn.ReLU(),\n",
    "                                  nn.Linear(1024,1024),\n",
    "                                  nn.ReLU(),\n",
    "                                  nn.Linear(1024,10))\n",
    "    \n",
    "    # 초기화\n",
    "    if INIT_OP is not None:\n",
    "        for name,param in model.named_parameters():\n",
    "            if 'weight' in name:\n",
    "                param.data = INIT_OP(param.data)\n",
    "    \n",
    "    if USE_CUDA:\n",
    "        model = model.cuda()\n",
    "    \n",
    "    # 로스 펑션, 옵티마이저\n",
    "    loss_function = nn.CrossEntropyLoss()\n",
    "    optimizer = optim.SGD(model.parameters(),lr=LR)\n",
    "    \n",
    "    # 트레이닝\n",
    "    print(op_name + \" training start!\")\n",
    "    for epoch in range(EPOCH):\n",
    "        for i, (inputs, targets) in enumerate(train_loader):\n",
    "            inputs, targets = Variable(inputs).view(-1,784), Variable(targets)\n",
    "            if USE_CUDA:\n",
    "                inputs = inputs.cuda()\n",
    "                targets = targets.cuda()\n",
    "            model.zero_grad()\n",
    "            outputs = model(inputs)\n",
    "            loss = loss_function(outputs, targets)\n",
    "            loss.backward()\n",
    "            optimizer.step()\n",
    "            \n",
    "            writer.add_scalars('data/weight_init/',{op_name : loss.data[0]},(i+1)+(epoch*len(train_loader)))\n",
    "    print(\"done\")\n",
    "writer.close()"
   ]
  },
  {
   "cell_type": "code",
   "execution_count": 4,
   "metadata": {
    "collapsed": false
   },
   "outputs": [
    {
     "data": {
      "text/plain": [
       "'6006'"
      ]
     },
     "execution_count": 4,
     "metadata": {},
     "output_type": "execute_result"
    }
   ],
   "source": [
    "port"
   ]
  },
  {
   "cell_type": "code",
   "execution_count": 66,
   "metadata": {
    "collapsed": false
   },
   "outputs": [
    {
     "name": "stdout",
     "output_type": "stream",
     "text": [
      "TensorBoard 0.4.0rc3 at http://dsksd-tf:6006 (Press CTRL+C to quit)\n",
      "^C\n"
     ]
    }
   ],
   "source": [
    "!tensorboard --logdir runs --port 6006"
   ]
  },
  {
   "cell_type": "code",
   "execution_count": null,
   "metadata": {
    "collapsed": true
   },
   "outputs": [],
   "source": []
  }
 ],
 "metadata": {
  "kernelspec": {
   "display_name": "Python 3",
   "language": "python",
   "name": "python3"
  },
  "language_info": {
   "codemirror_mode": {
    "name": "ipython",
    "version": 3
   },
   "file_extension": ".py",
   "mimetype": "text/x-python",
   "name": "python",
   "nbconvert_exporter": "python",
   "pygments_lexer": "ipython3",
   "version": "3.5.2"
  }
 },
 "nbformat": 4,
 "nbformat_minor": 2
}
