{
 "cells": [
  {
   "cell_type": "code",
   "execution_count": 1,
   "metadata": {
    "collapsed": false
   },
   "outputs": [
    {
     "data": {
      "text/plain": [
       "<torch._C.Generator at 0x7f3884066730>"
      ]
     },
     "execution_count": 1,
     "metadata": {},
     "output_type": "execute_result"
    }
   ],
   "source": [
    "import torch\n",
    "import torch.nn as nn\n",
    "from torch.autograd import Variable\n",
    "import torch.optim as optim\n",
    "import torch.nn.functional as F\n",
    "import numpy as np\n",
    "import torchvision.transforms as transforms\n",
    "import torchvision.datasets as vdatasets\n",
    "import torchvision.utils as vutils\n",
    "from tensorboardX import SummaryWriter\n",
    "torch.manual_seed(1)"
   ]
  },
  {
   "cell_type": "code",
   "execution_count": 2,
   "metadata": {
    "collapsed": true
   },
   "outputs": [],
   "source": [
    "USE_CUDA = torch.cuda.is_available() # gpu 사용"
   ]
  },
  {
   "cell_type": "markdown",
   "metadata": {
    "collapsed": true
   },
   "source": [
    "### init operations"
   ]
  },
  {
   "cell_type": "code",
   "execution_count": 3,
   "metadata": {
    "collapsed": false
   },
   "outputs": [
    {
     "data": {
      "text/plain": [
       "\n",
       "    0     0\n",
       "    0     0\n",
       "    0     0\n",
       "    0     0\n",
       "    0     0\n",
       "    0     0\n",
       "    0     0\n",
       "    0     0\n",
       "    0     0\n",
       "    0     0\n",
       "[torch.FloatTensor of size 10x2]"
      ]
     },
     "execution_count": 3,
     "metadata": {},
     "output_type": "execute_result"
    }
   ],
   "source": [
    "param = torch.zeros(10,2)\n",
    "\n",
    "param"
   ]
  },
  {
   "cell_type": "code",
   "execution_count": 4,
   "metadata": {
    "collapsed": false
   },
   "outputs": [
    {
     "data": {
      "text/plain": [
       "\n",
       " 0.7576  0.2793\n",
       " 0.4031  0.7347\n",
       " 0.0293  0.7999\n",
       " 0.3971  0.7544\n",
       " 0.5695  0.4388\n",
       " 0.6387  0.5247\n",
       " 0.6826  0.3051\n",
       " 0.4635  0.4550\n",
       " 0.5725  0.4980\n",
       " 0.9371  0.6556\n",
       "[torch.FloatTensor of size 10x2]"
      ]
     },
     "execution_count": 4,
     "metadata": {},
     "output_type": "execute_result"
    }
   ],
   "source": [
    "nn.init.uniform(param,0,1)"
   ]
  },
  {
   "cell_type": "code",
   "execution_count": 5,
   "metadata": {
    "collapsed": false
   },
   "outputs": [
    {
     "data": {
      "text/plain": [
       "\n",
       "-0.8923 -0.0583\n",
       "-0.1955 -0.9656\n",
       " 0.4224  0.2673\n",
       "-0.4212 -0.5107\n",
       "-1.5727 -0.1232\n",
       " 3.5870 -1.8313\n",
       " 1.5987 -1.2770\n",
       " 0.3255 -0.4791\n",
       " 1.3790  2.5286\n",
       " 0.4107 -0.9880\n",
       "[torch.FloatTensor of size 10x2]"
      ]
     },
     "execution_count": 5,
     "metadata": {},
     "output_type": "execute_result"
    }
   ],
   "source": [
    "nn.init.normal(param,0,1)"
   ]
  },
  {
   "cell_type": "code",
   "execution_count": 6,
   "metadata": {
    "collapsed": false
   },
   "outputs": [
    {
     "data": {
      "text/plain": [
       "\n",
       "    2     2\n",
       "    2     2\n",
       "    2     2\n",
       "    2     2\n",
       "    2     2\n",
       "    2     2\n",
       "    2     2\n",
       "    2     2\n",
       "    2     2\n",
       "    2     2\n",
       "[torch.FloatTensor of size 10x2]"
      ]
     },
     "execution_count": 6,
     "metadata": {},
     "output_type": "execute_result"
    }
   ],
   "source": [
    "nn.init.constant(param,2)"
   ]
  },
  {
   "cell_type": "code",
   "execution_count": 33,
   "metadata": {
    "collapsed": false
   },
   "outputs": [
    {
     "data": {
      "text/plain": [
       "\n",
       "-0.3609 -0.4984\n",
       "-0.5859  0.6930\n",
       "-0.1205 -0.1635\n",
       "-0.2600 -0.3537\n",
       "-0.6467 -0.4151\n",
       " 0.4322  0.1550\n",
       "-0.2494 -0.2672\n",
       " 0.4517  0.5097\n",
       " 0.6813  0.2063\n",
       " 0.3416 -0.0568\n",
       "[torch.FloatTensor of size 10x2]"
      ]
     },
     "execution_count": 33,
     "metadata": {},
     "output_type": "execute_result"
    }
   ],
   "source": [
    "nn.init.xavier_uniform(param)"
   ]
  },
  {
   "cell_type": "code",
   "execution_count": 39,
   "metadata": {
    "collapsed": false
   },
   "outputs": [
    {
     "data": {
      "text/plain": [
       "\n",
       "-0.2309 -0.3713\n",
       "-0.1997 -0.2521\n",
       " 0.1566  0.1572\n",
       " 0.3221  0.4639\n",
       "-0.0468 -0.0074\n",
       " 0.0200  0.1744\n",
       "-0.3673  0.2169\n",
       " 0.1647  0.5928\n",
       "-0.9872 -0.4861\n",
       " 0.2843  0.4612\n",
       "[torch.FloatTensor of size 10x2]"
      ]
     },
     "execution_count": 39,
     "metadata": {},
     "output_type": "execute_result"
    }
   ],
   "source": [
    "nn.init.xavier_normal(param)"
   ]
  },
  {
   "cell_type": "code",
   "execution_count": 7,
   "metadata": {
    "collapsed": false
   },
   "outputs": [
    {
     "data": {
      "text/plain": [
       "\n",
       "-0.9081  0.5423\n",
       " 0.1103 -2.2590\n",
       " 0.6067 -0.1383\n",
       " 0.8310 -0.2477\n",
       "-0.8029  0.2366\n",
       " 0.2857  0.6898\n",
       "-0.6331  0.8795\n",
       "-0.6842  0.4533\n",
       " 0.2912 -0.8317\n",
       "-0.5525  0.6355\n",
       "[torch.FloatTensor of size 10x2]"
      ]
     },
     "execution_count": 7,
     "metadata": {},
     "output_type": "execute_result"
    }
   ],
   "source": [
    "nn.init.kaiming_normal(param)"
   ]
  },
  {
   "cell_type": "code",
   "execution_count": 8,
   "metadata": {
    "collapsed": false
   },
   "outputs": [
    {
     "data": {
      "text/plain": [
       "\n",
       " 1.5864 -0.3205\n",
       " 0.9765  0.7500\n",
       "-1.1196 -1.4730\n",
       " 1.6626  0.0904\n",
       " 1.1872  0.3589\n",
       " 0.5571  1.2938\n",
       " 1.6424 -1.1494\n",
       " 0.2166  1.2926\n",
       " 1.2548  1.0760\n",
       "-1.2535 -1.2473\n",
       "[torch.FloatTensor of size 10x2]"
      ]
     },
     "execution_count": 8,
     "metadata": {},
     "output_type": "execute_result"
    }
   ],
   "source": [
    "nn.init.kaiming_uniform(param)"
   ]
  },
  {
   "cell_type": "markdown",
   "metadata": {},
   "source": [
    "### weight init 효과 비교 분석 "
   ]
  },
  {
   "cell_type": "code",
   "execution_count": 42,
   "metadata": {
    "collapsed": true
   },
   "outputs": [],
   "source": [
    "INIT_OPS = [None, nn.init.xavier_uniform] # weight init 안한거랑 xavier_uniform 한 경우\n",
    "EPOCH = 3\n",
    "LR = 0.01\n",
    "BATCH_SIZE=64"
   ]
  },
  {
   "cell_type": "code",
   "execution_count": 43,
   "metadata": {
    "collapsed": true
   },
   "outputs": [],
   "source": [
    "train_dataset = vdatasets.MNIST(root='../data/',\n",
    "                               train=True, \n",
    "                               transform=transforms.ToTensor(),\n",
    "                               download=True)\n",
    "\n",
    "\n",
    "train_loader = torch.utils.data.DataLoader(dataset=train_dataset,\n",
    "                                           batch_size=BATCH_SIZE, \n",
    "                                           shuffle=True,\n",
    "                                           num_workers=2)"
   ]
  },
  {
   "cell_type": "code",
   "execution_count": 65,
   "metadata": {
    "collapsed": false
   },
   "outputs": [
    {
     "name": "stdout",
     "output_type": "stream",
     "text": [
      "None training start!\n",
      "done\n",
      "xavier_uniform training start!\n",
      "done\n"
     ]
    }
   ],
   "source": [
    "for INIT_OP in INIT_OPS:\n",
    "    op_name = INIT_OP.__name__ if INIT_OP else \"None\"\n",
    "    writer = SummaryWriter(comment=\"-\"+op_name)\n",
    "\n",
    "    # 모델 선언\n",
    "    model = nn.Sequential(nn.Linear(784,1024),\n",
    "                                  nn.ReLU(),\n",
    "                                  nn.Linear(1024,1024),\n",
    "                                  nn.ReLU(),\n",
    "                                  nn.Linear(1024,10))\n",
    "    \n",
    "    # 초기화\n",
    "    if INIT_OP is not None:\n",
    "        for name,param in model.named_parameters():\n",
    "            if 'weight' in name:\n",
    "                param.data = INIT_OP(param.data)\n",
    "    \n",
    "    if USE_CUDA:\n",
    "        model = model.cuda()\n",
    "    \n",
    "    # 로스 펑션, 옵티마이저\n",
    "    loss_function = nn.CrossEntropyLoss()\n",
    "    optimizer = optim.SGD(model.parameters(),lr=LR)\n",
    "    \n",
    "    # 트레이닝\n",
    "    print(op_name + \" training start!\")\n",
    "    for epoch in range(EPOCH):\n",
    "        for i, (inputs, targets) in enumerate(train_loader):\n",
    "            inputs, targets = Variable(inputs).view(-1,784), Variable(targets)\n",
    "            if USE_CUDA:\n",
    "                inputs = inputs.cuda()\n",
    "                targets = targets.cuda()\n",
    "            model.zero_grad()\n",
    "            outputs = model(inputs)\n",
    "            loss = loss_function(outputs, targets)\n",
    "            loss.backward()\n",
    "            optimizer.step()\n",
    "            \n",
    "            writer.add_scalars('data/weight_init/',{op_name : loss.data[0]},(i+1)+(epoch*len(train_loader))\n",
    "    print(\"done\")\n",
    "writer.close()"
   ]
  },
  {
   "cell_type": "code",
   "execution_count": 66,
   "metadata": {
    "collapsed": false
   },
   "outputs": [
    {
     "name": "stdout",
     "output_type": "stream",
     "text": [
      "TensorBoard 0.4.0rc3 at http://dsksd-tf:6006 (Press CTRL+C to quit)\n",
      "^C\n"
     ]
    }
   ],
   "source": [
    "!tensorboard --logdir runs"
   ]
  },
  {
   "cell_type": "code",
   "execution_count": null,
   "metadata": {
    "collapsed": true
   },
   "outputs": [],
   "source": []
  }
 ],
 "metadata": {
  "kernelspec": {
   "display_name": "Python 3",
   "language": "python",
   "name": "python3"
  },
  "language_info": {
   "codemirror_mode": {
    "name": "ipython",
    "version": 3
   },
   "file_extension": ".py",
   "mimetype": "text/x-python",
   "name": "python",
   "nbconvert_exporter": "python",
   "pygments_lexer": "ipython3",
   "version": "3.5.2"
  }
 },
 "nbformat": 4,
 "nbformat_minor": 2
}
