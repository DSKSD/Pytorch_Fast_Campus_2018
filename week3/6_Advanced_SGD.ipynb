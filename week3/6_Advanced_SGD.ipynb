{
 "cells": [
  {
   "cell_type": "code",
   "execution_count": 1,
   "metadata": {
    "collapsed": false
   },
   "outputs": [
    {
     "data": {
      "text/plain": [
       "<torch._C.Generator at 0x7fc3980a8730>"
      ]
     },
     "execution_count": 1,
     "metadata": {},
     "output_type": "execute_result"
    }
   ],
   "source": [
    "import torch\n",
    "import torch.nn as nn\n",
    "from torch.autograd import Variable\n",
    "import torch.optim as optim\n",
    "import torch.nn.functional as F\n",
    "import numpy as np\n",
    "import torchvision.transforms as transforms\n",
    "import torchvision.datasets as vdatasets\n",
    "import torchvision.utils as vutils\n",
    "from tensorboardX import SummaryWriter\n",
    "import pickle,os,shutil\n",
    "torch.manual_seed(1)"
   ]
  },
  {
   "cell_type": "code",
   "execution_count": 12,
   "metadata": {
    "collapsed": true
   },
   "outputs": [],
   "source": [
    "# 텐서보드 포트 설정\n",
    "port = pickle.load(open(\"port.info\",\"rb\"))[os.getcwd().split(\"/\")[-2]]\n",
    "\n",
    "# 텐서보드 데이터 파일 초기화\n",
    "try:\n",
    "    shutil.rmtree('runs/')\n",
    "except:\n",
    "    pass"
   ]
  },
  {
   "cell_type": "code",
   "execution_count": 3,
   "metadata": {
    "collapsed": true
   },
   "outputs": [],
   "source": [
    "USE_CUDA = torch.cuda.is_available() # gpu 사용"
   ]
  },
  {
   "cell_type": "markdown",
   "metadata": {},
   "source": [
    "### MNIST 데이터"
   ]
  },
  {
   "cell_type": "code",
   "execution_count": 4,
   "metadata": {
    "collapsed": true
   },
   "outputs": [],
   "source": [
    "BATCH_SIZE = 64"
   ]
  },
  {
   "cell_type": "code",
   "execution_count": 7,
   "metadata": {
    "collapsed": false
   },
   "outputs": [],
   "source": [
    "train_dataset = vdatasets.MNIST(root='../../data/MNIST/',\n",
    "                               train=True, \n",
    "                               transform=transforms.ToTensor(),\n",
    "                               download=True)\n",
    "\n",
    "\n",
    "train_loader = torch.utils.data.DataLoader(dataset=train_dataset,\n",
    "                                           batch_size=BATCH_SIZE, \n",
    "                                           shuffle=True,\n",
    "                                           num_workers=2)\n",
    "\n",
    "test_dataset = vdatasets.MNIST(root='../../data/MNIST/',\n",
    "                               train=False, \n",
    "                               transform=transforms.ToTensor(),\n",
    "                               download=True)\n",
    "\n",
    "\n",
    "test_loader = torch.utils.data.DataLoader(dataset=test_dataset,\n",
    "                                           batch_size=BATCH_SIZE, \n",
    "                                           shuffle=True,\n",
    "                                           num_workers=2)"
   ]
  },
  {
   "cell_type": "markdown",
   "metadata": {},
   "source": [
    "### Model "
   ]
  },
  {
   "cell_type": "code",
   "execution_count": 8,
   "metadata": {
    "collapsed": false
   },
   "outputs": [
    {
     "data": {
      "text/plain": [
       "NN(\n",
       "  (l1): Linear(in_features=784, out_features=512)\n",
       "  (l2): Linear(in_features=512, out_features=512)\n",
       "  (l3): Linear(in_features=512, out_features=10)\n",
       "  (bn1): BatchNorm1d(512, eps=1e-05, momentum=0.1, affine=True)\n",
       "  (bn2): BatchNorm1d(512, eps=1e-05, momentum=0.1, affine=True)\n",
       ")"
      ]
     },
     "execution_count": 8,
     "metadata": {},
     "output_type": "execute_result"
    }
   ],
   "source": [
    "class NN(nn.Module):\n",
    "    def __init__(self,hidden_size):\n",
    "        super(NN,self).__init__()\n",
    "        self.l1 = nn.Linear(784,hidden_size)\n",
    "        self.l2 = nn.Linear(hidden_size,hidden_size)\n",
    "        self.l3 = nn.Linear(hidden_size,10)\n",
    "        \n",
    "        # In : (배치사이즈, 차원수) => Out : (배치사이즈, 차원수)\n",
    "        self.bn1 = nn.BatchNorm1d(hidden_size) \n",
    "        self.bn2 = nn.BatchNorm1d(hidden_size)\n",
    "    def forward(self,inputs):\n",
    "        outputs = self.bn1(self.l1(inputs))\n",
    "        outputs = F.relu(outputs)\n",
    "        outputs = self.bn2(self.l2(outputs))\n",
    "        outputs = F.relu(outputs)\n",
    "        return self.l3(outputs)\n",
    "    \n",
    "model = NN(512)\n",
    "model.train()\n",
    "# 트레이닝 Process\n",
    "\n",
    "model.eval()\n",
    "# 테스트(실제 모델 러닝) Process"
   ]
  },
  {
   "cell_type": "markdown",
   "metadata": {},
   "source": [
    "### Optimizer "
   ]
  },
  {
   "cell_type": "code",
   "execution_count": 9,
   "metadata": {
    "collapsed": true
   },
   "outputs": [],
   "source": [
    "LR=0.1\n",
    "\n",
    "sgd_momentum = optim.SGD(model.parameters(),lr=LR,momentum=0.9)\n",
    "sgd_nesterov_momentum = optim.SGD(model.parameters(),lr=LR,momentum=0.9,nesterov=True)\n",
    "\n",
    "adagrad = optim.Adagrad(model.parameters(),lr=LR)\n",
    "rmsprop = optim.RMSprop(model.parameters(),lr=LR,alpha=0.99)\n",
    "adam = optim.Adam(model.parameters(),lr=LR,betas=(0.9,0.999))"
   ]
  },
  {
   "cell_type": "markdown",
   "metadata": {},
   "source": [
    "###  "
   ]
  },
  {
   "cell_type": "code",
   "execution_count": 13,
   "metadata": {
    "collapsed": false
   },
   "outputs": [
    {
     "name": "stdout",
     "output_type": "stream",
     "text": [
      "sgd training start!\n",
      "done\n",
      "sgd_nesterov_momentum training start!\n",
      "done\n"
     ]
    }
   ],
   "source": [
    "EPOCH=5\n",
    "LR=0.1\n",
    "HIDDEN_SIZE = 512\n",
    "OPTIM_OPS = [\"sgd\", \"sgd_nesterov_momentum\"] \n",
    "\n",
    "for op_name in OPTIM_OPS:\n",
    "    writer = SummaryWriter(comment=\"-\"+op_name)\n",
    "    \n",
    "    model = NN(HIDDEN_SIZE)\n",
    "    if USE_CUDA:\n",
    "        model = model.cuda()\n",
    "    loss_function = nn.CrossEntropyLoss()\n",
    "    \n",
    "    # Optimizer 선언\n",
    "    if op_name==\"sgd\":\n",
    "        optimizer = optim.SGD(model.parameters(),lr=LR)\n",
    "    elif op_name==\"sgd_nesterov_momentum\":\n",
    "        optimizer = optim.SGD(model.parameters(),lr=LR,momentum=0.9,nesterov=True)\n",
    "\n",
    "    \n",
    "    # 트레이닝\n",
    "    print(op_name + \" training start!\")\n",
    "    for epoch in range(EPOCH):\n",
    "        for i, (inputs, targets) in enumerate(train_loader):\n",
    "            inputs, targets = Variable(inputs).view(-1,784), Variable(targets)\n",
    "            if USE_CUDA:\n",
    "                inputs = inputs.cuda()\n",
    "                targets = targets.cuda()\n",
    "            model.zero_grad()\n",
    "            outputs = model(inputs)\n",
    "            loss = loss_function(outputs, targets)\n",
    "            loss.backward()\n",
    "            optimizer.step()\n",
    "            \n",
    "            writer.add_scalars('data/optimizer/',{op_name : loss.data[0]},(i+1)+(epoch*len(train_loader)))\n",
    "    print(\"done\")\n",
    "writer.close()"
   ]
  },
  {
   "cell_type": "code",
   "execution_count": 14,
   "metadata": {
    "collapsed": false
   },
   "outputs": [
    {
     "name": "stdout",
     "output_type": "stream",
     "text": [
      "TensorBoard 0.4.0rc3 at http://dsksd-tf:6006 (Press CTRL+C to quit)\n",
      "^C\n"
     ]
    }
   ],
   "source": [
    "!tensorboard --logdir runs --port 6006"
   ]
  },
  {
   "cell_type": "code",
   "execution_count": null,
   "metadata": {
    "collapsed": true
   },
   "outputs": [],
   "source": []
  }
 ],
 "metadata": {
  "kernelspec": {
   "display_name": "Python 3",
   "language": "python",
   "name": "python3"
  },
  "language_info": {
   "codemirror_mode": {
    "name": "ipython",
    "version": 3
   },
   "file_extension": ".py",
   "mimetype": "text/x-python",
   "name": "python",
   "nbconvert_exporter": "python",
   "pygments_lexer": "ipython3",
   "version": "3.5.2"
  }
 },
 "nbformat": 4,
 "nbformat_minor": 2
}
