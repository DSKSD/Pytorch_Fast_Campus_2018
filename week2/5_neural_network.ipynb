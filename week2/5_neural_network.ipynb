{
 "cells": [
  {
   "cell_type": "code",
   "execution_count": 3,
   "metadata": {
    "collapsed": true
   },
   "outputs": [],
   "source": [
    "import torch\n",
    "import torch.nn as nn\n",
    "from torch.autograd import Variable\n",
    "import torch.optim as optim\n",
    "import torch.nn.functional as F\n",
    "import numpy as np\n",
    "import torchvision.transforms as transforms\n",
    "import torchvision.datasets as vision_datasets\n",
    "\n",
    "torch.manual_seed(1)\n",
    "import matplotlib.pyplot as plt\n",
    "%matplotlib inline"
   ]
  },
  {
   "cell_type": "markdown",
   "metadata": {},
   "source": [
    "### Load MNIST dataset"
   ]
  },
  {
   "cell_type": "code",
   "execution_count": 12,
   "metadata": {
    "collapsed": false
   },
   "outputs": [],
   "source": [
    "train_dataset = vision_datasets.MNIST(root='../data/',\n",
    "                               train=True, \n",
    "                               transform=transforms.ToTensor(),\n",
    "                               download=True)\n",
    "\n",
    "\n",
    "train_loader = torch.utils.data.DataLoader(dataset=train_dataset,\n",
    "                                           batch_size=64, \n",
    "                                           shuffle=True,\n",
    "                                           num_workers=2)"
   ]
  },
  {
   "cell_type": "markdown",
   "metadata": {},
   "source": [
    "### 모델링"
   ]
  },
  {
   "cell_type": "code",
   "execution_count": 8,
   "metadata": {
    "collapsed": false
   },
   "outputs": [],
   "source": [
    "ACTIVATION_FUNCTION = F.relu # F.sigmoid F.tanh ..."
   ]
  },
  {
   "cell_type": "code",
   "execution_count": 21,
   "metadata": {
    "collapsed": true
   },
   "outputs": [],
   "source": [
    "class NN(nn.Module):\n",
    "    def __init__(self,input_size,hidden_size,output_size):\n",
    "        super(NN,self).__init__()\n",
    "        \n",
    "        self.l1 = nn.Linear(input_size,hidden_size)\n",
    "        self.l2 = nn.Linear(hidden_size,hidden_size)\n",
    "        self.l3 = nn.Linear(hidden_size,output_size)\n",
    "        \n",
    "    def forward(self,inputs):\n",
    "        inputs = ACTIVATION_FUNCTION(self.l1(inputs))\n",
    "        inputs = ACTIVATION_FUNCTION(self.l2(inputs))\n",
    "        return self.l3(inputs)"
   ]
  },
  {
   "cell_type": "code",
   "execution_count": 28,
   "metadata": {
    "collapsed": true
   },
   "outputs": [],
   "source": [
    "STEP=3\n",
    "LR=0.01\n",
    "BATCH_SIZE=64\n",
    "\n",
    "model = NN(784,1024,10)\n",
    "loss_function = nn.CrossEntropyLoss() # 소프트맥스 함수 포함하고 있음\n",
    "optimizer = optim.SGD(model.parameters(), lr=LR)"
   ]
  },
  {
   "cell_type": "markdown",
   "metadata": {},
   "source": [
    "$$loss(x, class) = -log(exp(x[class]) / (\\sum_j exp(x[j])))\n",
    " |                     = -x[class] + log(\\sum_j exp(x[j]))$$"
   ]
  },
  {
   "cell_type": "markdown",
   "metadata": {},
   "source": [
    "### 트레이닝 "
   ]
  },
  {
   "cell_type": "code",
   "execution_count": 29,
   "metadata": {
    "collapsed": false
   },
   "outputs": [
    {
     "name": "stdout",
     "output_type": "stream",
     "text": [
      "[0/3] [000/937] mean_loss : 2.303\n",
      "[0/3] [100/937] mean_loss : 2.268\n",
      "[0/3] [200/937] mean_loss : 2.180\n",
      "[0/3] [300/937] mean_loss : 2.029\n",
      "[0/3] [400/937] mean_loss : 1.785\n",
      "[0/3] [500/937] mean_loss : 1.431\n",
      "[0/3] [600/937] mean_loss : 1.110\n",
      "[0/3] [700/937] mean_loss : 0.888\n",
      "[0/3] [800/937] mean_loss : 0.757\n",
      "[0/3] [900/937] mean_loss : 0.666\n",
      "[1/3] [000/937] mean_loss : 0.504\n",
      "[1/3] [100/937] mean_loss : 0.590\n",
      "[1/3] [200/937] mean_loss : 0.523\n",
      "[1/3] [300/937] mean_loss : 0.495\n",
      "[1/3] [400/937] mean_loss : 0.476\n",
      "[1/3] [500/937] mean_loss : 0.464\n",
      "[1/3] [600/937] mean_loss : 0.445\n",
      "[1/3] [700/937] mean_loss : 0.417\n",
      "[1/3] [800/937] mean_loss : 0.396\n",
      "[1/3] [900/937] mean_loss : 0.390\n",
      "[2/3] [000/937] mean_loss : 0.495\n",
      "[2/3] [100/937] mean_loss : 0.392\n",
      "[2/3] [200/937] mean_loss : 0.383\n",
      "[2/3] [300/937] mean_loss : 0.358\n",
      "[2/3] [400/937] mean_loss : 0.372\n",
      "[2/3] [500/937] mean_loss : 0.351\n",
      "[2/3] [600/937] mean_loss : 0.346\n",
      "[2/3] [700/937] mean_loss : 0.338\n",
      "[2/3] [800/937] mean_loss : 0.341\n",
      "[2/3] [900/937] mean_loss : 0.325\n"
     ]
    }
   ],
   "source": [
    "for step in range(STEP):\n",
    "    losses=[]\n",
    "    for i, (inputs, targets) in enumerate(train_loader):\n",
    "        inputs, targets = Variable(inputs).view(-1,784), Variable(targets)\n",
    "        model.zero_grad()\n",
    "        outputs = model(inputs)\n",
    "        loss = loss_function(outputs, targets)\n",
    "        loss.backward()\n",
    "        optimizer.step()\n",
    "\n",
    "        losses.append(loss.data[0])\n",
    "        if i % 100 == 0:\n",
    "            print(\"[%d/%d] [%03d/%d] mean_loss : %.3f\" % (step,STEP,i,len(train_dataset)//BATCH_SIZE,np.mean(losses)))\n",
    "            losses=[]"
   ]
  },
  {
   "cell_type": "markdown",
   "metadata": {
    "collapsed": true
   },
   "source": [
    "트레이닝 방법론 미리 소개.. "
   ]
  },
  {
   "cell_type": "code",
   "execution_count": null,
   "metadata": {
    "collapsed": true
   },
   "outputs": [],
   "source": []
  }
 ],
 "metadata": {
  "kernelspec": {
   "display_name": "Python 3",
   "language": "python",
   "name": "python3"
  },
  "language_info": {
   "codemirror_mode": {
    "name": "ipython",
    "version": 3
   },
   "file_extension": ".py",
   "mimetype": "text/x-python",
   "name": "python",
   "nbconvert_exporter": "python",
   "pygments_lexer": "ipython3",
   "version": "3.5.2"
  }
 },
 "nbformat": 4,
 "nbformat_minor": 2
}
