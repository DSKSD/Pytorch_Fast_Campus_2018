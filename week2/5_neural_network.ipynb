{
 "cells": [
  {
   "cell_type": "code",
   "execution_count": 2,
   "metadata": {
    "collapsed": true
   },
   "outputs": [],
   "source": [
    "import torch\n",
    "import torch.nn as nn\n",
    "from torch.autograd import Variable\n",
    "import torch.optim as optim\n",
    "import torch.nn.functional as F\n",
    "import numpy as np\n",
    "import torchvision.transforms as transforms\n",
    "import torchvision.datasets as vdatasets\n",
    "\n",
    "torch.manual_seed(1)\n",
    "import matplotlib.pyplot as plt\n",
    "%matplotlib inline"
   ]
  },
  {
   "cell_type": "markdown",
   "metadata": {},
   "source": [
    "### Softmax "
   ]
  },
  {
   "cell_type": "markdown",
   "metadata": {},
   "source": [
    "$$softmax(x) = \\frac{exp(x_i)}{\\sum_j exp(x_j)}$$"
   ]
  },
  {
   "cell_type": "code",
   "execution_count": 6,
   "metadata": {},
   "outputs": [
    {
     "name": "stdout",
     "output_type": "stream",
     "text": [
      "\n",
      " 0.6590\n",
      " 0.2424\n",
      " 0.0986\n",
      "[torch.FloatTensor of size 3]\n",
      "\n",
      "0.9999999552965164\n",
      "\n",
      "Variable containing:\n",
      " 0.6590\n",
      " 0.2424\n",
      " 0.0986\n",
      "[torch.FloatTensor of size 3]\n",
      "\n",
      "Variable containing:\n",
      " 1.0000\n",
      "[torch.FloatTensor of size 1]\n",
      "\n"
     ]
    }
   ],
   "source": [
    "z = torch.Tensor([2.0,1.0,0.1])\n",
    "\n",
    "def softmax(z):\n",
    "    exps = torch.exp(z)\n",
    "    return exps / torch.sum(exps)\n",
    "\n",
    "print(softmax(z))\n",
    "print(torch.sum(softmax(z)))\n",
    "print(\"\")\n",
    "\n",
    "res = F.softmax(Variable(z),0) \n",
    "print(res)                  \n",
    "print(torch.sum(res)) "
   ]
  },
  {
   "cell_type": "markdown",
   "metadata": {},
   "source": [
    "### Cross entropy "
   ]
  },
  {
   "cell_type": "markdown",
   "metadata": {},
   "source": [
    "$$H(p,q)=-\\sum_xp(x)logq(x)$$"
   ]
  },
  {
   "cell_type": "code",
   "execution_count": 33,
   "metadata": {},
   "outputs": [
    {
     "name": "stdout",
     "output_type": "stream",
     "text": [
      "0.3566749691963196\n",
      "4.605170249938965\n",
      "0.41703000664711\n",
      "1.4170299768447876\n"
     ]
    }
   ],
   "source": [
    "predict_1 = torch.Tensor([0.7,0.2,0.1])\n",
    "predict_2 = torch.Tensor([0.01,0.9,0.99])\n",
    "\n",
    "target = torch.Tensor([1.0,0.,0.])\n",
    "\n",
    "def cross_entropy(q,p):\n",
    "    return -torch.sum(p*torch.log(q))\n",
    "\n",
    "print(cross_entropy(predict_1,target)) # 옳게 예측 -> low loss(cost)\n",
    "print(cross_entropy(predict_2,target)) # 틀리게 예측 --> high loss(cost)\n",
    "\n",
    "# in practical \n",
    "\n",
    "predict_1  = torch.Tensor([2.,1.,0.1])\n",
    "predict_2 = torch.Tensor([1.,2.,0.1])\n",
    "target = torch.LongTensor([0])\n",
    "\n",
    "loss_function = nn.CrossEntropyLoss() # softmax 연산을 포함하고 있음\n",
    "loss1 = loss_function(Variable(predict_1).view(1,-1),Variable(target))\n",
    "loss2 = loss_function(Variable(predict_2).view(1,-1),Variable(target))\n",
    "\n",
    "print(loss1.data[0])\n",
    "print(loss2.data[0])"
   ]
  },
  {
   "cell_type": "markdown",
   "metadata": {},
   "source": [
    "### MNIST dataset"
   ]
  },
  {
   "cell_type": "code",
   "execution_count": 2,
   "metadata": {
    "collapsed": true
   },
   "outputs": [],
   "source": [
    "train_dataset = vdatasets.MNIST(root='../data/',\n",
    "                               train=True, \n",
    "                               transform=transforms.ToTensor(),\n",
    "                               download=True)\n",
    "\n",
    "\n",
    "train_loader = torch.utils.data.DataLoader(dataset=train_dataset,\n",
    "                                           batch_size=64, \n",
    "                                           shuffle=True,\n",
    "                                           num_workers=2)\n",
    "\n",
    "test_dataset = vdatasets.MNIST(root='../data/',\n",
    "                               train=False, \n",
    "                               transform=transforms.ToTensor(),\n",
    "                               download=True)\n",
    "\n",
    "\n",
    "test_loader = torch.utils.data.DataLoader(dataset=test_dataset,\n",
    "                                           batch_size=64, \n",
    "                                           shuffle=True,\n",
    "                                           num_workers=2)"
   ]
  },
  {
   "cell_type": "markdown",
   "metadata": {},
   "source": [
    "### 모델링"
   ]
  },
  {
   "cell_type": "code",
   "execution_count": 3,
   "metadata": {
    "collapsed": true
   },
   "outputs": [],
   "source": [
    "ACTIVATION_FUNCTION = F.relu # F.sigmoid F.tanh ..."
   ]
  },
  {
   "cell_type": "code",
   "execution_count": 4,
   "metadata": {
    "collapsed": true
   },
   "outputs": [],
   "source": [
    "class NN(nn.Module):\n",
    "    def __init__(self,input_size,hidden_size,output_size):\n",
    "        super(NN,self).__init__()\n",
    "        \n",
    "        self.l1 = nn.Linear(input_size,hidden_size)\n",
    "        self.l2 = nn.Linear(hidden_size,hidden_size)\n",
    "        self.l3 = nn.Linear(hidden_size,output_size)\n",
    "        \n",
    "    def forward(self,inputs):\n",
    "        inputs = ACTIVATION_FUNCTION(self.l1(inputs))\n",
    "        inputs = ACTIVATION_FUNCTION(self.l2(inputs))\n",
    "        return self.l3(inputs)"
   ]
  },
  {
   "cell_type": "code",
   "execution_count": 5,
   "metadata": {
    "collapsed": true
   },
   "outputs": [],
   "source": [
    "EPOCH=3\n",
    "LR=0.01\n",
    "BATCH_SIZE=64\n",
    "\n",
    "model = NN(784,1024,10)\n",
    "loss_function = nn.CrossEntropyLoss() # 소프트맥스 함수 포함하고 있음\n",
    "optimizer = optim.SGD(model.parameters(), lr=LR)"
   ]
  },
  {
   "cell_type": "markdown",
   "metadata": {},
   "source": [
    "$$loss(x, class) = -log(exp(x[class]) / (\\sum_j exp(x[j])))\n",
    " |                     = -x[class] + log(\\sum_j exp(x[j]))$$"
   ]
  },
  {
   "cell_type": "markdown",
   "metadata": {},
   "source": [
    "### 트레이닝 "
   ]
  },
  {
   "cell_type": "code",
   "execution_count": 6,
   "metadata": {},
   "outputs": [
    {
     "name": "stdout",
     "output_type": "stream",
     "text": [
      "[0/3] [000/937] mean_loss : 2.306\n",
      "[0/3] [100/937] mean_loss : 2.267\n",
      "[0/3] [200/937] mean_loss : 2.183\n",
      "[0/3] [300/937] mean_loss : 2.042\n",
      "[0/3] [400/937] mean_loss : 1.800\n",
      "[0/3] [500/937] mean_loss : 1.464\n",
      "[0/3] [600/937] mean_loss : 1.156\n",
      "[0/3] [700/937] mean_loss : 0.921\n",
      "[0/3] [800/937] mean_loss : 0.772\n",
      "[0/3] [900/937] mean_loss : 0.678\n",
      "[1/3] [000/937] mean_loss : 0.582\n",
      "[1/3] [100/937] mean_loss : 0.573\n",
      "[1/3] [200/937] mean_loss : 0.546\n",
      "[1/3] [300/937] mean_loss : 0.505\n",
      "[1/3] [400/937] mean_loss : 0.483\n",
      "[1/3] [500/937] mean_loss : 0.468\n",
      "[1/3] [600/937] mean_loss : 0.459\n",
      "[1/3] [700/937] mean_loss : 0.442\n",
      "[1/3] [800/937] mean_loss : 0.408\n",
      "[1/3] [900/937] mean_loss : 0.386\n",
      "[2/3] [000/937] mean_loss : 0.458\n",
      "[2/3] [100/937] mean_loss : 0.400\n",
      "[2/3] [200/937] mean_loss : 0.370\n",
      "[2/3] [300/937] mean_loss : 0.361\n",
      "[2/3] [400/937] mean_loss : 0.341\n",
      "[2/3] [500/937] mean_loss : 0.367\n",
      "[2/3] [600/937] mean_loss : 0.360\n",
      "[2/3] [700/937] mean_loss : 0.341\n",
      "[2/3] [800/937] mean_loss : 0.342\n",
      "[2/3] [900/937] mean_loss : 0.359\n"
     ]
    }
   ],
   "source": [
    "for epoch in range(EPOCH):\n",
    "    losses=[]\n",
    "    for i, (inputs, targets) in enumerate(train_loader):\n",
    "        inputs, targets = Variable(inputs).view(-1,784), Variable(targets)\n",
    "        model.zero_grad()\n",
    "        outputs = model(inputs)\n",
    "        loss = loss_function(outputs, targets)\n",
    "        loss.backward()\n",
    "        optimizer.step()\n",
    "\n",
    "        losses.append(loss.data[0])\n",
    "        if i % 100 == 0:\n",
    "            print(\"[%d/%d] [%03d/%d] mean_loss : %.3f\" % (epoch,EPOCH,i,len(train_loader),np.mean(losses)))\n",
    "            losses=[]"
   ]
  },
  {
   "cell_type": "markdown",
   "metadata": {},
   "source": [
    "### 테스트 "
   ]
  },
  {
   "cell_type": "code",
   "execution_count": 21,
   "metadata": {},
   "outputs": [
    {
     "name": "stdout",
     "output_type": "stream",
     "text": [
      "Accuracy :  0.9081\n"
     ]
    }
   ],
   "source": [
    "num_equal=0\n",
    "for i, (inputs, targets) in enumerate(test_loader):\n",
    "    inputs, targets = Variable(inputs).view(-1,784), Variable(targets)\n",
    "    outputs = model(inputs)\n",
    "    \n",
    "    outputs = outputs.max(1)[1] # argmax\n",
    "    num_equal += torch.eq(outputs,targets).sum().data[0]\n",
    "    \n",
    "    \n",
    "print(\"Accuracy : \" ,num_equal/len(test_dataset))"
   ]
  },
  {
   "cell_type": "markdown",
   "metadata": {
    "collapsed": true
   },
   "source": [
    "### TODO "
   ]
  },
  {
   "cell_type": "markdown",
   "metadata": {},
   "source": [
    "* 네트워크 구조 바꿔보기(# of layers, # of hidden nodes, activation function)"
   ]
  },
  {
   "cell_type": "code",
   "execution_count": null,
   "metadata": {
    "collapsed": true
   },
   "outputs": [],
   "source": []
  }
 ],
 "metadata": {
  "kernelspec": {
   "display_name": "Python 3",
   "language": "python",
   "name": "python3"
  },
  "language_info": {
   "codemirror_mode": {
    "name": "ipython",
    "version": 3
   },
   "file_extension": ".py",
   "mimetype": "text/x-python",
   "name": "python",
   "nbconvert_exporter": "python",
   "pygments_lexer": "ipython3",
   "version": "3.5.2"
  }
 },
 "nbformat": 4,
 "nbformat_minor": 2
}
