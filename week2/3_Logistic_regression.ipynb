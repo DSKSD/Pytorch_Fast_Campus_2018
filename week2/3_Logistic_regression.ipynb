{
 "cells": [
  {
   "cell_type": "code",
   "execution_count": 8,
   "metadata": {
    "collapsed": true
   },
   "outputs": [],
   "source": [
    "import torch\n",
    "import torch.nn as nn\n",
    "from torch.autograd import Variable\n",
    "import torch.optim as optim\n",
    "import torch.nn.functional as F\n",
    "import torch.utils.data as torchdata\n",
    "import numpy as np\n",
    "\n",
    "torch.manual_seed(1)\n",
    "\n",
    "import pandas as pd\n",
    "import matplotlib.pyplot as plt\n",
    "from matplotlib.colors import ListedColormap\n",
    "%matplotlib inline"
   ]
  },
  {
   "cell_type": "markdown",
   "metadata": {},
   "source": [
    "### 토이 데이터 생성 "
   ]
  },
  {
   "cell_type": "code",
   "execution_count": 232,
   "metadata": {
    "collapsed": false
   },
   "outputs": [],
   "source": [
    "x1 = torch.arange(1,101) + torch.randn(100)\n",
    "x2 = torch.cat([torch.zeros(50)+torch.abs(torch.randn(50)),torch.ones(50)-torch.abs(torch.randn(50))])\n",
    "x = torch.cat([x1.unsqueeze(1),x2.unsqueeze(1)],1)\n",
    "x = Variable(x)\n",
    "\n",
    "y = torch.cat([torch.zeros(50),torch.ones(50)])\n",
    "y = Variable(y).unsqueeze(1)"
   ]
  },
  {
   "cell_type": "code",
   "execution_count": 245,
   "metadata": {
    "collapsed": false
   },
   "outputs": [
    {
     "data": {
      "image/png": "[encoded data removed]",
      "text/plain": [
       "<matplotlib.figure.Figure at 0x7fa3b535feb8>"
      ]
     },
     "metadata": {},
     "output_type": "display_data"
    }
   ],
   "source": [
    "fig, ax = plt.subplots()\n",
    "ax.plot(x[:,0].data.numpy()[:50],x[:,1].data.numpy()[:50],'o',label='negative')\n",
    "ax.plot(x[:,0].data.numpy()[50:],x[:,1].data.numpy()[50:],'ro',label='positive')\n",
    "ax.legend()\n",
    "plt.show()"
   ]
  },
  {
   "cell_type": "markdown",
   "metadata": {},
   "source": [
    "### TODO:토치 데이터와 데이터 로더 사용하기 "
   ]
  },
  {
   "cell_type": "code",
   "execution_count": 3,
   "metadata": {
    "collapsed": false
   },
   "outputs": [],
   "source": [
    "data = np.loadtxt('./logstic_data.csv',\n",
    "                        delimiter=',', dtype=np.float32)"
   ]
  },
  {
   "cell_type": "code",
   "execution_count": 9,
   "metadata": {
    "collapsed": false
   },
   "outputs": [],
   "source": [
    "class LogisticDataset(torchdata.Dataset):\n",
    "    def __init__(self):\n",
    "        # TODO\n",
    "        pass\n",
    "    \n",
    "    def __getitem__(self, index):\n",
    "        # TODO\n",
    "        return None\n",
    "        \n",
    "    def __len__(self):\n",
    "        # TODO\n",
    "        return 0"
   ]
  },
  {
   "cell_type": "markdown",
   "metadata": {},
   "source": [
    "### 모델링 "
   ]
  },
  {
   "cell_type": "code",
   "execution_count": 234,
   "metadata": {
    "collapsed": false
   },
   "outputs": [
    {
     "name": "stdout",
     "output_type": "stream",
     "text": [
      "Parameter containing:\n",
      "-0.3516 -0.2785\n",
      "[torch.FloatTensor of size 1x2]\n",
      "\n",
      "Parameter containing:\n",
      " 0.4458\n",
      "[torch.FloatTensor of size 1]\n",
      "\n"
     ]
    }
   ],
   "source": [
    "model = nn.Sequential(nn.Linear(2,1),nn.Sigmoid())\n",
    "\n",
    "for param in model.parameters():\n",
    "    print(param)"
   ]
  },
  {
   "cell_type": "markdown",
   "metadata": {},
   "source": [
    "### 트레이닝 "
   ]
  },
  {
   "cell_type": "code",
   "execution_count": 235,
   "metadata": {
    "collapsed": false
   },
   "outputs": [],
   "source": [
    "LEARNING_RATE=0.01\n",
    "EPOCH = 2000\n",
    "\n",
    "loss_function = nn.BCELoss()\n",
    "optimizer = optim.SGD(model.parameters(),lr=LEARNING_RATE)"
   ]
  },
  {
   "cell_type": "markdown",
   "metadata": {},
   "source": [
    "$$loss(o, t) = - 1/n \\sum_i (t[i] * log(o[i]) + (1 - t[i]) * log(1 - o[i]))$$"
   ]
  },
  {
   "cell_type": "code",
   "execution_count": 243,
   "metadata": {
    "collapsed": false
   },
   "outputs": [
    {
     "name": "stdout",
     "output_type": "stream",
     "text": [
      "[00/2000] loss : 0.120\n",
      "[100/2000] loss : 0.119\n",
      "[200/2000] loss : 0.119\n",
      "[300/2000] loss : 0.119\n",
      "[400/2000] loss : 0.118\n",
      "[500/2000] loss : 0.118\n",
      "[600/2000] loss : 0.118\n",
      "[700/2000] loss : 0.117\n",
      "[800/2000] loss : 0.117\n",
      "[900/2000] loss : 0.117\n",
      "[1000/2000] loss : 0.116\n",
      "[1100/2000] loss : 0.116\n",
      "[1200/2000] loss : 0.115\n",
      "[1300/2000] loss : 0.115\n",
      "[1400/2000] loss : 0.115\n",
      "[1500/2000] loss : 0.114\n",
      "[1600/2000] loss : 0.114\n",
      "[1700/2000] loss : 0.114\n",
      "[1800/2000] loss : 0.113\n",
      "[1900/2000] loss : 0.113\n"
     ]
    }
   ],
   "source": [
    "for epoch in range(EPOCH):\n",
    "    model.zero_grad()\n",
    "    pred = model(x)\n",
    "    loss = loss_function(pred,y)\n",
    "    \n",
    "    if epoch % 100==0:\n",
    "        print(\"[%02d/%d] loss : %.3f\" % (epoch,EPOCH,loss.data[0]))\n",
    "\n",
    "    # gradient descent\n",
    "    loss.backward()\n",
    "    optimizer.step()"
   ]
  },
  {
   "cell_type": "code",
   "execution_count": 201,
   "metadata": {
    "collapsed": true
   },
   "outputs": [],
   "source": [
    "def plot_decision_region(x,y,model):\n",
    "    X_p = x.data.numpy()\n",
    "    y_p = y.data.numpy().reshape(100)\n",
    "    markers = ('x', 's')\n",
    "    colors = ('blue', 'red')\n",
    "    cmap = ListedColormap(colors[:len(np.unique(y_p))])\n",
    "\n",
    "    # plot the decision surface\n",
    "    x1_min, x1_max = X_p[:, 0].min() - 1, X_p[:, 0].max() + 1\n",
    "    x2_min, x2_max = X_p[:, 1].min() - 1, X_p[:, 1].max() + 1\n",
    "    xx1, xx2 = np.meshgrid(np.arange(x1_min, x1_max, 0.02),\n",
    "                           np.arange(x2_min, x2_max, 0.02))\n",
    "\n",
    "    X_pp = Variable(torch.cat([torch.Tensor(xx1).view(-1,1),torch.Tensor(xx2).view(-1,1)],1))\n",
    "    Z = torch.round(model(X_pp))\n",
    "    Z = Z.float().data.numpy()\n",
    "    Z = Z.reshape(xx1.shape)\n",
    "    plt.contourf(xx1, xx2, Z, alpha=0.4, cmap=cmap)\n",
    "    plt.xlim(xx1.min(), xx1.max())\n",
    "    plt.ylim(xx2.min(), xx2.max())\n",
    "\n",
    "    for idx, cl in enumerate(np.unique(y_p)):\n",
    "        plt.scatter(x=X_p[y_p == cl, 0], \n",
    "                    y=X_p[y_p == cl, 1],\n",
    "                    alpha=0.6, \n",
    "                    c=cmap(idx),\n",
    "                    edgecolor='black',\n",
    "                    marker=markers[idx], \n",
    "                    label=cl)"
   ]
  },
  {
   "cell_type": "code",
   "execution_count": 244,
   "metadata": {
    "collapsed": false
   },
   "outputs": [
    {
     "data": {
      "image/png": "[encoded data removed]",
      "text/plain": [
       "<matplotlib.figure.Figure at 0x7fa3b5412518>"
      ]
     },
     "metadata": {},
     "output_type": "display_data"
    }
   ],
   "source": [
    "plot_decision_region(x,y,model)"
   ]
  },
  {
   "cell_type": "markdown",
   "metadata": {},
   "source": [
    "### TODO "
   ]
  },
  {
   "cell_type": "markdown",
   "metadata": {},
   "source": [
    "* Data loader 클래스 사용해보기\n",
    "* 멀티 클래스 데이터셋 적용해보기 (one vs all)"
   ]
  },
  {
   "cell_type": "markdown",
   "metadata": {},
   "source": [
    "### NEXT "
   ]
  },
  {
   "cell_type": "markdown",
   "metadata": {},
   "source": [
    "* 학습이 잘 된건지 어떻게 판단할까? loss값이 줄어들기만 하면 무조건 좋을까?"
   ]
  },
  {
   "cell_type": "code",
   "execution_count": null,
   "metadata": {
    "collapsed": true
   },
   "outputs": [],
   "source": []
  }
 ],
 "metadata": {
  "kernelspec": {
   "display_name": "Python 3",
   "language": "python",
   "name": "python3"
  },
  "language_info": {
   "codemirror_mode": {
    "name": "ipython",
    "version": 3
   },
   "file_extension": ".py",
   "mimetype": "text/x-python",
   "name": "python",
   "nbconvert_exporter": "python",
   "pygments_lexer": "ipython3",
   "version": "3.5.2"
  }
 },
 "nbformat": 4,
 "nbformat_minor": 2
}
