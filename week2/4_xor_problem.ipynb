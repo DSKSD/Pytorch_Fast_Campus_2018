{
 "cells": [
  {
   "cell_type": "code",
   "execution_count": 1,
   "metadata": {
    "collapsed": true
   },
   "outputs": [],
   "source": [
    "import torch\n",
    "import torch.nn as nn\n",
    "from torch.autograd import Variable\n",
    "import torch.optim as optim\n",
    "import torch.nn.functional as F\n",
    "import numpy as np\n",
    "\n",
    "torch.manual_seed(1)\n",
    "import matplotlib.pyplot as plt\n",
    "%matplotlib inline"
   ]
  },
  {
   "cell_type": "code",
   "execution_count": 2,
   "metadata": {
    "collapsed": true
   },
   "outputs": [],
   "source": [
    "x = Variable(torch.Tensor([[1.,0.],[1.,1.],[0.,1.],[0.,0.]]))\n",
    "y = Variable(torch.Tensor([[1.],[0.],[1.],[0.]]))"
   ]
  },
  {
   "cell_type": "markdown",
   "metadata": {},
   "source": [
    "### linear model "
   ]
  },
  {
   "cell_type": "code",
   "execution_count": 3,
   "metadata": {
    "collapsed": true
   },
   "outputs": [],
   "source": [
    "STEP=100\n",
    "LR=0.001\n",
    "\n",
    "linear_model = nn.Sequential(nn.Linear(2,1),nn.Sigmoid())\n",
    "loss_function = nn.BCELoss()\n",
    "optimizer = optim.SGD(linear_model.parameters(),lr=LR)"
   ]
  },
  {
   "cell_type": "code",
   "execution_count": 4,
   "metadata": {
    "collapsed": false
   },
   "outputs": [
    {
     "name": "stdout",
     "output_type": "stream",
     "text": [
      "[00/100] loss : 0.702\n",
      "[10/100] loss : 0.702\n",
      "[20/100] loss : 0.702\n",
      "[30/100] loss : 0.702\n",
      "[40/100] loss : 0.702\n",
      "[50/100] loss : 0.702\n",
      "[60/100] loss : 0.702\n",
      "[70/100] loss : 0.702\n",
      "[80/100] loss : 0.702\n",
      "[90/100] loss : 0.702\n"
     ]
    }
   ],
   "source": [
    "for step in range(STEP):\n",
    "    linear_model.zero_grad()\n",
    "    pred = linear_model(x)\n",
    "    \n",
    "    loss = loss_function(pred,y)\n",
    "    if step%10==0:\n",
    "        print(\"[%02d/%d] loss : %.3f\" % (step,STEP,loss.data[0]))\n",
    "    loss.backward()\n",
    "    optimizer.step()"
   ]
  },
  {
   "cell_type": "code",
   "execution_count": 54,
   "metadata": {
    "collapsed": false
   },
   "outputs": [
    {
     "name": "stdout",
     "output_type": "stream",
     "text": [
      "[1.0, 0.0] 1.0\n",
      "[1.0, 1.0] 1.0\n",
      "[0.0, 1.0] 0.0\n",
      "[0.0, 0.0] 0.0\n"
     ]
    }
   ],
   "source": [
    "for t in x:\n",
    "    test = linear_model(t)\n",
    "    print(t.data.tolist(),torch.round(test).data[0])"
   ]
  },
  {
   "cell_type": "markdown",
   "metadata": {},
   "source": [
    "### nonlinear model "
   ]
  },
  {
   "cell_type": "code",
   "execution_count": 80,
   "metadata": {
    "collapsed": false
   },
   "outputs": [],
   "source": [
    "STEP=1000\n",
    "HIDDEN=5\n",
    "LR=0.1\n",
    "\n",
    "nonlinear_model = nn.Sequential(nn.Linear(2,HIDDEN),\n",
    "                                                 nn.ReLU(),\n",
    "                                                 nn.Linear(HIDDEN,1),\n",
    "                                                 nn.Sigmoid())\n",
    "\n",
    "loss_function = nn.BCELoss()\n",
    "optimizer = optim.SGD(nonlinear_model.parameters(),lr=LR)"
   ]
  },
  {
   "cell_type": "code",
   "execution_count": 81,
   "metadata": {
    "collapsed": false
   },
   "outputs": [
    {
     "name": "stdout",
     "output_type": "stream",
     "text": [
      "[00/1000] loss : 0.692\n",
      "[100/1000] loss : 0.607\n",
      "[200/1000] loss : 0.397\n",
      "[300/1000] loss : 0.212\n",
      "[400/1000] loss : 0.112\n",
      "[500/1000] loss : 0.065\n",
      "[600/1000] loss : 0.042\n",
      "[700/1000] loss : 0.030\n",
      "[800/1000] loss : 0.022\n",
      "[900/1000] loss : 0.018\n"
     ]
    }
   ],
   "source": [
    "for step in range(STEP):\n",
    "    nonlinear_model.zero_grad()\n",
    "    pred = nonlinear_model(x)\n",
    "    \n",
    "    loss = loss_function(pred,y)\n",
    "    if step%100==0:\n",
    "        print(\"[%02d/%d] loss : %.3f\" % (step,STEP,loss.data[0]))\n",
    "    loss.backward()\n",
    "    optimizer.step()"
   ]
  },
  {
   "cell_type": "code",
   "execution_count": 82,
   "metadata": {
    "collapsed": false
   },
   "outputs": [
    {
     "name": "stdout",
     "output_type": "stream",
     "text": [
      "[1.0, 0.0] 1.0\n",
      "[1.0, 1.0] 0.0\n",
      "[0.0, 1.0] 1.0\n",
      "[0.0, 0.0] 0.0\n"
     ]
    }
   ],
   "source": [
    "for t in x:\n",
    "    test = nonlinear_model(t)\n",
    "    print(t.data.tolist(),torch.round(test).data[0])"
   ]
  },
  {
   "cell_type": "code",
   "execution_count": null,
   "metadata": {
    "collapsed": true
   },
   "outputs": [],
   "source": []
  },
  {
   "cell_type": "code",
   "execution_count": null,
   "metadata": {
    "collapsed": true
   },
   "outputs": [],
   "source": []
  }
 ],
 "metadata": {
  "kernelspec": {
   "display_name": "Python 3",
   "language": "python",
   "name": "python3"
  },
  "language_info": {
   "codemirror_mode": {
    "name": "ipython",
    "version": 3
   },
   "file_extension": ".py",
   "mimetype": "text/x-python",
   "name": "python",
   "nbconvert_exporter": "python",
   "pygments_lexer": "ipython3",
   "version": "3.5.2"
  }
 },
 "nbformat": 4,
 "nbformat_minor": 2
}
