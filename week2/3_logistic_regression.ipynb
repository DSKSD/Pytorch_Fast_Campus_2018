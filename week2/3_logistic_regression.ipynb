{
 "cells": [
  {
   "cell_type": "code",
   "execution_count": 14,
   "metadata": {
    "collapsed": true
   },
   "outputs": [],
   "source": [
    "import torch\n",
    "import torch.nn as nn\n",
    "from torch.autograd import Variable\n",
    "import torch.optim as optim\n",
    "import torch.nn.functional as F\n",
    "import torchvision\n",
    "import numpy as np\n",
    "\n",
    "torch.manual_seed(1)\n",
    "\n",
    "import pandas as pd\n",
    "import matplotlib.pyplot as plt\n",
    "%matplotlib inline"
   ]
  },
  {
   "cell_type": "markdown",
   "metadata": {},
   "source": [
    "### 토이 데이터 생성 "
   ]
  },
  {
   "cell_type": "code",
   "execution_count": 194,
   "metadata": {
    "collapsed": false
   },
   "outputs": [],
   "source": [
    "x1 = torch.arange(1,101) + torch.randn(100)\n",
    "x2 = torch.cat([torch.zeros(50)+torch.abs(torch.randn(50)),torch.ones(50)-torch.abs(torch.randn(50))])\n",
    "x = torch.cat([x1.unsqueeze(1),x2.unsqueeze(1)],1)\n",
    "x = Variable(x)\n",
    "\n",
    "y = torch.cat([torch.zeros(50),torch.ones(50)])\n",
    "y = Variable(y).unsqueeze(1)"
   ]
  },
  {
   "cell_type": "code",
   "execution_count": 195,
   "metadata": {
    "collapsed": false
   },
   "outputs": [
    {
     "data": {
      "image/png": "[encoded data removed]",
      "text/plain": [
       "<matplotlib.figure.Figure at 0x7ff344e52dd8>"
      ]
     },
     "metadata": {},
     "output_type": "display_data"
    }
   ],
   "source": [
    "fig, ax = plt.subplots()\n",
    "ax.plot(x[:,0].data.numpy()[:50],x[:,1].data.numpy()[:50],'o',label='negative')\n",
    "ax.plot(x[:,0].data.numpy()[50:],x[:,1].data.numpy()[50:],'ro',label='positive')\n",
    "ax.legend()\n",
    "plt.show()"
   ]
  },
  {
   "cell_type": "markdown",
   "metadata": {},
   "source": [
    "### 모델링 "
   ]
  },
  {
   "cell_type": "code",
   "execution_count": 208,
   "metadata": {
    "collapsed": false
   },
   "outputs": [
    {
     "name": "stdout",
     "output_type": "stream",
     "text": [
      "Parameter containing:\n",
      " 0.1470  0.1960\n",
      "[torch.FloatTensor of size 1x2]\n",
      "\n",
      "Parameter containing:\n",
      "-0.2379\n",
      "[torch.FloatTensor of size 1]\n",
      "\n"
     ]
    }
   ],
   "source": [
    "model = nn.Sequential(nn.Linear(2,1),nn.Sigmoid())\n",
    "\n",
    "for param in model.parameters():\n",
    "    print(param)"
   ]
  },
  {
   "cell_type": "markdown",
   "metadata": {},
   "source": [
    "### 트레이닝 "
   ]
  },
  {
   "cell_type": "code",
   "execution_count": 209,
   "metadata": {
    "collapsed": false
   },
   "outputs": [],
   "source": [
    "LEARNING_RATE=0.001\n",
    "STEP = 30\n",
    "\n",
    "loss_function = nn.BCELoss()\n",
    "optimizer = optim.SGD(model.parameters(),lr=LEARNING_RATE)"
   ]
  },
  {
   "cell_type": "markdown",
   "metadata": {},
   "source": [
    "$$loss(o, t) = - 1/n \\sum_i (t[i] * log(o[i]) + (1 - t[i]) * log(1 - o[i]))$$"
   ]
  },
  {
   "cell_type": "code",
   "execution_count": 210,
   "metadata": {
    "collapsed": false
   },
   "outputs": [
    {
     "name": "stdout",
     "output_type": "stream",
     "text": [
      "[00/30] loss : 1.893\n",
      "[01/30] loss : 1.738\n",
      "[02/30] loss : 1.585\n",
      "[03/30] loss : 1.435\n",
      "[04/30] loss : 1.289\n",
      "[05/30] loss : 1.149\n",
      "[06/30] loss : 1.015\n",
      "[07/30] loss : 0.893\n",
      "[08/30] loss : 0.786\n",
      "[09/30] loss : 0.700\n",
      "[10/30] loss : 0.640\n",
      "[11/30] loss : 0.607\n",
      "[12/30] loss : 0.593\n",
      "[13/30] loss : 0.589\n",
      "[14/30] loss : 0.588\n",
      "[15/30] loss : 0.588\n",
      "[16/30] loss : 0.588\n",
      "[17/30] loss : 0.588\n",
      "[18/30] loss : 0.587\n",
      "[19/30] loss : 0.587\n",
      "[20/30] loss : 0.587\n",
      "[21/30] loss : 0.587\n",
      "[22/30] loss : 0.587\n",
      "[23/30] loss : 0.587\n",
      "[24/30] loss : 0.587\n",
      "[25/30] loss : 0.587\n",
      "[26/30] loss : 0.587\n",
      "[27/30] loss : 0.587\n",
      "[28/30] loss : 0.587\n",
      "[29/30] loss : 0.587\n"
     ]
    }
   ],
   "source": [
    "for step in range(STEP):\n",
    "    model.zero_grad()\n",
    "    pred = model(x)\n",
    "    loss = loss_function(pred,y)\n",
    "    \n",
    "    print(\"[%02d/%d] loss : %.3f\" % (step,STEP,loss.data[0]))\n",
    "\n",
    "    # gradient descent\n",
    "    loss.backward()\n",
    "    optimizer.step()"
   ]
  },
  {
   "cell_type": "markdown",
   "metadata": {},
   "source": [
    "### Exercise 3.1 : Breast Cancer Wisconsin (Diagnostic) Data Set from Kaggle "
   ]
  },
  {
   "cell_type": "markdown",
   "metadata": {},
   "source": [
    "https://www.kaggle.com/uciml/breast-cancer-wisconsin-data/data"
   ]
  },
  {
   "cell_type": "code",
   "execution_count": 16,
   "metadata": {
    "collapsed": false
   },
   "outputs": [
    {
     "name": "stdout",
     "output_type": "stream",
     "text": [
      "(569, 33)\n"
     ]
    },
    {
     "data": {
      "text/html": [
       "<div>\n",
       "<style>\n",
       "    .dataframe thead tr:only-child th {\n",
       "        text-align: right;\n",
       "    }\n",
       "\n",
       "    .dataframe thead th {\n",
       "        text-align: left;\n",
       "    }\n",
       "\n",
       "    .dataframe tbody tr th {\n",
       "        vertical-align: top;\n",
       "    }\n",
       "</style>\n",
       "<table border=\"1\" class=\"dataframe\">\n",
       "  <thead>\n",
       "    <tr style=\"text-align: right;\">\n",
       "      <th></th>\n",
       "      <th>id</th>\n",
       "      <th>diagnosis</th>\n",
       "      <th>radius_mean</th>\n",
       "      <th>texture_mean</th>\n",
       "      <th>perimeter_mean</th>\n",
       "      <th>area_mean</th>\n",
       "      <th>smoothness_mean</th>\n",
       "      <th>compactness_mean</th>\n",
       "      <th>concavity_mean</th>\n",
       "      <th>concave points_mean</th>\n",
       "      <th>...</th>\n",
       "      <th>texture_worst</th>\n",
       "      <th>perimeter_worst</th>\n",
       "      <th>area_worst</th>\n",
       "      <th>smoothness_worst</th>\n",
       "      <th>compactness_worst</th>\n",
       "      <th>concavity_worst</th>\n",
       "      <th>concave points_worst</th>\n",
       "      <th>symmetry_worst</th>\n",
       "      <th>fractal_dimension_worst</th>\n",
       "      <th>Unnamed: 32</th>\n",
       "    </tr>\n",
       "  </thead>\n",
       "  <tbody>\n",
       "    <tr>\n",
       "      <th>0</th>\n",
       "      <td>842302</td>\n",
       "      <td>M</td>\n",
       "      <td>17.99</td>\n",
       "      <td>10.38</td>\n",
       "      <td>122.8</td>\n",
       "      <td>1001.0</td>\n",
       "      <td>0.11840</td>\n",
       "      <td>0.27760</td>\n",
       "      <td>0.3001</td>\n",
       "      <td>0.14710</td>\n",
       "      <td>...</td>\n",
       "      <td>17.33</td>\n",
       "      <td>184.6</td>\n",
       "      <td>2019.0</td>\n",
       "      <td>0.1622</td>\n",
       "      <td>0.6656</td>\n",
       "      <td>0.7119</td>\n",
       "      <td>0.2654</td>\n",
       "      <td>0.4601</td>\n",
       "      <td>0.11890</td>\n",
       "      <td>NaN</td>\n",
       "    </tr>\n",
       "    <tr>\n",
       "      <th>1</th>\n",
       "      <td>842517</td>\n",
       "      <td>M</td>\n",
       "      <td>20.57</td>\n",
       "      <td>17.77</td>\n",
       "      <td>132.9</td>\n",
       "      <td>1326.0</td>\n",
       "      <td>0.08474</td>\n",
       "      <td>0.07864</td>\n",
       "      <td>0.0869</td>\n",
       "      <td>0.07017</td>\n",
       "      <td>...</td>\n",
       "      <td>23.41</td>\n",
       "      <td>158.8</td>\n",
       "      <td>1956.0</td>\n",
       "      <td>0.1238</td>\n",
       "      <td>0.1866</td>\n",
       "      <td>0.2416</td>\n",
       "      <td>0.1860</td>\n",
       "      <td>0.2750</td>\n",
       "      <td>0.08902</td>\n",
       "      <td>NaN</td>\n",
       "    </tr>\n",
       "    <tr>\n",
       "      <th>2</th>\n",
       "      <td>84300903</td>\n",
       "      <td>M</td>\n",
       "      <td>19.69</td>\n",
       "      <td>21.25</td>\n",
       "      <td>130.0</td>\n",
       "      <td>1203.0</td>\n",
       "      <td>0.10960</td>\n",
       "      <td>0.15990</td>\n",
       "      <td>0.1974</td>\n",
       "      <td>0.12790</td>\n",
       "      <td>...</td>\n",
       "      <td>25.53</td>\n",
       "      <td>152.5</td>\n",
       "      <td>1709.0</td>\n",
       "      <td>0.1444</td>\n",
       "      <td>0.4245</td>\n",
       "      <td>0.4504</td>\n",
       "      <td>0.2430</td>\n",
       "      <td>0.3613</td>\n",
       "      <td>0.08758</td>\n",
       "      <td>NaN</td>\n",
       "    </tr>\n",
       "  </tbody>\n",
       "</table>\n",
       "<p>3 rows × 33 columns</p>\n",
       "</div>"
      ],
      "text/plain": [
       "         id diagnosis  radius_mean  texture_mean  perimeter_mean  area_mean  \\\n",
       "0    842302         M        17.99         10.38           122.8     1001.0   \n",
       "1    842517         M        20.57         17.77           132.9     1326.0   \n",
       "2  84300903         M        19.69         21.25           130.0     1203.0   \n",
       "\n",
       "   smoothness_mean  compactness_mean  concavity_mean  concave points_mean  \\\n",
       "0          0.11840           0.27760          0.3001              0.14710   \n",
       "1          0.08474           0.07864          0.0869              0.07017   \n",
       "2          0.10960           0.15990          0.1974              0.12790   \n",
       "\n",
       "      ...       texture_worst  perimeter_worst  area_worst  smoothness_worst  \\\n",
       "0     ...               17.33            184.6      2019.0            0.1622   \n",
       "1     ...               23.41            158.8      1956.0            0.1238   \n",
       "2     ...               25.53            152.5      1709.0            0.1444   \n",
       "\n",
       "   compactness_worst  concavity_worst  concave points_worst  symmetry_worst  \\\n",
       "0             0.6656           0.7119                0.2654          0.4601   \n",
       "1             0.1866           0.2416                0.1860          0.2750   \n",
       "2             0.4245           0.4504                0.2430          0.3613   \n",
       "\n",
       "   fractal_dimension_worst  Unnamed: 32  \n",
       "0                  0.11890          NaN  \n",
       "1                  0.08902          NaN  \n",
       "2                  0.08758          NaN  \n",
       "\n",
       "[3 rows x 33 columns]"
      ]
     },
     "execution_count": 16,
     "metadata": {},
     "output_type": "execute_result"
    }
   ],
   "source": [
    "dataframe = pd.read_csv('../data/Diagnostic_data.csv',delimiter=',')\n",
    "print(dataframe.shape)\n",
    "dataframe[:3]"
   ]
  },
  {
   "cell_type": "code",
   "execution_count": 286,
   "metadata": {
    "collapsed": false
   },
   "outputs": [],
   "source": [
    "feature_names= list(dataframe.columns)[1:-1] # exclude id, Unnamed:32\n",
    "\n",
    "# https://www.kaggle.com/kanncaa1/feature-selection-and-data-visualization\n",
    "selected_features=['texture_mean',\n",
    "                             'area_mean',\n",
    "                             'smoothness_mean',\n",
    "                             'concavity_mean',\n",
    "                             'symmetry_mean',\n",
    "                             'fractal_dimension_mean',\n",
    "                             'texture_se',\n",
    "                             'area_se',\n",
    "                             'smoothness_se',\n",
    "                             'concavity_se',\n",
    "                             'symmetry_se',\n",
    "                             'fractal_dimension_se',\n",
    "                             'smoothness_worst',\n",
    "                             'concavity_worst',\n",
    "                             'symmetry_worst',\n",
    "                             'fractal_dimension_worst']\n",
    "\n",
    "num_data = dataframe.shape[0]"
   ]
  },
  {
   "cell_type": "code",
   "execution_count": 287,
   "metadata": {
    "collapsed": false
   },
   "outputs": [],
   "source": [
    "X,y = [],[]\n",
    "\n",
    "for i in range(num_data):\n",
    "    row=[]\n",
    "    for feature in feature_names:\n",
    "        if feature==\"diagnosis\":\n",
    "            y.append(dataframe[feature][i])\n",
    "        elif feature in selected_features:\n",
    "            row.append(dataframe[feature][i])\n",
    "    X.append(row)"
   ]
  },
  {
   "cell_type": "markdown",
   "metadata": {},
   "source": [
    "#### Handling discrete Variable"
   ]
  },
  {
   "cell_type": "code",
   "execution_count": 288,
   "metadata": {
    "collapsed": false
   },
   "outputs": [],
   "source": [
    "y = list(map(lambda e:1 if e==\"M\" else 0,y)) # symbolize with integer"
   ]
  },
  {
   "cell_type": "markdown",
   "metadata": {},
   "source": [
    "#### to tensor and wrap autograd.Variable"
   ]
  },
  {
   "cell_type": "code",
   "execution_count": 289,
   "metadata": {
    "collapsed": true
   },
   "outputs": [],
   "source": [
    "X = Variable(torch.Tensor(X)) # load from list\n",
    "y = Variable(torch.Tensor(y))"
   ]
  },
  {
   "cell_type": "markdown",
   "metadata": {},
   "source": [
    "#### 모델링"
   ]
  },
  {
   "cell_type": "code",
   "execution_count": 414,
   "metadata": {
    "collapsed": true
   },
   "outputs": [],
   "source": [
    "class LogisticRegression(nn.Module):\n",
    "    def __init__(self,input_size,output_size):\n",
    "        super(LogisticRegression,self).__init__()\n",
    "        \n",
    "        self.linear = nn.Linear(input_size,output_size)\n",
    "        self.sigmoid = nn.Sigmoid()\n",
    "        \n",
    "    def forward(self,inputs):\n",
    "        return self.sigmoid(self.linear(inputs)) # F.sigmoid(self.linear(inputs))"
   ]
  },
  {
   "cell_type": "markdown",
   "metadata": {},
   "source": [
    "#### 트레이닝 "
   ]
  },
  {
   "cell_type": "code",
   "execution_count": 450,
   "metadata": {
    "collapsed": false
   },
   "outputs": [
    {
     "name": "stdout",
     "output_type": "stream",
     "text": [
      "Parameter containing:\n",
      "\n",
      "Columns 0 to 9 \n",
      "-0.1572 -0.0211  0.1897 -0.0484  0.2066 -0.1292 -0.0216  0.0122 -0.1755  0.1482\n",
      "\n",
      "Columns 10 to 15 \n",
      "-0.0071 -0.2485  0.1017 -0.0991 -0.1339  0.0980\n",
      "[torch.FloatTensor of size 1x16]\n",
      "\n",
      "Parameter containing:\n",
      "1.00000e-02 *\n",
      "  6.3106\n",
      "[torch.FloatTensor of size 1]\n",
      "\n"
     ]
    }
   ],
   "source": [
    "LR = 0.00001\n",
    "STEP = 10\n",
    "model = LogisticRegression(X.size(1),1)\n",
    "loss_function = nn.BCELoss()\n",
    "optimizer = optim.SGD(model.parameters(),lr=LR)\n",
    "\n",
    "for param in model.parameters():\n",
    "    print(param)"
   ]
  },
  {
   "cell_type": "code",
   "execution_count": 451,
   "metadata": {
    "collapsed": false
   },
   "outputs": [
    {
     "name": "stdout",
     "output_type": "stream",
     "text": [
      "[00/10] loss : 8.114\n",
      "[01/10] loss : 7.534\n",
      "[02/10] loss : 6.658\n",
      "[03/10] loss : 5.548\n",
      "[04/10] loss : 4.268\n",
      "[05/10] loss : 2.938\n",
      "[06/10] loss : 1.637\n",
      "[07/10] loss : 0.640\n",
      "[08/10] loss : 0.474\n",
      "[09/10] loss : 0.473\n"
     ]
    }
   ],
   "source": [
    "for step in range(STEP):\n",
    "    model.zero_grad()\n",
    "    pred = model(X)\n",
    "    loss = loss_function(pred.squeeze(1),y)\n",
    "    \n",
    "    print(\"[%02d/%d] loss : %.3f\" % (step,STEP,loss.data[0]))\n",
    "\n",
    "    # gradient descent\n",
    "    loss.backward()\n",
    "    optimizer.step()"
   ]
  },
  {
   "cell_type": "markdown",
   "metadata": {},
   "source": [
    "### TODO "
   ]
  },
  {
   "cell_type": "markdown",
   "metadata": {},
   "source": [
    "* 데이터 EDA, feature selection에 대해 공부해보기\n",
    "* Data loader 클래스 사용해보기\n",
    "* 멀티 클래스 데이터셋 적용해보기 (one vs all)"
   ]
  },
  {
   "cell_type": "markdown",
   "metadata": {},
   "source": [
    "### NEXT "
   ]
  },
  {
   "cell_type": "markdown",
   "metadata": {},
   "source": [
    "* \"Non-Convex\"한 loss를 어떻게 대처할까?\n",
    "* 학습이 잘 된건지 어떻게 판단할까? loss값이 줄어들기만 하면 무조건 좋을까?"
   ]
  },
  {
   "cell_type": "code",
   "execution_count": null,
   "metadata": {
    "collapsed": true
   },
   "outputs": [],
   "source": []
  }
 ],
 "metadata": {
  "kernelspec": {
   "display_name": "Python 3",
   "language": "python",
   "name": "python3"
  },
  "language_info": {
   "codemirror_mode": {
    "name": "ipython",
    "version": 3
   },
   "file_extension": ".py",
   "mimetype": "text/x-python",
   "name": "python",
   "nbconvert_exporter": "python",
   "pygments_lexer": "ipython3",
   "version": "3.5.2"
  }
 },
 "nbformat": 4,
 "nbformat_minor": 2
}
