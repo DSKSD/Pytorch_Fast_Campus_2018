{
 "cells": [
  {
   "cell_type": "code",
   "execution_count": 1,
   "metadata": {
    "collapsed": true
   },
   "outputs": [],
   "source": [
    "import torch\n",
    "import torch.nn as nn\n",
    "from torch.autograd import Variable\n",
    "import torch.optim as optim\n",
    "import torch.nn.functional as F\n",
    "import numpy as np\n",
    "import torchvision.transforms as transforms\n",
    "import torchvision.datasets as vdatasets\n",
    "\n",
    "torch.manual_seed(1)\n",
    "import matplotlib.pyplot as plt\n",
    "%matplotlib inline"
   ]
  },
  {
   "cell_type": "markdown",
   "metadata": {},
   "source": [
    "### Softmax "
   ]
  },
  {
   "cell_type": "markdown",
   "metadata": {},
   "source": [
    "$$softmax(x) = \\frac{exp(x_i)}{\\sum_j exp(x_j)}$$"
   ]
  },
  {
   "cell_type": "code",
   "execution_count": 3,
   "metadata": {
    "collapsed": false
   },
   "outputs": [
    {
     "name": "stdout",
     "output_type": "stream",
     "text": [
      "\n",
      " 0.6590\n",
      " 0.2424\n",
      " 0.0986\n",
      "[torch.FloatTensor of size 3]\n",
      "\n",
      "0.9999999552965164\n",
      "\n",
      "Variable containing:\n",
      " 0.6590\n",
      " 0.2424\n",
      " 0.0986\n",
      "[torch.FloatTensor of size 3]\n",
      "\n",
      "Variable containing:\n",
      " 1.0000\n",
      "[torch.FloatTensor of size 1]\n",
      "\n"
     ]
    }
   ],
   "source": [
    "z = torch.Tensor([2.0,1.0,0.1])\n",
    "\n",
    "def softmax(z):\n",
    "    exps = torch.exp(z)\n",
    "    return exps / torch.sum(exps)\n",
    "\n",
    "print(softmax(z))\n",
    "print(torch.sum(softmax(z)))\n",
    "print(\"\")\n",
    "\n",
    "res = F.softmax(Variable(z),0) \n",
    "print(res)                  \n",
    "print(torch.sum(res)) "
   ]
  },
  {
   "cell_type": "markdown",
   "metadata": {},
   "source": [
    "### Cross entropy "
   ]
  },
  {
   "cell_type": "markdown",
   "metadata": {},
   "source": [
    "$$H(p,q)=-\\sum_xp(x)logq(x)$$"
   ]
  },
  {
   "cell_type": "code",
   "execution_count": 4,
   "metadata": {
    "collapsed": false
   },
   "outputs": [
    {
     "name": "stdout",
     "output_type": "stream",
     "text": [
      "0.3566749691963196\n",
      "4.605170249938965\n",
      "0.41703000664711\n",
      "1.4170299768447876\n"
     ]
    }
   ],
   "source": [
    "predict_1 = torch.Tensor([0.7,0.2,0.1])\n",
    "predict_2 = torch.Tensor([0.01,0.9,0.99])\n",
    "\n",
    "target = torch.Tensor([1.0,0.,0.])\n",
    "\n",
    "def cross_entropy(q,p):\n",
    "    return -torch.sum(p*torch.log(q))\n",
    "\n",
    "print(cross_entropy(predict_1,target)) # 옳게 예측 -> low loss(cost)\n",
    "print(cross_entropy(predict_2,target)) # 틀리게 예측 --> high loss(cost)\n",
    "\n",
    "# in practical \n",
    "\n",
    "predict_1  = torch.Tensor([2.,1.,0.1])\n",
    "predict_2 = torch.Tensor([1.,2.,0.1])\n",
    "target = torch.LongTensor([0])\n",
    "\n",
    "loss_function = nn.CrossEntropyLoss() # softmax 연산을 포함하고 있음\n",
    "loss1 = loss_function(Variable(predict_1).view(1,-1),Variable(target))\n",
    "loss2 = loss_function(Variable(predict_2).view(1,-1),Variable(target))\n",
    "\n",
    "print(loss1.data[0])\n",
    "print(loss2.data[0])"
   ]
  },
  {
   "cell_type": "markdown",
   "metadata": {},
   "source": [
    "### MNIST dataset"
   ]
  },
  {
   "cell_type": "code",
   "execution_count": 2,
   "metadata": {
    "collapsed": true
   },
   "outputs": [],
   "source": [
    "train_dataset = vdatasets.MNIST(root='../../data/MNIST/',\n",
    "                               train=True, \n",
    "                               transform=transforms.ToTensor(),\n",
    "                               download=True)\n",
    "\n",
    "\n",
    "train_loader = torch.utils.data.DataLoader(dataset=train_dataset,\n",
    "                                           batch_size=64, \n",
    "                                           shuffle=True,\n",
    "                                           num_workers=2)\n",
    "\n",
    "test_dataset = vdatasets.MNIST(root='../../data/MNIST/',\n",
    "                               train=False, \n",
    "                               transform=transforms.ToTensor(),\n",
    "                               download=True)\n",
    "\n",
    "\n",
    "test_loader = torch.utils.data.DataLoader(dataset=test_dataset,\n",
    "                                           batch_size=64, \n",
    "                                           shuffle=True,\n",
    "                                           num_workers=2)"
   ]
  },
  {
   "cell_type": "code",
   "execution_count": 3,
   "metadata": {
    "collapsed": false
   },
   "outputs": [
    {
     "name": "stdout",
     "output_type": "stream",
     "text": [
      "torch.Size([1, 28, 28])\n",
      "5\n"
     ]
    }
   ],
   "source": [
    "print(train_dataset[0][0].size())\n",
    "print(train_dataset[0][1])"
   ]
  },
  {
   "cell_type": "code",
   "execution_count": 4,
   "metadata": {
    "collapsed": false
   },
   "outputs": [
    {
     "data": {
      "image/png": "[encoded data removed]",
      "text/plain": [
       "<matplotlib.figure.Figure at 0x7fefba52bdd8>"
      ]
     },
     "metadata": {},
     "output_type": "display_data"
    }
   ],
   "source": [
    "for i in range(9):\n",
    "    plt.subplot(3,3,i+1)\n",
    "    plt.imshow(train_dataset[i][0].squeeze(0).numpy(), cmap='gray', interpolation='none')\n",
    "    plt.title(\"Class {}\".format(train_dataset[i][1]))"
   ]
  },
  {
   "cell_type": "markdown",
   "metadata": {},
   "source": [
    "### 모델링"
   ]
  },
  {
   "cell_type": "code",
   "execution_count": 20,
   "metadata": {
    "collapsed": true
   },
   "outputs": [],
   "source": [
    "class NN(nn.Module):\n",
    "    def __init__(self,input_size,hidden_size,output_size):\n",
    "        super(NN,self).__init__()\n",
    "        \n",
    "        self.l1 = nn.Linear(input_size,hidden_size)\n",
    "        self.l2 = nn.Linear(hidden_size,output_size)\n",
    "        \n",
    "    def forward(self,inputs):\n",
    "        outputs = F.relu(self.l1(inputs))\n",
    "        return self.l2(outputs)"
   ]
  },
  {
   "cell_type": "code",
   "execution_count": 21,
   "metadata": {
    "collapsed": true
   },
   "outputs": [],
   "source": [
    "EPOCH=5\n",
    "LR=0.01\n",
    "BATCH_SIZE=64\n",
    "\n",
    "model = NN(784,512,10)\n",
    "loss_function = nn.CrossEntropyLoss() # 소프트맥스 함수 포함하고 있음\n",
    "optimizer = optim.SGD(model.parameters(), lr=LR)"
   ]
  },
  {
   "cell_type": "markdown",
   "metadata": {},
   "source": [
    "$$loss(x, class) = -log(exp(x[class]) / (\\sum_j exp(x[j]))) = -x[class] + log(\\sum_j exp(x[j]))$$"
   ]
  },
  {
   "cell_type": "markdown",
   "metadata": {},
   "source": [
    "### 트레이닝 "
   ]
  },
  {
   "cell_type": "code",
   "execution_count": 22,
   "metadata": {
    "collapsed": false
   },
   "outputs": [
    {
     "name": "stdout",
     "output_type": "stream",
     "text": [
      "[0/5] [000/938] mean_loss : 2.338\n",
      "[0/5] [100/938] mean_loss : 2.188\n",
      "[0/5] [200/938] mean_loss : 1.907\n",
      "[0/5] [300/938] mean_loss : 1.573\n",
      "[0/5] [400/938] mean_loss : 1.237\n",
      "[0/5] [500/938] mean_loss : 1.018\n",
      "[0/5] [600/938] mean_loss : 0.856\n",
      "[0/5] [700/938] mean_loss : 0.752\n",
      "[0/5] [800/938] mean_loss : 0.680\n",
      "[0/5] [900/938] mean_loss : 0.621\n",
      "[1/5] [000/938] mean_loss : 0.547\n",
      "[1/5] [100/938] mean_loss : 0.571\n",
      "[1/5] [200/938] mean_loss : 0.552\n",
      "[1/5] [300/938] mean_loss : 0.506\n",
      "[1/5] [400/938] mean_loss : 0.476\n",
      "[1/5] [500/938] mean_loss : 0.471\n",
      "[1/5] [600/938] mean_loss : 0.448\n",
      "[1/5] [700/938] mean_loss : 0.460\n",
      "[1/5] [800/938] mean_loss : 0.425\n",
      "[1/5] [900/938] mean_loss : 0.422\n",
      "[2/5] [000/938] mean_loss : 0.632\n",
      "[2/5] [100/938] mean_loss : 0.422\n",
      "[2/5] [200/938] mean_loss : 0.416\n",
      "[2/5] [300/938] mean_loss : 0.385\n",
      "[2/5] [400/938] mean_loss : 0.387\n",
      "[2/5] [500/938] mean_loss : 0.380\n",
      "[2/5] [600/938] mean_loss : 0.387\n",
      "[2/5] [700/938] mean_loss : 0.367\n",
      "[2/5] [800/938] mean_loss : 0.366\n",
      "[2/5] [900/938] mean_loss : 0.364\n",
      "[3/5] [000/938] mean_loss : 0.354\n",
      "[3/5] [100/938] mean_loss : 0.354\n",
      "[3/5] [200/938] mean_loss : 0.349\n",
      "[3/5] [300/938] mean_loss : 0.347\n",
      "[3/5] [400/938] mean_loss : 0.340\n",
      "[3/5] [500/938] mean_loss : 0.348\n",
      "[3/5] [600/938] mean_loss : 0.365\n",
      "[3/5] [700/938] mean_loss : 0.331\n",
      "[3/5] [800/938] mean_loss : 0.334\n",
      "[3/5] [900/938] mean_loss : 0.336\n",
      "[4/5] [000/938] mean_loss : 0.236\n",
      "[4/5] [100/938] mean_loss : 0.333\n",
      "[4/5] [200/938] mean_loss : 0.321\n",
      "[4/5] [300/938] mean_loss : 0.335\n",
      "[4/5] [400/938] mean_loss : 0.328\n",
      "[4/5] [500/938] mean_loss : 0.310\n",
      "[4/5] [600/938] mean_loss : 0.320\n",
      "[4/5] [700/938] mean_loss : 0.316\n",
      "[4/5] [800/938] mean_loss : 0.314\n",
      "[4/5] [900/938] mean_loss : 0.316\n"
     ]
    }
   ],
   "source": [
    "for epoch in range(EPOCH):\n",
    "    losses=[]\n",
    "    for i, (inputs, targets) in enumerate(train_loader):\n",
    "        inputs, targets = Variable(inputs).view(-1,784), Variable(targets)\n",
    "        model.zero_grad()\n",
    "        outputs = model(inputs)\n",
    "        loss = loss_function(outputs, targets)\n",
    "        loss.backward()\n",
    "        optimizer.step()\n",
    "\n",
    "        losses.append(loss.data[0])\n",
    "        if i % 100 == 0:\n",
    "            print(\"[%d/%d] [%03d/%d] mean_loss : %.3f\" % (epoch,EPOCH,i,len(train_loader),np.mean(losses)))\n",
    "            losses=[]"
   ]
  },
  {
   "cell_type": "markdown",
   "metadata": {},
   "source": [
    "### 테스트 "
   ]
  },
  {
   "cell_type": "code",
   "execution_count": 23,
   "metadata": {
    "collapsed": false
   },
   "outputs": [
    {
     "name": "stdout",
     "output_type": "stream",
     "text": [
      "Accuracy :  0.9186\n"
     ]
    }
   ],
   "source": [
    "num_equal=0\n",
    "for i, (inputs, targets) in enumerate(test_loader):\n",
    "    inputs, targets = Variable(inputs).view(-1,784), Variable(targets)\n",
    "    outputs = model(inputs)\n",
    "    \n",
    "    outputs = outputs.max(1)[1] # argmax\n",
    "    num_equal += torch.eq(outputs,targets).sum().data[0]\n",
    "    \n",
    "    \n",
    "print(\"Accuracy : \" ,num_equal/len(test_dataset))"
   ]
  },
  {
   "cell_type": "markdown",
   "metadata": {
    "collapsed": true
   },
   "source": [
    "### TODO "
   ]
  },
  {
   "cell_type": "markdown",
   "metadata": {},
   "source": [
    "$$J(\\theta) = -log(exp(x[class]) / (\\sum_j exp(x[j]))) = -x[class] + log(\\sum_j exp(x[j]))$$"
   ]
  },
  {
   "cell_type": "markdown",
   "metadata": {},
   "source": [
    "The model architecture used for this task is just plain neural network. We used 2 hidden layers and the number of each node is 1024. The ReLU was used for activation function. In output layer, model transfromed its score to probability using softmax. And It got its loss with cross entropy. We used SGD optimizer with minibatch size of 32 and learning rate is 0.01."
   ]
  },
  {
   "cell_type": "code",
   "execution_count": null,
   "metadata": {
    "collapsed": true
   },
   "outputs": [],
   "source": []
  }
 ],
 "metadata": {
  "kernelspec": {
   "display_name": "Python 3",
   "language": "python",
   "name": "python3"
  },
  "language_info": {
   "codemirror_mode": {
    "name": "ipython",
    "version": 3
   },
   "file_extension": ".py",
   "mimetype": "text/x-python",
   "name": "python",
   "nbconvert_exporter": "python",
   "pygments_lexer": "ipython3",
   "version": "3.5.2"
  }
 },
 "nbformat": 4,
 "nbformat_minor": 2
}
