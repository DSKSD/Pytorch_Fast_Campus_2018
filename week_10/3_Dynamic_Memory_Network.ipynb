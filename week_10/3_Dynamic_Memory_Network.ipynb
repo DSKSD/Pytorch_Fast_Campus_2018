{
 "cells": [
  {
   "cell_type": "code",
   "execution_count": 1,
   "metadata": {
    "collapsed": true
   },
   "outputs": [],
   "source": [
    "import torch\n",
    "import torch.nn as nn\n",
    "from torch.autograd import Variable\n",
    "import torch.optim as optim\n",
    "import torch.nn.functional as F\n",
    "import random\n",
    "import numpy as np\n",
    "import os\n",
    "from bAbI_data_utils import bAbI_data_load, data_loader, pad_to_batch, pad_to_fact\n",
    "DATA_PATH = os.environ['DATA_PATH']\n",
    "\n",
    "USE_CUDA = torch.cuda.is_available()"
   ]
  },
  {
   "cell_type": "markdown",
   "metadata": {},
   "source": [
    "## 데이터 로드 "
   ]
  },
  {
   "cell_type": "markdown",
   "metadata": {},
   "source": [
    "bAbI dataset(https://research.fb.com/downloads/babi/)"
   ]
  },
  {
   "cell_type": "code",
   "execution_count": 2,
   "metadata": {
    "collapsed": false
   },
   "outputs": [
    {
     "name": "stdout",
     "output_type": "stream",
     "text": [
      "Start to data loading...\n"
     ]
    }
   ],
   "source": [
    "train_data, word2index = bAbI_data_load(DATA_PATH+\"bAbI/en-10k/qa1_single-supporting-fact_train.txt\")"
   ]
  },
  {
   "cell_type": "code",
   "execution_count": 3,
   "metadata": {
    "collapsed": true
   },
   "outputs": [],
   "source": [
    "train_loader = data_loader(train_data,batch_size=32,shuffle=True)"
   ]
  },
  {
   "cell_type": "code",
   "execution_count": 4,
   "metadata": {
    "collapsed": false
   },
   "outputs": [],
   "source": [
    "for batch in train_loader:\n",
    "    break"
   ]
  },
  {
   "cell_type": "code",
   "execution_count": 5,
   "metadata": {
    "collapsed": false
   },
   "outputs": [
    {
     "data": {
      "text/plain": [
       "32"
      ]
     },
     "execution_count": 5,
     "metadata": {},
     "output_type": "execute_result"
    }
   ],
   "source": [
    "len(batch)"
   ]
  },
  {
   "cell_type": "markdown",
   "metadata": {},
   "source": [
    "## 모델링 "
   ]
  },
  {
   "cell_type": "code",
   "execution_count": 6,
   "metadata": {
    "collapsed": true
   },
   "outputs": [],
   "source": [
    "class DMN(nn.Module):\n",
    "    def __init__(self, input_size, hidden_size, output_size, start_index, dropout_p=0.1):\n",
    "        super(DMN, self).__init__()\n",
    "        \n",
    "        self.hidden_size = hidden_size\n",
    "        self.embed = nn.Embedding(input_size, hidden_size, padding_idx=0)\n",
    "        self.input_gru = nn.GRU(hidden_size, hidden_size, batch_first=True)\n",
    "        self.question_gru = nn.GRU(hidden_size, hidden_size, batch_first=True)\n",
    "        \n",
    "        self.gate = nn.Sequential(\n",
    "                            nn.Linear(hidden_size * 4, hidden_size),\n",
    "                            nn.Tanh(),\n",
    "                            nn.Linear(hidden_size, 1),\n",
    "                            nn.Sigmoid()\n",
    "                        )\n",
    "        \n",
    "        self.attention_grucell =  nn.GRUCell(hidden_size, hidden_size)\n",
    "        self.memory_grucell = nn.GRUCell(hidden_size, hidden_size)\n",
    "        self.answer_grucell = nn.GRUCell(hidden_size * 2, hidden_size)\n",
    "        self.answer_fc = nn.Linear(hidden_size, output_size)\n",
    "        \n",
    "        self.start_index = start_index\n",
    "        self.dropout = nn.Dropout(dropout_p)\n",
    "        \n",
    "    def init_hidden(self, batch_size):\n",
    "        hidden = Variable(torch.zeros(1, batch_size, self.hidden_size))\n",
    "        return hidden.cuda() if USE_CUDA else hidden\n",
    "    \n",
    "    def init_start_decode(self,batch_size):\n",
    "        start = Variable(torch.LongTensor([[self.start_index] * batch_size])).transpose(0, 1)\n",
    "        return start.cuda() if USE_CUDA else start\n",
    "        \n",
    "    def init_weight(self):\n",
    "        nn.init.xavier_uniform(self.embed.state_dict()['weight'])\n",
    "        \n",
    "        for name, param in self.input_gru.state_dict().items():\n",
    "            if 'weight' in name: nn.init.xavier_normal(param)\n",
    "        for name, param in self.question_gru.state_dict().items():\n",
    "            if 'weight' in name: nn.init.xavier_normal(param)\n",
    "        for name, param in self.gate.state_dict().items():\n",
    "            if 'weight' in name: nn.init.xavier_normal(param)\n",
    "        for name, param in self.attention_grucell.state_dict().items():\n",
    "            if 'weight' in name: nn.init.xavier_normal(param)\n",
    "        for name, param in self.memory_grucell.state_dict().items():\n",
    "            if 'weight' in name: nn.init.xavier_normal(param)\n",
    "        for name, param in self.answer_grucell.state_dict().items():\n",
    "            if 'weight' in name: nn.init.xavier_normal(param)\n",
    "        \n",
    "        nn.init.xavier_normal(self.answer_fc.state_dict()['weight'])\n",
    "        self.answer_fc.bias.data.fill_(0)\n",
    "        \n",
    "    def forward(self, facts, fact_masks, questions, question_masks, num_decode, episodes=3):\n",
    "        \"\"\"\n",
    "        facts : (B,T_C,T_I) / LongTensor in List # batch_size, num_of_facts, length_of_each_fact(padded)\n",
    "        fact_masks : (B,T_C,T_I) / ByteTensor in List # batch_size, num_of_facts, length_of_each_fact(padded)\n",
    "        questions : (B,T_Q) / LongTensor # batch_size, question_length\n",
    "        question_masks : (B,T_Q) / ByteTensor # batch_size, question_length\n",
    "        \"\"\"\n",
    "        batch_size = len(facts)\n",
    "        # Input Module\n",
    "        C = [] # encoded facts\n",
    "        for fact, fact_mask in zip(facts, fact_masks):\n",
    "            embeds = self.embed(fact)\n",
    "            embeds = self.dropout(embeds)\n",
    "            hidden = self.init_hidden(fact.size(0))\n",
    "            outputs, hidden = self.input_gru(embeds, hidden)\n",
    "            real_hidden = []\n",
    "\n",
    "            for i, o in enumerate(outputs): # B,T,D\n",
    "                real_length = fact_mask[i].data.tolist().count(0) \n",
    "                real_hidden.append(o[real_length - 1])\n",
    "\n",
    "            C.append(torch.cat(real_hidden).view(fact.size(0), -1).unsqueeze(0))\n",
    "        \n",
    "        encoded_facts = torch.cat(C) # B,T_C,D\n",
    "        \n",
    "        # Question Module\n",
    "        embeds = self.embed(questions)\n",
    "        embeds = self.dropout(embeds)\n",
    "        hidden = self.init_hidden(batch_size)\n",
    "        outputs, hidden = self.question_gru(embeds, hidden)\n",
    "        \n",
    "        if isinstance(question_masks, torch.autograd.variable.Variable):\n",
    "            real_question = []\n",
    "            for i, o in enumerate(outputs): # B,T,D\n",
    "                real_length = question_masks[i].data.tolist().count(0) \n",
    "                real_question.append(o[real_length - 1])\n",
    "            encoded_question = torch.cat(real_question).view(questions.size(0), -1) # B,D\n",
    "        else: # for inference mode\n",
    "            encoded_question = hidden.squeeze(0) # B,D\n",
    "            \n",
    "        # Episodic Memory Module\n",
    "        memory = encoded_question\n",
    "        T_C = encoded_facts.size(1)\n",
    "        for i in range(episodes):\n",
    "            hidden = self.init_hidden(batch_size).squeeze(0) # B,D\n",
    "            for t in range(T_C):\n",
    "                z = torch.cat([\n",
    "                                    encoded_facts.transpose(0, 1)[t] * encoded_question, # B,D , element-wise product\n",
    "                                    encoded_facts.transpose(0, 1)[t] * memory, # B,D , element-wise product\n",
    "                                    torch.abs(encoded_facts.transpose(0,1)[t] - encoded_question), # B,D\n",
    "                                    torch.abs(encoded_facts.transpose(0,1)[t] - memory) # B,D\n",
    "                                ], 1)\n",
    "                g_t = self.gate(z) # B,1 scalar\n",
    "                hidden = g_t * self.attention_grucell(encoded_facts.transpose(0, 1)[t], hidden) + (1 - g_t) * hidden\n",
    "                \n",
    "            e = hidden\n",
    "            memory = self.memory_grucell(e, memory)\n",
    "        \n",
    "        # Answer Module\n",
    "        answer_hidden = memory\n",
    "        start_decode = self.init_start_decode(batch_size)\n",
    "        y_t_1 = self.embed(start_decode).squeeze(1) # B,D\n",
    "        \n",
    "        decodes = []\n",
    "        for t in range(num_decode):\n",
    "            answer_hidden = self.answer_grucell(torch.cat([y_t_1, encoded_question], 1), answer_hidden)\n",
    "            decodes.append(self.answer_fc(answer_hidden),1)\n",
    "        return torch.cat(decodes, 1).view(batch_size * num_decode, -1)"
   ]
  },
  {
   "cell_type": "markdown",
   "metadata": {},
   "source": [
    "## 트레이닝 "
   ]
  },
  {
   "cell_type": "code",
   "execution_count": 11,
   "metadata": {
    "collapsed": true
   },
   "outputs": [],
   "source": [
    "HIDDEN_SIZE = 80\n",
    "BATCH_SIZE = 16\n",
    "LR = 0.001\n",
    "EPOCH = 50\n",
    "NUM_EPISODE = 3\n",
    "EARLY_STOPPING = False"
   ]
  },
  {
   "cell_type": "code",
   "execution_count": 12,
   "metadata": {
    "collapsed": false
   },
   "outputs": [],
   "source": [
    "model = DMN(len(word2index), HIDDEN_SIZE, len(word2index),word2index['<s>'])\n",
    "model.init_weight()\n",
    "if USE_CUDA:\n",
    "    model = model.cuda()\n",
    "\n",
    "loss_function = nn.CrossEntropyLoss(ignore_index=0)\n",
    "optimizer = optim.Adam(model.parameters(), lr=LR)"
   ]
  },
  {
   "cell_type": "code",
   "execution_count": 13,
   "metadata": {
    "collapsed": false
   },
   "outputs": [
    {
     "name": "stdout",
     "output_type": "stream",
     "text": [
      "[0/50] mean_loss : 3.20\n",
      "[0/50] mean_loss : 1.21\n",
      "[0/50] mean_loss : 0.91\n",
      "[0/50] mean_loss : 0.90\n",
      "[0/50] mean_loss : 0.91\n",
      "[0/50] mean_loss : 0.91\n",
      "[0/50] mean_loss : 0.91\n",
      "[1/50] mean_loss : 0.86\n",
      "[1/50] mean_loss : 0.90\n",
      "[1/50] mean_loss : 0.91\n",
      "[1/50] mean_loss : 0.90\n",
      "[1/50] mean_loss : 0.90\n",
      "[1/50] mean_loss : 0.87\n",
      "[1/50] mean_loss : 0.83\n",
      "[2/50] mean_loss : 0.85\n",
      "[2/50] mean_loss : 0.77\n",
      "[2/50] mean_loss : 0.68\n",
      "[2/50] mean_loss : 0.64\n",
      "[2/50] mean_loss : 0.59\n",
      "[2/50] mean_loss : 0.56\n",
      "[2/50] mean_loss : 0.57\n",
      "[3/50] mean_loss : 0.47\n",
      "[3/50] mean_loss : 0.54\n",
      "[3/50] mean_loss : 0.53\n",
      "[3/50] mean_loss : 0.53\n",
      "[3/50] mean_loss : 0.55\n",
      "[3/50] mean_loss : 0.51\n",
      "[3/50] mean_loss : 0.53\n",
      "[4/50] mean_loss : 0.52\n",
      "[4/50] mean_loss : 0.50\n",
      "[4/50] mean_loss : 0.52\n",
      "[4/50] mean_loss : 0.52\n",
      "[4/50] mean_loss : 0.51\n",
      "[4/50] mean_loss : 0.52\n",
      "[4/50] mean_loss : 0.51\n",
      "[5/50] mean_loss : 0.41\n",
      "[5/50] mean_loss : 0.50\n",
      "[5/50] mean_loss : 0.50\n",
      "[5/50] mean_loss : 0.51\n",
      "[5/50] mean_loss : 0.51\n",
      "[5/50] mean_loss : 0.50\n",
      "[5/50] mean_loss : 0.51\n",
      "[6/50] mean_loss : 0.62\n",
      "[6/50] mean_loss : 0.49\n",
      "[6/50] mean_loss : 0.50\n",
      "[6/50] mean_loss : 0.50\n",
      "[6/50] mean_loss : 0.50\n",
      "[6/50] mean_loss : 0.51\n",
      "[6/50] mean_loss : 0.50\n",
      "[7/50] mean_loss : 0.43\n",
      "[7/50] mean_loss : 0.49\n",
      "[7/50] mean_loss : 0.49\n",
      "[7/50] mean_loss : 0.48\n",
      "[7/50] mean_loss : 0.49\n",
      "[7/50] mean_loss : 0.50\n",
      "[7/50] mean_loss : 0.48\n",
      "[8/50] mean_loss : 0.51\n",
      "[8/50] mean_loss : 0.48\n",
      "[8/50] mean_loss : 0.46\n",
      "[8/50] mean_loss : 0.11\n",
      "[8/50] mean_loss : 0.00\n",
      "Early Stopping!\n"
     ]
    }
   ],
   "source": [
    "model.train()\n",
    "for epoch in range(EPOCH):\n",
    "    losses = []\n",
    "    if EARLY_STOPPING: \n",
    "        break\n",
    "        \n",
    "    for i,batch in enumerate(data_loader(train_data,BATCH_SIZE,True)):\n",
    "        facts, fact_masks, questions, question_masks, answers = pad_to_batch(batch, word2index)\n",
    "        \n",
    "        model.zero_grad()\n",
    "        pred = model(facts, fact_masks, questions, question_masks, answers.size(1), NUM_EPISODE)\n",
    "        loss = loss_function(pred, answers.view(-1))\n",
    "        losses.append(loss.data.tolist()[0])\n",
    "        \n",
    "        loss.backward()\n",
    "        optimizer.step()\n",
    "        \n",
    "        if i % 100 == 0:\n",
    "            print(\"[%d/%d] mean_loss : %0.2f\" %(epoch, EPOCH, np.mean(losses)))\n",
    "            \n",
    "            if np.mean(losses) < 0.01:\n",
    "                EARLY_STOPPING = True\n",
    "                print(\"Early Stopping!\")\n",
    "                break\n",
    "            losses = []"
   ]
  },
  {
   "cell_type": "markdown",
   "metadata": {},
   "source": [
    "## 테스트 "
   ]
  },
  {
   "cell_type": "code",
   "execution_count": 14,
   "metadata": {
    "collapsed": false
   },
   "outputs": [
    {
     "name": "stdout",
     "output_type": "stream",
     "text": [
      "Start to data loading...\n"
     ]
    }
   ],
   "source": [
    "test_data, word2index = bAbI_data_load(DATA_PATH+\"bAbI/en-10k/qa1_single-supporting-fact_train.txt\",word2index)"
   ]
  },
  {
   "cell_type": "markdown",
   "metadata": {},
   "source": [
    "### 정량적 테스트 : Accruacy "
   ]
  },
  {
   "cell_type": "code",
   "execution_count": 21,
   "metadata": {
    "collapsed": false
   },
   "outputs": [
    {
     "name": "stdout",
     "output_type": "stream",
     "text": [
      "100.0\n"
     ]
    }
   ],
   "source": [
    "accuracy=0\n",
    "model.eval()\n",
    "for t in test_data:\n",
    "    fact, fact_mask = pad_to_fact(t[0], word2index)\n",
    "    question = t[1]\n",
    "    question_mask = Variable(torch.ByteTensor([0] * t[1].size(1))).unsqueeze(0)\n",
    "    answer = t[2].squeeze(0)\n",
    "    \n",
    "    model.zero_grad()\n",
    "    pred = model([fact], [fact_mask], question, question_mask, answer.size(0), NUM_EPISODE)\n",
    "    if pred.max(1)[1].data.tolist() == answer.data.tolist():\n",
    "        accuracy += 1\n",
    "\n",
    "print(accuracy/len(test_data) * 100)"
   ]
  },
  {
   "cell_type": "markdown",
   "metadata": {},
   "source": [
    "### 정성적 테스트 "
   ]
  },
  {
   "cell_type": "code",
   "execution_count": 24,
   "metadata": {
    "collapsed": true
   },
   "outputs": [],
   "source": [
    "index2word = {v:k for k,v in word2index.items()}"
   ]
  },
  {
   "cell_type": "code",
   "execution_count": 25,
   "metadata": {
    "collapsed": false
   },
   "outputs": [
    {
     "name": "stdout",
     "output_type": "stream",
     "text": [
      "Facts : \n",
      "John travelled to the bedroom </s> <pad>\n",
      "Mary travelled to the garden </s> <pad>\n",
      "Sandra went back to the office </s>\n",
      "John journeyed to the office </s> <pad>\n",
      "Mary journeyed to the kitchen </s> <pad>\n",
      "John went back to the kitchen </s>\n",
      "Daniel went back to the hallway </s>\n",
      "Sandra went back to the bedroom </s>\n",
      "\n",
      "Question :  Where is Daniel ?\n",
      "\n",
      "Answer :  hallway </s>\n",
      "Prediction :  hallway </s>\n"
     ]
    }
   ],
   "source": [
    "t = random.choice(test_data)\n",
    "fact, fact_mask = pad_to_fact(t[0],word2index)\n",
    "question = t[1]\n",
    "question_mask = Variable(torch.ByteTensor([0] * t[1].size(1))).unsqueeze(0)\n",
    "answer = t[2].squeeze(0)\n",
    "\n",
    "model.zero_grad()\n",
    "pred = model([fact], [fact_mask], question, question_mask, answer.size(0), NUM_EPISODE)\n",
    "\n",
    "print(\"Facts : \")\n",
    "print('\\n'.join([' '.join(list(map(lambda x: index2word[x],f))) for f in fact.data.tolist()]))\n",
    "print(\"\")\n",
    "print(\"Question : \",' '.join(list(map(lambda x: index2word[x], question.data.tolist()[0]))))\n",
    "print(\"\")\n",
    "print(\"Answer : \",' '.join(list(map(lambda x: index2word[x], answer.data.tolist()))))\n",
    "print(\"Prediction : \",' '.join(list(map(lambda x: index2word[x], pred.max(1)[1].data.tolist()))))"
   ]
  },
  {
   "cell_type": "code",
   "execution_count": null,
   "metadata": {
    "collapsed": true
   },
   "outputs": [],
   "source": []
  }
 ],
 "metadata": {
  "kernelspec": {
   "display_name": "Python 3",
   "language": "python",
   "name": "python3"
  },
  "language_info": {
   "codemirror_mode": {
    "name": "ipython",
    "version": 3
   },
   "file_extension": ".py",
   "mimetype": "text/x-python",
   "name": "python",
   "nbconvert_exporter": "python",
   "pygments_lexer": "ipython3",
   "version": "3.5.2"
  }
 },
 "nbformat": 4,
 "nbformat_minor": 2
}
