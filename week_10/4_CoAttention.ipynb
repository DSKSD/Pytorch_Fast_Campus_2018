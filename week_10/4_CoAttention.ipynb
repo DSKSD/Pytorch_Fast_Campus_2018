{
 "cells": [
  {
   "cell_type": "code",
   "execution_count": 2,
   "metadata": {
    "collapsed": true
   },
   "outputs": [],
   "source": [
    "import torch\n",
    "import torch.nn as nn\n",
    "import torch.nn.functional as F\n",
    "import torch.optim as optim\n",
    "from torch.autograd import Variable\n",
    "import numpy as np\n",
    "from konlpy.tag import Twitter\n",
    "tagger = Twitter()"
   ]
  },
  {
   "cell_type": "code",
   "execution_count": 4,
   "metadata": {
    "collapsed": true
   },
   "outputs": [],
   "source": [
    "context = \"아까 만났던 그의 이름은 스미스라고 한다. 그의 직장은 아주 글로벌한 IT 기업인데 스미스의 상사는 연봉이 1억이라고 한다.\"\n",
    "question = \"스미스 상사의 연봉은?\""
   ]
  },
  {
   "cell_type": "markdown",
   "metadata": {},
   "source": [
    "## TODO"
   ]
  },
  {
   "cell_type": "markdown",
   "metadata": {},
   "source": [
    "1. context와 question을 tokenized하고 vocab을 구축\n",
    "2. Embedding matrix 선언 (word vecotor size = 10)\n",
    "3. Bi-LSTM 선언 (hidden size = 30, layer = 1)\n",
    "4. context와 question을 각각 LSTM에 집어넣어서 output을 얻어낸 다음\n",
    "5. Affinity Matrix를 얻어내고\n",
    "6. A_Q와  A_C를 계산하라 (Coattention)"
   ]
  },
  {
   "cell_type": "code",
   "execution_count": null,
   "metadata": {
    "collapsed": true
   },
   "outputs": [],
   "source": []
  }
 ],
 "metadata": {
  "kernelspec": {
   "display_name": "Python 3",
   "language": "python",
   "name": "python3"
  },
  "language_info": {
   "codemirror_mode": {
    "name": "ipython",
    "version": 3
   },
   "file_extension": ".py",
   "mimetype": "text/x-python",
   "name": "python",
   "nbconvert_exporter": "python",
   "pygments_lexer": "ipython3",
   "version": "3.5.2"
  }
 },
 "nbformat": 4,
 "nbformat_minor": 2
}
