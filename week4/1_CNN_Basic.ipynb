{
 "cells": [
  {
   "cell_type": "code",
   "execution_count": 1,
   "metadata": {},
   "outputs": [],
   "source": [
    "import torch\n",
    "import torch.nn as nn\n",
    "from torch.autograd import Variable\n",
    "import torch.optim as optim\n",
    "import torch.nn.functional as F\n",
    "import numpy as np\n",
    "import torchvision.transforms as transforms\n",
    "import torchvision.datasets as vdatasets\n",
    "import torchvision.utils as vutils\n",
    "import random\n",
    "from tensorboardX import SummaryWriter\n",
    "torch.manual_seed(1)\n",
    "\n",
    "USE_CUDA = torch.cuda.is_available()\n",
    "\n",
    "import matplotlib.pyplot as plt\n",
    "%matplotlib inline"
   ]
  },
  {
   "cell_type": "markdown",
   "metadata": {},
   "source": [
    "### FashionMNIST "
   ]
  },
  {
   "cell_type": "code",
   "execution_count": 2,
   "metadata": {},
   "outputs": [
    {
     "name": "stdout",
     "output_type": "stream",
     "text": [
      "Downloading http://fashion-mnist.s3-website.eu-central-1.amazonaws.com/train-images-idx3-ubyte.gz\n",
      "Downloading http://fashion-mnist.s3-website.eu-central-1.amazonaws.com/train-labels-idx1-ubyte.gz\n",
      "Downloading http://fashion-mnist.s3-website.eu-central-1.amazonaws.com/t10k-images-idx3-ubyte.gz\n",
      "Downloading http://fashion-mnist.s3-website.eu-central-1.amazonaws.com/t10k-labels-idx1-ubyte.gz\n",
      "Processing...\n",
      "Done!\n"
     ]
    }
   ],
   "source": [
    "train_dataset = vdatasets.FashionMNIST(root='../data/FM/',\n",
    "                               train=True, \n",
    "                               transform=transforms.ToTensor(),\n",
    "                               download=True)\n",
    "\n",
    "\n",
    "train_loader = torch.utils.data.DataLoader(dataset=train_dataset,\n",
    "                                           batch_size=64, \n",
    "                                           shuffle=True,\n",
    "                                           num_workers=2)\n",
    "\n",
    "test_dataset = vdatasets.FashionMNIST(root='../data/FM/',\n",
    "                               train=False, \n",
    "                               transform=transforms.ToTensor(),\n",
    "                               download=True)\n",
    "\n",
    "\n",
    "test_loader = torch.utils.data.DataLoader(dataset=test_dataset,\n",
    "                                           batch_size=64, \n",
    "                                           shuffle=True,\n",
    "                                           num_workers=2)"
   ]
  },
  {
   "cell_type": "code",
   "execution_count": 5,
   "metadata": {},
   "outputs": [
    {
     "data": {
      "image/png": "[encoded data removed]",
      "text/plain": [
       "<matplotlib.figure.Figure at 0x7feece5dd1d0>"
      ]
     },
     "metadata": {},
     "output_type": "display_data"
    }
   ],
   "source": [
    "for i in range(9):\n",
    "    plt.subplot(3,3,i+1)\n",
    "    plt.imshow(train_dataset[i][0].squeeze(0).numpy(), cmap='gray', interpolation='none')\n",
    "    plt.title(\"Class {}\".format(train_dataset[i][1]))"
   ]
  },
  {
   "cell_type": "code",
   "execution_count": 17,
   "metadata": {
    "collapsed": true
   },
   "outputs": [],
   "source": [
    "class CNN(nn.Module):\n",
    "    def __init__(self):\n",
    "        super(CNN,self).__init__()\n",
    "        \n",
    "        self.conv_layer1 = nn.Sequential(\n",
    "            nn.Conv2d(1,16,5,padding=2),\n",
    "            nn.ReLU(),\n",
    "            nn.MaxPool2d(2,return_indices=True)\n",
    "            )\n",
    "        \n",
    "        self.conv_layer2 = nn.Sequential(\n",
    "            nn.Conv2d(16,32,5,padding=2),\n",
    "            nn.ReLU(),\n",
    "            nn.MaxPool2d(2,return_indices=True)\n",
    "        )\n",
    "        \n",
    "        self.fc = nn.Sequential(\n",
    "            nn.Linear(32*7*7,128),\n",
    "            nn.ReLU(),\n",
    "            nn.Linear(128,10)\n",
    "        )\n",
    "    \n",
    "        self.deconv = nn.ConvTranspose2d(1,1,5,padding=2)\n",
    "        self.unpooling = nn.MaxUnpool2d(2)\n",
    "\n",
    "    \n",
    "    def visualize_layer(self,inputs,layer=None):\n",
    "        inputs,indices1 = self.conv_layer1(inputs)\n",
    "        \n",
    "        featuremaps=[]\n",
    "#         index = random.choice(range(inputs.size(1)))\n",
    "        for index in range(inputs.size(1)):\n",
    "            featuremap = inputs[0][index].view(1,1,inputs.size(2),inputs.size(3))\n",
    "            f_indices = indices1[0][index].view(1,1,inputs.size(2),inputs.size(3))\n",
    "            unpooled = self.unpooling(featuremap,f_indices)\n",
    "            unpooled = F.relu(unpooled)\n",
    "\n",
    "            # 해당 필터 weight 복사\n",
    "            self.deconv.weight.data = self.conv_layer1[0].weight.data[index].unsqueeze(0).clone()\n",
    "            deconved1 = self.deconv(unpooled)\n",
    "            featuremaps.append(deconved1)\n",
    "        return featuremaps\n",
    "        \n",
    "    def forward(self,inputs):\n",
    "        inputs,_ = self.conv_layer1(inputs)\n",
    "        inputs,_ = self.conv_layer2(inputs)\n",
    "        \n",
    "        return self.fc(inputs.view(inputs.size(0),-1))\n",
    "        "
   ]
  },
  {
   "cell_type": "code",
   "execution_count": 18,
   "metadata": {
    "collapsed": true
   },
   "outputs": [],
   "source": [
    "EPOCH=3\n",
    "LR=0.01\n",
    "BATCH_SIZE=64\n",
    "\n",
    "model = CNN()\n",
    "loss_function = nn.CrossEntropyLoss() # 소프트맥스 함수 포함하고 있음\n",
    "optimizer = optim.Adam(model.parameters(), lr=LR)"
   ]
  },
  {
   "cell_type": "code",
   "execution_count": 19,
   "metadata": {},
   "outputs": [
    {
     "name": "stdout",
     "output_type": "stream",
     "text": [
      "[0/3] [000/938] mean_loss : 2.323\n",
      "[0/3] [100/938] mean_loss : 0.878\n",
      "[0/3] [200/938] mean_loss : 0.488\n",
      "[0/3] [300/938] mean_loss : 0.460\n",
      "[0/3] [400/938] mean_loss : 0.417\n",
      "[0/3] [500/938] mean_loss : 0.404\n",
      "[0/3] [600/938] mean_loss : 0.370\n",
      "[0/3] [700/938] mean_loss : 0.383\n",
      "[0/3] [800/938] mean_loss : 0.354\n",
      "[0/3] [900/938] mean_loss : 0.353\n",
      "[1/3] [000/938] mean_loss : 0.285\n",
      "[1/3] [100/938] mean_loss : 0.341\n",
      "[1/3] [200/938] mean_loss : 0.337\n",
      "[1/3] [300/938] mean_loss : 0.341\n",
      "[1/3] [400/938] mean_loss : 0.339\n",
      "[1/3] [500/938] mean_loss : 0.338\n",
      "[1/3] [600/938] mean_loss : 0.339\n",
      "[1/3] [700/938] mean_loss : 0.324\n",
      "[1/3] [800/938] mean_loss : 0.331\n",
      "[1/3] [900/938] mean_loss : 0.331\n",
      "[2/3] [000/938] mean_loss : 0.211\n",
      "[2/3] [100/938] mean_loss : 0.305\n",
      "[2/3] [200/938] mean_loss : 0.292\n",
      "[2/3] [300/938] mean_loss : 0.308\n",
      "[2/3] [400/938] mean_loss : 0.334\n",
      "[2/3] [500/938] mean_loss : 0.296\n",
      "[2/3] [600/938] mean_loss : 0.325\n",
      "[2/3] [700/938] mean_loss : 0.298\n",
      "[2/3] [800/938] mean_loss : 0.332\n",
      "[2/3] [900/938] mean_loss : 0.322\n"
     ]
    }
   ],
   "source": [
    "for epoch in range(EPOCH):\n",
    "    losses=[]\n",
    "    for i, (inputs, targets) in enumerate(train_loader):\n",
    "        inputs, targets = Variable(inputs), Variable(targets)\n",
    "        model.zero_grad()\n",
    "        outputs = model(inputs)\n",
    "        loss = loss_function(outputs, targets)\n",
    "        loss.backward()\n",
    "        optimizer.step()\n",
    "\n",
    "        losses.append(loss.data[0])\n",
    "        if i % 100 == 0:\n",
    "            print(\"[%d/%d] [%03d/%d] mean_loss : %.3f\" % (epoch,EPOCH,i,len(train_loader),np.mean(losses)))\n",
    "            losses=[]"
   ]
  },
  {
   "cell_type": "code",
   "execution_count": 38,
   "metadata": {},
   "outputs": [
    {
     "data": {
      "image/png": "[encoded data removed]",
      "text/plain": [
       "<matplotlib.figure.Figure at 0x7fee5e89ab00>"
      ]
     },
     "metadata": {},
     "output_type": "display_data"
    },
    {
     "name": "stdout",
     "output_type": "stream",
     "text": [
      "Featuremaps from layer1\n"
     ]
    },
    {
     "data": {
      "image/png": "[encoded data removed]",
      "text/plain": [
       "<matplotlib.figure.Figure at 0x7fee586faeb8>"
      ]
     },
     "metadata": {},
     "output_type": "display_data"
    }
   ],
   "source": [
    "input = random.choice(test_dataset)\n",
    "\n",
    "plt.imshow(input[0].squeeze().numpy(), cmap='gray', interpolation='none')\n",
    "plt.title(\"Raw Image\")\n",
    "plt.show()\n",
    "\n",
    "features = model.visualize_layer(Variable(input[0].unsqueeze(0)))\n",
    "\n",
    "print(\"Featuremaps from layer1\")\n",
    "for i,feature in enumerate(features):\n",
    "    plt.subplot(4,4,i+1)\n",
    "    plt.imshow(feature.squeeze().data.numpy(), cmap='gray', interpolation='none')\n"
   ]
  },
  {
   "cell_type": "markdown",
   "metadata": {},
   "source": [
    "* 웨이트 순으로 정렬 후, 탑 9개만 보여주기\n",
    "* 레이어별로 보여주기\n",
    "* CIFAR-10 적용"
   ]
  },
  {
   "cell_type": "code",
   "execution_count": null,
   "metadata": {
    "collapsed": true
   },
   "outputs": [],
   "source": []
  }
 ],
 "metadata": {
  "kernelspec": {
   "display_name": "Python 3",
   "language": "python",
   "name": "python3"
  },
  "language_info": {
   "codemirror_mode": {
    "name": "ipython",
    "version": 3
   },
   "file_extension": ".py",
   "mimetype": "text/x-python",
   "name": "python",
   "nbconvert_exporter": "python",
   "pygments_lexer": "ipython3",
   "version": "3.5.2"
  }
 },
 "nbformat": 4,
 "nbformat_minor": 2
}
