{
 "cells": [
  {
   "cell_type": "code",
   "execution_count": 1,
   "metadata": {
    "collapsed": false
   },
   "outputs": [],
   "source": [
    "import torch\n",
    "import torch.nn as nn\n",
    "from torch.autograd import Variable\n",
    "import torch.optim as optim\n",
    "import torch.nn.functional as F\n",
    "import numpy as np\n",
    "import torchvision.transforms as transforms\n",
    "import torchvision.datasets as vdatasets\n",
    "import torchvision.utils as vutils\n",
    "import random\n",
    "from tensorboardX import SummaryWriter\n",
    "import os\n",
    "torch.manual_seed(1)\n",
    "\n",
    "DATA_PATH = os.environ['DATA_PATH']\n",
    "USE_CUDA = torch.cuda.is_available()\n",
    "\n",
    "import matplotlib.pyplot as plt\n",
    "%matplotlib inline"
   ]
  },
  {
   "cell_type": "markdown",
   "metadata": {},
   "source": [
    "### FashionMNIST "
   ]
  },
  {
   "cell_type": "code",
   "execution_count": 3,
   "metadata": {
    "collapsed": false
   },
   "outputs": [],
   "source": [
    "train_dataset = vdatasets.FashionMNIST(root=DATA_PATH+'FM/',\n",
    "                               train=True, \n",
    "                               transform=transforms.ToTensor(),\n",
    "                               download=True)\n",
    "\n",
    "\n",
    "train_loader = torch.utils.data.DataLoader(dataset=train_dataset,\n",
    "                                           batch_size=64, \n",
    "                                           shuffle=True,\n",
    "                                           num_workers=2)\n",
    "\n",
    "test_dataset = vdatasets.FashionMNIST(root=DATA_PATH+'FM/',\n",
    "                               train=False, \n",
    "                               transform=transforms.ToTensor(),\n",
    "                               download=True)\n",
    "\n",
    "\n",
    "test_loader = torch.utils.data.DataLoader(dataset=test_dataset,\n",
    "                                           batch_size=64, \n",
    "                                           shuffle=True,\n",
    "                                           num_workers=2)"
   ]
  },
  {
   "cell_type": "code",
   "execution_count": 7,
   "metadata": {
    "collapsed": false
   },
   "outputs": [
    {
     "data": {
      "text/plain": [
       "torch.Size([1, 28, 28])"
      ]
     },
     "execution_count": 7,
     "metadata": {},
     "output_type": "execute_result"
    }
   ],
   "source": [
    "train_dataset[0][0].size()"
   ]
  },
  {
   "cell_type": "code",
   "execution_count": 8,
   "metadata": {
    "collapsed": false
   },
   "outputs": [
    {
     "data": {
      "image/png": "[encoded data removed]",
      "text/plain": [
       "<matplotlib.figure.Figure at 0x7f9f63a87780>"
      ]
     },
     "metadata": {},
     "output_type": "display_data"
    }
   ],
   "source": [
    "for i in range(9):\n",
    "    plt.subplot(3,3,i+1)\n",
    "    plt.imshow(train_dataset[i][0].squeeze(0).numpy(), cmap='gray', interpolation='none')\n",
    "    plt.title(\"Class {}\".format(train_dataset[i][1]))"
   ]
  },
  {
   "cell_type": "markdown",
   "metadata": {},
   "source": [
    "## Convolution layer "
   ]
  },
  {
   "cell_type": "code",
   "execution_count": 9,
   "metadata": {
    "collapsed": true
   },
   "outputs": [],
   "source": [
    "sample_image = torch.randn(10,3,28,28) # 배치사이즈 B, 채널(RGB) C, 높이 H, 너비 W"
   ]
  },
  {
   "cell_type": "code",
   "execution_count": 10,
   "metadata": {
    "collapsed": true
   },
   "outputs": [],
   "source": [
    "convolution = nn.Conv2d(3,32,5) # in_channels, out_channels, kernel_size, stride=1, padding=0, dilation=1"
   ]
  },
  {
   "cell_type": "code",
   "execution_count": 11,
   "metadata": {
    "collapsed": false
   },
   "outputs": [
    {
     "data": {
      "text/plain": [
       "torch.Size([10, 32, 24, 24])"
      ]
     },
     "execution_count": 11,
     "metadata": {},
     "output_type": "execute_result"
    }
   ],
   "source": [
    "convolutioned = convolution(Variable(sample_image))\n",
    "convolutioned.size()"
   ]
  },
  {
   "cell_type": "markdown",
   "metadata": {},
   "source": [
    "### TODO"
   ]
  },
  {
   "cell_type": "markdown",
   "metadata": {},
   "source": [
    "Fashion MNIST 데이터셋 중 하나를 골라 convolution 결과 텐서의 사이즈가 (1,16,28,28)가 되도록 하시오 (커널 사이즈는 5x5)"
   ]
  },
  {
   "cell_type": "code",
   "execution_count": 12,
   "metadata": {
    "collapsed": false
   },
   "outputs": [
    {
     "data": {
      "text/plain": [
       "torch.Size([1, 28, 28])"
      ]
     },
     "execution_count": 12,
     "metadata": {},
     "output_type": "execute_result"
    }
   ],
   "source": [
    "sample_fmnist = random.choice(train_dataset)[0]\n",
    "sample_fmnist.size()"
   ]
  },
  {
   "cell_type": "code",
   "execution_count": 13,
   "metadata": {
    "collapsed": false
   },
   "outputs": [],
   "source": [
    "convolution = nn.Conv2d(1,16,5,padding=2) # (5-1)/2 = 2 paddings"
   ]
  },
  {
   "cell_type": "code",
   "execution_count": 15,
   "metadata": {
    "collapsed": false
   },
   "outputs": [
    {
     "data": {
      "text/plain": [
       "torch.Size([1, 1, 28, 28])"
      ]
     },
     "execution_count": 15,
     "metadata": {},
     "output_type": "execute_result"
    }
   ],
   "source": [
    "sample_fmnist.unsqueeze(0).size()"
   ]
  },
  {
   "cell_type": "code",
   "execution_count": 16,
   "metadata": {
    "collapsed": true
   },
   "outputs": [],
   "source": [
    "convolutioned = convolution(Variable(sample_fmnist.unsqueeze(0)))"
   ]
  },
  {
   "cell_type": "code",
   "execution_count": 17,
   "metadata": {
    "collapsed": false
   },
   "outputs": [
    {
     "data": {
      "text/plain": [
       "torch.Size([1, 16, 28, 28])"
      ]
     },
     "execution_count": 17,
     "metadata": {},
     "output_type": "execute_result"
    }
   ],
   "source": [
    "convolutioned.size()"
   ]
  },
  {
   "cell_type": "markdown",
   "metadata": {},
   "source": [
    "## Pooling layer "
   ]
  },
  {
   "cell_type": "code",
   "execution_count": 2,
   "metadata": {
    "collapsed": true
   },
   "outputs": [],
   "source": [
    "sample_image = torch.randn(1,1,4,4)"
   ]
  },
  {
   "cell_type": "code",
   "execution_count": 41,
   "metadata": {
    "collapsed": false
   },
   "outputs": [
    {
     "data": {
      "text/plain": [
       "\n",
       "(0 ,0 ,.,.) = \n",
       "  1.4299  0.6030  0.2310 -0.8852\n",
       " -1.0935  0.5040  1.2745  1.5891\n",
       "  1.0622  0.4991 -0.8974  0.0695\n",
       "  1.4051  0.3397 -0.7530  0.9124\n",
       "[torch.FloatTensor of size 1x1x4x4]"
      ]
     },
     "execution_count": 41,
     "metadata": {},
     "output_type": "execute_result"
    }
   ],
   "source": [
    "sample_image"
   ]
  },
  {
   "cell_type": "code",
   "execution_count": 3,
   "metadata": {
    "collapsed": true
   },
   "outputs": [],
   "source": [
    "maxpooling = nn.MaxPool2d(2) # kernel_size, stride=kernel_size,padding=0, dilation=1\n",
    "avgpooling = nn.AvgPool2d(2) # kernel_size, stride=kernel_size,padding=0, dilation=1\n",
    "\n",
    "maxpooled = maxpooling(Variable(sample_image))\n",
    "avgpooled = avgpooling(Variable(sample_image))"
   ]
  },
  {
   "cell_type": "code",
   "execution_count": 49,
   "metadata": {
    "collapsed": false
   },
   "outputs": [
    {
     "data": {
      "text/plain": [
       "Variable containing:\n",
       "(0 ,0 ,.,.) = \n",
       "  1.4299  1.5891\n",
       "  1.4051  0.9124\n",
       "[torch.FloatTensor of size 1x1x2x2]"
      ]
     },
     "execution_count": 49,
     "metadata": {},
     "output_type": "execute_result"
    }
   ],
   "source": [
    "maxpooled"
   ]
  },
  {
   "cell_type": "code",
   "execution_count": 50,
   "metadata": {
    "collapsed": false
   },
   "outputs": [
    {
     "data": {
      "text/plain": [
       "Variable containing:\n",
       "(0 ,0 ,.,.) = \n",
       "  0.3608  0.5524\n",
       "  0.8265 -0.1671\n",
       "[torch.FloatTensor of size 1x1x2x2]"
      ]
     },
     "execution_count": 50,
     "metadata": {},
     "output_type": "execute_result"
    }
   ],
   "source": [
    "avgpooled"
   ]
  },
  {
   "cell_type": "markdown",
   "metadata": {},
   "source": [
    "### TODO "
   ]
  },
  {
   "cell_type": "markdown",
   "metadata": {},
   "source": [
    "fully connected layer(self.fc)를 직접 작성하시오. 히든 레이어는 하나, 히든 노드수는 128로 지정하시오"
   ]
  },
  {
   "cell_type": "code",
   "execution_count": 18,
   "metadata": {
    "collapsed": true
   },
   "outputs": [],
   "source": [
    "class CNN(nn.Module):\n",
    "    def __init__(self):\n",
    "        super(CNN,self).__init__()\n",
    "        \n",
    "        # B,1,28,28\n",
    "        \n",
    "        self.conv_layer1 = nn.Sequential(\n",
    "            nn.Conv2d(1,16,5,padding=2), # B,16,28,28\n",
    "            nn.ReLU(),\n",
    "            nn.MaxPool2d(2) # B,16,14,14\n",
    "            )\n",
    "        self.conv_layer2 = nn.Sequential(\n",
    "            nn.Conv2d(16,32,5,padding=2), # B,32,14,14\n",
    "            nn.ReLU(),\n",
    "            nn.MaxPool2d(2) # B,32,7,7\n",
    "        )\n",
    "        \n",
    "        # reshape(view) : B,32*7*7\n",
    "        \n",
    "        self.fc = nn.Sequential(nn.Linear(32*7*7,128),\n",
    "                                          nn.ReLU(),\n",
    "                                          nn.Linear(128,10))\n",
    "        \n",
    "    def forward(self,inputs):\n",
    "        inputs = self.conv_layer1(inputs)\n",
    "        inputs = self.conv_layer2(inputs)\n",
    "        return self.fc(inputs.view(inputs.size(0),-1))        "
   ]
  },
  {
   "cell_type": "code",
   "execution_count": 84,
   "metadata": {
    "collapsed": true
   },
   "outputs": [],
   "source": [
    "EPOCH=3\n",
    "LR=0.01\n",
    "BATCH_SIZE=64\n",
    "\n",
    "model = CNN()\n",
    "if USE_CUDA:\n",
    "    model = model.cuda()\n",
    "loss_function = nn.CrossEntropyLoss() # 소프트맥스 함수 포함하고 있음\n",
    "optimizer = optim.Adam(model.parameters(), lr=LR)"
   ]
  },
  {
   "cell_type": "code",
   "execution_count": 85,
   "metadata": {
    "collapsed": false
   },
   "outputs": [
    {
     "name": "stdout",
     "output_type": "stream",
     "text": [
      "[0/3] [000/938] mean_loss : 2.300\n",
      "[0/3] [100/938] mean_loss : 0.826\n",
      "[0/3] [200/938] mean_loss : 0.470\n",
      "[0/3] [300/938] mean_loss : 0.467\n",
      "[0/3] [400/938] mean_loss : 0.424\n",
      "[0/3] [500/938] mean_loss : 0.388\n",
      "[0/3] [600/938] mean_loss : 0.392\n",
      "[0/3] [700/938] mean_loss : 0.356\n",
      "[0/3] [800/938] mean_loss : 0.338\n",
      "[0/3] [900/938] mean_loss : 0.352\n",
      "[1/3] [000/938] mean_loss : 0.363\n",
      "[1/3] [100/938] mean_loss : 0.341\n",
      "[1/3] [200/938] mean_loss : 0.329\n",
      "[1/3] [300/938] mean_loss : 0.306\n",
      "[1/3] [400/938] mean_loss : 0.303\n",
      "[1/3] [500/938] mean_loss : 0.312\n",
      "[1/3] [600/938] mean_loss : 0.300\n",
      "[1/3] [700/938] mean_loss : 0.308\n",
      "[1/3] [800/938] mean_loss : 0.312\n",
      "[1/3] [900/938] mean_loss : 0.326\n",
      "[2/3] [000/938] mean_loss : 0.236\n",
      "[2/3] [100/938] mean_loss : 0.286\n",
      "[2/3] [200/938] mean_loss : 0.303\n",
      "[2/3] [300/938] mean_loss : 0.281\n",
      "[2/3] [400/938] mean_loss : 0.323\n",
      "[2/3] [500/938] mean_loss : 0.296\n",
      "[2/3] [600/938] mean_loss : 0.297\n",
      "[2/3] [700/938] mean_loss : 0.296\n",
      "[2/3] [800/938] mean_loss : 0.304\n",
      "[2/3] [900/938] mean_loss : 0.287\n"
     ]
    }
   ],
   "source": [
    "for epoch in range(EPOCH):\n",
    "    losses=[]\n",
    "    for i, (inputs, targets) in enumerate(train_loader):\n",
    "        inputs, targets = Variable(inputs), Variable(targets)\n",
    "        if USE_CUDA:\n",
    "            inputs,targets = inputs.cuda(),targets.cuda()\n",
    "        model.zero_grad()\n",
    "        outputs = model(inputs)\n",
    "        loss = loss_function(outputs, targets)\n",
    "        loss.backward()\n",
    "        optimizer.step()\n",
    "\n",
    "        losses.append(loss.data[0])\n",
    "        if i % 100 == 0:\n",
    "            print(\"[%d/%d] [%03d/%d] mean_loss : %.3f\" % (epoch,EPOCH,i,len(train_loader),np.mean(losses)))\n",
    "            losses=[]"
   ]
  },
  {
   "cell_type": "code",
   "execution_count": 86,
   "metadata": {
    "collapsed": false
   },
   "outputs": [
    {
     "name": "stdout",
     "output_type": "stream",
     "text": [
      "Accuracy :  0.8817\n"
     ]
    }
   ],
   "source": [
    "num_equal=0\n",
    "for i, (inputs, targets) in enumerate(test_loader):\n",
    "    inputs, targets = Variable(inputs), Variable(targets)\n",
    "    outputs = model(inputs)\n",
    "    \n",
    "    outputs = outputs.max(1)[1] # argmax\n",
    "    num_equal += torch.eq(outputs,targets).sum().data[0]\n",
    "    \n",
    "    \n",
    "print(\"Accuracy : \" ,num_equal/len(test_dataset))"
   ]
  },
  {
   "cell_type": "code",
   "execution_count": null,
   "metadata": {
    "collapsed": true
   },
   "outputs": [],
   "source": []
  }
 ],
 "metadata": {
  "kernelspec": {
   "display_name": "Python 3",
   "language": "python",
   "name": "python3"
  },
  "language_info": {
   "codemirror_mode": {
    "name": "ipython",
    "version": 3
   },
   "file_extension": ".py",
   "mimetype": "text/x-python",
   "name": "python",
   "nbconvert_exporter": "python",
   "pygments_lexer": "ipython3",
   "version": "3.5.2"
  }
 },
 "nbformat": 4,
 "nbformat_minor": 2
}
