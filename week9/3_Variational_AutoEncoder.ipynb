{
 "cells": [
  {
   "cell_type": "code",
   "execution_count": 1,
   "metadata": {
    "collapsed": true
   },
   "outputs": [],
   "source": [
    "import torch\n",
    "import torch.nn as nn\n",
    "import torch.nn.functional as F\n",
    "import torch.optim as optim\n",
    "from torch.autograd import Variable\n",
    "import torchvision.datasets as vdatasets\n",
    "import torchvision.transforms as transforms\n",
    "from torchvision.utils import save_image\n",
    "import matplotlib.pyplot as plt\n",
    "import random\n",
    "import numpy as np\n",
    "import os\n",
    "DATA_PATH = os.environ['DATA_PATH']\n",
    "%matplotlib inline"
   ]
  },
  {
   "cell_type": "code",
   "execution_count": 2,
   "metadata": {
    "collapsed": true
   },
   "outputs": [],
   "source": [
    "# Hyper Parameters \n",
    "INPUT_SIZE = 784\n",
    "HIDDEN_SIZE = 256\n",
    "LATENT_SIZE = 5\n",
    "EPOCH = 50\n",
    "BATCH_SIZE = 100\n",
    "LR = 0.001"
   ]
  },
  {
   "cell_type": "code",
   "execution_count": 3,
   "metadata": {
    "collapsed": false
   },
   "outputs": [],
   "source": [
    "# MNIST Dataset (Images and Labels)\n",
    "train_dataset = vdatasets.MNIST(root=DATA_PATH+'MNIST/', \n",
    "                            train=True, \n",
    "                            transform=transforms.ToTensor(),\n",
    "                            download=True)\n",
    "\n",
    "# Dataset Loader (Input Pipline)\n",
    "train_loader = torch.utils.data.DataLoader(dataset=train_dataset, \n",
    "                                           batch_size=BATCH_SIZE, \n",
    "                                           shuffle=True)"
   ]
  },
  {
   "cell_type": "code",
   "execution_count": 16,
   "metadata": {
    "collapsed": true
   },
   "outputs": [],
   "source": [
    "class VAE(nn.Module):\n",
    "    def __init__(self,input_size=784,hidden_size=256,z_size=5):\n",
    "        super(VAE,self).__init__()\n",
    "        self.encoder = nn.Sequential(\n",
    "            nn.Linear(input_size, hidden_size),\n",
    "            nn.ReLU(),\n",
    "            nn.Linear(hidden_size, z_size*2))\n",
    "        \n",
    "        self.decoder = nn.Sequential(\n",
    "            nn.Linear(z_size, hidden_size),\n",
    "            nn.ReLU(),\n",
    "            nn.Linear(hidden_size, input_size),\n",
    "            nn.Sigmoid())\n",
    "        \n",
    "    def reparameterize(self, mu, log_var):\n",
    "        \"\"\"z = mu + e*sigma\"\"\"\n",
    "        eps = Variable(torch.randn(mu.size()))\n",
    "        z = mu + eps * torch.exp(log_var/2)  \n",
    "        return z\n",
    "                     \n",
    "    def forward(self, x):\n",
    "        h = self.encoder(x)\n",
    "        mu, log_var = torch.chunk(h, 2, dim=1)  # mean and log variance.\n",
    "        z = self.reparameterize(mu, log_var)\n",
    "        out = self.decoder(z)\n",
    "        return out, mu, log_var\n",
    "    \n",
    "    def sample(self, z):\n",
    "        return self.decoder(z)"
   ]
  },
  {
   "cell_type": "code",
   "execution_count": 17,
   "metadata": {
    "collapsed": true
   },
   "outputs": [],
   "source": [
    "def kl_divergence(mu,log_var):\n",
    "    \"\"\"0.5 * sum(mu^2 + sigma^2 - log(sigma^2) - 1)\"\"\"\n",
    "    return torch.sum(0.5 * (mu**2 + torch.exp(log_var) - log_var -1))"
   ]
  },
  {
   "cell_type": "code",
   "execution_count": 22,
   "metadata": {
    "collapsed": false
   },
   "outputs": [],
   "source": [
    "model = VAE()\n",
    "optimizer = optim.Adam(model.parameters(), lr=LR)"
   ]
  },
  {
   "cell_type": "code",
   "execution_count": 23,
   "metadata": {
    "collapsed": false
   },
   "outputs": [
    {
     "name": "stdout",
     "output_type": "stream",
     "text": [
      "Epoch: [1/50], Step: [300/600], Loss: 14534.5625\n",
      "Epoch: [1/50], Step: [600/600], Loss: 14141.9502\n",
      "Epoch: [2/50], Step: [300/600], Loss: 14035.9502\n",
      "Epoch: [2/50], Step: [600/600], Loss: 14169.2617\n",
      "Epoch: [3/50], Step: [300/600], Loss: 12949.2588\n",
      "Epoch: [3/50], Step: [600/600], Loss: 13195.1641\n",
      "Epoch: [4/50], Step: [300/600], Loss: 12888.3311\n",
      "Epoch: [4/50], Step: [600/600], Loss: 12215.9219\n",
      "Epoch: [5/50], Step: [300/600], Loss: 13456.4326\n",
      "Epoch: [5/50], Step: [600/600], Loss: 12825.9834\n",
      "Epoch: [6/50], Step: [300/600], Loss: 12109.8223\n",
      "Epoch: [6/50], Step: [600/600], Loss: 12859.3330\n",
      "Epoch: [7/50], Step: [300/600], Loss: 12437.1621\n",
      "Epoch: [7/50], Step: [600/600], Loss: 13290.8232\n",
      "Epoch: [8/50], Step: [300/600], Loss: 11767.6982\n",
      "Epoch: [8/50], Step: [600/600], Loss: 12842.3340\n",
      "Epoch: [9/50], Step: [300/600], Loss: 13385.4141\n",
      "Epoch: [9/50], Step: [600/600], Loss: 13035.7988\n",
      "Epoch: [10/50], Step: [300/600], Loss: 12365.8164\n",
      "Epoch: [10/50], Step: [600/600], Loss: 12731.2178\n",
      "Epoch: [11/50], Step: [300/600], Loss: 12754.0156\n",
      "Epoch: [11/50], Step: [600/600], Loss: 12167.7559\n",
      "Epoch: [12/50], Step: [300/600], Loss: 12073.6533\n",
      "Epoch: [12/50], Step: [600/600], Loss: 12235.6357\n",
      "Epoch: [13/50], Step: [300/600], Loss: 12373.6895\n",
      "Epoch: [13/50], Step: [600/600], Loss: 11798.4160\n",
      "Epoch: [14/50], Step: [300/600], Loss: 11986.5879\n",
      "Epoch: [14/50], Step: [600/600], Loss: 12564.2754\n",
      "Epoch: [15/50], Step: [300/600], Loss: 11790.4053\n",
      "Epoch: [15/50], Step: [600/600], Loss: 12662.0283\n",
      "Epoch: [16/50], Step: [300/600], Loss: 13096.0566\n",
      "Epoch: [16/50], Step: [600/600], Loss: 12705.3613\n",
      "Epoch: [17/50], Step: [300/600], Loss: 12015.9854\n",
      "Epoch: [17/50], Step: [600/600], Loss: 12271.7451\n",
      "Epoch: [18/50], Step: [300/600], Loss: 11761.8770\n",
      "Epoch: [18/50], Step: [600/600], Loss: 12780.1240\n",
      "Epoch: [19/50], Step: [300/600], Loss: 13322.1377\n",
      "Epoch: [19/50], Step: [600/600], Loss: 12379.0391\n",
      "Epoch: [20/50], Step: [300/600], Loss: 12140.5127\n",
      "Epoch: [20/50], Step: [600/600], Loss: 12006.9873\n",
      "Epoch: [21/50], Step: [300/600], Loss: 11898.8828\n",
      "Epoch: [21/50], Step: [600/600], Loss: 12461.0898\n",
      "Epoch: [22/50], Step: [300/600], Loss: 11949.6865\n",
      "Epoch: [22/50], Step: [600/600], Loss: 13216.1299\n",
      "Epoch: [23/50], Step: [300/600], Loss: 13035.0801\n",
      "Epoch: [23/50], Step: [600/600], Loss: 12179.1670\n",
      "Epoch: [24/50], Step: [300/600], Loss: 12307.4746\n",
      "Epoch: [24/50], Step: [600/600], Loss: 11839.5605\n",
      "Epoch: [25/50], Step: [300/600], Loss: 12263.1572\n",
      "Epoch: [25/50], Step: [600/600], Loss: 12157.8760\n",
      "Epoch: [26/50], Step: [300/600], Loss: 11589.5176\n",
      "Epoch: [26/50], Step: [600/600], Loss: 11938.0898\n",
      "Epoch: [27/50], Step: [300/600], Loss: 12474.6904\n",
      "Epoch: [27/50], Step: [600/600], Loss: 11565.0146\n",
      "Epoch: [28/50], Step: [300/600], Loss: 12386.6162\n",
      "Epoch: [28/50], Step: [600/600], Loss: 12706.6914\n",
      "Epoch: [29/50], Step: [300/600], Loss: 11841.9883\n",
      "Epoch: [29/50], Step: [600/600], Loss: 11862.4004\n",
      "Epoch: [30/50], Step: [300/600], Loss: 12617.3311\n",
      "Epoch: [30/50], Step: [600/600], Loss: 10980.4131\n",
      "Epoch: [31/50], Step: [300/600], Loss: 11788.8857\n",
      "Epoch: [31/50], Step: [600/600], Loss: 12160.9824\n",
      "Epoch: [32/50], Step: [300/600], Loss: 11964.6455\n",
      "Epoch: [32/50], Step: [600/600], Loss: 12007.4023\n",
      "Epoch: [33/50], Step: [300/600], Loss: 12590.1191\n",
      "Epoch: [33/50], Step: [600/600], Loss: 12169.3301\n",
      "Epoch: [34/50], Step: [300/600], Loss: 11979.3623\n",
      "Epoch: [34/50], Step: [600/600], Loss: 12510.7051\n",
      "Epoch: [35/50], Step: [300/600], Loss: 11960.3789\n",
      "Epoch: [35/50], Step: [600/600], Loss: 10966.9053\n",
      "Epoch: [36/50], Step: [300/600], Loss: 12305.7314\n",
      "Epoch: [36/50], Step: [600/600], Loss: 11985.0957\n",
      "Epoch: [37/50], Step: [300/600], Loss: 12544.9170\n",
      "Epoch: [37/50], Step: [600/600], Loss: 12167.2520\n",
      "Epoch: [38/50], Step: [300/600], Loss: 12599.9004\n",
      "Epoch: [38/50], Step: [600/600], Loss: 12008.9014\n",
      "Epoch: [39/50], Step: [300/600], Loss: 11923.9580\n",
      "Epoch: [39/50], Step: [600/600], Loss: 12566.7139\n",
      "Epoch: [40/50], Step: [300/600], Loss: 11865.6777\n",
      "Epoch: [40/50], Step: [600/600], Loss: 11889.8818\n",
      "Epoch: [41/50], Step: [300/600], Loss: 11408.3125\n",
      "Epoch: [41/50], Step: [600/600], Loss: 11794.0576\n",
      "Epoch: [42/50], Step: [300/600], Loss: 12447.9150\n",
      "Epoch: [42/50], Step: [600/600], Loss: 12709.4688\n",
      "Epoch: [43/50], Step: [300/600], Loss: 12313.0576\n",
      "Epoch: [43/50], Step: [600/600], Loss: 12101.0889\n",
      "Epoch: [44/50], Step: [300/600], Loss: 11796.0781\n",
      "Epoch: [44/50], Step: [600/600], Loss: 12387.5459\n",
      "Epoch: [45/50], Step: [300/600], Loss: 12467.4863\n",
      "Epoch: [45/50], Step: [600/600], Loss: 12427.1328\n",
      "Epoch: [46/50], Step: [300/600], Loss: 11924.9619\n",
      "Epoch: [46/50], Step: [600/600], Loss: 12166.0957\n",
      "Epoch: [47/50], Step: [300/600], Loss: 11440.4707\n",
      "Epoch: [47/50], Step: [600/600], Loss: 11956.2539\n",
      "Epoch: [48/50], Step: [300/600], Loss: 11729.7764\n",
      "Epoch: [48/50], Step: [600/600], Loss: 12709.3535\n",
      "Epoch: [49/50], Step: [300/600], Loss: 12835.9365\n",
      "Epoch: [49/50], Step: [600/600], Loss: 11809.5098\n",
      "Epoch: [50/50], Step: [300/600], Loss: 12518.0674\n",
      "Epoch: [50/50], Step: [600/600], Loss: 11787.3867\n"
     ]
    }
   ],
   "source": [
    "model.train()\n",
    "for epoch in range(EPOCH):\n",
    "    for i, (inputs, _) in enumerate(train_loader):\n",
    "        inputs = Variable(inputs.view(-1, 28*28))\n",
    "        \n",
    "        # Forward + Backward + Optimize\n",
    "        optimizer.zero_grad()\n",
    "        recon, mu, log_var = model(inputs)\n",
    "        loss = F.binary_cross_entropy(recon, inputs,size_average=False) + kl_divergence(mu,log_var)\n",
    "        loss.backward()\n",
    "        optimizer.step()\n",
    "        \n",
    "        if (i+1) % 300 == 0:\n",
    "            print ('Epoch: [%d/%d], Step: [%d/%d], Loss: %.4f' \n",
    "                   % (epoch+1, EPOCH, i+1, len(train_dataset)//BATCH_SIZE, loss.data[0]))\n",
    "            \n",
    "# 생성 이미지 샘플 저장\n",
    "normal = Variable(torch.randn(50,LATENT_SIZE)) # p(z)\n",
    "sampled_image = model.sample(normal)\n",
    "sampled_image = sampled_image.view(50,1,28,28)\n",
    "save_image(sampled_image.data, './images/vae_gen_images.png')"
   ]
  },
  {
   "cell_type": "code",
   "execution_count": 24,
   "metadata": {
    "collapsed": false
   },
   "outputs": [
    {
     "data": {
      "image/png": "[encoded data removed]",
      "text/plain": [
       "<matplotlib.figure.Figure at 0x7faf0c112c50>"
      ]
     },
     "metadata": {},
     "output_type": "display_data"
    }
   ],
   "source": [
    "z = Variable(torch.randn(1,5)) #  z ~ p(z)\n",
    "image = model.sample(z)\n",
    "\n",
    "plt.matshow(np.reshape(image.data.numpy(), (28, 28)), cmap=plt.get_cmap('gray'))\n",
    "plt.title(\"[\" + str(epoch) + \"] Generated Image\\n\")\n",
    "plt.colorbar()\n",
    "plt.show()\n"
   ]
  },
  {
   "cell_type": "code",
   "execution_count": null,
   "metadata": {
    "collapsed": true
   },
   "outputs": [],
   "source": []
  }
 ],
 "metadata": {
  "kernelspec": {
   "display_name": "Python 3",
   "language": "python",
   "name": "python3"
  },
  "language_info": {
   "codemirror_mode": {
    "name": "ipython",
    "version": 3
   },
   "file_extension": ".py",
   "mimetype": "text/x-python",
   "name": "python",
   "nbconvert_exporter": "python",
   "pygments_lexer": "ipython3",
   "version": "3.5.2"
  }
 },
 "nbformat": 4,
 "nbformat_minor": 2
}
