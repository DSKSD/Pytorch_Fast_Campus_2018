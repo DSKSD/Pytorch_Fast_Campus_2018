{
 "cells": [
  {
   "cell_type": "code",
   "execution_count": 1,
   "metadata": {
    "collapsed": true
   },
   "outputs": [],
   "source": [
    "import torch\n",
    "import torch.nn as nn\n",
    "import torch.nn.functional as F\n",
    "import torch.optim as optim\n",
    "from torch.autograd import Variable\n",
    "import torchvision.datasets as vdatasets\n",
    "import torchvision.transforms as transforms\n",
    "import matplotlib.pyplot as plt\n",
    "import random\n",
    "import numpy as np\n",
    "import os\n",
    "DATA_PATH = os.environ['DATA_PATH']\n",
    "%matplotlib inline"
   ]
  },
  {
   "cell_type": "code",
   "execution_count": 2,
   "metadata": {
    "collapsed": true
   },
   "outputs": [],
   "source": [
    "# Hyper Parameters \n",
    "INPUT_SIZE = 784\n",
    "HIDDEN_SIZE = 256 # undercomplete !\n",
    "EPOCH = 5\n",
    "BATCH_SIZE = 100\n",
    "LR = 0.01"
   ]
  },
  {
   "cell_type": "code",
   "execution_count": 3,
   "metadata": {
    "collapsed": false
   },
   "outputs": [],
   "source": [
    "# MNIST Dataset (Images and Labels)\n",
    "train_dataset = vdatasets.MNIST(root=DATA_PATH+'MNIST/', \n",
    "                            train=True, \n",
    "                            transform=transforms.ToTensor(),\n",
    "                            download=True)\n",
    "\n",
    "# Dataset Loader (Input Pipline)\n",
    "train_loader = torch.utils.data.DataLoader(dataset=train_dataset, \n",
    "                                           batch_size=BATCH_SIZE, \n",
    "                                           shuffle=True)"
   ]
  },
  {
   "cell_type": "markdown",
   "metadata": {},
   "source": [
    "## TODO: AutoEncoder 모델링 "
   ]
  },
  {
   "cell_type": "markdown",
   "metadata": {},
   "source": [
    "* 히든레이어가 하나인 AutoEncoder를 만드시오\n",
    "* Activation Function으로는 ReLU를 사용하시오"
   ]
  },
  {
   "cell_type": "code",
   "execution_count": 4,
   "metadata": {
    "collapsed": true
   },
   "outputs": [],
   "source": [
    "class Autoencoder(nn.Module):\n",
    "    def __init__(self, input_size,hidden_size):\n",
    "        super(Autoencoder, self).__init__()\n",
    "        self.f = nn.Linear(input_size,hidden_size)\n",
    "        self.g = nn.Linear(hidden_size,input_size)\n",
    "\n",
    "    def forward(self, x):\n",
    "        # TODO\n",
    "        z = F.relu(self.f(x)) \n",
    "        r = F.sigmoid(self.g(z))\n",
    "        return r"
   ]
  },
  {
   "cell_type": "code",
   "execution_count": 5,
   "metadata": {
    "collapsed": true
   },
   "outputs": [],
   "source": [
    "model = Autoencoder(INPUT_SIZE,HIDDEN_SIZE)\n",
    "\n",
    "loss_function = nn.MSELoss()  \n",
    "optimizer = optim.Adam(model.parameters(), lr=LR)"
   ]
  },
  {
   "cell_type": "code",
   "execution_count": 6,
   "metadata": {
    "collapsed": false
   },
   "outputs": [
    {
     "name": "stdout",
     "output_type": "stream",
     "text": [
      "Epoch: [1/5], Step: [100/600], Loss: 0.0173\n",
      "Epoch: [1/5], Step: [200/600], Loss: 0.0094\n",
      "Epoch: [1/5], Step: [300/600], Loss: 0.0072\n",
      "Epoch: [1/5], Step: [400/600], Loss: 0.0066\n",
      "Epoch: [1/5], Step: [500/600], Loss: 0.0053\n",
      "Epoch: [1/5], Step: [600/600], Loss: 0.0053\n",
      "Epoch: [2/5], Step: [100/600], Loss: 0.0045\n",
      "Epoch: [2/5], Step: [200/600], Loss: 0.0048\n",
      "Epoch: [2/5], Step: [300/600], Loss: 0.0044\n",
      "Epoch: [2/5], Step: [400/600], Loss: 0.0047\n",
      "Epoch: [2/5], Step: [500/600], Loss: 0.0042\n",
      "Epoch: [2/5], Step: [600/600], Loss: 0.0046\n",
      "Epoch: [3/5], Step: [100/600], Loss: 0.0047\n",
      "Epoch: [3/5], Step: [200/600], Loss: 0.0038\n",
      "Epoch: [3/5], Step: [300/600], Loss: 0.0042\n",
      "Epoch: [3/5], Step: [400/600], Loss: 0.0043\n",
      "Epoch: [3/5], Step: [500/600], Loss: 0.0042\n",
      "Epoch: [3/5], Step: [600/600], Loss: 0.0040\n",
      "Epoch: [4/5], Step: [100/600], Loss: 0.0045\n",
      "Epoch: [4/5], Step: [200/600], Loss: 0.0043\n",
      "Epoch: [4/5], Step: [300/600], Loss: 0.0042\n",
      "Epoch: [4/5], Step: [400/600], Loss: 0.0047\n",
      "Epoch: [4/5], Step: [500/600], Loss: 0.0046\n",
      "Epoch: [4/5], Step: [600/600], Loss: 0.0041\n",
      "Epoch: [5/5], Step: [100/600], Loss: 0.0040\n",
      "Epoch: [5/5], Step: [200/600], Loss: 0.0040\n",
      "Epoch: [5/5], Step: [300/600], Loss: 0.0042\n",
      "Epoch: [5/5], Step: [400/600], Loss: 0.0046\n",
      "Epoch: [5/5], Step: [500/600], Loss: 0.0039\n",
      "Epoch: [5/5], Step: [600/600], Loss: 0.0046\n"
     ]
    }
   ],
   "source": [
    "for epoch in range(EPOCH):\n",
    "    for i, (inputs, _) in enumerate(train_loader):\n",
    "        inputs = Variable(inputs.view(-1, 28*28))\n",
    "        optimizer.zero_grad()\n",
    "        recon = model(inputs)\n",
    "        loss = loss_function(recon, inputs)\n",
    "        loss.backward()\n",
    "        optimizer.step()\n",
    "        \n",
    "        if (i+1) % 100 == 0:\n",
    "            print ('Epoch: [%d/%d], Step: [%d/%d], Loss: %.4f' \n",
    "                   % (epoch+1, EPOCH, i+1, len(train_dataset)//BATCH_SIZE, loss.data[0]))"
   ]
  },
  {
   "cell_type": "code",
   "execution_count": 8,
   "metadata": {
    "collapsed": false
   },
   "outputs": [
    {
     "data": {
      "image/png": "[encoded data removed]",
      "text/plain": [
       "<matplotlib.figure.Figure at 0x7f6f240ecba8>"
      ]
     },
     "metadata": {},
     "output_type": "display_data"
    },
    {
     "data": {
      "image/png": "[encoded data removed]",
      "text/plain": [
       "<matplotlib.figure.Figure at 0x7f6ee1b0ed68>"
      ]
     },
     "metadata": {},
     "output_type": "display_data"
    },
    {
     "data": {
      "image/png": "[encoded data removed]",
      "text/plain": [
       "<matplotlib.figure.Figure at 0x7f6ee1a48198>"
      ]
     },
     "metadata": {},
     "output_type": "display_data"
    },
    {
     "data": {
      "image/png": "[encoded data removed]",
      "text/plain": [
       "<matplotlib.figure.Figure at 0x7f6ee19705f8>"
      ]
     },
     "metadata": {},
     "output_type": "display_data"
    }
   ],
   "source": [
    "index = random.choice(range(10000))\n",
    "test = train_dataset[index][0]\n",
    "\n",
    "plt.matshow(np.reshape(test.numpy(), (28, 28)), cmap=plt.get_cmap('gray'))\n",
    "plt.title(\"[\" + str(epoch) + \"] Original Image\\n\")\n",
    "plt.colorbar()\n",
    "plt.show()\n",
    "\n",
    "recon = model(Variable(test).view(-1,28*28))\n",
    "\n",
    "plt.matshow(np.reshape(recon.data.numpy(), (28, 28)), cmap=plt.get_cmap('gray'))\n",
    "plt.title(\"[\" + str(epoch) + \"] Reconstructed Image\\n\")\n",
    "plt.colorbar()\n",
    "plt.show()\n",
    "\n",
    "noised = Variable(test) + 0.3*Variable(torch.randn(test.size()))\n",
    "\n",
    "plt.matshow(np.reshape(noised.data.numpy(), (28, 28)), cmap=plt.get_cmap('gray'))\n",
    "plt.title(\"[\" + str(epoch) + \"] (Noised) Input Image\\n\")\n",
    "plt.colorbar()\n",
    "plt.show()\n",
    "\n",
    "noised_recon = model(noised.view(-1,28*28))\n",
    "\n",
    "plt.matshow(np.reshape(noised_recon.data.numpy(), (28, 28)), cmap=plt.get_cmap('gray'))\n",
    "plt.title(\"[\" + str(epoch) + \"] (Noised) Reconstructed Image\\n\")\n",
    "plt.colorbar()\n",
    "plt.show()"
   ]
  },
  {
   "cell_type": "code",
   "execution_count": null,
   "metadata": {
    "collapsed": true
   },
   "outputs": [],
   "source": []
  }
 ],
 "metadata": {
  "kernelspec": {
   "display_name": "Python 3",
   "language": "python",
   "name": "python3"
  },
  "language_info": {
   "codemirror_mode": {
    "name": "ipython",
    "version": 3
   },
   "file_extension": ".py",
   "mimetype": "text/x-python",
   "name": "python",
   "nbconvert_exporter": "python",
   "pygments_lexer": "ipython3",
   "version": "3.5.2"
  }
 },
 "nbformat": 4,
 "nbformat_minor": 2
}
