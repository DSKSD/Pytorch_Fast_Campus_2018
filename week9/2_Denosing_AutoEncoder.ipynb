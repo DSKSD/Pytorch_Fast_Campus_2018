{
 "cells": [
  {
   "cell_type": "code",
   "execution_count": 9,
   "metadata": {
    "collapsed": true
   },
   "outputs": [],
   "source": [
    "import torch\n",
    "import torch.nn as nn\n",
    "import torch.nn.functional as F\n",
    "import torch.optim as optim\n",
    "from torch.autograd import Variable\n",
    "import torchvision.datasets as vdatasets\n",
    "import torchvision.transforms as transforms\n",
    "import matplotlib.pyplot as plt\n",
    "import random\n",
    "import numpy as np\n",
    "%matplotlib inline"
   ]
  },
  {
   "cell_type": "code",
   "execution_count": 10,
   "metadata": {
    "collapsed": true
   },
   "outputs": [],
   "source": [
    "# Hyper Parameters \n",
    "INPUT_SIZE = 784\n",
    "HIDDEN_SIZE = 256 # undercomplete !\n",
    "EPOCH = 5\n",
    "BATCH_SIZE = 100\n",
    "LR = 0.01"
   ]
  },
  {
   "cell_type": "code",
   "execution_count": 11,
   "metadata": {
    "collapsed": false
   },
   "outputs": [],
   "source": [
    "# MNIST Dataset (Images and Labels)\n",
    "train_dataset = vdatasets.MNIST(root='../../dataset/mnist', \n",
    "                            train=True, \n",
    "                            transform=transforms.ToTensor(),\n",
    "                            download=True)\n",
    "\n",
    "# Dataset Loader (Input Pipline)\n",
    "train_loader = torch.utils.data.DataLoader(dataset=train_dataset, \n",
    "                                           batch_size=BATCH_SIZE, \n",
    "                                           shuffle=True)"
   ]
  },
  {
   "cell_type": "code",
   "execution_count": 12,
   "metadata": {
    "collapsed": true
   },
   "outputs": [],
   "source": [
    "class DenosingAutoencoder(nn.Module):\n",
    "    def __init__(self, input_size,hidden_size):\n",
    "        super(DenosingAutoencoder, self).__init__()\n",
    "        self.f = nn.Linear(input_size, hidden_size)\n",
    "        self.g = nn.Linear(hidden_size, input_size)\n",
    "        self.sigmoid = nn.Sigmoid()\n",
    "        self.dropout = nn.Dropout(0.5)\n",
    "    def forward(self, x):\n",
    "        h = self.sigmoid(self.f(x)) # nonlinearity\n",
    "        h = self.dropout(h)\n",
    "        r = self.sigmoid(self.g(h)) # nonlinearity\n",
    "        return r"
   ]
  },
  {
   "cell_type": "code",
   "execution_count": 13,
   "metadata": {
    "collapsed": true
   },
   "outputs": [],
   "source": [
    "model = DenosingAutoencoder(INPUT_SIZE,HIDDEN_SIZE)\n",
    "\n",
    "loss_function = nn.MSELoss()  \n",
    "optimizer = optim.Adam(model.parameters(), lr=LR)"
   ]
  },
  {
   "cell_type": "markdown",
   "metadata": {},
   "source": [
    "## TODO "
   ]
  },
  {
   "cell_type": "code",
   "execution_count": 15,
   "metadata": {
    "collapsed": false
   },
   "outputs": [
    {
     "name": "stdout",
     "output_type": "stream",
     "text": [
      "Epoch: [1/5], Step: [100/600], Loss: 0.0341\n",
      "Epoch: [1/5], Step: [200/600], Loss: 0.0269\n",
      "Epoch: [1/5], Step: [300/600], Loss: 0.0252\n",
      "Epoch: [1/5], Step: [400/600], Loss: 0.0250\n",
      "Epoch: [1/5], Step: [500/600], Loss: 0.0245\n",
      "Epoch: [1/5], Step: [600/600], Loss: 0.0230\n",
      "Epoch: [2/5], Step: [100/600], Loss: 0.0218\n",
      "Epoch: [2/5], Step: [200/600], Loss: 0.0231\n",
      "Epoch: [2/5], Step: [300/600], Loss: 0.0233\n",
      "Epoch: [2/5], Step: [400/600], Loss: 0.0219\n",
      "Epoch: [2/5], Step: [500/600], Loss: 0.0222\n",
      "Epoch: [2/5], Step: [600/600], Loss: 0.0227\n",
      "Epoch: [3/5], Step: [100/600], Loss: 0.0218\n",
      "Epoch: [3/5], Step: [200/600], Loss: 0.0230\n",
      "Epoch: [3/5], Step: [300/600], Loss: 0.0229\n",
      "Epoch: [3/5], Step: [400/600], Loss: 0.0205\n",
      "Epoch: [3/5], Step: [500/600], Loss: 0.0217\n",
      "Epoch: [3/5], Step: [600/600], Loss: 0.0212\n",
      "Epoch: [4/5], Step: [100/600], Loss: 0.0217\n",
      "Epoch: [4/5], Step: [200/600], Loss: 0.0203\n",
      "Epoch: [4/5], Step: [300/600], Loss: 0.0217\n",
      "Epoch: [4/5], Step: [400/600], Loss: 0.0240\n",
      "Epoch: [4/5], Step: [500/600], Loss: 0.0209\n",
      "Epoch: [4/5], Step: [600/600], Loss: 0.0217\n",
      "Epoch: [5/5], Step: [100/600], Loss: 0.0226\n",
      "Epoch: [5/5], Step: [200/600], Loss: 0.0213\n",
      "Epoch: [5/5], Step: [300/600], Loss: 0.0211\n",
      "Epoch: [5/5], Step: [400/600], Loss: 0.0228\n",
      "Epoch: [5/5], Step: [500/600], Loss: 0.0208\n",
      "Epoch: [5/5], Step: [600/600], Loss: 0.0199\n"
     ]
    }
   ],
   "source": [
    "model.train()\n",
    "for epoch in range(EPOCH):\n",
    "    for i, (inputs, _) in enumerate(train_loader):\n",
    "        # TODO : 트레이닝 코드를 작성하시오\n",
    "        # 인풋에 torch.randn을 통해 noise를 추가하고 이를 Reconstruction하도록 학습\n",
    "        \n",
    "        if (i+1) % 100 == 0:\n",
    "            print ('Epoch: [%d/%d], Step: [%d/%d], Loss: %.4f' \n",
    "                   % (epoch+1, EPOCH, i+1, len(train_dataset)//BATCH_SIZE, loss.data[0]))"
   ]
  },
  {
   "cell_type": "code",
   "execution_count": 16,
   "metadata": {
    "collapsed": false
   },
   "outputs": [
    {
     "data": {
      "image/png": "[encoded data removed]",
      "text/plain": [
       "<matplotlib.figure.Figure at 0x7f0d25215dd8>"
      ]
     },
     "metadata": {},
     "output_type": "display_data"
    },
    {
     "data": {
      "image/png": "[encoded data removed]",
      "text/plain": [
       "<matplotlib.figure.Figure at 0x7f0d58f77f60>"
      ]
     },
     "metadata": {},
     "output_type": "display_data"
    },
    {
     "data": {
      "image/png": "[encoded data removed]",
      "text/plain": [
       "<matplotlib.figure.Figure at 0x7f0d253d3fd0>"
      ]
     },
     "metadata": {},
     "output_type": "display_data"
    },
    {
     "data": {
      "image/png": "[encoded data removed]",
      "text/plain": [
       "<matplotlib.figure.Figure at 0x7f0d252cafd0>"
      ]
     },
     "metadata": {},
     "output_type": "display_data"
    }
   ],
   "source": [
    "model.eval()\n",
    "index = random.choice(range(10000))\n",
    "test = test_dataset[index][0]\n",
    "\n",
    "plt.matshow(np.reshape(test.numpy(), (28, 28)), cmap=plt.get_cmap('gray'))\n",
    "plt.title(\"[\" + str(epoch) + \"] Original Image\\n\")\n",
    "plt.colorbar()\n",
    "plt.show()\n",
    "\n",
    "recon = model(Variable(test).view(-1,28*28))\n",
    "\n",
    "plt.matshow(np.reshape(recon.data.numpy(), (28, 28)), cmap=plt.get_cmap('gray'))\n",
    "plt.title(\"[\" + str(epoch) + \"] Reconstructed Image\\n\")\n",
    "plt.colorbar()\n",
    "plt.show()\n",
    "\n",
    "noised = Variable(test) + 0.3*Variable(torch.randn(test.size()))\n",
    "\n",
    "plt.matshow(np.reshape(noised.data.numpy(), (28, 28)), cmap=plt.get_cmap('gray'))\n",
    "plt.title(\"[\" + str(epoch) + \"] (Noised) Input Image\\n\")\n",
    "plt.colorbar()\n",
    "plt.show()\n",
    "\n",
    "noised_recon = model(noised.view(-1,28*28))\n",
    "\n",
    "plt.matshow(np.reshape(noised_recon.data.numpy(), (28, 28)), cmap=plt.get_cmap('gray'))\n",
    "plt.title(\"[\" + str(epoch) + \"] (Noised) Reconstructed Image\\n\")\n",
    "plt.colorbar()\n",
    "plt.show()"
   ]
  },
  {
   "cell_type": "code",
   "execution_count": null,
   "metadata": {
    "collapsed": true
   },
   "outputs": [],
   "source": []
  }
 ],
 "metadata": {
  "kernelspec": {
   "display_name": "Python 3",
   "language": "python",
   "name": "python3"
  },
  "language_info": {
   "codemirror_mode": {
    "name": "ipython",
    "version": 3
   },
   "file_extension": ".py",
   "mimetype": "text/x-python",
   "name": "python",
   "nbconvert_exporter": "python",
   "pygments_lexer": "ipython3",
   "version": "3.5.2"
  }
 },
 "nbformat": 4,
 "nbformat_minor": 2
}
