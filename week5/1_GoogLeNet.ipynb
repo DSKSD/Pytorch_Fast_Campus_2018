{
 "cells": [
  {
   "cell_type": "code",
   "execution_count": 5,
   "metadata": {
    "collapsed": true
   },
   "outputs": [],
   "source": [
    "import torch\n",
    "import torch.nn as nn\n",
    "from torch.autograd import Variable\n",
    "import torch.optim as optim\n",
    "import torch.nn.functional as F\n",
    "import numpy as np\n",
    "import torchvision.transforms as transforms\n",
    "import torchvision.datasets as vdatasets\n",
    "import torchvision.utils as vutils\n",
    "import random\n",
    "import os, pickle\n",
    "from tensorboardX import SummaryWriter\n",
    "torch.manual_seed(1)\n",
    "\n",
    "DATA_PATH = os.environ['DATA_PATH']\n",
    "USE_CUDA = torch.cuda.is_available()\n",
    "\n",
    "import matplotlib.pyplot as plt\n",
    "%matplotlib inline"
   ]
  },
  {
   "cell_type": "code",
   "execution_count": 2,
   "metadata": {
    "collapsed": true
   },
   "outputs": [],
   "source": [
    "# 텐서보드 포트 설정\n",
    "port = pickle.load(open(\"port.info\",\"rb\"))[os.getcwd().split(\"/\")[-2]]\n",
    "\n",
    "# 텐서보드 데이터 파일 초기화\n",
    "try:\n",
    "    shutil.rmtree('runs/')\n",
    "except:\n",
    "    pass"
   ]
  },
  {
   "cell_type": "markdown",
   "metadata": {},
   "source": [
    "https://www.cs.unc.edu/~wliu/papers/GoogLeNet.pdf"
   ]
  },
  {
   "cell_type": "markdown",
   "metadata": {},
   "source": [
    "## Inception-A "
   ]
  },
  {
   "cell_type": "code",
   "execution_count": 4,
   "metadata": {
    "collapsed": true
   },
   "outputs": [],
   "source": [
    "class Inception(nn.Module):\n",
    "    \n",
    "    def __init__(self,in_ch,out_ch1,mid_ch13,out_ch13,mid_ch15,out_ch15,out_ch_pool_conv,auxiliary=False):\n",
    "        super(Inception,self).__init__()\n",
    "        \n",
    "        # Conv2d(input_channels,output_channels,kernel_size,stride,padding)\n",
    "        self.conv1 = nn.Sequential(nn.Conv2d(in_ch,out_ch1,kernel_size=1,stride=1),\n",
    "                                                nn.ReLU())\n",
    "        \n",
    "        self.conv13 = nn.Sequential(nn.Conv2d(in_ch,mid_ch13,kernel_size=1,stride=1),\n",
    "                                                    nn.ReLU(),\n",
    "                                                    nn.Conv2d(mid_ch13,out_ch13,kernel_size=3,stride=1,padding=1),\n",
    "                                                    nn.ReLU())\n",
    "        \n",
    "        self.conv15 = nn.Sequential(nn.Conv2d(in_ch,mid_ch15,kernel_size=1,stride=1),\n",
    "                                                    nn.ReLU(),\n",
    "                                                    nn.Conv2d(mid_ch15,out_ch15,kernel_size=5,stride=1,padding=2),\n",
    "                                                    nn.ReLU())\n",
    "        \n",
    "        self.pool_conv1 = nn.Sequential(nn.MaxPool2d(3,stride=1,padding=1),\n",
    "                                                        nn.Conv2d(in_ch,out_ch_pool_conv,kernel_size=1,stride=1),\n",
    "                                                        nn.ReLU())\n",
    "        self.auxiliary = auxiliary\n",
    "        if auxiliary:\n",
    "            self.auxiliary_layer = nn.Sequential(nn.AvgPool2d(5,3),\n",
    "                                                                nn.Conv2d(in_ch,128,1),\n",
    "                                                                nn.ReLU())\n",
    "        \n",
    "    def forward(self,inputs,train=False):\n",
    "        conv1_out = self.conv1(inputs)\n",
    "        conv13_out = self.conv13(inputs)\n",
    "        conv15_out = self.conv15(inputs)\n",
    "        pool_conv_out = self.pool_conv1(inputs)\n",
    "        outputs = torch.cat([conv1_out,conv13_out,conv15_out,pool_conv_out],1) # depth-wise concat\n",
    "        \n",
    "        if self.auxiliary:\n",
    "            if train:\n",
    "                outputs2 = self.auxiliary_layer(inputs)\n",
    "            else:\n",
    "                outputs2 = None\n",
    "            return outputs, outputs2\n",
    "        else:\n",
    "            return outputs"
   ]
  },
  {
   "cell_type": "code",
   "execution_count": 11,
   "metadata": {
    "collapsed": true
   },
   "outputs": [],
   "source": [
    "import torchvision.models as vmodels"
   ]
  },
  {
   "cell_type": "code",
   "execution_count": 12,
   "metadata": {
    "collapsed": true
   },
   "outputs": [],
   "source": [
    "model = vmodels.inception_v3(pretrained=True)"
   ]
  },
  {
   "cell_type": "code",
   "execution_count": 7,
   "metadata": {
    "collapsed": false
   },
   "outputs": [],
   "source": [
    "writer = SummaryWriter(comment='-basic-inception')\n",
    "sample_images = torch.randn(2,64,56,56) # B,C,H,W \n",
    "inception = Inception(64,32,32,64,16,32,64)\n",
    "# output = inception(Variable(sample_images))\n",
    "writer.add_graph(inception,(Variable(sample_images),)) # (Variable(inputs),)\n",
    "writer.close()"
   ]
  },
  {
   "cell_type": "code",
   "execution_count": 10,
   "metadata": {
    "collapsed": false
   },
   "outputs": [
    {
     "name": "stdout",
     "output_type": "stream",
     "text": [
      "TensorBoard 0.4.0rc3 at http://dsksd-tf:6006 (Press CTRL+C to quit)\n",
      "^C\n"
     ]
    }
   ],
   "source": [
    "!tensorboard --logdir runs --port 6006"
   ]
  },
  {
   "cell_type": "markdown",
   "metadata": {},
   "source": [
    "## GoogLeNet "
   ]
  },
  {
   "cell_type": "code",
   "execution_count": 14,
   "metadata": {
    "collapsed": false
   },
   "outputs": [],
   "source": [
    "class GoogLeNet(nn.Module):\n",
    "    \n",
    "    def __init__(self,num_output=1000):\n",
    "        super(GoogLeNet,self).__init__()\n",
    "        \n",
    "        self.stem_layer = nn.Sequential(\n",
    "                                                        nn.Conv2d(3,64,7,2,3),\n",
    "                                                        nn.ReLU(),\n",
    "                                                        nn.MaxPool2d(3,2,1),\n",
    "                                                        nn.Conv2d(64,64,1),\n",
    "                                                        nn.ReLU(),\n",
    "                                                        nn.Conv2d(64,192,3,1,1),\n",
    "                                                        nn.ReLU(),\n",
    "                                                        nn.MaxPool2d(3,2,1)\n",
    "                                                        )\n",
    "        \n",
    "        #in_ch,out_ch_1,mid_ch_13,out_ch_13,mid_ch_15,out_ch_15,out_ch_pool_conv\n",
    "        self.inception_layer1 = nn.Sequential(\n",
    "                                                                Inception(192,64,96,128,16,32,32),\n",
    "                                                                Inception(256,128,128,192,32,96,64),\n",
    "                                                                nn.MaxPool2d(3,2,1)\n",
    "                                                               )\n",
    "        \n",
    "        self.inception_layer2 = nn.Sequential(\n",
    "                                                                Inception(480,192,96,208,16,48,64),\n",
    "                                                                Inception(512,160,112,224,24,64,64),\n",
    "                                                                Inception(512,128,128,256,24,64,64),\n",
    "                                                                Inception(512,112,144,288,32,64,64),\n",
    "                                                                Inception(528,256,160,320,32,128,128)\n",
    "                                                               )\n",
    "        \n",
    "        #self.inception_layer3 = Inception(528,256,160,320,32,128,128,True) # auxiliary classifier\n",
    "        #self.auxiliary_layer = nn.Linear(128*4*4,num_output)\n",
    "        \n",
    "        self.inception_layer3 = nn.Sequential(\n",
    "                                                                nn.MaxPool2d(3,2,1),\n",
    "                                                                Inception(832,256,160,320,32,128,128),\n",
    "                                                                Inception(832,384,192,384,48,128,128),\n",
    "                                                                nn.AvgPool2d(7,1)\n",
    "                                                               )\n",
    "        \n",
    "        self.dropout = nn.Dropout2d(0.4)\n",
    "        self.output_layer = nn.Linear(1024,num_output)\n",
    "        \n",
    "    def forward(self,inputs,train=False):\n",
    "        outputs = self.stem_layer(inputs)\n",
    "        outputs = self.inception_layer1(outputs)\n",
    "        outputs = self.inception_layer2(outputs)\n",
    "        #outputs,outputs2 = self.inception_layer3(outputs,train)\n",
    "        #if train:\n",
    "            # B,128,4,4 => B,128*4*4\n",
    "        #    outputs2 = self.auxiliary_layer(outputs2.view(inputs.size(0),-1))\n",
    "        outputs = self.inception_layer3(outputs)\n",
    "        outputs = self.dropout(outputs)\n",
    "        outputs = self.output_layer(outputs.view(outputs.size(0),-1))\n",
    "        \n",
    "        #if train:\n",
    "        #    return outputs, outputs2\n",
    "        return outputs"
   ]
  },
  {
   "cell_type": "markdown",
   "metadata": {},
   "source": [
    "## Sanity Check "
   ]
  },
  {
   "cell_type": "code",
   "execution_count": 15,
   "metadata": {
    "collapsed": false
   },
   "outputs": [],
   "source": [
    "BATCH_SIZE = 2\n",
    "model = GoogLeNet(10)\n",
    "writer = SummaryWriter(comment=\"-googlenet\")"
   ]
  },
  {
   "cell_type": "code",
   "execution_count": 16,
   "metadata": {
    "collapsed": true
   },
   "outputs": [],
   "source": [
    "sample_x = torch.randn(BATCH_SIZE,3,224,224)\n",
    "sample_y = torch.randperm(BATCH_SIZE)"
   ]
  },
  {
   "cell_type": "code",
   "execution_count": 17,
   "metadata": {
    "collapsed": false
   },
   "outputs": [],
   "source": [
    "preds = model(Variable(sample_x))\n",
    "writer.add_graph(model,(Variable(sample_x),))\n",
    "writer.close()"
   ]
  },
  {
   "cell_type": "code",
   "execution_count": 18,
   "metadata": {
    "collapsed": false
   },
   "outputs": [
    {
     "name": "stdout",
     "output_type": "stream",
     "text": [
      "TensorBoard 0.4.0rc3 at http://dsksd-tf:6006 (Press CTRL+C to quit)\n",
      "^C\n"
     ]
    }
   ],
   "source": [
    "!tensorboard --logdir runs --ip 0.0.0.0 --port 6006"
   ]
  },
  {
   "cell_type": "code",
   "execution_count": null,
   "metadata": {
    "collapsed": true
   },
   "outputs": [],
   "source": []
  }
 ],
 "metadata": {
  "kernelspec": {
   "display_name": "Python 3",
   "language": "python",
   "name": "python3"
  },
  "language_info": {
   "codemirror_mode": {
    "name": "ipython",
    "version": 3
   },
   "file_extension": ".py",
   "mimetype": "text/x-python",
   "name": "python",
   "nbconvert_exporter": "python",
   "pygments_lexer": "ipython3",
   "version": "3.5.2"
  }
 },
 "nbformat": 4,
 "nbformat_minor": 2
}
