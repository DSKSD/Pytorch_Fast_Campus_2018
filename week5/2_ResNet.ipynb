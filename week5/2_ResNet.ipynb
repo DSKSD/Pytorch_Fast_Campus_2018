{
 "cells": [
  {
   "cell_type": "code",
   "execution_count": 1,
   "metadata": {
    "collapsed": true
   },
   "outputs": [],
   "source": [
    "import torch\n",
    "import torch.nn as nn\n",
    "from torch.autograd import Variable\n",
    "import torch.optim as optim\n",
    "import torch.nn.functional as F\n",
    "import numpy as np\n",
    "import torchvision.transforms as transforms\n",
    "import torchvision.datasets as vdatasets\n",
    "import torchvision.utils as vutils\n",
    "import random\n",
    "import os, pickle\n",
    "from tensorboardX import SummaryWriter\n",
    "torch.manual_seed(1)\n",
    "\n",
    "DATA_PATH = os.environ['DATA_PATH']\n",
    "USE_CUDA = torch.cuda.is_available()\n",
    "\n",
    "import matplotlib.pyplot as plt\n",
    "%matplotlib inline"
   ]
  },
  {
   "cell_type": "code",
   "execution_count": 2,
   "metadata": {
    "collapsed": true
   },
   "outputs": [],
   "source": [
    "# 텐서보드 포트 설정\n",
    "port = pickle.load(open(\"port.info\",\"rb\"))[os.getcwd().split(\"/\")[-2]]\n",
    "\n",
    "# 텐서보드 데이터 파일 초기화\n",
    "try:\n",
    "    shutil.rmtree('runs/')\n",
    "except:\n",
    "    pass"
   ]
  },
  {
   "cell_type": "markdown",
   "metadata": {},
   "source": [
    "https://arxiv.org/pdf/1512.03385.pdf"
   ]
  },
  {
   "cell_type": "markdown",
   "metadata": {},
   "source": [
    "## Residual Module "
   ]
  },
  {
   "cell_type": "code",
   "execution_count": 3,
   "metadata": {
    "collapsed": true
   },
   "outputs": [],
   "source": [
    "class Residual(nn.Module):\n",
    "    def __init__(self,in_channels,out_channels=None,reduce_grid=False):\n",
    "        super(Residual,self).__init__()\n",
    "        \n",
    "        if out_channels:\n",
    "            self.increase_depth = True\n",
    "        else:\n",
    "            self.increase_depth = False\n",
    "            out_channels = in_channels\n",
    "            \n",
    "        if reduce_grid:\n",
    "            first_stride = 2\n",
    "        else:\n",
    "            first_stride = 1\n",
    "        \n",
    "        self.residual_layer = nn.Sequential(\n",
    "                                                    nn.Conv2d(in_channels,out_channels,3,first_stride,1),\n",
    "                                                    nn.ReLU(),\n",
    "                                                    nn.BatchNorm2d(out_channels),\n",
    "                                                    nn.Conv2d(out_channels,out_channels,3,1,1),\n",
    "                                                    nn.ReLU(),\n",
    "                                                    nn.BatchNorm2d(out_channels),\n",
    "                                                )\n",
    "        if self.increase_depth:\n",
    "            self.conv1_layer = nn.Sequential(\n",
    "                                                            nn.Conv2d(in_channels,out_channels,1,first_stride),\n",
    "                                                            nn.BatchNorm2d(out_channels)\n",
    "                                                            )\n",
    "            \n",
    "    def forward(self,inputs):\n",
    "        residual = self.residual_layer(inputs)\n",
    "        if self.increase_depth:\n",
    "            inputs = self.conv1_layer(inputs)\n",
    "        print(residual.size(),inputs.size())\n",
    "        return F.relu(residual+inputs)"
   ]
  },
  {
   "cell_type": "code",
   "execution_count": 4,
   "metadata": {
    "collapsed": false
   },
   "outputs": [
    {
     "name": "stdout",
     "output_type": "stream",
     "text": [
      "torch.Size([2, 6, 224, 224]) torch.Size([2, 6, 224, 224])\n"
     ]
    }
   ],
   "source": [
    "writer = SummaryWriter(comment='-basic-residual')\n",
    "sample_images = torch.randn(2,3,224,224)\n",
    "residual = Residual(3,6)\n",
    "output = residual(Variable(sample_images))\n",
    "writer.add_graph(residual,output)\n",
    "writer.close()"
   ]
  },
  {
   "cell_type": "code",
   "execution_count": 13,
   "metadata": {
    "collapsed": false
   },
   "outputs": [
    {
     "name": "stdout",
     "output_type": "stream",
     "text": [
      "TensorBoard 0.4.0rc3 at http://dsksd-tf:6006 (Press CTRL+C to quit)\n",
      "^C\n"
     ]
    }
   ],
   "source": [
    "!tensorboard --logdir runs --port 6006"
   ]
  },
  {
   "cell_type": "markdown",
   "metadata": {},
   "source": [
    "## ResNet-34"
   ]
  },
  {
   "cell_type": "code",
   "execution_count": 5,
   "metadata": {
    "collapsed": true
   },
   "outputs": [],
   "source": [
    "class ResNet34(nn.Module):\n",
    "    \n",
    "    def __init__(self,base_channels,output_size):\n",
    "        super(ResNet34,self).__init__()\n",
    "        \n",
    "        self.layer1 = nn.Sequential(\n",
    "                                    nn.Conv2d(3,base_channels,7,2,3),\n",
    "                                    nn.BatchNorm2d(base_channels),\n",
    "                                    nn.ReLU(),\n",
    "                                    nn.MaxPool2d(3,2,1)\n",
    "                                    )\n",
    "        \n",
    "        self.residual_layers = nn.Sequential(\n",
    "                                                Residual(base_channels),\n",
    "                                                Residual(base_channels),\n",
    "                                                Residual(base_channels),\n",
    "                                                Residual(base_channels,base_channels*2,True), # increase depth, reduce grid\n",
    "                                                Residual(base_channels*2),\n",
    "                                                Residual(base_channels*2),\n",
    "                                                Residual(base_channels*2),\n",
    "                                                Residual(base_channels*2,base_channels*4,True),\n",
    "                                                Residual(base_channels*4),\n",
    "                                                Residual(base_channels*4),\n",
    "                                                Residual(base_channels*4),\n",
    "                                                Residual(base_channels*4),\n",
    "                                                Residual(base_channels*4),\n",
    "                                                Residual(base_channels*4,base_channels*8,True),\n",
    "                                                Residual(base_channels*8),\n",
    "                                                Residual(base_channels*8),\n",
    "                                                )\n",
    "        self.global_avg = nn.AvgPool2d(7,7) # base_channels*8,1,1\n",
    "        self.fc = nn.Linear(base_channels*8,output_size)\n",
    "        \n",
    "    def forward(self,inputs):\n",
    "        outputs = self.layer1(inputs)\n",
    "        outputs = self.residual_layers(outputs)\n",
    "        outputs = self.global_avg(outputs)\n",
    "        outputs = self.fc(outputs.view(outputs.size(0),-1))\n",
    "        \n",
    "        return outputs"
   ]
  },
  {
   "cell_type": "markdown",
   "metadata": {},
   "source": [
    "## Sanity Check "
   ]
  },
  {
   "cell_type": "code",
   "execution_count": 8,
   "metadata": {
    "collapsed": true
   },
   "outputs": [],
   "source": [
    "BATCH_SIZE = 2\n",
    "model = ResNet34(64,10)\n",
    "writer = SummaryWriter(comment=\"-googlenet\")"
   ]
  },
  {
   "cell_type": "code",
   "execution_count": 9,
   "metadata": {
    "collapsed": true
   },
   "outputs": [],
   "source": [
    "sample_x = torch.randn(BATCH_SIZE,3,224,224)\n",
    "sample_y = torch.randperm(BATCH_SIZE)"
   ]
  },
  {
   "cell_type": "code",
   "execution_count": 10,
   "metadata": {
    "collapsed": false
   },
   "outputs": [
    {
     "name": "stdout",
     "output_type": "stream",
     "text": [
      "CPU times: user 3 µs, sys: 0 ns, total: 3 µs\n",
      "Wall time: 5.96 µs\n",
      "torch.Size([2, 64, 56, 56]) torch.Size([2, 64, 56, 56])\n",
      "torch.Size([2, 64, 56, 56]) torch.Size([2, 64, 56, 56])\n",
      "torch.Size([2, 64, 56, 56]) torch.Size([2, 64, 56, 56])\n",
      "torch.Size([2, 128, 28, 28]) torch.Size([2, 128, 28, 28])\n",
      "torch.Size([2, 128, 28, 28]) torch.Size([2, 128, 28, 28])\n",
      "torch.Size([2, 128, 28, 28]) torch.Size([2, 128, 28, 28])\n",
      "torch.Size([2, 128, 28, 28]) torch.Size([2, 128, 28, 28])\n",
      "torch.Size([2, 256, 14, 14]) torch.Size([2, 256, 14, 14])\n",
      "torch.Size([2, 256, 14, 14]) torch.Size([2, 256, 14, 14])\n",
      "torch.Size([2, 256, 14, 14]) torch.Size([2, 256, 14, 14])\n",
      "torch.Size([2, 256, 14, 14]) torch.Size([2, 256, 14, 14])\n",
      "torch.Size([2, 256, 14, 14]) torch.Size([2, 256, 14, 14])\n",
      "torch.Size([2, 256, 14, 14]) torch.Size([2, 256, 14, 14])\n",
      "torch.Size([2, 512, 7, 7]) torch.Size([2, 512, 7, 7])\n",
      "torch.Size([2, 512, 7, 7]) torch.Size([2, 512, 7, 7])\n",
      "torch.Size([2, 512, 7, 7]) torch.Size([2, 512, 7, 7])\n"
     ]
    }
   ],
   "source": [
    "%time\n",
    "model.train()\n",
    "preds = model(Variable(sample_x))\n",
    "writer.add_graph(model,preds)\n",
    "writer.close()"
   ]
  },
  {
   "cell_type": "code",
   "execution_count": null,
   "metadata": {
    "collapsed": false
   },
   "outputs": [
    {
     "name": "stdout",
     "output_type": "stream",
     "text": [
      "TensorBoard 0.4.0rc3 at http://dsksd-tf:6006 (Press CTRL+C to quit)\r\n"
     ]
    }
   ],
   "source": [
    "#!tensorboard --logdir runs --port 6006"
   ]
  },
  {
   "cell_type": "code",
   "execution_count": null,
   "metadata": {
    "collapsed": true
   },
   "outputs": [],
   "source": []
  }
 ],
 "metadata": {
  "kernelspec": {
   "display_name": "Python 3",
   "language": "python",
   "name": "python3"
  },
  "language_info": {
   "codemirror_mode": {
    "name": "ipython",
    "version": 3
   },
   "file_extension": ".py",
   "mimetype": "text/x-python",
   "name": "python",
   "nbconvert_exporter": "python",
   "pygments_lexer": "ipython3",
   "version": "3.5.2"
  }
 },
 "nbformat": 4,
 "nbformat_minor": 2
}
