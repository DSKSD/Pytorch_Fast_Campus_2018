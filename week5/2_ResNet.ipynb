{
 "cells": [
  {
   "cell_type": "code",
   "execution_count": 1,
   "metadata": {
    "collapsed": true
   },
   "outputs": [],
   "source": [
    "import torch\n",
    "import torch.nn as nn\n",
    "from torch.autograd import Variable\n",
    "import torch.optim as optim\n",
    "import torch.nn.functional as F\n",
    "import numpy as np\n",
    "import torchvision.transforms as transforms\n",
    "import torchvision.datasets as vdatasets\n",
    "import torchvision.utils as vutils\n",
    "import random\n",
    "import os\n",
    "from tensorboardX import SummaryWriter\n",
    "torch.manual_seed(1)\n",
    "\n",
    "DATA_PATH = os.environ['DATA_PATH']\n",
    "USE_CUDA = torch.cuda.is_available()\n",
    "\n",
    "import matplotlib.pyplot as plt\n",
    "%matplotlib inline"
   ]
  },
  {
   "cell_type": "markdown",
   "metadata": {},
   "source": [
    "https://www.cs.unc.edu/~wliu/papers/GoogLeNet.pdf"
   ]
  },
  {
   "cell_type": "markdown",
   "metadata": {
    "collapsed": true
   },
   "source": [
    "### Load Dataset"
   ]
  },
  {
   "cell_type": "code",
   "execution_count": 2,
   "metadata": {
    "collapsed": true
   },
   "outputs": [],
   "source": [
    "BATCH_SIZE=32"
   ]
  },
  {
   "cell_type": "markdown",
   "metadata": {},
   "source": [
    "## Residual Module "
   ]
  },
  {
   "cell_type": "code",
   "execution_count": 20,
   "metadata": {
    "collapsed": true
   },
   "outputs": [],
   "source": [
    "class Residual(nn.Module):\n",
    "    def __init__(self,in_channel,out_channel=None):\n",
    "        super(Residual,self).__init__()\n",
    "        \n",
    "        if out_channel:\n",
    "            self.increase_depth = True\n",
    "        else:\n",
    "            self.increase_depth = False\n",
    "            out_channel = in_channel\n",
    "        \n",
    "        self.residual_layer = nn.Sequential(\n",
    "                                                    nn.Conv2d(in_channel,out_channel,3,1,1),\n",
    "                                                    nn.ReLU(),\n",
    "                                                    nn.BatchNorm2d(out_channel),\n",
    "                                                    nn.Conv2d(out_channel,out_channel,3,1,1),\n",
    "                                                    nn.ReLU(),\n",
    "                                                    nn.BatchNorm2d(out_channel),\n",
    "                                                )\n",
    "        if self.increase_depth:\n",
    "            self.conv1_layer = nn.Sequential(\n",
    "                                                            nn.Conv2d(in_channel,out_channel,1),\n",
    "                                                            nn.BatchNorm2d(out_channel)\n",
    "                                                            )\n",
    "            \n",
    "    def forward(self,inputs):\n",
    "        residual = self.residual_layer(inputs)\n",
    "        if self.increase_depth:\n",
    "            inputs = self.conv1_layer(inputs)\n",
    "        return F.relu(residual+inputs)"
   ]
  },
  {
   "cell_type": "code",
   "execution_count": 25,
   "metadata": {
    "collapsed": true
   },
   "outputs": [],
   "source": [
    "writer = SummaryWriter(comment='-basic-residual')\n",
    "sample_images = torch.randn(32,3,32,32)\n",
    "residual = Residual(3,6)\n",
    "output = residual(Variable(sample_images))\n",
    "writer.add_graph(residual,output)\n",
    "writer.close()"
   ]
  },
  {
   "cell_type": "code",
   "execution_count": 26,
   "metadata": {
    "collapsed": true
   },
   "outputs": [],
   "source": [
    "class BottleNeckResidual(nn.Module):\n",
    "    def __init__(self,in_channel,out_channel=None):\n",
    "        super(BottleNeckResidual,self).__init__()\n",
    "        \n",
    "        if out_channel:\n",
    "            self.increase_depth = True\n",
    "        else:\n",
    "            self.increase_depth = False\n",
    "            out_channel = in_channel\n",
    "        \n",
    "        self.residual_layer = nn.Sequential(\n",
    "                                                    nn.Conv2d(in_channel,out_channel,3,1,1),\n",
    "                                                    nn.ReLU(),\n",
    "                                                    nn.BatchNorm2d(out_channel),\n",
    "                                                    nn.Conv2d(out_channel,out_channel,3,1,1),\n",
    "                                                    nn.ReLU(),\n",
    "                                                    nn.BatchNorm2d(out_channel),\n",
    "                                                )\n",
    "        if self.increase_depth:\n",
    "            self.conv1_layer = nn.Sequential(\n",
    "                                                            nn.Conv2d(in_channel,out_channel,1),\n",
    "                                                            nn.BatchNorm2d(out_channel)\n",
    "                                                            )\n",
    "            \n",
    "    def forward(self,inputs):\n",
    "        residual = self.residual_layer(inputs)\n",
    "        if self.increase_depth:\n",
    "            inputs = self.conv1_layer(inputs)\n",
    "        return F.relu(residual+inputs)"
   ]
  },
  {
   "cell_type": "code",
   "execution_count": 27,
   "metadata": {
    "collapsed": false
   },
   "outputs": [],
   "source": []
  },
  {
   "cell_type": "code",
   "execution_count": 28,
   "metadata": {
    "collapsed": false
   },
   "outputs": [],
   "source": []
  },
  {
   "cell_type": "code",
   "execution_count": 29,
   "metadata": {
    "collapsed": true
   },
   "outputs": [],
   "source": []
  },
  {
   "cell_type": "markdown",
   "metadata": {},
   "source": [
    "## Sanity Check "
   ]
  },
  {
   "cell_type": "code",
   "execution_count": 6,
   "metadata": {
    "collapsed": false
   },
   "outputs": [],
   "source": [
    "model = GoogLeNet(1000)"
   ]
  },
  {
   "cell_type": "code",
   "execution_count": 7,
   "metadata": {
    "collapsed": false
   },
   "outputs": [],
   "source": [
    "loss_function = nn.CrossEntropyLoss()\n",
    "optimizer = optim.Adam(model.parameters(),lr=0.001)\n",
    "\n",
    "writer = SummaryWriter(comment=\"-googlenet\")"
   ]
  },
  {
   "cell_type": "code",
   "execution_count": null,
   "metadata": {
    "collapsed": false
   },
   "outputs": [
    {
     "name": "stdout",
     "output_type": "stream",
     "text": [
      "CPU times: user 3 µs, sys: 1e+03 ns, total: 4 µs\n",
      "Wall time: 7.63 µs\n"
     ]
    }
   ],
   "source": [
    "%time\n",
    "model.train()\n",
    "for batch in train_loader:\n",
    "    x,_ = batch\n",
    "    outputs, outputs2 = model(Variable(x),True)\n",
    "    dummy_y = torch.randperm(BATCH_SIZE)\n",
    "    \n",
    "    writer.add_graph(model,outputs)\n",
    "    loss_1 = loss_function(outputs,Variable(dummy_y))\n",
    "    loss_2 = loss_function(outputs2,Variable(dummy_y))\n",
    "\n",
    "    loss = loss_1 + 0.3*loss_2\n",
    "    loss.backward()\n",
    "    optim.step()\n",
    "    break\n",
    "\n",
    "writer.close()"
   ]
  },
  {
   "cell_type": "code",
   "execution_count": 15,
   "metadata": {
    "collapsed": false
   },
   "outputs": [],
   "source": []
  }
 ],
 "metadata": {
  "kernelspec": {
   "display_name": "Python 3",
   "language": "python",
   "name": "python3"
  },
  "language_info": {
   "codemirror_mode": {
    "name": "ipython",
    "version": 3
   },
   "file_extension": ".py",
   "mimetype": "text/x-python",
   "name": "python",
   "nbconvert_exporter": "python",
   "pygments_lexer": "ipython3",
   "version": "3.5.2"
  }
 },
 "nbformat": 4,
 "nbformat_minor": 2
}
