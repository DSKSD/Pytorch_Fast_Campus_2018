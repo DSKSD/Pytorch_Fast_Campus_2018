{
 "cells": [
  {
   "cell_type": "code",
   "execution_count": 1,
   "metadata": {
    "collapsed": true
   },
   "outputs": [],
   "source": [
    "import torch\n",
    "import torch.nn as nn\n",
    "from torch.autograd import Variable\n",
    "import torch.optim as optim\n",
    "import torch.nn.functional as F\n",
    "import numpy as np\n",
    "import torchvision.transforms as transforms\n",
    "import torchvision.datasets as vdatasets\n",
    "import torchvision.utils as vutils\n",
    "import random\n",
    "import os, pickle\n",
    "from tensorboardX import SummaryWriter\n",
    "torch.manual_seed(1)\n",
    "\n",
    "DATA_PATH = os.environ['DATA_PATH']\n",
    "USE_CUDA = torch.cuda.is_available()\n",
    "\n",
    "import matplotlib.pyplot as plt\n",
    "%matplotlib inline"
   ]
  },
  {
   "cell_type": "code",
   "execution_count": 2,
   "metadata": {
    "collapsed": true
   },
   "outputs": [],
   "source": [
    "# 텐서보드 포트 설정\n",
    "port = pickle.load(open(\"port.info\",\"rb\"))[os.getcwd().split(\"/\")[-2]]\n",
    "\n",
    "# 텐서보드 데이터 파일 초기화\n",
    "try:\n",
    "    shutil.rmtree('runs/')\n",
    "except:\n",
    "    pass"
   ]
  },
  {
   "cell_type": "markdown",
   "metadata": {},
   "source": [
    "https://arxiv.org/pdf/1512.03385.pdf"
   ]
  },
  {
   "cell_type": "markdown",
   "metadata": {},
   "source": [
    "## Residual Module "
   ]
  },
  {
   "cell_type": "code",
   "execution_count": 3,
   "metadata": {
    "collapsed": false
   },
   "outputs": [],
   "source": [
    "class Residual(nn.Module):\n",
    "    def __init__(self,in_channels,out_channels=None,reduce_grid=False):\n",
    "        super(Residual,self).__init__()\n",
    "        \n",
    "        if out_channels:\n",
    "            self.increase_depth = True\n",
    "        else:\n",
    "            self.increase_depth = False\n",
    "            out_channels = in_channels\n",
    "            \n",
    "        if reduce_grid:\n",
    "            first_stride = 2\n",
    "        else:\n",
    "            first_stride = 1\n",
    "        \n",
    "        self.residual_layer = nn.Sequential(\n",
    "                                                    nn.Conv2d(in_channels,out_channels,3,first_stride,1),\n",
    "                                                    nn.BatchNorm2d(out_channels),\n",
    "                                                    nn.ReLU(),\n",
    "                                                    nn.Conv2d(out_channels,out_channels,3,1,1),\n",
    "                                                    nn.BatchNorm2d(out_channels),\n",
    "                                                    nn.ReLU(),\n",
    "                                                )\n",
    "        if self.increase_depth:\n",
    "            self.conv1_layer = nn.Sequential(\n",
    "                                                            nn.Conv2d(in_channels,out_channels,1,first_stride),\n",
    "                                                            nn.BatchNorm2d(out_channels),\n",
    "                                                            nn.ReLU(),\n",
    "                                                            )\n",
    "            \n",
    "    def forward(self,inputs):\n",
    "        residual = self.residual_layer(inputs) # F(x)\n",
    "        if self.increase_depth:\n",
    "            inputs = self.conv1_layer(inputs)\n",
    "        return F.relu(residual+inputs) # F.relu(F(x)+x)"
   ]
  },
  {
   "cell_type": "code",
   "execution_count": 5,
   "metadata": {
    "collapsed": false
   },
   "outputs": [],
   "source": [
    "writer = SummaryWriter(comment='-basic-residual2')\n",
    "sample_images = torch.randn(2,3,224,224)\n",
    "residual = Residual(3)\n",
    "# output = residual(Variable(sample_images))\n",
    "writer.add_graph(residual,(Variable(sample_images),))\n",
    "writer.close()"
   ]
  },
  {
   "cell_type": "code",
   "execution_count": 5,
   "metadata": {
    "collapsed": false
   },
   "outputs": [
    {
     "name": "stdout",
     "output_type": "stream",
     "text": [
      "TensorBoard 0.4.0rc3 at http://dsksd-tf:6006 (Press CTRL+C to quit)\n",
      "^C\n"
     ]
    }
   ],
   "source": [
    "!tensorboard --logdir runs --port 6006"
   ]
  },
  {
   "cell_type": "markdown",
   "metadata": {},
   "source": [
    "## ResNet-34"
   ]
  },
  {
   "cell_type": "code",
   "execution_count": 11,
   "metadata": {
    "collapsed": true
   },
   "outputs": [],
   "source": [
    "class ResNet34(nn.Module):\n",
    "    \n",
    "    def __init__(self,base_channels,output_size):\n",
    "        super(ResNet34,self).__init__()\n",
    "        \n",
    "        self.layer1 = nn.Sequential(\n",
    "                                    nn.Conv2d(3,base_channels,7,2,3),\n",
    "                                    nn.BatchNorm2d(base_channels),\n",
    "                                    nn.ReLU(),\n",
    "                                    nn.MaxPool2d(3,2,1)\n",
    "                                    )\n",
    "        \n",
    "        self.residual_layers = nn.Sequential(\n",
    "                                                Residual(base_channels),\n",
    "                                                Residual(base_channels),\n",
    "                                                Residual(base_channels),\n",
    "                                                Residual(base_channels,base_channels*2,True), # increase depth, reduce grid\n",
    "                                                Residual(base_channels*2),\n",
    "                                                Residual(base_channels*2),\n",
    "                                                Residual(base_channels*2),\n",
    "                                                Residual(base_channels*2,base_channels*4,True),\n",
    "                                                Residual(base_channels*4),\n",
    "                                                Residual(base_channels*4),\n",
    "                                                Residual(base_channels*4),\n",
    "                                                Residual(base_channels*4),\n",
    "                                                Residual(base_channels*4),\n",
    "                                                Residual(base_channels*4,base_channels*8,True),\n",
    "                                                Residual(base_channels*8),\n",
    "                                                Residual(base_channels*8),\n",
    "                                                )\n",
    "        self.global_avg = nn.AvgPool2d(7,7) # base_channels*8,1,1\n",
    "        self.fc = nn.Linear(base_channels*8,output_size)\n",
    "        \n",
    "    def forward(self,inputs):\n",
    "        outputs = self.layer1(inputs)\n",
    "        outputs = self.residual_layers(outputs)\n",
    "        outputs = self.global_avg(outputs)\n",
    "        \n",
    "        # B,512,1,1 -> B,512 => B,512*1*1\n",
    "        #outputs.view(B,-1)\n",
    "        \n",
    "        outputs = self.fc(outputs.view(outputs.size(0),-1)) # B,1000\n",
    "        \n",
    "        return outputs"
   ]
  },
  {
   "cell_type": "markdown",
   "metadata": {},
   "source": [
    "## Sanity Check "
   ]
  },
  {
   "cell_type": "code",
   "execution_count": 12,
   "metadata": {
    "collapsed": false
   },
   "outputs": [],
   "source": [
    "BATCH_SIZE = 2\n",
    "model = ResNet34(64,10)\n",
    "writer = SummaryWriter(comment=\"-resnet\")"
   ]
  },
  {
   "cell_type": "code",
   "execution_count": 13,
   "metadata": {
    "collapsed": true
   },
   "outputs": [],
   "source": [
    "sample_x = torch.randn(BATCH_SIZE,3,224,224)\n",
    "# sample_y = torch.randperm(BATCH_SIZE)"
   ]
  },
  {
   "cell_type": "code",
   "execution_count": 16,
   "metadata": {
    "collapsed": false
   },
   "outputs": [
    {
     "name": "stdout",
     "output_type": "stream",
     "text": [
      "CPU times: user 6 µs, sys: 2 µs, total: 8 µs\n",
      "Wall time: 14.3 µs\n"
     ]
    }
   ],
   "source": [
    "%time\n",
    "model.train()\n",
    "preds = model(Variable(sample_x))\n",
    "writer.add_graph(model,(Variable(sample_x),))\n",
    "writer.close()"
   ]
  },
  {
   "cell_type": "code",
   "execution_count": 17,
   "metadata": {
    "collapsed": false
   },
   "outputs": [
    {
     "name": "stdout",
     "output_type": "stream",
     "text": [
      "TensorBoard 0.4.0rc3 at http://dsksd-tf:6006 (Press CTRL+C to quit)\n",
      "^C\n"
     ]
    }
   ],
   "source": [
    "!tensorboard --logdir runs --port 6006"
   ]
  },
  {
   "cell_type": "code",
   "execution_count": null,
   "metadata": {
    "collapsed": true
   },
   "outputs": [],
   "source": []
  }
 ],
 "metadata": {
  "kernelspec": {
   "display_name": "Python 3",
   "language": "python",
   "name": "python3"
  },
  "language_info": {
   "codemirror_mode": {
    "name": "ipython",
    "version": 3
   },
   "file_extension": ".py",
   "mimetype": "text/x-python",
   "name": "python",
   "nbconvert_exporter": "python",
   "pygments_lexer": "ipython3",
   "version": "3.5.2"
  }
 },
 "nbformat": 4,
 "nbformat_minor": 2
}
