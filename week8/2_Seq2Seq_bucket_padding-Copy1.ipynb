{
 "cells": [
  {
   "cell_type": "code",
   "execution_count": 1,
   "metadata": {
    "collapsed": true
   },
   "outputs": [],
   "source": [
    "import torch\n",
    "import torch.nn as nn\n",
    "from torch.autograd import Variable\n",
    "import torch.optim as optim\n",
    "import torch.nn.functional as F\n",
    "import numpy as np\n",
    "import torchtext\n",
    "import nltk\n",
    "from konlpy.tag import Kkma\n",
    "from torchtext.data import Field, BucketIterator, TabularDataset\n",
    "from torch.nn.utils.rnn import pack_padded_sequence, pad_packed_sequence"
   ]
  },
  {
   "cell_type": "markdown",
   "metadata": {},
   "source": [
    "## 데이터 준비 "
   ]
  },
  {
   "cell_type": "markdown",
   "metadata": {},
   "source": [
    "대화 모델 더미 데이터"
   ]
  },
  {
   "cell_type": "code",
   "execution_count": 2,
   "metadata": {
    "collapsed": true
   },
   "outputs": [],
   "source": [
    "kor_tagger = Kkma()\n",
    "\n",
    "kor_tagger = kor_tagger.morphs"
   ]
  },
  {
   "cell_type": "code",
   "execution_count": 3,
   "metadata": {
    "collapsed": true
   },
   "outputs": [],
   "source": [
    "SOURCE = Field(tokenize=kor_tagger,use_vocab=True,init_token=\"<s>\",eos_token=\"</s>\",lower=True, include_lengths=True, batch_first=True)\n",
    "TARGET = Field(tokenize=kor_tagger,use_vocab=True,init_token=\"<s>\",eos_token=\"</s>\",lower=True, batch_first=True)"
   ]
  },
  {
   "cell_type": "code",
   "execution_count": 4,
   "metadata": {
    "collapsed": true
   },
   "outputs": [],
   "source": [
    "train_data = TabularDataset(\n",
    "                                   path=\"data/dsksd_chat.txt\",\n",
    "                                   format='tsv', # \\t로 구분\n",
    "                                   #skip_header=True, # 헤더가 있다면 스킵\n",
    "                                   fields=[('inputs',SOURCE),('targets',TARGET)])"
   ]
  },
  {
   "cell_type": "code",
   "execution_count": 5,
   "metadata": {
    "collapsed": false
   },
   "outputs": [],
   "source": [
    "SOURCE.build_vocab(train_data)\n",
    "TARGET.build_vocab(train_data)"
   ]
  },
  {
   "cell_type": "code",
   "execution_count": 6,
   "metadata": {
    "collapsed": false
   },
   "outputs": [
    {
     "name": "stdout",
     "output_type": "stream",
     "text": [
      "316 272\n"
     ]
    }
   ],
   "source": [
    "print(len(SOURCE.vocab),len(TARGET.vocab))"
   ]
  },
  {
   "cell_type": "code",
   "execution_count": 7,
   "metadata": {
    "collapsed": true
   },
   "outputs": [],
   "source": [
    "train_loader = BucketIterator(\n",
    "    train_data, batch_size=32, device=-1, # device -1 : cpu, device 0 : 남는 gpu\n",
    "    sort_key=lambda x: len(x.inputs),sort_within_batch=True,repeat=False) "
   ]
  },
  {
   "cell_type": "code",
   "execution_count": 8,
   "metadata": {
    "collapsed": true
   },
   "outputs": [],
   "source": [
    "for batch in train_loader:\n",
    "    break"
   ]
  },
  {
   "cell_type": "code",
   "execution_count": 13,
   "metadata": {
    "collapsed": true
   },
   "outputs": [],
   "source": [
    "inputs, lengths = batch.inputs"
   ]
  },
  {
   "cell_type": "markdown",
   "metadata": {},
   "source": [
    "## PackedSequence "
   ]
  },
  {
   "cell_type": "code",
   "execution_count": 11,
   "metadata": {
    "collapsed": true
   },
   "outputs": [],
   "source": [
    "E = 50\n",
    "H = 100"
   ]
  },
  {
   "cell_type": "code",
   "execution_count": 12,
   "metadata": {
    "collapsed": false
   },
   "outputs": [],
   "source": [
    "embed = nn.Embedding(len(SOURCE.vocab),E)\n",
    "rnn = nn.GRU(E,H,batch_first=True)"
   ]
  },
  {
   "cell_type": "code",
   "execution_count": 14,
   "metadata": {
    "collapsed": false
   },
   "outputs": [
    {
     "name": "stdout",
     "output_type": "stream",
     "text": [
      "torch.Size([32, 8, 50])\n"
     ]
    }
   ],
   "source": [
    "embedded = embed(inputs)\n",
    "print(embedded.size())"
   ]
  },
  {
   "cell_type": "code",
   "execution_count": 15,
   "metadata": {
    "collapsed": false
   },
   "outputs": [
    {
     "data": {
      "text/plain": [
       "(Variable containing:\n",
       " ( 0 ,.,.) = \n",
       "  -1.3902e-01 -2.7971e-01  2.8283e-02  ...   2.9061e-02  2.0862e-01 -2.1951e-01\n",
       "  -1.0113e-01 -3.4135e-01  9.2160e-02  ...   1.1204e-01  2.1351e-01 -9.4129e-02\n",
       "  -1.9690e-01 -1.6823e-01  4.1245e-01  ...   3.2552e-03  2.7113e-02 -6.2665e-02\n",
       "                  ...                   ⋱                   ...                \n",
       "  -2.7761e-01 -2.3033e-01 -3.0036e-01  ...   1.3460e-01 -3.8957e-02  9.4862e-02\n",
       "  -1.3562e-01  1.7226e-04 -9.1728e-02  ...   1.3502e-01 -1.5232e-01  1.0153e-01\n",
       "  -1.0844e-01  3.6799e-02 -1.3009e-01  ...   2.4265e-02 -4.7897e-01  6.5472e-02\n",
       " \n",
       " ( 1 ,.,.) = \n",
       "  -1.3902e-01 -2.7971e-01  2.8283e-02  ...   2.9061e-02  2.0862e-01 -2.1951e-01\n",
       "  -7.8600e-02 -4.6822e-01 -2.4966e-01  ...   4.3685e-02 -4.6790e-02 -8.7919e-03\n",
       "   1.9377e-01 -1.8793e-01  4.6660e-02  ...   2.0945e-01  3.2350e-01  2.5769e-01\n",
       "                  ...                   ⋱                   ...                \n",
       "   1.6942e-01 -2.3333e-01 -5.0149e-02  ...  -1.1582e-01 -6.0621e-03  2.8317e-01\n",
       "   2.5344e-01 -1.6651e-01 -1.1724e-02  ...  -2.9948e-01  1.0061e-01  2.8771e-01\n",
       "   1.3527e-01  3.4721e-02 -6.6925e-02  ...  -2.3769e-01 -3.5017e-01  2.2543e-01\n",
       " \n",
       " ( 2 ,.,.) = \n",
       "  -1.3902e-01 -2.7971e-01  2.8283e-02  ...   2.9061e-02  2.0862e-01 -2.1951e-01\n",
       "  -1.7144e-01  9.9631e-02 -1.6258e-01  ...  -1.2325e-01  1.5169e-01 -5.0825e-01\n",
       "   1.3323e-01  1.3851e-01 -1.4127e-01  ...  -3.3618e-01  2.1313e-01  2.3766e-01\n",
       "                  ...                   ⋱                   ...                \n",
       "  -2.7867e-02  9.2426e-03  3.0468e-01  ...  -8.0791e-03 -2.4451e-01  2.1703e-01\n",
       "   1.3723e-01 -1.5078e-01  1.3330e-01  ...  -1.9264e-01 -3.3946e-01  4.2926e-02\n",
       "   6.4315e-02 -5.0929e-02 -2.7127e-02  ...  -1.5507e-01 -5.8347e-01  2.8229e-02\n",
       " ... \n",
       " \n",
       " (29 ,.,.) = \n",
       "  -1.3902e-01 -2.7971e-01  2.8283e-02  ...   2.9061e-02  2.0862e-01 -2.1951e-01\n",
       "  -2.4365e-02 -2.7225e-01 -6.8004e-02  ...   4.5900e-01  3.1594e-01 -2.6494e-01\n",
       "   4.8976e-02 -4.6975e-02  5.3589e-02  ...   3.1272e-01 -2.1654e-01  6.1063e-02\n",
       "                  ...                   ⋱                   ...                \n",
       "   2.9355e-01 -1.5429e-01  1.6456e-01  ...  -1.5442e-01  1.7773e-01  4.4879e-01\n",
       "   1.6860e-01 -1.5509e-03  1.4607e-02  ...  -1.5753e-01 -3.4554e-01  3.1296e-01\n",
       "   2.4359e-01  3.3268e-01 -5.1766e-02  ...   2.7915e-02 -3.5326e-01 -1.2857e-01\n",
       " \n",
       " (30 ,.,.) = \n",
       "  -1.3902e-01 -2.7970e-01  2.8283e-02  ...   2.9061e-02  2.0862e-01 -2.1951e-01\n",
       "  -1.9876e-01 -1.7398e-01  4.0822e-02  ...   5.2041e-02  2.0545e-01 -4.0082e-02\n",
       "  -1.5596e-01 -4.4705e-02 -1.4950e-01  ...  -1.7024e-01 -2.4318e-02 -1.9798e-01\n",
       "                  ...                   ⋱                   ...                \n",
       "  -3.1591e-01  1.2516e-01  1.3970e-01  ...  -1.6031e-02  2.4516e-03  1.0485e-01\n",
       "  -2.6553e-01  1.1194e-01 -1.1684e-02  ...  -2.8173e-02 -3.9084e-01  6.3149e-02\n",
       "   3.5702e-02  4.0352e-01 -6.8942e-02  ...   1.3454e-01 -3.8218e-01 -2.8400e-01\n",
       " \n",
       " (31 ,.,.) = \n",
       "  -1.3902e-01 -2.7970e-01  2.8283e-02  ...   2.9061e-02  2.0862e-01 -2.1951e-01\n",
       "  -3.4894e-01 -4.4004e-01 -5.5949e-02  ...   2.8834e-01 -2.5409e-01 -3.2509e-01\n",
       "  -1.4375e-01 -3.1394e-01  7.0213e-03  ...   2.6099e-01 -3.6570e-01 -2.4846e-01\n",
       "                  ...                   ⋱                   ...                \n",
       "   2.2154e-01 -4.0245e-02 -6.5677e-02  ...  -2.7668e-02 -3.5650e-01 -5.5274e-02\n",
       "   1.1011e-01  3.8224e-02 -1.3631e-01  ...  -2.3716e-02 -5.3977e-01 -5.9360e-03\n",
       "   2.2615e-01  3.5475e-01 -1.4828e-01  ...   1.4557e-01 -4.2696e-01 -2.9596e-01\n",
       " [torch.FloatTensor of size 32x8x100], Variable containing:\n",
       " ( 0 ,.,.) = \n",
       "  -0.1084  0.0368 -0.1301  ...   0.0243 -0.4790  0.0655\n",
       "   0.1353  0.0347 -0.0669  ...  -0.2377 -0.3502  0.2254\n",
       "   0.0643 -0.0509 -0.0271  ...  -0.1551 -0.5835  0.0282\n",
       "            ...             ⋱             ...          \n",
       "   0.2436  0.3327 -0.0518  ...   0.0279 -0.3533 -0.1286\n",
       "   0.0357  0.4035 -0.0689  ...   0.1345 -0.3822 -0.2840\n",
       "   0.2261  0.3547 -0.1483  ...   0.1456 -0.4270 -0.2960\n",
       " [torch.FloatTensor of size 1x32x100])"
      ]
     },
     "execution_count": 15,
     "metadata": {},
     "output_type": "execute_result"
    }
   ],
   "source": [
    "rnn(embedded)"
   ]
  },
  {
   "cell_type": "markdown",
   "metadata": {},
   "source": [
    "## Encoder "
   ]
  },
  {
   "cell_type": "code",
   "execution_count": 96,
   "metadata": {
    "collapsed": false
   },
   "outputs": [],
   "source": [
    "class Encoder(nn.Module):\n",
    "    def __init__(self,V,E,H,num_layers=1,bidirec=False):\n",
    "        super(Encoder,self).__init__()\n",
    "        \n",
    "        self.hidden_size = H\n",
    "        self.num_layers = num_layers\n",
    "        self.num_directions = 2 if bidirec else 1\n",
    "        \n",
    "        self.embed = nn.Embedding(V,E)\n",
    "        self.dropout = nn.Dropout(0.5)\n",
    "        self.gru = nn.GRU(E,H,num_layers,batch_first=True,bidirectional=bidirec)\n",
    "        \n",
    "    def init_hidden(self,batch_size):\n",
    "        hidden = Variable(torch.zeros(self.num_layers*self.num_directions,batch_size,self.hidden_size))\n",
    "        return hidden\n",
    "    \n",
    "    def forward(self,inputs,input_lengths):\n",
    "        \"\"\"\n",
    "        inputs : B,T # LongTensor\n",
    "        input_lengths : B # list\n",
    "        \"\"\"\n",
    "        \n",
    "        embed = self.embed(inputs)\n",
    "        embed = self.dropout(embed)\n",
    "        hidden = self.init_hidden(inputs.size(0))\n",
    "        \n",
    "        # 패딩된 문장을 패킹(패딩은 연산 안들어가도록)\n",
    "        packed = pack_padded_sequence(embed, input_lengths,batch_first=True) \n",
    "        output, hidden = self.gru(packed,hidden)\n",
    "        \n",
    "        # 패킹된 문장을 다시 unpack\n",
    "        output, output_lengths = pad_packed_sequence(output,batch_first=True) \n",
    "        \n",
    "        # last hidden 선택하기 , concat\n",
    "        hidden = hidden[-self.num_directions:] # num_layers*num_directions,batch_size,hidden_size\n",
    "        hidden = torch.cat([h for h in hidden],1).unsqueeze(0) # 1,B,2H\n",
    "        \n",
    "        return output, hidden"
   ]
  },
  {
   "cell_type": "markdown",
   "metadata": {},
   "source": [
    "## Decoder "
   ]
  },
  {
   "cell_type": "code",
   "execution_count": 97,
   "metadata": {
    "collapsed": true
   },
   "outputs": [],
   "source": [
    "class Decoder(nn.Module):\n",
    "    def __init__(self,V,E,H,sos_idx,max_len=15):\n",
    "        super(Decoder,self).__init__()\n",
    "        \n",
    "        self.hidden_size = H\n",
    "        self.max_len = max_len\n",
    "        self.sos_idx = sos_idx\n",
    "        self.embed = nn.Embedding(V,E)\n",
    "        self.gru = nn.GRU(E,H,batch_first=True)\n",
    "        self.linear = nn.Linear(H,V)\n",
    "        \n",
    "    def start_token(self,batch_size):\n",
    "        return Variable(torch.LongTensor([self.sos_idx]*batch_size)).unsqueeze(1)\n",
    "        \n",
    "    def forward(self,hidden, max_len=None):\n",
    "        \n",
    "        if max_len is None: max_len = self.max_len\n",
    "        \n",
    "        inputs = self.start_token(hidden.size(1)) # Batch_size\n",
    "        embed = self.embed(inputs)\n",
    "                    \n",
    "        scores=[]\n",
    "        for _ in range(max_len):\n",
    "            _, hidden = self.gru(embed,hidden)\n",
    "            score = self.linear(hidden.squeeze(0))\n",
    "            scores.append(score)\n",
    "            decoded = score.max(1)[1]\n",
    "            embed = self.embed(decoded).unsqueeze(1) # y_{t-1}\n",
    "            \n",
    "        #  column-wise concat, reshape!!\n",
    "        scores = torch.cat(scores,1)\n",
    "        return scores.view(inputs.size(0)*max_len,-1)"
   ]
  },
  {
   "cell_type": "markdown",
   "metadata": {},
   "source": [
    "## Train "
   ]
  },
  {
   "cell_type": "code",
   "execution_count": 101,
   "metadata": {
    "collapsed": false
   },
   "outputs": [],
   "source": [
    "HIDDEN = 30\n",
    "EMBED = 30\n",
    "STEP = 150\n",
    "LR = 0.01\n",
    "\n",
    "encoder = Encoder(len(SOURCE.vocab),EMBED,HIDDEN,bidirec=True)\n",
    "decoder = Decoder(len(TARGET.vocab),EMBED,HIDDEN*2,TARGET.vocab.stoi['<s>'])\n",
    "\n",
    "loss_function = nn.CrossEntropyLoss(ignore_index=TARGET.vocab.stoi['<pad>'])\n",
    "optimizer = optim.Adam(list(encoder.parameters()) + list(decoder.parameters()),lr=LR)"
   ]
  },
  {
   "cell_type": "code",
   "execution_count": 102,
   "metadata": {
    "collapsed": false
   },
   "outputs": [
    {
     "name": "stdout",
     "output_type": "stream",
     "text": [
      "5.215575122833252\n",
      "3.305179214477539\n",
      "2.783242416381836\n",
      "2.3035650730133055\n",
      "2.0305253982543947\n",
      "1.6812453031539918\n",
      "1.4967052459716796\n",
      "1.191986608505249\n",
      "0.9598398089408875\n",
      "0.8565816164016724\n",
      "0.6940780758857727\n",
      "0.6236866474151611\n",
      "0.5090916633605957\n",
      "0.45437546968460085\n",
      "0.43694338798522947\n"
     ]
    }
   ],
   "source": [
    "encoder.train()\n",
    "for step in range(STEP):\n",
    "    losses=[]\n",
    "    for i, batch in enumerate(train_loader):\n",
    "        inputs,lengths = batch.inputs\n",
    "        targets = batch.targets\n",
    "        \n",
    "        encoder.zero_grad()\n",
    "        decoder.zero_grad()\n",
    "        \n",
    "        output, hidden = encoder(inputs,lengths.tolist())\n",
    "        preds = decoder(hidden,targets.size(1))\n",
    "        \n",
    "        loss = loss_function(preds,targets.view(-1))\n",
    "        losses.append(loss.data[0])\n",
    "        \n",
    "        loss.backward()\n",
    "        optimizer.step()\n",
    "        \n",
    "    if step % 10 == 0:\n",
    "        print(np.mean(losses))\n",
    "        losses=[]"
   ]
  },
  {
   "cell_type": "markdown",
   "metadata": {
    "collapsed": true
   },
   "source": [
    "## TEST "
   ]
  },
  {
   "cell_type": "code",
   "execution_count": 103,
   "metadata": {
    "collapsed": false
   },
   "outputs": [
    {
     "name": "stdout",
     "output_type": "stream",
     "text": [
      "파이토치 좋아?\n",
      "한번 사용 하 어 보시 면 알 시 ㄹ 거 에 요 !\n",
      "뭐해?\n",
      "저 어 어 어 어 이 요 ?\n",
      "ㅡㅡ\n",
      "알 겠 !!\n",
      "꺼져\n",
      "요 어 어 이 요 ?\n",
      "바보네\n",
      "말 이 거치 시 네요 .. ㅠ\n",
      "잘가\n",
      "아 알 !! 요 요\n",
      "ㅗ\n",
      "요\n",
      "ㅋㅋ\n",
      "감사 !\n"
     ]
    }
   ],
   "source": [
    "encoder.eval()\n",
    "while 1:\n",
    "    try:\n",
    "        text = input()\n",
    "        tokenized = [\"<s>\"] + kor_tagger(text) +[\"</s>\"]\n",
    "        input_,length = SOURCE.numericalize(([tokenized],[len(tokenized)]),train=False,device=-1)\n",
    "\n",
    "        o,h = encoder(input_,length.tolist())\n",
    "        preds = decoder(h)\n",
    "        reply = [TARGET.vocab.itos[i] for i in preds.max(1)[1].data.tolist() if i not in [0,1,2,3]]\n",
    "\n",
    "        print(\" \".join(reply))\n",
    "    except KeyboardInterrupt as e:\n",
    "        break"
   ]
  },
  {
   "cell_type": "code",
   "execution_count": null,
   "metadata": {
    "collapsed": true
   },
   "outputs": [],
   "source": []
  }
 ],
 "metadata": {
  "kernelspec": {
   "display_name": "Python 3",
   "language": "python",
   "name": "python3"
  },
  "language_info": {
   "codemirror_mode": {
    "name": "ipython",
    "version": 3
   },
   "file_extension": ".py",
   "mimetype": "text/x-python",
   "name": "python",
   "nbconvert_exporter": "python",
   "pygments_lexer": "ipython3",
   "version": "3.5.2"
  }
 },
 "nbformat": 4,
 "nbformat_minor": 2
}
