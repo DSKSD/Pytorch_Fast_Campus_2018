{
 "cells": [
  {
   "cell_type": "code",
   "execution_count": 46,
   "metadata": {
    "collapsed": true
   },
   "outputs": [],
   "source": [
    "import torch\n",
    "import torch.nn as nn\n",
    "from torch.autograd import Variable\n",
    "import torch.optim as optim\n",
    "import torch.nn.functional as F\n",
    "import numpy as np\n",
    "import torchtext\n",
    "import nltk\n",
    "from konlpy.tag import Kkma\n",
    "from torchtext.data import Field, BucketIterator, TabularDataset\n",
    "from torch.nn.utils.rnn import pack_padded_sequence, pad_packed_sequence"
   ]
  },
  {
   "cell_type": "markdown",
   "metadata": {},
   "source": [
    "## 데이터 준비 "
   ]
  },
  {
   "cell_type": "markdown",
   "metadata": {},
   "source": [
    "대화 모델 더미 데이터"
   ]
  },
  {
   "cell_type": "code",
   "execution_count": 47,
   "metadata": {
    "collapsed": true
   },
   "outputs": [],
   "source": [
    "kor_tagger = Kkma()\n",
    "\n",
    "kor_tagger = kor_tagger.morphs"
   ]
  },
  {
   "cell_type": "code",
   "execution_count": 50,
   "metadata": {
    "collapsed": true
   },
   "outputs": [],
   "source": [
    "SOURCE = Field(tokenize=kor_tagger,use_vocab=True,init_token=\"<s>\",eos_token=\"</s>\",lower=True, include_lengths=True, batch_first=True)\n",
    "TARGET = Field(tokenize=kor_tagger,use_vocab=True,init_token=\"<s>\",eos_token=\"</s>\",lower=True, batch_first=True)"
   ]
  },
  {
   "cell_type": "code",
   "execution_count": 51,
   "metadata": {
    "collapsed": true
   },
   "outputs": [],
   "source": [
    "train_data = TabularDataset(\n",
    "                                   path=\"data/dsksd_chat.txt\",\n",
    "                                   format='tsv', # \\t로 구분\n",
    "                                   #skip_header=True, # 헤더가 있다면 스킵\n",
    "                                   fields=[('inputs',SOURCE),('targets',TARGET)])"
   ]
  },
  {
   "cell_type": "code",
   "execution_count": 52,
   "metadata": {
    "collapsed": false
   },
   "outputs": [],
   "source": [
    "SOURCE.build_vocab(train_data)\n",
    "TARGET.build_vocab(train_data)"
   ]
  },
  {
   "cell_type": "code",
   "execution_count": 53,
   "metadata": {
    "collapsed": false
   },
   "outputs": [
    {
     "name": "stdout",
     "output_type": "stream",
     "text": [
      "310 264\n"
     ]
    }
   ],
   "source": [
    "print(len(SOURCE.vocab),len(TARGET.vocab))"
   ]
  },
  {
   "cell_type": "code",
   "execution_count": 54,
   "metadata": {
    "collapsed": true
   },
   "outputs": [],
   "source": [
    "train_loader = BucketIterator(\n",
    "    train_data, batch_size=32, device=-1, # device -1 : cpu, device 0 : 남는 gpu\n",
    "    sort_key=lambda x: len(x.inputs),sort_within_batch=True,repeat=False) "
   ]
  },
  {
   "cell_type": "code",
   "execution_count": 55,
   "metadata": {
    "collapsed": true
   },
   "outputs": [],
   "source": [
    "for batch in train_loader:\n",
    "    break"
   ]
  },
  {
   "cell_type": "markdown",
   "metadata": {},
   "source": [
    "## Encoder "
   ]
  },
  {
   "cell_type": "code",
   "execution_count": 96,
   "metadata": {
    "collapsed": false
   },
   "outputs": [],
   "source": [
    "class Encoder(nn.Module):\n",
    "    def __init__(self,V,E,H,num_layers=1,bidirec=False):\n",
    "        super(Encoder,self).__init__()\n",
    "        \n",
    "        self.hidden_size = H\n",
    "        self.num_layers = num_layers\n",
    "        self.num_directions = 2 if bidirec else 1\n",
    "        \n",
    "        self.embed = nn.Embedding(V,E)\n",
    "        self.dropout = nn.Dropout(0.5)\n",
    "        self.gru = nn.GRU(E,H,num_layers,batch_first=True,bidirectional=bidirec)\n",
    "        \n",
    "    def init_hidden(self,batch_size):\n",
    "        hidden = Variable(torch.zeros(self.num_layers*self.num_directions,batch_size,self.hidden_size))\n",
    "        return hidden\n",
    "    \n",
    "    def forward(self,inputs,input_lengths):\n",
    "        \"\"\"\n",
    "        inputs : B,T # LongTensor\n",
    "        input_lengths : B # list\n",
    "        \"\"\"\n",
    "        \n",
    "        embed = self.embed(inputs)\n",
    "        embed = self.dropout(embed)\n",
    "        hidden = self.init_hidden(inputs.size(0))\n",
    "        \n",
    "        # 패딩된 문장을 패킹(패딩은 연산 안들어가도록)\n",
    "        packed = pack_padded_sequence(embed, input_lengths,batch_first=True) \n",
    "        output, hidden = self.gru(packed,hidden)\n",
    "        \n",
    "        # 패킹된 문장을 다시 unpack\n",
    "        output, output_lengths = pad_packed_sequence(output,batch_first=True) \n",
    "        \n",
    "        # last hidden 선택하기 , concat\n",
    "        hidden = hidden[-self.num_directions:] # num_layers*num_directions,batch_size,hidden_size\n",
    "        hidden = torch.cat([h for h in hidden],1).unsqueeze(0) # 1,B,2H\n",
    "        \n",
    "        return output, hidden"
   ]
  },
  {
   "cell_type": "markdown",
   "metadata": {},
   "source": [
    "## Decoder "
   ]
  },
  {
   "cell_type": "code",
   "execution_count": 97,
   "metadata": {
    "collapsed": true
   },
   "outputs": [],
   "source": [
    "class Decoder(nn.Module):\n",
    "    def __init__(self,V,E,H,sos_idx,max_len=15):\n",
    "        super(Decoder,self).__init__()\n",
    "        \n",
    "        self.hidden_size = H\n",
    "        self.max_len = max_len\n",
    "        self.sos_idx = sos_idx\n",
    "        self.embed = nn.Embedding(V,E)\n",
    "        self.gru = nn.GRU(E,H,batch_first=True)\n",
    "        self.linear = nn.Linear(H,V)\n",
    "        \n",
    "    def start_token(self,batch_size):\n",
    "        return Variable(torch.LongTensor([self.sos_idx]*batch_size)).unsqueeze(1)\n",
    "        \n",
    "    def forward(self,hidden, max_len=None):\n",
    "        \n",
    "        if max_len is None: max_len = self.max_len\n",
    "        \n",
    "        inputs = self.start_token(hidden.size(1)) # Batch_size\n",
    "        embed = self.embed(inputs)\n",
    "                    \n",
    "        scores=[]\n",
    "        for _ in range(max_len):\n",
    "            _, hidden = self.gru(embed,hidden)\n",
    "            score = self.linear(hidden.squeeze(0))\n",
    "            scores.append(score)\n",
    "            decoded = score.max(1)[1]\n",
    "            embed = self.embed(decoded).unsqueeze(1) # y_{t-1}\n",
    "            \n",
    "        #  column-wise concat, reshape!!\n",
    "        scores = torch.cat(scores,1)\n",
    "        return scores.view(inputs.size(0)*max_len,-1)"
   ]
  },
  {
   "cell_type": "markdown",
   "metadata": {},
   "source": [
    "## Train "
   ]
  },
  {
   "cell_type": "code",
   "execution_count": 101,
   "metadata": {
    "collapsed": false
   },
   "outputs": [],
   "source": [
    "HIDDEN = 30\n",
    "EMBED = 30\n",
    "STEP = 150\n",
    "LR = 0.01\n",
    "\n",
    "encoder = Encoder(len(SOURCE.vocab),EMBED,HIDDEN,bidirec=True)\n",
    "decoder = Decoder(len(TARGET.vocab),EMBED,HIDDEN*2,TARGET.vocab.stoi['<s>'])\n",
    "\n",
    "loss_function = nn.CrossEntropyLoss(ignore_index=TARGET.vocab.stoi['<pad>'])\n",
    "optimizer = optim.Adam(list(encoder.parameters()) + list(decoder.parameters()),lr=LR)"
   ]
  },
  {
   "cell_type": "code",
   "execution_count": 102,
   "metadata": {
    "collapsed": false
   },
   "outputs": [
    {
     "name": "stdout",
     "output_type": "stream",
     "text": [
      "5.215575122833252\n",
      "3.305179214477539\n",
      "2.783242416381836\n",
      "2.3035650730133055\n",
      "2.0305253982543947\n",
      "1.6812453031539918\n",
      "1.4967052459716796\n",
      "1.191986608505249\n",
      "0.9598398089408875\n",
      "0.8565816164016724\n",
      "0.6940780758857727\n",
      "0.6236866474151611\n",
      "0.5090916633605957\n",
      "0.45437546968460085\n",
      "0.43694338798522947\n"
     ]
    }
   ],
   "source": [
    "encoder.train()\n",
    "for step in range(STEP):\n",
    "    losses=[]\n",
    "    for i, batch in enumerate(train_loader):\n",
    "        inputs,lengths = batch.inputs\n",
    "        targets = batch.targets\n",
    "        \n",
    "        encoder.zero_grad()\n",
    "        decoder.zero_grad()\n",
    "        \n",
    "        output, hidden = encoder(inputs,lengths.tolist())\n",
    "        preds = decoder(hidden,targets.size(1))\n",
    "        \n",
    "        loss = loss_function(preds,targets.view(-1))\n",
    "        losses.append(loss.data[0])\n",
    "        \n",
    "        loss.backward()\n",
    "        optimizer.step()\n",
    "        \n",
    "    if step % 10 == 0:\n",
    "        print(np.mean(losses))\n",
    "        losses=[]"
   ]
  },
  {
   "cell_type": "markdown",
   "metadata": {
    "collapsed": true
   },
   "source": [
    "## TEST "
   ]
  },
  {
   "cell_type": "code",
   "execution_count": 103,
   "metadata": {
    "collapsed": false
   },
   "outputs": [
    {
     "name": "stdout",
     "output_type": "stream",
     "text": [
      "파이토치 좋아?\n",
      "한번 사용 하 어 보시 면 알 시 ㄹ 거 에 요 !\n",
      "뭐해?\n",
      "저 어 어 어 어 이 요 ?\n",
      "ㅡㅡ\n",
      "알 겠 !!\n",
      "꺼져\n",
      "요 어 어 이 요 ?\n",
      "바보네\n",
      "말 이 거치 시 네요 .. ㅠ\n",
      "잘가\n",
      "아 알 !! 요 요\n",
      "ㅗ\n",
      "요\n",
      "ㅋㅋ\n",
      "감사 !\n"
     ]
    }
   ],
   "source": [
    "encoder.eval()\n",
    "while 1:\n",
    "    try:\n",
    "        text = input()\n",
    "        tokenized = [\"<s>\"] + kor_tagger(text) +[\"</s>\"]\n",
    "        input_,length = SOURCE.numericalize(([tokenized],[len(tokenized)]),train=False,device=-1)\n",
    "\n",
    "        o,h = encoder(input_,length.tolist())\n",
    "        preds = decoder(h)\n",
    "        reply = [TARGET.vocab.itos[i] for i in preds.max(1)[1].data.tolist() if i not in [0,1,2,3]]\n",
    "\n",
    "        print(\" \".join(reply))\n",
    "    except KeyboardInterrupt as e:\n",
    "        break"
   ]
  },
  {
   "cell_type": "code",
   "execution_count": null,
   "metadata": {
    "collapsed": true
   },
   "outputs": [],
   "source": []
  }
 ],
 "metadata": {
  "kernelspec": {
   "display_name": "Python 3",
   "language": "python",
   "name": "python3"
  },
  "language_info": {
   "codemirror_mode": {
    "name": "ipython",
    "version": 3
   },
   "file_extension": ".py",
   "mimetype": "text/x-python",
   "name": "python",
   "nbconvert_exporter": "python",
   "pygments_lexer": "ipython3",
   "version": "3.5.2"
  }
 },
 "nbformat": 4,
 "nbformat_minor": 2
}
