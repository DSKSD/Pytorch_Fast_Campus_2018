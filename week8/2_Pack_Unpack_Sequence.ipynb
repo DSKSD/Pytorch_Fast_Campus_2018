{
 "cells": [
  {
   "cell_type": "code",
   "execution_count": 4,
   "metadata": {
    "collapsed": true
   },
   "outputs": [],
   "source": [
    "import torch\n",
    "import torch.nn as nn\n",
    "from torch.autograd import Variable\n",
    "import torch.optim as optim\n",
    "import torch.nn.functional as F\n",
    "import numpy as np\n",
    "import torchtext\n",
    "import nltk\n",
    "from konlpy.tag import Kkma\n",
    "from torchtext.data import Field, Iterator, BucketIterator, TabularDataset\n",
    "from torch.nn.utils.rnn import pack_padded_sequence, pad_packed_sequence"
   ]
  },
  {
   "cell_type": "markdown",
   "metadata": {},
   "source": [
    "## 데이터 준비 "
   ]
  },
  {
   "cell_type": "markdown",
   "metadata": {},
   "source": [
    "대화 모델 더미 데이터"
   ]
  },
  {
   "cell_type": "code",
   "execution_count": 5,
   "metadata": {
    "collapsed": true
   },
   "outputs": [],
   "source": [
    "kor_tagger = Kkma()\n",
    "\n",
    "kor_tagger = kor_tagger.morphs"
   ]
  },
  {
   "cell_type": "code",
   "execution_count": 6,
   "metadata": {
    "collapsed": true
   },
   "outputs": [],
   "source": [
    "SOURCE = Field(tokenize=kor_tagger,use_vocab=True,init_token=\"<s>\",eos_token=\"</s>\",lower=True, include_lengths=True, batch_first=True)\n",
    "TARGET = Field(tokenize=kor_tagger,use_vocab=True,init_token=\"<s>\",eos_token=\"</s>\",lower=True, batch_first=True)"
   ]
  },
  {
   "cell_type": "code",
   "execution_count": 7,
   "metadata": {
    "collapsed": true
   },
   "outputs": [],
   "source": [
    "train_data = TabularDataset(\n",
    "                                   path=\"data/dsksd_chat.txt\",\n",
    "                                   format='tsv', # \\t로 구분\n",
    "                                   #skip_header=True, # 헤더가 있다면 스킵\n",
    "                                   fields=[('inputs',SOURCE),('targets',TARGET)])"
   ]
  },
  {
   "cell_type": "code",
   "execution_count": 8,
   "metadata": {
    "collapsed": false
   },
   "outputs": [],
   "source": [
    "SOURCE.build_vocab(train_data)\n",
    "TARGET.build_vocab(train_data)"
   ]
  },
  {
   "cell_type": "code",
   "execution_count": 9,
   "metadata": {
    "collapsed": false
   },
   "outputs": [
    {
     "name": "stdout",
     "output_type": "stream",
     "text": [
      "316 272\n"
     ]
    }
   ],
   "source": [
    "print(len(SOURCE.vocab),len(TARGET.vocab))"
   ]
  },
  {
   "cell_type": "markdown",
   "metadata": {},
   "source": [
    "## Iterator vs BucketIterator "
   ]
  },
  {
   "cell_type": "code",
   "execution_count": 10,
   "metadata": {
    "collapsed": true
   },
   "outputs": [],
   "source": [
    "train_loader = train_loader = Iterator(\n",
    "    train_data, batch_size=32, device=-1, # device -1 : cpu, device 0 : 남는 gpu\n",
    "    sort_key=lambda x: len(x.inputs),sort_within_batch=True,repeat=False) "
   ]
  },
  {
   "cell_type": "code",
   "execution_count": 11,
   "metadata": {
    "collapsed": true
   },
   "outputs": [],
   "source": [
    "train_loader_bucket = BucketIterator(\n",
    "    train_data, batch_size=32, device=-1, # device -1 : cpu, device 0 : 남는 gpu\n",
    "    sort_key=lambda x: len(x.inputs),sort_within_batch=True,repeat=False) "
   ]
  },
  {
   "cell_type": "code",
   "execution_count": 12,
   "metadata": {
    "collapsed": true
   },
   "outputs": [],
   "source": [
    "for batch in train_loader:\n",
    "    break"
   ]
  },
  {
   "cell_type": "code",
   "execution_count": 15,
   "metadata": {
    "collapsed": true
   },
   "outputs": [],
   "source": [
    "for batch in train_loader_bucket:\n",
    "    break"
   ]
  },
  {
   "cell_type": "code",
   "execution_count": 16,
   "metadata": {
    "collapsed": false
   },
   "outputs": [],
   "source": [
    "inputs, lengths = batch.inputs"
   ]
  },
  {
   "cell_type": "markdown",
   "metadata": {},
   "source": [
    "## PackedSequence "
   ]
  },
  {
   "cell_type": "markdown",
   "metadata": {},
   "source": [
    "패딩이 들어간 시퀀스의 value를 저장하고, Computational graph가 생성되지 않게 한다.<br>\n",
    "즉, 연산에 제로 패딩의 인풋이 영향을 미치지 못하도록 함"
   ]
  },
  {
   "cell_type": "code",
   "execution_count": 18,
   "metadata": {
    "collapsed": true
   },
   "outputs": [],
   "source": [
    "E = 50\n",
    "H = 100"
   ]
  },
  {
   "cell_type": "code",
   "execution_count": 19,
   "metadata": {
    "collapsed": false
   },
   "outputs": [],
   "source": [
    "embed = nn.Embedding(len(SOURCE.vocab),E)\n",
    "rnn = nn.GRU(E,H,batch_first=True)"
   ]
  },
  {
   "cell_type": "code",
   "execution_count": 20,
   "metadata": {
    "collapsed": false
   },
   "outputs": [
    {
     "name": "stdout",
     "output_type": "stream",
     "text": [
      "torch.Size([32, 12, 50])\n"
     ]
    }
   ],
   "source": [
    "embedded = embed(inputs)\n",
    "print(embedded.size())"
   ]
  },
  {
   "cell_type": "code",
   "execution_count": 26,
   "metadata": {
    "collapsed": false
   },
   "outputs": [],
   "source": [
    "packed = pack_padded_sequence(embedded,lengths.tolist(),batch_first=True)"
   ]
  },
  {
   "cell_type": "code",
   "execution_count": 30,
   "metadata": {
    "collapsed": false
   },
   "outputs": [
    {
     "data": {
      "text/plain": [
       "384"
      ]
     },
     "execution_count": 30,
     "metadata": {},
     "output_type": "execute_result"
    }
   ],
   "source": [
    "32*12"
   ]
  },
  {
   "cell_type": "code",
   "execution_count": 27,
   "metadata": {
    "collapsed": false
   },
   "outputs": [
    {
     "data": {
      "text/plain": [
       "PackedSequence(data=Variable containing:\n",
       " 1.0085e-01 -1.7665e+00  2.5217e+00  ...  -7.8955e-01  1.2836e+00  3.3859e-01\n",
       " 1.0085e-01 -1.7665e+00  2.5217e+00  ...  -7.8955e-01  1.2836e+00  3.3859e-01\n",
       " 1.0085e-01 -1.7665e+00  2.5217e+00  ...  -7.8955e-01  1.2836e+00  3.3859e-01\n",
       "                ...                   ⋱                   ...                \n",
       " 1.2681e+00 -1.0458e+00  1.9104e-01  ...   5.2714e-01 -2.4102e+00  6.1990e-01\n",
       " 1.2681e+00 -1.0458e+00  1.9104e-01  ...   5.2714e-01 -2.4102e+00  6.1990e-01\n",
       " 1.2681e+00 -1.0458e+00  1.9104e-01  ...   5.2714e-01 -2.4102e+00  6.1990e-01\n",
       "[torch.FloatTensor of size 323x50]\n",
       ", batch_sizes=[32, 32, 32, 32, 32, 32, 32, 32, 32, 23, 9, 3])"
      ]
     },
     "execution_count": 27,
     "metadata": {},
     "output_type": "execute_result"
    }
   ],
   "source": [
    "packed"
   ]
  },
  {
   "cell_type": "code",
   "execution_count": 32,
   "metadata": {
    "collapsed": true
   },
   "outputs": [],
   "source": [
    "output, hidden  = rnn(packed)"
   ]
  },
  {
   "cell_type": "code",
   "execution_count": 33,
   "metadata": {
    "collapsed": false
   },
   "outputs": [
    {
     "data": {
      "text/plain": [
       "PackedSequence(data=Variable containing:\n",
       "-1.5300e-01  1.8669e-01 -1.3253e-01  ...   2.6583e-01 -1.0945e-02 -6.1352e-02\n",
       "-1.5300e-01  1.8669e-01 -1.3253e-01  ...   2.6583e-01 -1.0945e-02 -6.1352e-02\n",
       "-1.5300e-01  1.8669e-01 -1.3253e-01  ...   2.6583e-01 -1.0945e-02 -6.1352e-02\n",
       "                ...                   ⋱                   ...                \n",
       " 2.5500e-01  1.6015e-01  4.9886e-02  ...   2.9781e-01  1.5154e-01  1.0971e-01\n",
       " 2.4965e-01  2.1226e-01  2.8637e-02  ...   3.3992e-01 -1.8563e-02  1.6277e-01\n",
       "-1.3385e-03  3.0611e-01 -9.6225e-02  ...   5.6182e-01 -1.1624e-01  1.8418e-01\n",
       "[torch.FloatTensor of size 323x100]\n",
       ", batch_sizes=[32, 32, 32, 32, 32, 32, 32, 32, 32, 23, 9, 3])"
      ]
     },
     "execution_count": 33,
     "metadata": {},
     "output_type": "execute_result"
    }
   ],
   "source": [
    "output"
   ]
  },
  {
   "cell_type": "markdown",
   "metadata": {},
   "source": [
    "## unPack "
   ]
  },
  {
   "cell_type": "markdown",
   "metadata": {},
   "source": [
    "Packing된 시퀀스를 다시 원래대로 되돌리면서 제로패딩 위치에는 특정값(디폴트 = 0.0)으로 채운다"
   ]
  },
  {
   "cell_type": "code",
   "execution_count": 35,
   "metadata": {
    "collapsed": true
   },
   "outputs": [],
   "source": [
    "output, output_lengths = pad_packed_sequence(output,batch_first=True)"
   ]
  },
  {
   "cell_type": "code",
   "execution_count": 37,
   "metadata": {
    "collapsed": false
   },
   "outputs": [
    {
     "data": {
      "text/plain": [
       "torch.Size([32, 12, 100])"
      ]
     },
     "execution_count": 37,
     "metadata": {},
     "output_type": "execute_result"
    }
   ],
   "source": [
    "output.size()"
   ]
  },
  {
   "cell_type": "code",
   "execution_count": 38,
   "metadata": {
    "collapsed": false
   },
   "outputs": [
    {
     "data": {
      "text/plain": [
       "Variable containing:\n",
       "( 0 ,.,.) = \n",
       " -0.1530  0.1867 -0.1325  ...   0.2658 -0.0109 -0.0614\n",
       " -0.3564 -0.0129 -0.1237  ...   0.1542  0.0032  0.0002\n",
       " -0.2718  0.0956  0.1616  ...  -0.0823 -0.1461  0.1032\n",
       "           ...             ⋱             ...          \n",
       " -0.0712 -0.3333  0.1669  ...  -0.0447  0.4001  0.2581\n",
       "  0.1617 -0.3127  0.0835  ...  -0.0738  0.4544  0.4266\n",
       "  0.2550  0.1602  0.0499  ...   0.2978  0.1515  0.1097\n",
       "\n",
       "( 1 ,.,.) = \n",
       " -0.1530  0.1867 -0.1325  ...   0.2658 -0.0109 -0.0614\n",
       "  0.0395  0.0188 -0.3340  ...   0.4473  0.2405 -0.0283\n",
       "  0.0142 -0.1381  0.0426  ...   0.1912  0.3794 -0.3220\n",
       "           ...             ⋱             ...          \n",
       " -0.0835 -0.2006  0.0309  ...   0.1878 -0.0817  0.2421\n",
       "  0.1478 -0.2188  0.0391  ...   0.0361  0.1657  0.4840\n",
       "  0.2497  0.2123  0.0286  ...   0.3399 -0.0186  0.1628\n",
       "\n",
       "( 2 ,.,.) = \n",
       " -0.1530  0.1867 -0.1325  ...   0.2658 -0.0109 -0.0614\n",
       "  0.3858  0.2890 -0.1576  ...   0.0233  0.0934  0.1323\n",
       "  0.1997  0.0041  0.1303  ...   0.0972  0.3346 -0.2706\n",
       "           ...             ⋱             ...          \n",
       " -0.1849 -0.1529  0.1874  ...   0.4349 -0.2235 -0.1941\n",
       " -0.2680 -0.0081 -0.0951  ...   0.5021  0.0403  0.2919\n",
       " -0.0013  0.3061 -0.0962  ...   0.5618 -0.1162  0.1842\n",
       "... \n",
       "\n",
       "(29 ,.,.) = \n",
       " -0.1530  0.1867 -0.1325  ...   0.2658 -0.0109 -0.0614\n",
       " -0.2045  0.3007  0.1683  ...   0.2425  0.0175 -0.1986\n",
       " -0.4279  0.2159 -0.2450  ...   0.0078 -0.0294  0.1427\n",
       "           ...             ⋱             ...          \n",
       "  0.0000  0.0000  0.0000  ...   0.0000  0.0000  0.0000\n",
       "  0.0000  0.0000  0.0000  ...   0.0000  0.0000  0.0000\n",
       "  0.0000  0.0000  0.0000  ...   0.0000  0.0000  0.0000\n",
       "\n",
       "(30 ,.,.) = \n",
       " -0.1530  0.1867 -0.1325  ...   0.2658 -0.0109 -0.0614\n",
       " -0.0024  0.1969 -0.1833  ...  -0.0384 -0.2753  0.0789\n",
       " -0.0036  0.2063 -0.2864  ...  -0.1391 -0.0490  0.0209\n",
       "           ...             ⋱             ...          \n",
       "  0.0000  0.0000  0.0000  ...   0.0000  0.0000  0.0000\n",
       "  0.0000  0.0000  0.0000  ...   0.0000  0.0000  0.0000\n",
       "  0.0000  0.0000  0.0000  ...   0.0000  0.0000  0.0000\n",
       "\n",
       "(31 ,.,.) = \n",
       " -0.1530  0.1867 -0.1325  ...   0.2658 -0.0109 -0.0614\n",
       " -0.0308  0.0610 -0.2078  ...   0.0608 -0.1725  0.2804\n",
       " -0.0873  0.1326 -0.0543  ...   0.0753 -0.2313  0.4446\n",
       "           ...             ⋱             ...          \n",
       "  0.0000  0.0000  0.0000  ...   0.0000  0.0000  0.0000\n",
       "  0.0000  0.0000  0.0000  ...   0.0000  0.0000  0.0000\n",
       "  0.0000  0.0000  0.0000  ...   0.0000  0.0000  0.0000\n",
       "[torch.FloatTensor of size 32x12x100]"
      ]
     },
     "execution_count": 38,
     "metadata": {},
     "output_type": "execute_result"
    }
   ],
   "source": [
    "output"
   ]
  },
  {
   "cell_type": "code",
   "execution_count": null,
   "metadata": {
    "collapsed": true
   },
   "outputs": [],
   "source": []
  }
 ],
 "metadata": {
  "kernelspec": {
   "display_name": "Python 3",
   "language": "python",
   "name": "python3"
  },
  "language_info": {
   "codemirror_mode": {
    "name": "ipython",
    "version": 3
   },
   "file_extension": ".py",
   "mimetype": "text/x-python",
   "name": "python",
   "nbconvert_exporter": "python",
   "pygments_lexer": "ipython3",
   "version": "3.5.2"
  }
 },
 "nbformat": 4,
 "nbformat_minor": 2
}
