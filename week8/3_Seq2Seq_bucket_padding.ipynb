{
 "cells": [
  {
   "cell_type": "code",
   "execution_count": 1,
   "metadata": {
    "collapsed": true
   },
   "outputs": [],
   "source": [
    "import torch\n",
    "import torch.nn as nn\n",
    "from torch.autograd import Variable\n",
    "import torch.optim as optim\n",
    "import torch.nn.functional as F\n",
    "import numpy as np\n",
    "import torchtext\n",
    "import nltk\n",
    "from konlpy.tag import Kkma\n",
    "from torchtext.data import Field, BucketIterator, TabularDataset\n",
    "from torch.nn.utils.rnn import pack_padded_sequence, pad_packed_sequence"
   ]
  },
  {
   "cell_type": "markdown",
   "metadata": {},
   "source": [
    "## 데이터 준비 "
   ]
  },
  {
   "cell_type": "markdown",
   "metadata": {},
   "source": [
    "대화 모델 더미 데이터"
   ]
  },
  {
   "cell_type": "code",
   "execution_count": 2,
   "metadata": {
    "collapsed": true
   },
   "outputs": [],
   "source": [
    "kor_tagger = Kkma()\n",
    "\n",
    "kor_tagger = kor_tagger.morphs"
   ]
  },
  {
   "cell_type": "code",
   "execution_count": 3,
   "metadata": {
    "collapsed": true
   },
   "outputs": [],
   "source": [
    "SOURCE = Field(tokenize=kor_tagger,use_vocab=True,init_token=\"<s>\",eos_token=\"</s>\",lower=True, include_lengths=True, batch_first=True)\n",
    "TARGET = Field(tokenize=kor_tagger,use_vocab=True,init_token=\"<s>\",eos_token=\"</s>\",lower=True, batch_first=True)"
   ]
  },
  {
   "cell_type": "code",
   "execution_count": 4,
   "metadata": {
    "collapsed": true
   },
   "outputs": [],
   "source": [
    "train_data = TabularDataset(\n",
    "                                   path=\"data/dsksd_chat.txt\",\n",
    "                                   format='tsv', # \\t로 구분\n",
    "                                   #skip_header=True, # 헤더가 있다면 스킵\n",
    "                                   fields=[('inputs',SOURCE),('targets',TARGET)])"
   ]
  },
  {
   "cell_type": "code",
   "execution_count": 5,
   "metadata": {
    "collapsed": false
   },
   "outputs": [],
   "source": [
    "SOURCE.build_vocab(train_data)\n",
    "TARGET.build_vocab(train_data)"
   ]
  },
  {
   "cell_type": "code",
   "execution_count": 6,
   "metadata": {
    "collapsed": false
   },
   "outputs": [
    {
     "name": "stdout",
     "output_type": "stream",
     "text": [
      "316 272\n"
     ]
    }
   ],
   "source": [
    "print(len(SOURCE.vocab),len(TARGET.vocab))"
   ]
  },
  {
   "cell_type": "code",
   "execution_count": 7,
   "metadata": {
    "collapsed": true
   },
   "outputs": [],
   "source": [
    "train_loader = BucketIterator(\n",
    "    train_data, batch_size=32, device=-1, # device -1 : cpu, device 0 : 남는 gpu\n",
    "    sort_key=lambda x: len(x.inputs),sort_within_batch=True,repeat=False) "
   ]
  },
  {
   "cell_type": "code",
   "execution_count": 8,
   "metadata": {
    "collapsed": true
   },
   "outputs": [],
   "source": [
    "for batch in train_loader:\n",
    "    break"
   ]
  },
  {
   "cell_type": "markdown",
   "metadata": {},
   "source": [
    "## Encoder "
   ]
  },
  {
   "cell_type": "code",
   "execution_count": 9,
   "metadata": {
    "collapsed": false
   },
   "outputs": [],
   "source": [
    "class Encoder(nn.Module):\n",
    "    def __init__(self,V,E,H,num_layers=1,bidirec=False):\n",
    "        super(Encoder,self).__init__()\n",
    "        \n",
    "        self.num_directions = 2 if bidirec else 1\n",
    "        \n",
    "        self.embed = nn.Embedding(V,E)\n",
    "        self.dropout = nn.Dropout(0.5)\n",
    "        self.gru = nn.GRU(E,H,num_layers,batch_first=True,bidirectional=bidirec)\n",
    "    \n",
    "    def forward(self,inputs,input_lengths):\n",
    "        \"\"\"\n",
    "        inputs : B,T # LongTensor\n",
    "        input_lengths : B # list\n",
    "        \"\"\"\n",
    "        \n",
    "        embed = self.embed(inputs)\n",
    "        embed = self.dropout(embed)\n",
    "        \n",
    "        # 패딩된 문장을 패킹(패딩은 연산 안들어가도록)\n",
    "        packed = pack_padded_sequence(embed, input_lengths,batch_first=True) \n",
    "        output, hidden = self.gru(packed)\n",
    "        \n",
    "        # 패킹된 문장을 다시 unpack\n",
    "        output, output_lengths = pad_packed_sequence(output,batch_first=True) \n",
    "        \n",
    "        # last hidden 선택하기 , concat\n",
    "        hidden = hidden[-self.num_directions:] # num_layers*num_directions,batch_size,hidden_size\n",
    "        hidden = torch.cat([h for h in hidden],1).unsqueeze(0) # 1,B,2H\n",
    "        \n",
    "        return output, hidden"
   ]
  },
  {
   "cell_type": "markdown",
   "metadata": {},
   "source": [
    "## Decoder "
   ]
  },
  {
   "cell_type": "code",
   "execution_count": 10,
   "metadata": {
    "collapsed": true
   },
   "outputs": [],
   "source": [
    "class Decoder(nn.Module):\n",
    "    def __init__(self,V,E,H,sos_idx,max_len=15):\n",
    "        super(Decoder,self).__init__()\n",
    "        \n",
    "        self.hidden_size = H\n",
    "        self.max_len = max_len\n",
    "        self.sos_idx = sos_idx\n",
    "        self.embed = nn.Embedding(V,E)\n",
    "        self.gru = nn.GRU(E,H,batch_first=True)\n",
    "        self.linear = nn.Linear(H,V)\n",
    "        \n",
    "    def start_token(self,batch_size):\n",
    "        return Variable(torch.LongTensor([self.sos_idx]*batch_size)).unsqueeze(1)\n",
    "        \n",
    "    def forward(self,hidden, max_len=None):\n",
    "        \n",
    "        if max_len is None: max_len = self.max_len\n",
    "        \n",
    "        inputs = self.start_token(hidden.size(1)) # Batch_size\n",
    "        embed = self.embed(inputs)\n",
    "                    \n",
    "        scores=[]\n",
    "        for _ in range(max_len):\n",
    "            _, hidden = self.gru(embed,hidden)\n",
    "            score = self.linear(hidden.squeeze(0))\n",
    "            scores.append(score)\n",
    "            decoded = score.max(1)[1]\n",
    "            embed = self.embed(decoded).unsqueeze(1) # y_{t-1}\n",
    "            \n",
    "        #  column-wise concat, reshape!!\n",
    "        scores = torch.cat(scores,1)\n",
    "        return scores.view(inputs.size(0)*max_len,-1)"
   ]
  },
  {
   "cell_type": "markdown",
   "metadata": {},
   "source": [
    "## Train "
   ]
  },
  {
   "cell_type": "code",
   "execution_count": 11,
   "metadata": {
    "collapsed": false
   },
   "outputs": [],
   "source": [
    "HIDDEN = 30\n",
    "EMBED = 30\n",
    "STEP = 150\n",
    "LR = 0.01\n",
    "\n",
    "encoder = Encoder(len(SOURCE.vocab),EMBED,HIDDEN,bidirec=True)\n",
    "decoder = Decoder(len(TARGET.vocab),EMBED,HIDDEN*2,TARGET.vocab.stoi['<s>'])\n",
    "\n",
    "loss_function = nn.CrossEntropyLoss(ignore_index=TARGET.vocab.stoi['<pad>'])\n",
    "optimizer = optim.Adam(list(encoder.parameters()) + list(decoder.parameters()),lr=LR)"
   ]
  },
  {
   "cell_type": "code",
   "execution_count": 12,
   "metadata": {
    "collapsed": false
   },
   "outputs": [
    {
     "name": "stdout",
     "output_type": "stream",
     "text": [
      "5.16219909986\n",
      "3.30701418718\n",
      "2.75705514352\n",
      "2.16114969055\n",
      "1.82994547983\n",
      "1.55784422159\n",
      "1.33134998381\n",
      "1.16969255731\n",
      "1.02958300213\n",
      "0.834863356625\n",
      "0.783482762054\n",
      "0.556017734731\n",
      "0.58878508086\n",
      "0.571181234593\n",
      "0.575213879657\n"
     ]
    }
   ],
   "source": [
    "encoder.train()\n",
    "for step in range(STEP):\n",
    "    losses=[]\n",
    "    for i, batch in enumerate(train_loader):\n",
    "        inputs,lengths = batch.inputs\n",
    "        targets = batch.targets\n",
    "        \n",
    "        encoder.zero_grad()\n",
    "        decoder.zero_grad()\n",
    "        \n",
    "        output, hidden = encoder(inputs,lengths.tolist())\n",
    "        preds = decoder(hidden,targets.size(1))\n",
    "        \n",
    "        loss = loss_function(preds,targets.view(-1))\n",
    "        losses.append(loss.data[0])\n",
    "        \n",
    "        loss.backward()\n",
    "        optimizer.step()\n",
    "        \n",
    "    if step % 10 == 0:\n",
    "        print(np.mean(losses))\n",
    "        losses=[]"
   ]
  },
  {
   "cell_type": "markdown",
   "metadata": {
    "collapsed": true
   },
   "source": [
    "## TEST "
   ]
  },
  {
   "cell_type": "code",
   "execution_count": 13,
   "metadata": {
    "collapsed": false
   },
   "outputs": [
    {
     "name": "stdout",
     "output_type": "stream",
     "text": [
      "하이\n",
      "안녕 하세 요 ~\n",
      "파이토치 좋아?\n",
      "한번 사용 하 어 보시 면 알 시 ㄹ 거 에 요 !\n",
      "뭘 알아\n",
      "감사 하 ㅂ니다\n",
      "니가 뭐 아니\n",
      "역시 만 요 찾아보 ㄹ게요\n",
      "배고파\n",
      "죄송 하 ㅂ니다 ㄹ게요\n",
      "ㅡㅡ\n",
      "죄송 하 ㅂ니다 ㄹ게요\n",
      "ㅗ\n",
      "죄송 하 세요 다시 찾아보 ㄹ게요\n",
      "바보\n",
      "죄송 하 세요 다시 찾아보 ㄹ게요\n",
      "멍처앙\n",
      "저 는 힙합 다시 찾아보 ㄹ게요\n",
      "죽을래\n",
      "죄송 하 ㅂ니다\n",
      "쯧\n",
      "죄송 하 세요 다시 찾아보 ㄹ게요\n",
      "ㅡㅡ\n",
      "죄송 하 ㅂ니다 ㄹ게요\n",
      "모야 죄송하다 봇이니\n",
      "떡볶이 해 요 ~\n",
      "ㅗㅗㅗ\n",
      "저 는 ㅂ니다 다시 찾아보 ㄹ게요\n"
     ]
    }
   ],
   "source": [
    "encoder.eval()\n",
    "while 1:\n",
    "    try:\n",
    "        text = input()\n",
    "        tokenized = [\"<s>\"] + kor_tagger(text) +[\"</s>\"]\n",
    "        input_,length = SOURCE.numericalize(([tokenized],[len(tokenized)]),train=False,device=-1)\n",
    "\n",
    "        o,h = encoder(input_,length.tolist())\n",
    "        preds = decoder(h)\n",
    "        reply = [TARGET.vocab.itos[i] for i in preds.max(1)[1].data.tolist() if i not in [0,1,2,3]]\n",
    "\n",
    "        print(\" \".join(reply))\n",
    "    except KeyboardInterrupt as e:\n",
    "        break"
   ]
  },
  {
   "cell_type": "code",
   "execution_count": null,
   "metadata": {
    "collapsed": true
   },
   "outputs": [],
   "source": []
  }
 ],
 "metadata": {
  "kernelspec": {
   "display_name": "Python 3",
   "language": "python",
   "name": "python3"
  },
  "language_info": {
   "codemirror_mode": {
    "name": "ipython",
    "version": 3
   },
   "file_extension": ".py",
   "mimetype": "text/x-python",
   "name": "python",
   "nbconvert_exporter": "python",
   "pygments_lexer": "ipython3",
   "version": "3.5.2"
  }
 },
 "nbformat": 4,
 "nbformat_minor": 2
}
